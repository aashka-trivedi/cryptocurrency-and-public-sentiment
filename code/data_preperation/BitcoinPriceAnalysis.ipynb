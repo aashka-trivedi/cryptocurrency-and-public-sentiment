{
 "cells": [
  {
   "cell_type": "markdown",
   "id": "64ee1020-fa7b-4e79-bf8b-d2b1248aad0e",
   "metadata": {},
   "source": [
    "# Categorical Representation of Changes in Daily Bitcoin Price\n",
    "\n",
    "Compared using the \"open\" price."
   ]
  },
  {
   "cell_type": "code",
   "execution_count": 25,
   "id": "aa3a1de5-57ab-4230-bc3e-d69f0bdb2516",
   "metadata": {},
   "outputs": [],
   "source": [
    "import pandas as pd\n",
    "import matplotlib.pyplot as plt\n",
    "import numpy as np"
   ]
  },
  {
   "cell_type": "markdown",
   "id": "2f21d684-65d1-4b30-9080-aff8997374e3",
   "metadata": {},
   "source": [
    "## Analysis"
   ]
  },
  {
   "cell_type": "code",
   "execution_count": 26,
   "id": "ce504e9b-29f3-4661-b9f1-7fba5254bac4",
   "metadata": {},
   "outputs": [],
   "source": [
    "btc = pd.read_csv('data/raw_bitcoin_price.csv', sep='\\t')"
   ]
  },
  {
   "cell_type": "code",
   "execution_count": 27,
   "id": "e81e2b91-8ca5-4bd9-85b9-3a4f9f63193f",
   "metadata": {},
   "outputs": [
    {
     "data": {
      "text/html": [
       "<div>\n",
       "<style scoped>\n",
       "    .dataframe tbody tr th:only-of-type {\n",
       "        vertical-align: middle;\n",
       "    }\n",
       "\n",
       "    .dataframe tbody tr th {\n",
       "        vertical-align: top;\n",
       "    }\n",
       "\n",
       "    .dataframe thead th {\n",
       "        text-align: right;\n",
       "    }\n",
       "</style>\n",
       "<table border=\"1\" class=\"dataframe\">\n",
       "  <thead>\n",
       "    <tr style=\"text-align: right;\">\n",
       "      <th></th>\n",
       "      <th>Unnamed: 0</th>\n",
       "      <th>open</th>\n",
       "      <th>high</th>\n",
       "      <th>low</th>\n",
       "      <th>close</th>\n",
       "      <th>volume</th>\n",
       "    </tr>\n",
       "  </thead>\n",
       "  <tbody>\n",
       "    <tr>\n",
       "      <th>0</th>\n",
       "      <td>2021-01-01</td>\n",
       "      <td>28923.63</td>\n",
       "      <td>29600.00</td>\n",
       "      <td>28624.57</td>\n",
       "      <td>29331.69</td>\n",
       "      <td>54182.925011</td>\n",
       "    </tr>\n",
       "    <tr>\n",
       "      <th>1</th>\n",
       "      <td>2021-01-02</td>\n",
       "      <td>29331.70</td>\n",
       "      <td>33300.00</td>\n",
       "      <td>28946.53</td>\n",
       "      <td>32178.33</td>\n",
       "      <td>129993.873362</td>\n",
       "    </tr>\n",
       "    <tr>\n",
       "      <th>2</th>\n",
       "      <td>2021-01-03</td>\n",
       "      <td>32176.45</td>\n",
       "      <td>34778.11</td>\n",
       "      <td>31962.99</td>\n",
       "      <td>33000.05</td>\n",
       "      <td>120957.566750</td>\n",
       "    </tr>\n",
       "    <tr>\n",
       "      <th>3</th>\n",
       "      <td>2021-01-04</td>\n",
       "      <td>33000.05</td>\n",
       "      <td>33600.00</td>\n",
       "      <td>28130.00</td>\n",
       "      <td>31988.71</td>\n",
       "      <td>140899.885690</td>\n",
       "    </tr>\n",
       "    <tr>\n",
       "      <th>4</th>\n",
       "      <td>2021-01-05</td>\n",
       "      <td>31989.75</td>\n",
       "      <td>34360.00</td>\n",
       "      <td>29900.00</td>\n",
       "      <td>33949.53</td>\n",
       "      <td>116049.997038</td>\n",
       "    </tr>\n",
       "  </tbody>\n",
       "</table>\n",
       "</div>"
      ],
      "text/plain": [
       "   Unnamed: 0      open      high       low     close         volume\n",
       "0  2021-01-01  28923.63  29600.00  28624.57  29331.69   54182.925011\n",
       "1  2021-01-02  29331.70  33300.00  28946.53  32178.33  129993.873362\n",
       "2  2021-01-03  32176.45  34778.11  31962.99  33000.05  120957.566750\n",
       "3  2021-01-04  33000.05  33600.00  28130.00  31988.71  140899.885690\n",
       "4  2021-01-05  31989.75  34360.00  29900.00  33949.53  116049.997038"
      ]
     },
     "execution_count": 27,
     "metadata": {},
     "output_type": "execute_result"
    }
   ],
   "source": [
    "btc.head()"
   ]
  },
  {
   "cell_type": "code",
   "execution_count": 28,
   "id": "1041c3d9-ed08-4388-95b1-ddbdd4c5a49f",
   "metadata": {},
   "outputs": [
    {
     "data": {
      "text/html": [
       "<div>\n",
       "<style scoped>\n",
       "    .dataframe tbody tr th:only-of-type {\n",
       "        vertical-align: middle;\n",
       "    }\n",
       "\n",
       "    .dataframe tbody tr th {\n",
       "        vertical-align: top;\n",
       "    }\n",
       "\n",
       "    .dataframe thead th {\n",
       "        text-align: right;\n",
       "    }\n",
       "</style>\n",
       "<table border=\"1\" class=\"dataframe\">\n",
       "  <thead>\n",
       "    <tr style=\"text-align: right;\">\n",
       "      <th></th>\n",
       "      <th>Date</th>\n",
       "      <th>open</th>\n",
       "      <th>high</th>\n",
       "      <th>low</th>\n",
       "      <th>close</th>\n",
       "      <th>volume</th>\n",
       "    </tr>\n",
       "  </thead>\n",
       "  <tbody>\n",
       "    <tr>\n",
       "      <th>0</th>\n",
       "      <td>2021-01-01</td>\n",
       "      <td>28923.63</td>\n",
       "      <td>29600.00</td>\n",
       "      <td>28624.57</td>\n",
       "      <td>29331.69</td>\n",
       "      <td>54182.925011</td>\n",
       "    </tr>\n",
       "    <tr>\n",
       "      <th>1</th>\n",
       "      <td>2021-01-02</td>\n",
       "      <td>29331.70</td>\n",
       "      <td>33300.00</td>\n",
       "      <td>28946.53</td>\n",
       "      <td>32178.33</td>\n",
       "      <td>129993.873362</td>\n",
       "    </tr>\n",
       "    <tr>\n",
       "      <th>2</th>\n",
       "      <td>2021-01-03</td>\n",
       "      <td>32176.45</td>\n",
       "      <td>34778.11</td>\n",
       "      <td>31962.99</td>\n",
       "      <td>33000.05</td>\n",
       "      <td>120957.566750</td>\n",
       "    </tr>\n",
       "    <tr>\n",
       "      <th>3</th>\n",
       "      <td>2021-01-04</td>\n",
       "      <td>33000.05</td>\n",
       "      <td>33600.00</td>\n",
       "      <td>28130.00</td>\n",
       "      <td>31988.71</td>\n",
       "      <td>140899.885690</td>\n",
       "    </tr>\n",
       "    <tr>\n",
       "      <th>4</th>\n",
       "      <td>2021-01-05</td>\n",
       "      <td>31989.75</td>\n",
       "      <td>34360.00</td>\n",
       "      <td>29900.00</td>\n",
       "      <td>33949.53</td>\n",
       "      <td>116049.997038</td>\n",
       "    </tr>\n",
       "  </tbody>\n",
       "</table>\n",
       "</div>"
      ],
      "text/plain": [
       "         Date      open      high       low     close         volume\n",
       "0  2021-01-01  28923.63  29600.00  28624.57  29331.69   54182.925011\n",
       "1  2021-01-02  29331.70  33300.00  28946.53  32178.33  129993.873362\n",
       "2  2021-01-03  32176.45  34778.11  31962.99  33000.05  120957.566750\n",
       "3  2021-01-04  33000.05  33600.00  28130.00  31988.71  140899.885690\n",
       "4  2021-01-05  31989.75  34360.00  29900.00  33949.53  116049.997038"
      ]
     },
     "execution_count": 28,
     "metadata": {},
     "output_type": "execute_result"
    }
   ],
   "source": [
    "#Change the Unamed column name to Date\n",
    "btc.rename(columns={'Unnamed: 0':'Date'}, inplace=True)\n",
    "btc.head()"
   ]
  },
  {
   "cell_type": "code",
   "execution_count": 29,
   "id": "652989c1-7d59-4521-b77d-a2def5c00557",
   "metadata": {},
   "outputs": [],
   "source": [
    "#Find usual difference in daily open price\n",
    "btc[\"Diff_Open\"] = btc[\"open\"].diff()"
   ]
  },
  {
   "cell_type": "code",
   "execution_count": 30,
   "id": "c4dd4e56-0bc8-4667-91f9-90d2678cac19",
   "metadata": {},
   "outputs": [
    {
     "data": {
      "text/plain": [
       "count     242.000000\n",
       "mean       74.625124\n",
       "std      1957.740449\n",
       "min     -7132.870000\n",
       "25%     -1004.010000\n",
       "50%         1.170000\n",
       "75%      1153.375000\n",
       "max      7579.170000\n",
       "Name: Diff_Open, dtype: float64"
      ]
     },
     "execution_count": 30,
     "metadata": {},
     "output_type": "execute_result"
    }
   ],
   "source": [
    "btc[\"Diff_Open\"].describe()"
   ]
  },
  {
   "cell_type": "code",
   "execution_count": 31,
   "id": "018e2fac-1555-4b66-b9a3-7d0ab5389437",
   "metadata": {},
   "outputs": [
    {
     "data": {
      "text/plain": [
       "<AxesSubplot:>"
      ]
     },
     "execution_count": 31,
     "metadata": {},
     "output_type": "execute_result"
    },
    {
     "data": {
      "image/png": "[encoded data removed]",
      "text/plain": [
       "<Figure size 432x288 with 1 Axes>"
      ]
     },
     "metadata": {
      "needs_background": "light"
     },
     "output_type": "display_data"
    }
   ],
   "source": [
    "btc[\"Diff_Open\"].plot()"
   ]
  },
  {
   "cell_type": "code",
   "execution_count": 32,
   "id": "1bc9d40d-e6f9-4d52-a908-6505aadaff7a",
   "metadata": {},
   "outputs": [
    {
     "data": {
      "text/plain": [
       "array([[<AxesSubplot:title={'center':'Diff_Open'}>]], dtype=object)"
      ]
     },
     "execution_count": 32,
     "metadata": {},
     "output_type": "execute_result"
    },
    {
     "data": {
      "image/png": "[encoded data removed]",
      "text/plain": [
       "<Figure size 432x288 with 1 Axes>"
      ]
     },
     "metadata": {
      "needs_background": "light"
     },
     "output_type": "display_data"
    }
   ],
   "source": [
    "btc.hist(column='Diff_Open')"
   ]
  },
  {
   "cell_type": "markdown",
   "id": "17e442f0-f4f8-49ca-9379-b66376d4ef12",
   "metadata": {},
   "source": [
    "Based on the Graph and metrics above, the categories for price difference are:\n",
    "\n",
    "- -2 (Large Decrease in Price) : diff <-4000\n",
    "- -1 (Moderate Decrease in Price): -4000 <= diff < -500\n",
    "- 0 (No Commendable Difference) : -500 <= diff <= 500\n",
    "- 1 (Moderate Increase in Price): 500 < diff <= 4000\n",
    "- 2 (Large Increase in Price): 4000 < diff"
   ]
  },
  {
   "cell_type": "markdown",
   "id": "691a4181-2f94-44fb-9684-3326d1944e10",
   "metadata": {},
   "source": [
    "## Categorization"
   ]
  },
  {
   "cell_type": "code",
   "execution_count": 33,
   "id": "bc74b5fc-80e0-4dda-a71c-a05bc9e50725",
   "metadata": {},
   "outputs": [
    {
     "data": {
      "text/html": [
       "<div>\n",
       "<style scoped>\n",
       "    .dataframe tbody tr th:only-of-type {\n",
       "        vertical-align: middle;\n",
       "    }\n",
       "\n",
       "    .dataframe tbody tr th {\n",
       "        vertical-align: top;\n",
       "    }\n",
       "\n",
       "    .dataframe thead th {\n",
       "        text-align: right;\n",
       "    }\n",
       "</style>\n",
       "<table border=\"1\" class=\"dataframe\">\n",
       "  <thead>\n",
       "    <tr style=\"text-align: right;\">\n",
       "      <th></th>\n",
       "      <th>Date</th>\n",
       "      <th>open</th>\n",
       "      <th>high</th>\n",
       "      <th>low</th>\n",
       "      <th>close</th>\n",
       "      <th>volume</th>\n",
       "      <th>Diff_Open</th>\n",
       "      <th>Diff_Category</th>\n",
       "    </tr>\n",
       "  </thead>\n",
       "  <tbody>\n",
       "    <tr>\n",
       "      <th>0</th>\n",
       "      <td>2021-01-01</td>\n",
       "      <td>28923.63</td>\n",
       "      <td>29600.00</td>\n",
       "      <td>28624.57</td>\n",
       "      <td>29331.69</td>\n",
       "      <td>54182.925011</td>\n",
       "      <td>NaN</td>\n",
       "      <td>0</td>\n",
       "    </tr>\n",
       "    <tr>\n",
       "      <th>1</th>\n",
       "      <td>2021-01-02</td>\n",
       "      <td>29331.70</td>\n",
       "      <td>33300.00</td>\n",
       "      <td>28946.53</td>\n",
       "      <td>32178.33</td>\n",
       "      <td>129993.873362</td>\n",
       "      <td>408.07</td>\n",
       "      <td>0</td>\n",
       "    </tr>\n",
       "    <tr>\n",
       "      <th>2</th>\n",
       "      <td>2021-01-03</td>\n",
       "      <td>32176.45</td>\n",
       "      <td>34778.11</td>\n",
       "      <td>31962.99</td>\n",
       "      <td>33000.05</td>\n",
       "      <td>120957.566750</td>\n",
       "      <td>2844.75</td>\n",
       "      <td>1</td>\n",
       "    </tr>\n",
       "    <tr>\n",
       "      <th>3</th>\n",
       "      <td>2021-01-04</td>\n",
       "      <td>33000.05</td>\n",
       "      <td>33600.00</td>\n",
       "      <td>28130.00</td>\n",
       "      <td>31988.71</td>\n",
       "      <td>140899.885690</td>\n",
       "      <td>823.60</td>\n",
       "      <td>1</td>\n",
       "    </tr>\n",
       "    <tr>\n",
       "      <th>4</th>\n",
       "      <td>2021-01-05</td>\n",
       "      <td>31989.75</td>\n",
       "      <td>34360.00</td>\n",
       "      <td>29900.00</td>\n",
       "      <td>33949.53</td>\n",
       "      <td>116049.997038</td>\n",
       "      <td>-1010.30</td>\n",
       "      <td>-1</td>\n",
       "    </tr>\n",
       "    <tr>\n",
       "      <th>...</th>\n",
       "      <td>...</td>\n",
       "      <td>...</td>\n",
       "      <td>...</td>\n",
       "      <td>...</td>\n",
       "      <td>...</td>\n",
       "      <td>...</td>\n",
       "      <td>...</td>\n",
       "      <td>...</td>\n",
       "    </tr>\n",
       "    <tr>\n",
       "      <th>238</th>\n",
       "      <td>2021-08-27</td>\n",
       "      <td>46843.86</td>\n",
       "      <td>49149.93</td>\n",
       "      <td>46348.00</td>\n",
       "      <td>49069.90</td>\n",
       "      <td>42068.104965</td>\n",
       "      <td>-2129.46</td>\n",
       "      <td>-1</td>\n",
       "    </tr>\n",
       "    <tr>\n",
       "      <th>239</th>\n",
       "      <td>2021-08-28</td>\n",
       "      <td>49069.90</td>\n",
       "      <td>49299.00</td>\n",
       "      <td>48346.88</td>\n",
       "      <td>48895.35</td>\n",
       "      <td>26681.063786</td>\n",
       "      <td>2226.04</td>\n",
       "      <td>1</td>\n",
       "    </tr>\n",
       "    <tr>\n",
       "      <th>240</th>\n",
       "      <td>2021-08-29</td>\n",
       "      <td>48895.35</td>\n",
       "      <td>49632.27</td>\n",
       "      <td>47762.54</td>\n",
       "      <td>48767.83</td>\n",
       "      <td>32652.283473</td>\n",
       "      <td>-174.55</td>\n",
       "      <td>0</td>\n",
       "    </tr>\n",
       "    <tr>\n",
       "      <th>241</th>\n",
       "      <td>2021-08-30</td>\n",
       "      <td>48767.84</td>\n",
       "      <td>48888.61</td>\n",
       "      <td>46853.00</td>\n",
       "      <td>46982.91</td>\n",
       "      <td>40288.350830</td>\n",
       "      <td>-127.51</td>\n",
       "      <td>0</td>\n",
       "    </tr>\n",
       "    <tr>\n",
       "      <th>242</th>\n",
       "      <td>2021-08-31</td>\n",
       "      <td>46982.91</td>\n",
       "      <td>48246.11</td>\n",
       "      <td>46700.00</td>\n",
       "      <td>47100.89</td>\n",
       "      <td>48645.527370</td>\n",
       "      <td>-1784.93</td>\n",
       "      <td>-1</td>\n",
       "    </tr>\n",
       "  </tbody>\n",
       "</table>\n",
       "<p>243 rows × 8 columns</p>\n",
       "</div>"
      ],
      "text/plain": [
       "           Date      open      high       low     close         volume  \\\n",
       "0    2021-01-01  28923.63  29600.00  28624.57  29331.69   54182.925011   \n",
       "1    2021-01-02  29331.70  33300.00  28946.53  32178.33  129993.873362   \n",
       "2    2021-01-03  32176.45  34778.11  31962.99  33000.05  120957.566750   \n",
       "3    2021-01-04  33000.05  33600.00  28130.00  31988.71  140899.885690   \n",
       "4    2021-01-05  31989.75  34360.00  29900.00  33949.53  116049.997038   \n",
       "..          ...       ...       ...       ...       ...            ...   \n",
       "238  2021-08-27  46843.86  49149.93  46348.00  49069.90   42068.104965   \n",
       "239  2021-08-28  49069.90  49299.00  48346.88  48895.35   26681.063786   \n",
       "240  2021-08-29  48895.35  49632.27  47762.54  48767.83   32652.283473   \n",
       "241  2021-08-30  48767.84  48888.61  46853.00  46982.91   40288.350830   \n",
       "242  2021-08-31  46982.91  48246.11  46700.00  47100.89   48645.527370   \n",
       "\n",
       "     Diff_Open  Diff_Category  \n",
       "0          NaN              0  \n",
       "1       408.07              0  \n",
       "2      2844.75              1  \n",
       "3       823.60              1  \n",
       "4     -1010.30             -1  \n",
       "..         ...            ...  \n",
       "238   -2129.46             -1  \n",
       "239    2226.04              1  \n",
       "240    -174.55              0  \n",
       "241    -127.51              0  \n",
       "242   -1784.93             -1  \n",
       "\n",
       "[243 rows x 8 columns]"
      ]
     },
     "execution_count": 33,
     "metadata": {},
     "output_type": "execute_result"
    }
   ],
   "source": [
    "#Reference: https://datagy.io/pandas-conditional-column/\n",
    "\n",
    "\n",
    "conditions = [\n",
    "    (btc['Diff_Open'] < -4000),\n",
    "    (btc['Diff_Open'] >= -4000) & (btc['Diff_Open'] < -500),\n",
    "    (btc['Diff_Open'] >= -500) & (btc['Diff_Open'] <= 500),\n",
    "    (btc['Diff_Open'] > 500) & (btc['Diff_Open'] <= 4000),\n",
    "    (btc['Diff_Open'] > 4000)\n",
    "]\n",
    "values = [-2, -1, 0, 1, 2]\n",
    "btc['Diff_Category'] = np.select(conditions, values)\n",
    "\n",
    "btc"
   ]
  },
  {
   "cell_type": "code",
   "execution_count": 34,
   "id": "28e7d0b2-7f59-4cab-ade6-722d7741b7cd",
   "metadata": {},
   "outputs": [
    {
     "data": {
      "text/plain": [
       "-1    88\n",
       " 1    84\n",
       " 0    59\n",
       " 2     8\n",
       "-2     4\n",
       "Name: Diff_Category, dtype: int64"
      ]
     },
     "execution_count": 34,
     "metadata": {},
     "output_type": "execute_result"
    }
   ],
   "source": [
    "btc[\"Diff_Category\"].value_counts()"
   ]
  },
  {
   "cell_type": "code",
   "execution_count": 35,
   "id": "c6698897-86c4-4b65-8988-0cf2a3d66087",
   "metadata": {},
   "outputs": [],
   "source": [
    "#Save \n",
    "data_path = 'data/categorical_bitcoin_price.csv'\n",
    "btc.to_csv(data_path, sep='\\t')"
   ]
  }
 ],
 "metadata": {
  "kernelspec": {
   "display_name": "Python 3 (ipykernel)",
   "language": "python",
   "name": "python3"
  },
  "language_info": {
   "codemirror_mode": {
    "name": "ipython",
    "version": 3
   },
   "file_extension": ".py",
   "mimetype": "text/x-python",
   "name": "python",
   "nbconvert_exporter": "python",
   "pygments_lexer": "ipython3",
   "version": "3.9.7"
  }
 },
 "nbformat": 4,
 "nbformat_minor": 5
}
