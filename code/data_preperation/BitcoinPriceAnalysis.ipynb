{
 "cells": [
  {
   "cell_type": "markdown",
   "id": "64ee1020-fa7b-4e79-bf8b-d2b1248aad0e",
   "metadata": {},
   "source": [
    "# Categorical Representation of Changes in Daily Bitcoin Price\n",
    "\n",
    "Compared using the \"open\" price."
   ]
  },
  {
   "cell_type": "code",
   "execution_count": 25,
   "id": "aa3a1de5-57ab-4230-bc3e-d69f0bdb2516",
   "metadata": {},
   "outputs": [],
   "source": [
    "import pandas as pd\n",
    "import matplotlib.pyplot as plt\n",
    "import numpy as np"
   ]
  },
  {
   "cell_type": "markdown",
   "id": "2f21d684-65d1-4b30-9080-aff8997374e3",
   "metadata": {},
   "source": [
    "## Analysis"
   ]
  },
  {
   "cell_type": "code",
   "execution_count": 26,
   "id": "ce504e9b-29f3-4661-b9f1-7fba5254bac4",
   "metadata": {},
   "outputs": [],
   "source": [
    "btc = pd.read_csv('data/raw_bitcoin_price.csv', sep='\\t')"
   ]
  },
  {
   "cell_type": "code",
   "execution_count": 27,
   "id": "e81e2b91-8ca5-4bd9-85b9-3a4f9f63193f",
   "metadata": {},
   "outputs": [
    {
     "data": {
      "text/html": [
       "<div>\n",
       "<style scoped>\n",
       "    .dataframe tbody tr th:only-of-type {\n",
       "        vertical-align: middle;\n",
       "    }\n",
       "\n",
       "    .dataframe tbody tr th {\n",
       "        vertical-align: top;\n",
       "    }\n",
       "\n",
       "    .dataframe thead th {\n",
       "        text-align: right;\n",
       "    }\n",
       "</style>\n",
       "<table border=\"1\" class=\"dataframe\">\n",
       "  <thead>\n",
       "    <tr style=\"text-align: right;\">\n",
       "      <th></th>\n",
       "      <th>Unnamed: 0</th>\n",
       "      <th>open</th>\n",
       "      <th>high</th>\n",
       "      <th>low</th>\n",
       "      <th>close</th>\n",
       "      <th>volume</th>\n",
       "    </tr>\n",
       "  </thead>\n",
       "  <tbody>\n",
       "    <tr>\n",
       "      <th>0</th>\n",
       "      <td>2021-01-01</td>\n",
       "      <td>28923.63</td>\n",
       "      <td>29600.00</td>\n",
       "      <td>28624.57</td>\n",
       "      <td>29331.69</td>\n",
       "      <td>54182.925011</td>\n",
       "    </tr>\n",
       "    <tr>\n",
       "      <th>1</th>\n",
       "      <td>2021-01-02</td>\n",
       "      <td>29331.70</td>\n",
       "      <td>33300.00</td>\n",
       "      <td>28946.53</td>\n",
       "      <td>32178.33</td>\n",
       "      <td>129993.873362</td>\n",
       "    </tr>\n",
       "    <tr>\n",
       "      <th>2</th>\n",
       "      <td>2021-01-03</td>\n",
       "      <td>32176.45</td>\n",
       "      <td>34778.11</td>\n",
       "      <td>31962.99</td>\n",
       "      <td>33000.05</td>\n",
       "      <td>120957.566750</td>\n",
       "    </tr>\n",
       "    <tr>\n",
       "      <th>3</th>\n",
       "      <td>2021-01-04</td>\n",
       "      <td>33000.05</td>\n",
       "      <td>33600.00</td>\n",
       "      <td>28130.00</td>\n",
       "      <td>31988.71</td>\n",
       "      <td>140899.885690</td>\n",
       "    </tr>\n",
       "    <tr>\n",
       "      <th>4</th>\n",
       "      <td>2021-01-05</td>\n",
       "      <td>31989.75</td>\n",
       "      <td>34360.00</td>\n",
       "      <td>29900.00</td>\n",
       "      <td>33949.53</td>\n",
       "      <td>116049.997038</td>\n",
       "    </tr>\n",
       "  </tbody>\n",
       "</table>\n",
       "</div>"
      ],
      "text/plain": [
       "   Unnamed: 0      open      high       low     close         volume\n",
       "0  2021-01-01  28923.63  29600.00  28624.57  29331.69   54182.925011\n",
       "1  2021-01-02  29331.70  33300.00  28946.53  32178.33  129993.873362\n",
       "2  2021-01-03  32176.45  34778.11  31962.99  33000.05  120957.566750\n",
       "3  2021-01-04  33000.05  33600.00  28130.00  31988.71  140899.885690\n",
       "4  2021-01-05  31989.75  34360.00  29900.00  33949.53  116049.997038"
      ]
     },
     "execution_count": 27,
     "metadata": {},
     "output_type": "execute_result"
    }
   ],
   "source": [
    "btc.head()"
   ]
  },
  {
   "cell_type": "code",
   "execution_count": 28,
   "id": "1041c3d9-ed08-4388-95b1-ddbdd4c5a49f",
   "metadata": {},
   "outputs": [
    {
     "data": {
      "text/html": [
       "<div>\n",
       "<style scoped>\n",
       "    .dataframe tbody tr th:only-of-type {\n",
       "        vertical-align: middle;\n",
       "    }\n",
       "\n",
       "    .dataframe tbody tr th {\n",
       "        vertical-align: top;\n",
       "    }\n",
       "\n",
       "    .dataframe thead th {\n",
       "        text-align: right;\n",
       "    }\n",
       "</style>\n",
       "<table border=\"1\" class=\"dataframe\">\n",
       "  <thead>\n",
       "    <tr style=\"text-align: right;\">\n",
       "      <th></th>\n",
       "      <th>Date</th>\n",
       "      <th>open</th>\n",
       "      <th>high</th>\n",
       "      <th>low</th>\n",
       "      <th>close</th>\n",
       "      <th>volume</th>\n",
       "    </tr>\n",
       "  </thead>\n",
       "  <tbody>\n",
       "    <tr>\n",
       "      <th>0</th>\n",
       "      <td>2021-01-01</td>\n",
       "      <td>28923.63</td>\n",
       "      <td>29600.00</td>\n",
       "      <td>28624.57</td>\n",
       "      <td>29331.69</td>\n",
       "      <td>54182.925011</td>\n",
       "    </tr>\n",
       "    <tr>\n",
       "      <th>1</th>\n",
       "      <td>2021-01-02</td>\n",
       "      <td>29331.70</td>\n",
       "      <td>33300.00</td>\n",
       "      <td>28946.53</td>\n",
       "      <td>32178.33</td>\n",
       "      <td>129993.873362</td>\n",
       "    </tr>\n",
       "    <tr>\n",
       "      <th>2</th>\n",
       "      <td>2021-01-03</td>\n",
       "      <td>32176.45</td>\n",
       "      <td>34778.11</td>\n",
       "      <td>31962.99</td>\n",
       "      <td>33000.05</td>\n",
       "      <td>120957.566750</td>\n",
       "    </tr>\n",
       "    <tr>\n",
       "      <th>3</th>\n",
       "      <td>2021-01-04</td>\n",
       "      <td>33000.05</td>\n",
       "      <td>33600.00</td>\n",
       "      <td>28130.00</td>\n",
       "      <td>31988.71</td>\n",
       "      <td>140899.885690</td>\n",
       "    </tr>\n",
       "    <tr>\n",
       "      <th>4</th>\n",
       "      <td>2021-01-05</td>\n",
       "      <td>31989.75</td>\n",
       "      <td>34360.00</td>\n",
       "      <td>29900.00</td>\n",
       "      <td>33949.53</td>\n",
       "      <td>116049.997038</td>\n",
       "    </tr>\n",
       "  </tbody>\n",
       "</table>\n",
       "</div>"
      ],
      "text/plain": [
       "         Date      open      high       low     close         volume\n",
       "0  2021-01-01  28923.63  29600.00  28624.57  29331.69   54182.925011\n",
       "1  2021-01-02  29331.70  33300.00  28946.53  32178.33  129993.873362\n",
       "2  2021-01-03  32176.45  34778.11  31962.99  33000.05  120957.566750\n",
       "3  2021-01-04  33000.05  33600.00  28130.00  31988.71  140899.885690\n",
       "4  2021-01-05  31989.75  34360.00  29900.00  33949.53  116049.997038"
      ]
     },
     "execution_count": 28,
     "metadata": {},
     "output_type": "execute_result"
    }
   ],
   "source": [
    "#Change the Unamed column name to Date\n",
    "btc.rename(columns={'Unnamed: 0':'Date'}, inplace=True)\n",
    "btc.head()"
   ]
  },
  {
   "cell_type": "code",
   "execution_count": 29,
   "id": "652989c1-7d59-4521-b77d-a2def5c00557",
   "metadata": {},
   "outputs": [],
   "source": [
    "#Find usual difference in daily open price\n",
    "btc[\"Diff_Open\"] = btc[\"open\"].diff()"
   ]
  },
  {
   "cell_type": "code",
   "execution_count": 30,
   "id": "c4dd4e56-0bc8-4667-91f9-90d2678cac19",
   "metadata": {},
   "outputs": [
    {
     "data": {
      "text/plain": [
       "count     242.000000\n",
       "mean       74.625124\n",
       "std      1957.740449\n",
       "min     -7132.870000\n",
       "25%     -1004.010000\n",
       "50%         1.170000\n",
       "75%      1153.375000\n",
       "max      7579.170000\n",
       "Name: Diff_Open, dtype: float64"
      ]
     },
     "execution_count": 30,
     "metadata": {},
     "output_type": "execute_result"
    }
   ],
   "source": [
    "btc[\"Diff_Open\"].describe()"
   ]
  },
  {
   "cell_type": "code",
   "execution_count": 31,
   "id": "018e2fac-1555-4b66-b9a3-7d0ab5389437",
   "metadata": {},
   "outputs": [
    {
     "data": {
      "text/plain": [
       "<AxesSubplot:>"
      ]
     },
     "execution_count": 31,
     "metadata": {},
     "output_type": "execute_result"
    },
    {
     "data": {
      "image/png": "[encoded data removed]",
      "text/plain": [
       "<Figure size 432x288 with 1 Axes>"
      ]
     },
     "metadata": {
      "needs_background": "light"
     },
     "output_type": "display_data"
    }
   ],
   "source": [
    "btc[\"Diff_Open\"].plot()"
   ]
  },
  {
   "cell_type": "code",
   "execution_count": 32,
   "id": "1bc9d40d-e6f9-4d52-a908-6505aadaff7a",
   "metadata": {},
   "outputs": [
    {
     "data": {
      "text/plain": [
       "array([[<AxesSubplot:title={'center':'Diff_Open'}>]], dtype=object)"
      ]
     },
     "execution_count": 32,
     "metadata": {},
     "output_type": "execute_result"
    },
    {
     "data": {
      "image/png": "[encoded data removed]",
      "text/plain": [
       "<Figure size 432x288 with 1 Axes>"
      ]
     },
     "metadata": {
      "needs_background": "light"
     },
     "output_type": "display_data"
    }
   ],
   "source": [
    "btc.hist(column='Diff_Open')"
   ]
  },
  {
   "cell_type": "markdown",
   "id": "17e442f0-f4f8-49ca-9379-b66376d4ef12",
   "metadata": {},
   "source": [
    "Based on the Graph and metrics above, the categories for price difference are:\n",
    "\n",
    "- -2 (Large Decrease in Price) : diff <-4000\n",
    "- -1 (Moderate Decrease in Price): -4000 <= diff < -500\n",
    "- 0 (No Commendable Difference) : -500 <= diff <= 500\n",
    "- 1 (Moderate Increase in Price): 500 < diff <= 4000\n",
    "- 2 (Large Increase in Price): 4000 < diff"
   ]
  },
  {
   "cell_type": "markdown",
   "id": "691a4181-2f94-44fb-9684-3326d1944e10",
   "metadata": {},
   "source": [
    "## Categorization"
   ]
  },
  {
   "cell_type": "code",
   "execution_count": 33,
   "id": "bc74b5fc-80e0-4dda-a71c-a05bc9e50725",
   "metadata": {},
   "outputs": [
    {
     "data": {
      "text/html": [
       "<div>\n",
       "<style scoped>\n",
       "    .dataframe tbody tr th:only-of-type {\n",
       "        vertical-align: middle;\n",
       "    }\n",
       "\n",
       "    .dataframe tbody tr th {\n",
       "        vertical-align: top;\n",
       "    }\n",
       "\n",
       "    .dataframe thead th {\n",
       "        text-align: right;\n",
       "    }\n",
       "</style>\n",
       "<table border=\"1\" class=\"dataframe\">\n",
       "  <thead>\n",
       "    <tr style=\"text-align: right;\">\n",
       "      <th></th>\n",
       "      <th>Date</th>\n",
       "      <th>open</th>\n",
       "      <th>high</th>\n",
       "      <th>low</th>\n",
       "      <th>close</th>\n",
       "      <th>volume</th>\n",
       "      <th>Diff_Open</th>\n",
       "      <th>Diff_Category</th>\n",
       "    </tr>\n",
       "  </thead>\n",
       "  <tbody>\n",
       "    <tr>\n",
       "      <th>0</th>\n",
       "      <td>2021-01-01</td>\n",
       "      <td>28923.63</td>\n",
       "      <td>29600.00</td>\n",
       "      <td>28624.57</td>\n",
       "      <td>29331.69</td>\n",
       "      <td>54182.925011</td>\n",
       "      <td>NaN</td>\n",
       "      <td>0</td>\n",
       "    </tr>\n",
       "    <tr>\n",
       "      <th>1</th>\n",
       "      <td>2021-01-02</td>\n",
       "      <td>29331.70</td>\n",
       "      <td>33300.00</td>\n",
       "      <td>28946.53</td>\n",
       "      <td>32178.33</td>\n",
       "      <td>129993.873362</td>\n",
       "      <td>408.07</td>\n",
       "      <td>0</td>\n",
       "    </tr>\n",
       "    <tr>\n",
       "      <th>2</th>\n",
       "      <td>2021-01-03</td>\n",
       "      <td>32176.45</td>\n",
       "      <td>34778.11</td>\n",
       "      <td>31962.99</td>\n",
       "      <td>33000.05</td>\n",
       "      <td>120957.566750</td>\n",
       "      <td>2844.75</td>\n",
       "      <td>1</td>\n",
       "    </tr>\n",
       "    <tr>\n",
       "      <th>3</th>\n",
       "      <td>2021-01-04</td>\n",
       "      <td>33000.05</td>\n",
       "      <td>33600.00</td>\n",
       "      <td>28130.00</td>\n",
       "      <td>31988.71</td>\n",
       "      <td>140899.885690</td>\n",
       "      <td>823.60</td>\n",
       "      <td>1</td>\n",
       "    </tr>\n",
       "    <tr>\n",
       "      <th>4</th>\n",
       "      <td>2021-01-05</td>\n",
       "      <td>31989.75</td>\n",
       "      <td>34360.00</td>\n",
       "      <td>29900.00</td>\n",
       "      <td>33949.53</td>\n",
       "      <td>116049.997038</td>\n",
       "      <td>-1010.30</td>\n",
       "      <td>-1</td>\n",
       "    </tr>\n",
       "    <tr>\n",
       "      <th>...</th>\n",
       "      <td>...</td>\n",
       "      <td>...</td>\n",
       "      <td>...</td>\n",
       "      <td>...</td>\n",
       "      <td>...</td>\n",
       "      <td>...</td>\n",
       "      <td>...</td>\n",
       "      <td>...</td>\n",
       "    </tr>\n",
       "    <tr>\n",
       "      <th>238</th>\n",
       "      <td>2021-08-27</td>\n",
       "      <td>46843.86</td>\n",
       "      <td>49149.93</td>\n",
       "      <td>46348.00</td>\n",
       "      <td>49069.90</td>\n",
       "      <td>42068.104965</td>\n",
       "      <td>-2129.46</td>\n",
       "      <td>-1</td>\n",
       "    </tr>\n",
       "    <tr>\n",
       "      <th>239</th>\n",
       "      <td>2021-08-28</td>\n",
       "      <td>49069.90</td>\n",
       "      <td>49299.00</td>\n",
       "      <td>48346.88</td>\n",
       "      <td>48895.35</td>\n",
       "      <td>26681.063786</td>\n",
       "      <td>2226.04</td>\n",
       "      <td>1</td>\n",
       "    </tr>\n",
       "    <tr>\n",
       "      <th>240</th>\n",
       "      <td>2021-08-29</td>\n",
       "      <td>48895.35</td>\n",
       "      <td>49632.27</td>\n",
       "      <td>47762.54</td>\n",
       "      <td>48767.83</td>\n",
       "      <td>32652.283473</td>\n",
       "      <td>-174.55</td>\n",
       "      <td>0</td>\n",
       "    </tr>\n",
       "    <tr>\n",
       "      <th>241</th>\n",
       "      <td>2021-08-30</td>\n",
       "      <td>48767.84</td>\n",
       "      <td>48888.61</td>\n",
       "      <td>46853.00</td>\n",
       "      <td>46982.91</td>\n",
       "      <td>40288.350830</td>\n",
       "      <td>-127.51</td>\n",
       "      <td>0</td>\n",
       "    </tr>\n",
       "    <tr>\n",
       "      <th>242</th>\n",
       "      <td>2021-08-31</td>\n",
       "      <td>46982.91</td>\n",
       "      <td>48246.11</td>\n",
       "      <td>46700.00</td>\n",
       "      <td>47100.89</td>\n",
       "      <td>48645.527370</td>\n",
       "      <td>-1784.93</td>\n",
       "      <td>-1</td>\n",
       "    </tr>\n",
       "  </tbody>\n",
       "</table>\n",
       "<p>243 rows × 8 columns</p>\n",
       "</div>"
      ],
      "text/plain": [
       "           Date      open      high       low     close         volume  \\\n",
       "0    2021-01-01  28923.63  29600.00  28624.57  29331.69   54182.925011   \n",
       "1    2021-01-02  29331.70  33300.00  28946.53  32178.33  129993.873362   \n",
       "2    2021-01-03  32176.45  34778.11  31962.99  33000.05  120957.566750   \n",
       "3    2021-01-04  33000.05  33600.00  28130.00  31988.71  140899.885690   \n",
       "4    2021-01-05  31989.75  34360.00  29900.00  33949.53  116049.997038   \n",
       "..          ...       ...       ...       ...       ...            ...   \n",
       "238  2021-08-27  46843.86  49149.93  46348.00  49069.90   42068.104965   \n",
       "239  2021-08-28  49069.90  49299.00  48346.88  48895.35   26681.063786   \n",
       "240  2021-08-29  48895.35  49632.27  47762.54  48767.83   32652.283473   \n",
       "241  2021-08-30  48767.84  48888.61  46853.00  46982.91   40288.350830   \n",
       "242  2021-08-31  46982.91  48246.11  46700.00  47100.89   48645.527370   \n",
       "\n",
       "     Diff_Open  Diff_Category  \n",
       "0          NaN              0  \n",
       "1       408.07              0  \n",
       "2      2844.75              1  \n",
       "3       823.60              1  \n",
       "4     -1010.30             -1  \n",
       "..         ...            ...  \n",
       "238   -2129.46             -1  \n",
       "239    2226.04              1  \n",
       "240    -174.55              0  \n",
       "241    -127.51              0  \n",
       "242   -1784.93             -1  \n",
       "\n",
       "[243 rows x 8 columns]"
      ]
     },
     "execution_count": 33,
     "metadata": {},
     "output_type": "execute_result"
    }
   ],
   "source": [
    "#Reference: https://datagy.io/pandas-conditional-column/\n",
    "\n",
    "\n",
    "conditions = [\n",
    "    (btc['Diff_Open'] < -4000),\n",
    "    (btc['Diff_Open'] >= -4000) & (btc['Diff_Open'] < -500),\n",
    "    (btc['Diff_Open'] >= -500) & (btc['Diff_Open'] <= 500),\n",
    "    (btc['Diff_Open'] > 500) & (btc['Diff_Open'] <= 4000),\n",
    "    (btc['Diff_Open'] > 4000)\n",
    "]\n",
    "values = [-2, -1, 0, 1, 2]\n",
    "btc['Diff_Category'] = np.select(conditions, values)\n",
    "\n",
    "btc"
   ]
  },
  {
   "cell_type": "code",
   "execution_count": 34,
   "id": "28e7d0b2-7f59-4cab-ade6-722d7741b7cd",
   "metadata": {},
   "outputs": [
    {
     "data": {
      "text/plain": [
       "-1    88\n",
       " 1    84\n",
       " 0    59\n",
       " 2     8\n",
       "-2     4\n",
       "Name: Diff_Category, dtype: int64"
      ]
     },
     "execution_count": 34,
     "metadata": {},
     "output_type": "execute_result"
    }
   ],
   "source": [
    "btc[\"Diff_Category\"].value_counts()"
   ]
  },
  {
   "cell_type": "code",
   "execution_count": 35,
   "id": "c6698897-86c4-4b65-8988-0cf2a3d66087",
   "metadata": {},
   "outputs": [],
   "source": [
    "#Save \n",
    "data_path = 'data/categorical_bitcoin_price.csv'\n",
    "btc.to_csv(data_path, sep='\\t')"
   ]
  },
  {
   "cell_type": "markdown",
   "id": "234cd648-c714-44e4-bb06-8c1c2e188353",
   "metadata": {},
   "source": [
    "# Categorical Representation of Changes in Hourly Bitcoin Prices"
   ]
  },
  {
   "cell_type": "code",
   "execution_count": 1,
   "id": "848bd7d5-829f-4069-aaaf-5cfb02d8ef05",
   "metadata": {},
   "outputs": [],
   "source": [
    "import pandas as pd\n",
    "import matplotlib.pyplot as plt\n",
    "import numpy as np"
   ]
  },
  {
   "cell_type": "markdown",
   "id": "6977e8c0-d25a-4530-bd41-685e04ed35d3",
   "metadata": {},
   "source": [
    "## Analysis"
   ]
  },
  {
   "cell_type": "code",
   "execution_count": 2,
   "id": "2559079d-e322-406e-8338-a7ad3610fd0f",
   "metadata": {},
   "outputs": [
    {
     "data": {
      "text/html": [
       "<div>\n",
       "<style scoped>\n",
       "    .dataframe tbody tr th:only-of-type {\n",
       "        vertical-align: middle;\n",
       "    }\n",
       "\n",
       "    .dataframe tbody tr th {\n",
       "        vertical-align: top;\n",
       "    }\n",
       "\n",
       "    .dataframe thead th {\n",
       "        text-align: right;\n",
       "    }\n",
       "</style>\n",
       "<table border=\"1\" class=\"dataframe\">\n",
       "  <thead>\n",
       "    <tr style=\"text-align: right;\">\n",
       "      <th></th>\n",
       "      <th>date</th>\n",
       "      <th>open</th>\n",
       "      <th>high</th>\n",
       "      <th>low</th>\n",
       "      <th>close</th>\n",
       "      <th>Volume BTC</th>\n",
       "      <th>Volume USD</th>\n",
       "    </tr>\n",
       "  </thead>\n",
       "  <tbody>\n",
       "    <tr>\n",
       "      <th>0</th>\n",
       "      <td>2021-08-31 23:00:00</td>\n",
       "      <td>47102.74</td>\n",
       "      <td>47365.57</td>\n",
       "      <td>47000.05</td>\n",
       "      <td>47156.09</td>\n",
       "      <td>52.281015</td>\n",
       "      <td>2.465368e+06</td>\n",
       "    </tr>\n",
       "    <tr>\n",
       "      <th>1</th>\n",
       "      <td>2021-08-31 22:00:00</td>\n",
       "      <td>46942.58</td>\n",
       "      <td>47127.13</td>\n",
       "      <td>46771.13</td>\n",
       "      <td>47100.38</td>\n",
       "      <td>199.495397</td>\n",
       "      <td>9.396309e+06</td>\n",
       "    </tr>\n",
       "    <tr>\n",
       "      <th>2</th>\n",
       "      <td>2021-08-31 21:00:00</td>\n",
       "      <td>47020.10</td>\n",
       "      <td>47213.49</td>\n",
       "      <td>46845.05</td>\n",
       "      <td>46950.00</td>\n",
       "      <td>138.092514</td>\n",
       "      <td>6.483444e+06</td>\n",
       "    </tr>\n",
       "    <tr>\n",
       "      <th>3</th>\n",
       "      <td>2021-08-31 20:00:00</td>\n",
       "      <td>47306.81</td>\n",
       "      <td>47345.65</td>\n",
       "      <td>46926.40</td>\n",
       "      <td>47003.10</td>\n",
       "      <td>81.363207</td>\n",
       "      <td>3.824323e+06</td>\n",
       "    </tr>\n",
       "    <tr>\n",
       "      <th>4</th>\n",
       "      <td>2021-08-31 19:00:00</td>\n",
       "      <td>47326.70</td>\n",
       "      <td>47422.72</td>\n",
       "      <td>47205.86</td>\n",
       "      <td>47321.52</td>\n",
       "      <td>95.043733</td>\n",
       "      <td>4.497614e+06</td>\n",
       "    </tr>\n",
       "  </tbody>\n",
       "</table>\n",
       "</div>"
      ],
      "text/plain": [
       "                  date      open      high       low     close  Volume BTC  \\\n",
       "0  2021-08-31 23:00:00  47102.74  47365.57  47000.05  47156.09   52.281015   \n",
       "1  2021-08-31 22:00:00  46942.58  47127.13  46771.13  47100.38  199.495397   \n",
       "2  2021-08-31 21:00:00  47020.10  47213.49  46845.05  46950.00  138.092514   \n",
       "3  2021-08-31 20:00:00  47306.81  47345.65  46926.40  47003.10   81.363207   \n",
       "4  2021-08-31 19:00:00  47326.70  47422.72  47205.86  47321.52   95.043733   \n",
       "\n",
       "     Volume USD  \n",
       "0  2.465368e+06  \n",
       "1  9.396309e+06  \n",
       "2  6.483444e+06  \n",
       "3  3.824323e+06  \n",
       "4  4.497614e+06  "
      ]
     },
     "execution_count": 2,
     "metadata": {},
     "output_type": "execute_result"
    }
   ],
   "source": [
    "btc = pd.read_csv('../../data/hourly_data/bitcoin_hourly.csv', sep=',', index_col=None)\n",
    "btc.head()"
   ]
  },
  {
   "cell_type": "code",
   "execution_count": 3,
   "id": "5ab37720-4773-4783-95af-a1b61b241a58",
   "metadata": {},
   "outputs": [
    {
     "data": {
      "text/plain": [
       "count    5831.000000\n",
       "mean       -3.104632\n",
       "std       437.503594\n",
       "min     -3984.430000\n",
       "25%      -219.305000\n",
       "50%        -8.750000\n",
       "75%       202.695000\n",
       "max      4795.170000\n",
       "Name: Diff_Open, dtype: float64"
      ]
     },
     "execution_count": 3,
     "metadata": {},
     "output_type": "execute_result"
    }
   ],
   "source": [
    "#Find usual difference in hourly open price\n",
    "btc[\"Diff_Open\"] = btc[\"open\"].diff()\n",
    "btc[\"Diff_Open\"].describe()"
   ]
  },
  {
   "cell_type": "code",
   "execution_count": 4,
   "id": "fbbce64f-f522-4082-9fd8-8ce275d30d4a",
   "metadata": {},
   "outputs": [
    {
     "data": {
      "text/plain": [
       "array([[<AxesSubplot:title={'center':'Diff_Open'}>]], dtype=object)"
      ]
     },
     "execution_count": 4,
     "metadata": {},
     "output_type": "execute_result"
    },
    {
     "data": {
      "image/png": "[encoded data removed]",
      "text/plain": [
       "<Figure size 432x288 with 1 Axes>"
      ]
     },
     "metadata": {
      "needs_background": "light"
     },
     "output_type": "display_data"
    }
   ],
   "source": [
    "btc.hist(column='Diff_Open')"
   ]
  },
  {
   "cell_type": "code",
   "execution_count": 5,
   "id": "ef5aa15e-90c8-49d2-b113-5d5302ea018c",
   "metadata": {},
   "outputs": [
    {
     "data": {
      "text/plain": [
       "<AxesSubplot:>"
      ]
     },
     "execution_count": 5,
     "metadata": {},
     "output_type": "execute_result"
    },
    {
     "data": {
      "image/png": "[encoded data removed]",
      "text/plain": [
       "<Figure size 432x288 with 1 Axes>"
      ]
     },
     "metadata": {
      "needs_background": "light"
     },
     "output_type": "display_data"
    }
   ],
   "source": [
    "btc[\"Diff_Open\"].plot()"
   ]
  },
  {
   "cell_type": "markdown",
   "id": "2318e422-01d1-488a-9dd3-cb8ff7588071",
   "metadata": {},
   "source": [
    "Based on the Graph and metrics above, the categories for price difference are:\n",
    "\n",
    "- -1 (Decrease in Price):  diff < -150\n",
    "- 0 (No Commendable Difference) : -150 <= diff <= 150\n",
    "- 1 (Increase in Price): 150 < diff "
   ]
  },
  {
   "cell_type": "markdown",
   "id": "c734951f-73be-445a-9206-98d09b50bf41",
   "metadata": {},
   "source": [
    "## Categorization"
   ]
  },
  {
   "cell_type": "code",
   "execution_count": 12,
   "id": "cb55ef1e-3606-4764-93c0-ac3a729a30a2",
   "metadata": {},
   "outputs": [
    {
     "data": {
      "text/html": [
       "<div>\n",
       "<style scoped>\n",
       "    .dataframe tbody tr th:only-of-type {\n",
       "        vertical-align: middle;\n",
       "    }\n",
       "\n",
       "    .dataframe tbody tr th {\n",
       "        vertical-align: top;\n",
       "    }\n",
       "\n",
       "    .dataframe thead th {\n",
       "        text-align: right;\n",
       "    }\n",
       "</style>\n",
       "<table border=\"1\" class=\"dataframe\">\n",
       "  <thead>\n",
       "    <tr style=\"text-align: right;\">\n",
       "      <th></th>\n",
       "      <th>date</th>\n",
       "      <th>open</th>\n",
       "      <th>high</th>\n",
       "      <th>low</th>\n",
       "      <th>close</th>\n",
       "      <th>Volume BTC</th>\n",
       "      <th>Volume USD</th>\n",
       "      <th>Diff_Open</th>\n",
       "      <th>Diff_Category</th>\n",
       "    </tr>\n",
       "  </thead>\n",
       "  <tbody>\n",
       "    <tr>\n",
       "      <th>0</th>\n",
       "      <td>2021-08-31 23:00:00</td>\n",
       "      <td>47102.74</td>\n",
       "      <td>47365.57</td>\n",
       "      <td>47000.05</td>\n",
       "      <td>47156.09</td>\n",
       "      <td>52.281015</td>\n",
       "      <td>2.465368e+06</td>\n",
       "      <td>NaN</td>\n",
       "      <td>0</td>\n",
       "    </tr>\n",
       "    <tr>\n",
       "      <th>1</th>\n",
       "      <td>2021-08-31 22:00:00</td>\n",
       "      <td>46942.58</td>\n",
       "      <td>47127.13</td>\n",
       "      <td>46771.13</td>\n",
       "      <td>47100.38</td>\n",
       "      <td>199.495397</td>\n",
       "      <td>9.396309e+06</td>\n",
       "      <td>-160.16</td>\n",
       "      <td>-1</td>\n",
       "    </tr>\n",
       "    <tr>\n",
       "      <th>2</th>\n",
       "      <td>2021-08-31 21:00:00</td>\n",
       "      <td>47020.10</td>\n",
       "      <td>47213.49</td>\n",
       "      <td>46845.05</td>\n",
       "      <td>46950.00</td>\n",
       "      <td>138.092514</td>\n",
       "      <td>6.483444e+06</td>\n",
       "      <td>77.52</td>\n",
       "      <td>0</td>\n",
       "    </tr>\n",
       "    <tr>\n",
       "      <th>3</th>\n",
       "      <td>2021-08-31 20:00:00</td>\n",
       "      <td>47306.81</td>\n",
       "      <td>47345.65</td>\n",
       "      <td>46926.40</td>\n",
       "      <td>47003.10</td>\n",
       "      <td>81.363207</td>\n",
       "      <td>3.824323e+06</td>\n",
       "      <td>286.71</td>\n",
       "      <td>1</td>\n",
       "    </tr>\n",
       "    <tr>\n",
       "      <th>4</th>\n",
       "      <td>2021-08-31 19:00:00</td>\n",
       "      <td>47326.70</td>\n",
       "      <td>47422.72</td>\n",
       "      <td>47205.86</td>\n",
       "      <td>47321.52</td>\n",
       "      <td>95.043733</td>\n",
       "      <td>4.497614e+06</td>\n",
       "      <td>19.89</td>\n",
       "      <td>0</td>\n",
       "    </tr>\n",
       "    <tr>\n",
       "      <th>...</th>\n",
       "      <td>...</td>\n",
       "      <td>...</td>\n",
       "      <td>...</td>\n",
       "      <td>...</td>\n",
       "      <td>...</td>\n",
       "      <td>...</td>\n",
       "      <td>...</td>\n",
       "      <td>...</td>\n",
       "      <td>...</td>\n",
       "    </tr>\n",
       "    <tr>\n",
       "      <th>5827</th>\n",
       "      <td>2021-01-01 04:00:00</td>\n",
       "      <td>29351.85</td>\n",
       "      <td>29458.27</td>\n",
       "      <td>29121.80</td>\n",
       "      <td>29290.38</td>\n",
       "      <td>325.565700</td>\n",
       "      <td>9.535943e+06</td>\n",
       "      <td>57.27</td>\n",
       "      <td>0</td>\n",
       "    </tr>\n",
       "    <tr>\n",
       "      <th>5828</th>\n",
       "      <td>2021-01-01 03:00:00</td>\n",
       "      <td>29249.33</td>\n",
       "      <td>29414.48</td>\n",
       "      <td>29216.61</td>\n",
       "      <td>29345.63</td>\n",
       "      <td>284.146568</td>\n",
       "      <td>8.338460e+06</td>\n",
       "      <td>-102.52</td>\n",
       "      <td>0</td>\n",
       "    </tr>\n",
       "    <tr>\n",
       "      <th>5829</th>\n",
       "      <td>2021-01-01 02:00:00</td>\n",
       "      <td>29484.39</td>\n",
       "      <td>29535.95</td>\n",
       "      <td>29189.34</td>\n",
       "      <td>29249.33</td>\n",
       "      <td>290.242637</td>\n",
       "      <td>8.489403e+06</td>\n",
       "      <td>235.06</td>\n",
       "      <td>1</td>\n",
       "    </tr>\n",
       "    <tr>\n",
       "      <th>5830</th>\n",
       "      <td>2021-01-01 01:00:00</td>\n",
       "      <td>29070.66</td>\n",
       "      <td>29543.93</td>\n",
       "      <td>29010.36</td>\n",
       "      <td>29479.12</td>\n",
       "      <td>648.597652</td>\n",
       "      <td>1.912009e+07</td>\n",
       "      <td>-413.73</td>\n",
       "      <td>-1</td>\n",
       "    </tr>\n",
       "    <tr>\n",
       "      <th>5831</th>\n",
       "      <td>2021-01-01 00:00:00</td>\n",
       "      <td>28999.63</td>\n",
       "      <td>29099.00</td>\n",
       "      <td>28774.64</td>\n",
       "      <td>29056.94</td>\n",
       "      <td>397.964775</td>\n",
       "      <td>1.156364e+07</td>\n",
       "      <td>-71.03</td>\n",
       "      <td>0</td>\n",
       "    </tr>\n",
       "  </tbody>\n",
       "</table>\n",
       "<p>5832 rows × 9 columns</p>\n",
       "</div>"
      ],
      "text/plain": [
       "                     date      open      high       low     close  Volume BTC  \\\n",
       "0     2021-08-31 23:00:00  47102.74  47365.57  47000.05  47156.09   52.281015   \n",
       "1     2021-08-31 22:00:00  46942.58  47127.13  46771.13  47100.38  199.495397   \n",
       "2     2021-08-31 21:00:00  47020.10  47213.49  46845.05  46950.00  138.092514   \n",
       "3     2021-08-31 20:00:00  47306.81  47345.65  46926.40  47003.10   81.363207   \n",
       "4     2021-08-31 19:00:00  47326.70  47422.72  47205.86  47321.52   95.043733   \n",
       "...                   ...       ...       ...       ...       ...         ...   \n",
       "5827  2021-01-01 04:00:00  29351.85  29458.27  29121.80  29290.38  325.565700   \n",
       "5828  2021-01-01 03:00:00  29249.33  29414.48  29216.61  29345.63  284.146568   \n",
       "5829  2021-01-01 02:00:00  29484.39  29535.95  29189.34  29249.33  290.242637   \n",
       "5830  2021-01-01 01:00:00  29070.66  29543.93  29010.36  29479.12  648.597652   \n",
       "5831  2021-01-01 00:00:00  28999.63  29099.00  28774.64  29056.94  397.964775   \n",
       "\n",
       "        Volume USD  Diff_Open  Diff_Category  \n",
       "0     2.465368e+06        NaN              0  \n",
       "1     9.396309e+06    -160.16             -1  \n",
       "2     6.483444e+06      77.52              0  \n",
       "3     3.824323e+06     286.71              1  \n",
       "4     4.497614e+06      19.89              0  \n",
       "...            ...        ...            ...  \n",
       "5827  9.535943e+06      57.27              0  \n",
       "5828  8.338460e+06    -102.52              0  \n",
       "5829  8.489403e+06     235.06              1  \n",
       "5830  1.912009e+07    -413.73             -1  \n",
       "5831  1.156364e+07     -71.03              0  \n",
       "\n",
       "[5832 rows x 9 columns]"
      ]
     },
     "execution_count": 12,
     "metadata": {},
     "output_type": "execute_result"
    }
   ],
   "source": [
    "#Reference: https://datagy.io/pandas-conditional-column/\n",
    "\n",
    "\n",
    "conditions = [\n",
    "    (btc['Diff_Open'] < -150),\n",
    "    (btc['Diff_Open'] >= -150) & (btc['Diff_Open'] <= 150),\n",
    "    (btc['Diff_Open'] > 150)\n",
    "]\n",
    "values = [ -1, 0, 1]\n",
    "btc['Diff_Category'] = np.select(conditions, values)\n",
    "\n",
    "btc"
   ]
  },
  {
   "cell_type": "code",
   "execution_count": 13,
   "id": "4982e873-e6f8-477e-ad4b-7f5b798e25e1",
   "metadata": {},
   "outputs": [
    {
     "data": {
      "text/plain": [
       " 0    2217\n",
       "-1    1871\n",
       " 1    1744\n",
       "Name: Diff_Category, dtype: int64"
      ]
     },
     "execution_count": 13,
     "metadata": {},
     "output_type": "execute_result"
    }
   ],
   "source": [
    "btc[\"Diff_Category\"].value_counts()"
   ]
  },
  {
   "cell_type": "code",
   "execution_count": 14,
   "id": "5b5434eb-556d-4673-9943-bd6bf853c839",
   "metadata": {},
   "outputs": [],
   "source": [
    "btc.to_csv('../../data/hourly_data/categorical_bitcoin_hourly.csv', sep='\\t', index=None)"
   ]
  },
  {
   "cell_type": "code",
   "execution_count": null,
   "id": "69c6d30f-bf3a-435a-a708-a3112c70c1c1",
   "metadata": {},
   "outputs": [],
   "source": []
  }
 ],
 "metadata": {
  "kernelspec": {
   "display_name": "Python 3 (ipykernel)",
   "language": "python",
   "name": "python3"
  },
  "language_info": {
   "codemirror_mode": {
    "name": "ipython",
    "version": 3
   },
   "file_extension": ".py",
   "mimetype": "text/x-python",
   "name": "python",
   "nbconvert_exporter": "python",
   "pygments_lexer": "ipython3",
   "version": "3.9.7"
  }
 },
 "nbformat": 4,
 "nbformat_minor": 5
}
