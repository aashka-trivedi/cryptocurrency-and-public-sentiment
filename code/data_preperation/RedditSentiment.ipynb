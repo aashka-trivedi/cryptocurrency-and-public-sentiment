{
  "nbformat": 4,
  "nbformat_minor": 0,
  "metadata": {
    "colab": {
      "name": "RedditSentiment.ipynb",
      "provenance": []
    },
    "kernelspec": {
      "name": "python3",
      "display_name": "Python 3"
    },
    "language_info": {
      "name": "python"
    }
  },
  "cells": [
    {
      "cell_type": "markdown",
      "metadata": {
        "id": "1ZlMvqM-knV-"
      },
      "source": [
        "# Daily Sentiment Scores of Reddit Tweets"
      ]
    },
    {
      "cell_type": "code",
      "metadata": {
        "colab": {
          "base_uri": "https://localhost:8080/"
        },
        "id": "K9CSm5PYkhdG",
        "outputId": "c4169132-4209-451c-fda9-6950049feb13"
      },
      "source": [
        "import pandas as pd\n",
        "import nltk\n",
        "nltk.download('vader_lexicon')\n",
        "from nltk.sentiment.vader import SentimentIntensityAnalyzer"
      ],
      "execution_count": 3,
      "outputs": [
        {
          "output_type": "stream",
          "name": "stdout",
          "text": [
            "[nltk_data] Downloading package vader_lexicon to /root/nltk_data...\n",
            "[nltk_data]   Package vader_lexicon is already up-to-date!\n"
          ]
        },
        {
          "output_type": "stream",
          "name": "stderr",
          "text": [
            "/usr/local/lib/python3.7/dist-packages/nltk/twitter/__init__.py:20: UserWarning: The twython library has not been installed. Some functionality from the twitter package will not be available.\n",
            "  warnings.warn(\"The twython library has not been installed. \"\n"
          ]
        }
      ]
    },
    {
      "cell_type": "code",
      "metadata": {
        "id": "vsp0FgRBkyrv"
      },
      "source": [
        "reddit = pd.read_csv('redditData.csv', sep=',', index_col=None)"
      ],
      "execution_count": 2,
      "outputs": []
    },
    {
      "cell_type": "code",
      "metadata": {
        "id": "PpPP5reCk3Kp"
      },
      "source": [
        "sid = SentimentIntensityAnalyzer()"
      ],
      "execution_count": 4,
      "outputs": []
    },
    {
      "cell_type": "code",
      "metadata": {
        "colab": {
          "base_uri": "https://localhost:8080/"
        },
        "id": "1KUA0WF7k92l",
        "outputId": "917b3cc0-c462-4a93-e357-29e6a4c20e8d"
      },
      "source": [
        "sid.polarity_scores(reddit['body'][1])"
      ],
      "execution_count": 6,
      "outputs": [
        {
          "output_type": "execute_result",
          "data": {
            "text/plain": [
              "{'compound': -0.872, 'neg': 0.163, 'neu': 0.715, 'pos': 0.122}"
            ]
          },
          "metadata": {},
          "execution_count": 6
        }
      ]
    },
    {
      "cell_type": "code",
      "metadata": {
        "colab": {
          "base_uri": "https://localhost:8080/",
          "height": 204
        },
        "id": "z45uoX_9lBrk",
        "outputId": "69a4bce8-5c3a-4119-802e-5083ba66df9e"
      },
      "source": [
        "reddit['sentiment'] = reddit['body'].apply(sid.polarity_scores)\n",
        "reddit.head()"
      ],
      "execution_count": 9,
      "outputs": [
        {
          "output_type": "execute_result",
          "data": {
            "text/html": [
              "<div>\n",
              "<style scoped>\n",
              "    .dataframe tbody tr th:only-of-type {\n",
              "        vertical-align: middle;\n",
              "    }\n",
              "\n",
              "    .dataframe tbody tr th {\n",
              "        vertical-align: top;\n",
              "    }\n",
              "\n",
              "    .dataframe thead th {\n",
              "        text-align: right;\n",
              "    }\n",
              "</style>\n",
              "<table border=\"1\" class=\"dataframe\">\n",
              "  <thead>\n",
              "    <tr style=\"text-align: right;\">\n",
              "      <th></th>\n",
              "      <th>Date</th>\n",
              "      <th>body</th>\n",
              "      <th>sentiment</th>\n",
              "    </tr>\n",
              "  </thead>\n",
              "  <tbody>\n",
              "    <tr>\n",
              "      <th>0</th>\n",
              "      <td>2021-02-12 14:23:46</td>\n",
              "      <td>Bitcoin is the profits</td>\n",
              "      <td>{'neg': 0.0, 'neu': 0.508, 'pos': 0.492, 'comp...</td>\n",
              "    </tr>\n",
              "    <tr>\n",
              "      <th>1</th>\n",
              "      <td>2021-02-12 14:23:43</td>\n",
              "      <td>Frankly, I welcome it. Right now, I don't see ...</td>\n",
              "      <td>{'neg': 0.163, 'neu': 0.715, 'pos': 0.122, 'co...</td>\n",
              "    </tr>\n",
              "    <tr>\n",
              "      <th>2</th>\n",
              "      <td>2021-02-12 14:23:41</td>\n",
              "      <td>Depends on what you are after.  \\nStorage of w...</td>\n",
              "      <td>{'neg': 0.05, 'neu': 0.796, 'pos': 0.154, 'com...</td>\n",
              "    </tr>\n",
              "    <tr>\n",
              "      <th>3</th>\n",
              "      <td>2021-02-12 14:23:36</td>\n",
              "      <td>SALVATORE GANACCI 😁</td>\n",
              "      <td>{'neg': 0.0, 'neu': 1.0, 'pos': 0.0, 'compound...</td>\n",
              "    </tr>\n",
              "    <tr>\n",
              "      <th>4</th>\n",
              "      <td>2021-02-12 14:23:29</td>\n",
              "      <td>Fuck Paul. He's a damaged twit.\\nI guess you a...</td>\n",
              "      <td>{'neg': 0.39, 'neu': 0.61, 'pos': 0.0, 'compou...</td>\n",
              "    </tr>\n",
              "  </tbody>\n",
              "</table>\n",
              "</div>"
            ],
            "text/plain": [
              "                  Date  ...                                          sentiment\n",
              "0  2021-02-12 14:23:46  ...  {'neg': 0.0, 'neu': 0.508, 'pos': 0.492, 'comp...\n",
              "1  2021-02-12 14:23:43  ...  {'neg': 0.163, 'neu': 0.715, 'pos': 0.122, 'co...\n",
              "2  2021-02-12 14:23:41  ...  {'neg': 0.05, 'neu': 0.796, 'pos': 0.154, 'com...\n",
              "3  2021-02-12 14:23:36  ...  {'neg': 0.0, 'neu': 1.0, 'pos': 0.0, 'compound...\n",
              "4  2021-02-12 14:23:29  ...  {'neg': 0.39, 'neu': 0.61, 'pos': 0.0, 'compou...\n",
              "\n",
              "[5 rows x 3 columns]"
            ]
          },
          "metadata": {},
          "execution_count": 9
        }
      ]
    },
    {
      "cell_type": "code",
      "metadata": {
        "id": "ny_fa6-7l4fO"
      },
      "source": [
        "sentiments = reddit['sentiment'].apply(pd.Series)"
      ],
      "execution_count": 18,
      "outputs": []
    },
    {
      "cell_type": "code",
      "metadata": {
        "colab": {
          "base_uri": "https://localhost:8080/",
          "height": 204
        },
        "id": "jqFOZtZXma2m",
        "outputId": "6585553b-46fd-4204-9667-88fd91f0accb"
      },
      "source": [
        "reddit = pd.concat([reddit,sentiments], axis=1)\n",
        "reddit.head()"
      ],
      "execution_count": 19,
      "outputs": [
        {
          "output_type": "execute_result",
          "data": {
            "text/html": [
              "<div>\n",
              "<style scoped>\n",
              "    .dataframe tbody tr th:only-of-type {\n",
              "        vertical-align: middle;\n",
              "    }\n",
              "\n",
              "    .dataframe tbody tr th {\n",
              "        vertical-align: top;\n",
              "    }\n",
              "\n",
              "    .dataframe thead th {\n",
              "        text-align: right;\n",
              "    }\n",
              "</style>\n",
              "<table border=\"1\" class=\"dataframe\">\n",
              "  <thead>\n",
              "    <tr style=\"text-align: right;\">\n",
              "      <th></th>\n",
              "      <th>Date</th>\n",
              "      <th>body</th>\n",
              "      <th>sentiment</th>\n",
              "      <th>neg</th>\n",
              "      <th>neu</th>\n",
              "      <th>pos</th>\n",
              "      <th>compound</th>\n",
              "    </tr>\n",
              "  </thead>\n",
              "  <tbody>\n",
              "    <tr>\n",
              "      <th>0</th>\n",
              "      <td>2021-02-12 14:23:46</td>\n",
              "      <td>Bitcoin is the profits</td>\n",
              "      <td>{'neg': 0.0, 'neu': 0.508, 'pos': 0.492, 'comp...</td>\n",
              "      <td>0.000</td>\n",
              "      <td>0.508</td>\n",
              "      <td>0.492</td>\n",
              "      <td>0.4404</td>\n",
              "    </tr>\n",
              "    <tr>\n",
              "      <th>1</th>\n",
              "      <td>2021-02-12 14:23:43</td>\n",
              "      <td>Frankly, I welcome it. Right now, I don't see ...</td>\n",
              "      <td>{'neg': 0.163, 'neu': 0.715, 'pos': 0.122, 'co...</td>\n",
              "      <td>0.163</td>\n",
              "      <td>0.715</td>\n",
              "      <td>0.122</td>\n",
              "      <td>-0.8720</td>\n",
              "    </tr>\n",
              "    <tr>\n",
              "      <th>2</th>\n",
              "      <td>2021-02-12 14:23:41</td>\n",
              "      <td>Depends on what you are after.  \\nStorage of w...</td>\n",
              "      <td>{'neg': 0.05, 'neu': 0.796, 'pos': 0.154, 'com...</td>\n",
              "      <td>0.050</td>\n",
              "      <td>0.796</td>\n",
              "      <td>0.154</td>\n",
              "      <td>0.9788</td>\n",
              "    </tr>\n",
              "    <tr>\n",
              "      <th>3</th>\n",
              "      <td>2021-02-12 14:23:36</td>\n",
              "      <td>SALVATORE GANACCI 😁</td>\n",
              "      <td>{'neg': 0.0, 'neu': 1.0, 'pos': 0.0, 'compound...</td>\n",
              "      <td>0.000</td>\n",
              "      <td>1.000</td>\n",
              "      <td>0.000</td>\n",
              "      <td>0.0000</td>\n",
              "    </tr>\n",
              "    <tr>\n",
              "      <th>4</th>\n",
              "      <td>2021-02-12 14:23:29</td>\n",
              "      <td>Fuck Paul. He's a damaged twit.\\nI guess you a...</td>\n",
              "      <td>{'neg': 0.39, 'neu': 0.61, 'pos': 0.0, 'compou...</td>\n",
              "      <td>0.390</td>\n",
              "      <td>0.610</td>\n",
              "      <td>0.000</td>\n",
              "      <td>-0.7506</td>\n",
              "    </tr>\n",
              "  </tbody>\n",
              "</table>\n",
              "</div>"
            ],
            "text/plain": [
              "                  Date  ... compound\n",
              "0  2021-02-12 14:23:46  ...   0.4404\n",
              "1  2021-02-12 14:23:43  ...  -0.8720\n",
              "2  2021-02-12 14:23:41  ...   0.9788\n",
              "3  2021-02-12 14:23:36  ...   0.0000\n",
              "4  2021-02-12 14:23:29  ...  -0.7506\n",
              "\n",
              "[5 rows x 7 columns]"
            ]
          },
          "metadata": {},
          "execution_count": 19
        }
      ]
    },
    {
      "cell_type": "code",
      "metadata": {
        "id": "xhTM6aJSnVZK"
      },
      "source": [
        "#save as csv\n",
        "reddit.to_csv('redditSentiment.csv', sep='\\t', index=None)"
      ],
      "execution_count": 20,
      "outputs": []
    },
    {
      "cell_type": "markdown",
      "metadata": {
        "id": "TgRFTDo2pf97"
      },
      "source": [
        "## Daily sentiment score"
      ]
    },
    {
      "cell_type": "code",
      "metadata": {
        "id": "pg5mFSdWqg_b"
      },
      "source": [
        "def getDate(series):\n",
        "  return series.split(' ')[0]"
      ],
      "execution_count": 33,
      "outputs": []
    },
    {
      "cell_type": "code",
      "metadata": {
        "id": "YOLEHUmVrDag"
      },
      "source": [
        "reddit['Day'] = reddit['Date'].apply(getDate)"
      ],
      "execution_count": 39,
      "outputs": []
    },
    {
      "cell_type": "code",
      "metadata": {
        "id": "KncLPPJRrKSS"
      },
      "source": [
        "#Getting average score\n",
        "daily_score = reddit.groupby(by=['Day'],as_index=False).mean()"
      ],
      "execution_count": 41,
      "outputs": []
    },
    {
      "cell_type": "code",
      "metadata": {
        "colab": {
          "base_uri": "https://localhost:8080/",
          "height": 204
        },
        "id": "1Yto18gCrTlo",
        "outputId": "a02b198d-e837-43e0-9d5f-1aaea1e108d6"
      },
      "source": [
        "daily_score.tail()"
      ],
      "execution_count": 43,
      "outputs": [
        {
          "output_type": "execute_result",
          "data": {
            "text/html": [
              "<div>\n",
              "<style scoped>\n",
              "    .dataframe tbody tr th:only-of-type {\n",
              "        vertical-align: middle;\n",
              "    }\n",
              "\n",
              "    .dataframe tbody tr th {\n",
              "        vertical-align: top;\n",
              "    }\n",
              "\n",
              "    .dataframe thead th {\n",
              "        text-align: right;\n",
              "    }\n",
              "</style>\n",
              "<table border=\"1\" class=\"dataframe\">\n",
              "  <thead>\n",
              "    <tr style=\"text-align: right;\">\n",
              "      <th></th>\n",
              "      <th>Day</th>\n",
              "      <th>neg</th>\n",
              "      <th>neu</th>\n",
              "      <th>pos</th>\n",
              "      <th>compound</th>\n",
              "    </tr>\n",
              "  </thead>\n",
              "  <tbody>\n",
              "    <tr>\n",
              "      <th>186</th>\n",
              "      <td>2021-07-28</td>\n",
              "      <td>0.078570</td>\n",
              "      <td>0.799123</td>\n",
              "      <td>0.118990</td>\n",
              "      <td>0.067936</td>\n",
              "    </tr>\n",
              "    <tr>\n",
              "      <th>187</th>\n",
              "      <td>2021-07-29</td>\n",
              "      <td>0.062790</td>\n",
              "      <td>0.869973</td>\n",
              "      <td>0.067253</td>\n",
              "      <td>0.054193</td>\n",
              "    </tr>\n",
              "    <tr>\n",
              "      <th>188</th>\n",
              "      <td>2021-07-30</td>\n",
              "      <td>0.071823</td>\n",
              "      <td>0.805740</td>\n",
              "      <td>0.122450</td>\n",
              "      <td>0.094655</td>\n",
              "    </tr>\n",
              "    <tr>\n",
              "      <th>189</th>\n",
              "      <td>2021-07-31</td>\n",
              "      <td>0.083880</td>\n",
              "      <td>0.775040</td>\n",
              "      <td>0.141130</td>\n",
              "      <td>0.086357</td>\n",
              "    </tr>\n",
              "    <tr>\n",
              "      <th>190</th>\n",
              "      <td>2021-08-01</td>\n",
              "      <td>0.064850</td>\n",
              "      <td>0.796123</td>\n",
              "      <td>0.130710</td>\n",
              "      <td>0.138810</td>\n",
              "    </tr>\n",
              "  </tbody>\n",
              "</table>\n",
              "</div>"
            ],
            "text/plain": [
              "            Day       neg       neu       pos  compound\n",
              "186  2021-07-28  0.078570  0.799123  0.118990  0.067936\n",
              "187  2021-07-29  0.062790  0.869973  0.067253  0.054193\n",
              "188  2021-07-30  0.071823  0.805740  0.122450  0.094655\n",
              "189  2021-07-31  0.083880  0.775040  0.141130  0.086357\n",
              "190  2021-08-01  0.064850  0.796123  0.130710  0.138810"
            ]
          },
          "metadata": {},
          "execution_count": 43
        }
      ]
    },
    {
      "cell_type": "code",
      "metadata": {
        "id": "MNT_7rvTrVBe"
      },
      "source": [
        "#save as csv\n",
        "daily_score.to_csv('redditDailySentiment.csv', sep='\\t', index=None)"
      ],
      "execution_count": 44,
      "outputs": []
    },
    {
      "cell_type": "code",
      "metadata": {
        "id": "ptddTg4erjLI"
      },
      "source": [
        ""
      ],
      "execution_count": null,
      "outputs": []
    }
  ]
}