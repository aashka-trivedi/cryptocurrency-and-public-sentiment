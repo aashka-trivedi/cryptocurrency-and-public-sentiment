{
  "nbformat": 4,
  "nbformat_minor": 0,
  "metadata": {
    "colab": {
      "name": "RedditSentiment.ipynb",
      "provenance": []
    },
    "kernelspec": {
      "name": "python3",
      "display_name": "Python 3"
    },
    "language_info": {
      "name": "python"
    }
  },
  "cells": [
    {
      "cell_type": "markdown",
      "metadata": {
        "id": "1ZlMvqM-knV-"
      },
      "source": [
        "# Daily Sentiment Scores of Reddit Tweets"
      ]
    },
    {
      "cell_type": "code",
      "metadata": {
        "colab": {
          "base_uri": "https://localhost:8080/"
        },
        "id": "K9CSm5PYkhdG",
        "outputId": "d8ba91f2-a304-4ce9-99a2-4b447156767e"
      },
      "source": [
        "import pandas as pd\n",
        "import nltk\n",
        "nltk.download('vader_lexicon')\n",
        "from nltk.sentiment.vader import SentimentIntensityAnalyzer"
      ],
      "execution_count": 4,
      "outputs": [
        {
          "output_type": "stream",
          "name": "stdout",
          "text": [
            "[nltk_data] Downloading package vader_lexicon to /root/nltk_data...\n"
          ]
        },
        {
          "output_type": "stream",
          "name": "stderr",
          "text": [
            "/usr/local/lib/python3.7/dist-packages/nltk/twitter/__init__.py:20: UserWarning: The twython library has not been installed. Some functionality from the twitter package will not be available.\n",
            "  warnings.warn(\"The twython library has not been installed. \"\n"
          ]
        }
      ]
    },
    {
      "cell_type": "code",
      "metadata": {
        "id": "vsp0FgRBkyrv"
      },
      "source": [
        "reddit = pd.read_csv('redditData.csv', sep=',', index_col=None)"
      ],
      "execution_count": null,
      "outputs": []
    },
    {
      "cell_type": "code",
      "metadata": {
        "id": "PpPP5reCk3Kp"
      },
      "source": [
        "sid = SentimentIntensityAnalyzer()"
      ],
      "execution_count": null,
      "outputs": []
    },
    {
      "cell_type": "code",
      "metadata": {
        "colab": {
          "base_uri": "https://localhost:8080/"
        },
        "id": "1KUA0WF7k92l",
        "outputId": "917b3cc0-c462-4a93-e357-29e6a4c20e8d"
      },
      "source": [
        "sid.polarity_scores(reddit['body'][1])"
      ],
      "execution_count": null,
      "outputs": [
        {
          "output_type": "execute_result",
          "data": {
            "text/plain": [
              "{'compound': -0.872, 'neg': 0.163, 'neu': 0.715, 'pos': 0.122}"
            ]
          },
          "metadata": {},
          "execution_count": 6
        }
      ]
    },
    {
      "cell_type": "code",
      "metadata": {
        "colab": {
          "base_uri": "https://localhost:8080/",
          "height": 204
        },
        "id": "z45uoX_9lBrk",
        "outputId": "69a4bce8-5c3a-4119-802e-5083ba66df9e"
      },
      "source": [
        "reddit['sentiment'] = reddit['body'].apply(sid.polarity_scores)\n",
        "reddit.head()"
      ],
      "execution_count": null,
      "outputs": [
        {
          "output_type": "execute_result",
          "data": {
            "text/html": [
              "<div>\n",
              "<style scoped>\n",
              "    .dataframe tbody tr th:only-of-type {\n",
              "        vertical-align: middle;\n",
              "    }\n",
              "\n",
              "    .dataframe tbody tr th {\n",
              "        vertical-align: top;\n",
              "    }\n",
              "\n",
              "    .dataframe thead th {\n",
              "        text-align: right;\n",
              "    }\n",
              "</style>\n",
              "<table border=\"1\" class=\"dataframe\">\n",
              "  <thead>\n",
              "    <tr style=\"text-align: right;\">\n",
              "      <th></th>\n",
              "      <th>Date</th>\n",
              "      <th>body</th>\n",
              "      <th>sentiment</th>\n",
              "    </tr>\n",
              "  </thead>\n",
              "  <tbody>\n",
              "    <tr>\n",
              "      <th>0</th>\n",
              "      <td>2021-02-12 14:23:46</td>\n",
              "      <td>Bitcoin is the profits</td>\n",
              "      <td>{'neg': 0.0, 'neu': 0.508, 'pos': 0.492, 'comp...</td>\n",
              "    </tr>\n",
              "    <tr>\n",
              "      <th>1</th>\n",
              "      <td>2021-02-12 14:23:43</td>\n",
              "      <td>Frankly, I welcome it. Right now, I don't see ...</td>\n",
              "      <td>{'neg': 0.163, 'neu': 0.715, 'pos': 0.122, 'co...</td>\n",
              "    </tr>\n",
              "    <tr>\n",
              "      <th>2</th>\n",
              "      <td>2021-02-12 14:23:41</td>\n",
              "      <td>Depends on what you are after.  \\nStorage of w...</td>\n",
              "      <td>{'neg': 0.05, 'neu': 0.796, 'pos': 0.154, 'com...</td>\n",
              "    </tr>\n",
              "    <tr>\n",
              "      <th>3</th>\n",
              "      <td>2021-02-12 14:23:36</td>\n",
              "      <td>SALVATORE GANACCI 😁</td>\n",
              "      <td>{'neg': 0.0, 'neu': 1.0, 'pos': 0.0, 'compound...</td>\n",
              "    </tr>\n",
              "    <tr>\n",
              "      <th>4</th>\n",
              "      <td>2021-02-12 14:23:29</td>\n",
              "      <td>Fuck Paul. He's a damaged twit.\\nI guess you a...</td>\n",
              "      <td>{'neg': 0.39, 'neu': 0.61, 'pos': 0.0, 'compou...</td>\n",
              "    </tr>\n",
              "  </tbody>\n",
              "</table>\n",
              "</div>"
            ],
            "text/plain": [
              "                  Date  ...                                          sentiment\n",
              "0  2021-02-12 14:23:46  ...  {'neg': 0.0, 'neu': 0.508, 'pos': 0.492, 'comp...\n",
              "1  2021-02-12 14:23:43  ...  {'neg': 0.163, 'neu': 0.715, 'pos': 0.122, 'co...\n",
              "2  2021-02-12 14:23:41  ...  {'neg': 0.05, 'neu': 0.796, 'pos': 0.154, 'com...\n",
              "3  2021-02-12 14:23:36  ...  {'neg': 0.0, 'neu': 1.0, 'pos': 0.0, 'compound...\n",
              "4  2021-02-12 14:23:29  ...  {'neg': 0.39, 'neu': 0.61, 'pos': 0.0, 'compou...\n",
              "\n",
              "[5 rows x 3 columns]"
            ]
          },
          "metadata": {},
          "execution_count": 9
        }
      ]
    },
    {
      "cell_type": "code",
      "metadata": {
        "id": "ny_fa6-7l4fO"
      },
      "source": [
        "sentiments = reddit['sentiment'].apply(pd.Series)"
      ],
      "execution_count": null,
      "outputs": []
    },
    {
      "cell_type": "code",
      "metadata": {
        "colab": {
          "base_uri": "https://localhost:8080/",
          "height": 204
        },
        "id": "jqFOZtZXma2m",
        "outputId": "6585553b-46fd-4204-9667-88fd91f0accb"
      },
      "source": [
        "reddit = pd.concat([reddit,sentiments], axis=1)\n",
        "reddit.head()"
      ],
      "execution_count": null,
      "outputs": [
        {
          "output_type": "execute_result",
          "data": {
            "text/html": [
              "<div>\n",
              "<style scoped>\n",
              "    .dataframe tbody tr th:only-of-type {\n",
              "        vertical-align: middle;\n",
              "    }\n",
              "\n",
              "    .dataframe tbody tr th {\n",
              "        vertical-align: top;\n",
              "    }\n",
              "\n",
              "    .dataframe thead th {\n",
              "        text-align: right;\n",
              "    }\n",
              "</style>\n",
              "<table border=\"1\" class=\"dataframe\">\n",
              "  <thead>\n",
              "    <tr style=\"text-align: right;\">\n",
              "      <th></th>\n",
              "      <th>Date</th>\n",
              "      <th>body</th>\n",
              "      <th>sentiment</th>\n",
              "      <th>neg</th>\n",
              "      <th>neu</th>\n",
              "      <th>pos</th>\n",
              "      <th>compound</th>\n",
              "    </tr>\n",
              "  </thead>\n",
              "  <tbody>\n",
              "    <tr>\n",
              "      <th>0</th>\n",
              "      <td>2021-02-12 14:23:46</td>\n",
              "      <td>Bitcoin is the profits</td>\n",
              "      <td>{'neg': 0.0, 'neu': 0.508, 'pos': 0.492, 'comp...</td>\n",
              "      <td>0.000</td>\n",
              "      <td>0.508</td>\n",
              "      <td>0.492</td>\n",
              "      <td>0.4404</td>\n",
              "    </tr>\n",
              "    <tr>\n",
              "      <th>1</th>\n",
              "      <td>2021-02-12 14:23:43</td>\n",
              "      <td>Frankly, I welcome it. Right now, I don't see ...</td>\n",
              "      <td>{'neg': 0.163, 'neu': 0.715, 'pos': 0.122, 'co...</td>\n",
              "      <td>0.163</td>\n",
              "      <td>0.715</td>\n",
              "      <td>0.122</td>\n",
              "      <td>-0.8720</td>\n",
              "    </tr>\n",
              "    <tr>\n",
              "      <th>2</th>\n",
              "      <td>2021-02-12 14:23:41</td>\n",
              "      <td>Depends on what you are after.  \\nStorage of w...</td>\n",
              "      <td>{'neg': 0.05, 'neu': 0.796, 'pos': 0.154, 'com...</td>\n",
              "      <td>0.050</td>\n",
              "      <td>0.796</td>\n",
              "      <td>0.154</td>\n",
              "      <td>0.9788</td>\n",
              "    </tr>\n",
              "    <tr>\n",
              "      <th>3</th>\n",
              "      <td>2021-02-12 14:23:36</td>\n",
              "      <td>SALVATORE GANACCI 😁</td>\n",
              "      <td>{'neg': 0.0, 'neu': 1.0, 'pos': 0.0, 'compound...</td>\n",
              "      <td>0.000</td>\n",
              "      <td>1.000</td>\n",
              "      <td>0.000</td>\n",
              "      <td>0.0000</td>\n",
              "    </tr>\n",
              "    <tr>\n",
              "      <th>4</th>\n",
              "      <td>2021-02-12 14:23:29</td>\n",
              "      <td>Fuck Paul. He's a damaged twit.\\nI guess you a...</td>\n",
              "      <td>{'neg': 0.39, 'neu': 0.61, 'pos': 0.0, 'compou...</td>\n",
              "      <td>0.390</td>\n",
              "      <td>0.610</td>\n",
              "      <td>0.000</td>\n",
              "      <td>-0.7506</td>\n",
              "    </tr>\n",
              "  </tbody>\n",
              "</table>\n",
              "</div>"
            ],
            "text/plain": [
              "                  Date  ... compound\n",
              "0  2021-02-12 14:23:46  ...   0.4404\n",
              "1  2021-02-12 14:23:43  ...  -0.8720\n",
              "2  2021-02-12 14:23:41  ...   0.9788\n",
              "3  2021-02-12 14:23:36  ...   0.0000\n",
              "4  2021-02-12 14:23:29  ...  -0.7506\n",
              "\n",
              "[5 rows x 7 columns]"
            ]
          },
          "metadata": {},
          "execution_count": 19
        }
      ]
    },
    {
      "cell_type": "code",
      "metadata": {
        "id": "xhTM6aJSnVZK"
      },
      "source": [
        "#save as csv\n",
        "reddit.to_csv('redditSentiment.csv', sep='\\t', index=None)"
      ],
      "execution_count": null,
      "outputs": []
    },
    {
      "cell_type": "markdown",
      "metadata": {
        "id": "QvaRubuqKCIg"
      },
      "source": [
        "## Get August Data"
      ]
    },
    {
      "cell_type": "code",
      "metadata": {
        "colab": {
          "base_uri": "https://localhost:8080/"
        },
        "id": "l-374KxTKFXl",
        "outputId": "14eeea6c-3d30-4f79-8de7-b42cfe9dcdd5"
      },
      "source": [
        "import pandas as pd\n",
        "import nltk\n",
        "nltk.download('vader_lexicon')\n",
        "from nltk.sentiment.vader import SentimentIntensityAnalyzer"
      ],
      "execution_count": 7,
      "outputs": [
        {
          "output_type": "stream",
          "name": "stdout",
          "text": [
            "[nltk_data] Downloading package vader_lexicon to /root/nltk_data...\n",
            "[nltk_data]   Package vader_lexicon is already up-to-date!\n"
          ]
        }
      ]
    },
    {
      "cell_type": "code",
      "metadata": {
        "id": "Pjkg109EKFaQ"
      },
      "source": [
        "reddit_sentiment = pd.read_csv('redditSentiment.csv', sep='\\t', index_col=None)"
      ],
      "execution_count": 8,
      "outputs": []
    },
    {
      "cell_type": "code",
      "metadata": {
        "colab": {
          "base_uri": "https://localhost:8080/",
          "height": 206
        },
        "id": "RV2u-lJwKFko",
        "outputId": "1069216c-7df4-426e-f904-c3c2da721d07"
      },
      "source": [
        "reddit_aug = pd.read_csv('reddit_dataset_AUG.csv', sep=',', index_col=None)\n",
        "reddit_aug.tail()"
      ],
      "execution_count": 9,
      "outputs": [
        {
          "output_type": "execute_result",
          "data": {
            "text/html": [
              "<div>\n",
              "<style scoped>\n",
              "    .dataframe tbody tr th:only-of-type {\n",
              "        vertical-align: middle;\n",
              "    }\n",
              "\n",
              "    .dataframe tbody tr th {\n",
              "        vertical-align: top;\n",
              "    }\n",
              "\n",
              "    .dataframe thead th {\n",
              "        text-align: right;\n",
              "    }\n",
              "</style>\n",
              "<table border=\"1\" class=\"dataframe\">\n",
              "  <thead>\n",
              "    <tr style=\"text-align: right;\">\n",
              "      <th></th>\n",
              "      <th>Date</th>\n",
              "      <th>body</th>\n",
              "    </tr>\n",
              "  </thead>\n",
              "  <tbody>\n",
              "    <tr>\n",
              "      <th>99996</th>\n",
              "      <td>2021-08-22 01:25:01</td>\n",
              "      <td>It’s an ascending triangle. Bullish yes but on...</td>\n",
              "    </tr>\n",
              "    <tr>\n",
              "      <th>99997</th>\n",
              "      <td>2021-08-22 01:24:52</td>\n",
              "      <td>Here here</td>\n",
              "    </tr>\n",
              "    <tr>\n",
              "      <th>99998</th>\n",
              "      <td>2021-08-22 01:24:28</td>\n",
              "      <td>What if you travel to El Salvador and never co...</td>\n",
              "    </tr>\n",
              "    <tr>\n",
              "      <th>99999</th>\n",
              "      <td>2021-08-22 01:24:27</td>\n",
              "      <td>Those urban areas are most likely cess pools i...</td>\n",
              "    </tr>\n",
              "    <tr>\n",
              "      <th>100000</th>\n",
              "      <td>2021-08-22 01:24:27</td>\n",
              "      <td>Use Kraken, it’s a good brokerage for buying l...</td>\n",
              "    </tr>\n",
              "  </tbody>\n",
              "</table>\n",
              "</div>"
            ],
            "text/plain": [
              "                       Date                                               body\n",
              "99996   2021-08-22 01:25:01  It’s an ascending triangle. Bullish yes but on...\n",
              "99997   2021-08-22 01:24:52                                          Here here\n",
              "99998   2021-08-22 01:24:28  What if you travel to El Salvador and never co...\n",
              "99999   2021-08-22 01:24:27  Those urban areas are most likely cess pools i...\n",
              "100000  2021-08-22 01:24:27  Use Kraken, it’s a good brokerage for buying l..."
            ]
          },
          "metadata": {},
          "execution_count": 9
        }
      ]
    },
    {
      "cell_type": "code",
      "metadata": {
        "id": "L_C3TxGKKTct"
      },
      "source": [
        "sid = SentimentIntensityAnalyzer()"
      ],
      "execution_count": 10,
      "outputs": []
    },
    {
      "cell_type": "code",
      "metadata": {
        "id": "6df8L68BKqq4"
      },
      "source": [
        "reddit_aug['body'] = str(reddit_aug['body'])"
      ],
      "execution_count": 12,
      "outputs": []
    },
    {
      "cell_type": "code",
      "metadata": {
        "colab": {
          "base_uri": "https://localhost:8080/",
          "height": 206
        },
        "id": "SgRA267gKTfC",
        "outputId": "b21838f0-a0e4-4025-fba5-fce688e22a1e"
      },
      "source": [
        "reddit_aug['sentiment'] = reddit_aug['body'].apply(sid.polarity_scores)\n",
        "reddit_aug.head()"
      ],
      "execution_count": 13,
      "outputs": [
        {
          "output_type": "execute_result",
          "data": {
            "text/html": [
              "<div>\n",
              "<style scoped>\n",
              "    .dataframe tbody tr th:only-of-type {\n",
              "        vertical-align: middle;\n",
              "    }\n",
              "\n",
              "    .dataframe tbody tr th {\n",
              "        vertical-align: top;\n",
              "    }\n",
              "\n",
              "    .dataframe thead th {\n",
              "        text-align: right;\n",
              "    }\n",
              "</style>\n",
              "<table border=\"1\" class=\"dataframe\">\n",
              "  <thead>\n",
              "    <tr style=\"text-align: right;\">\n",
              "      <th></th>\n",
              "      <th>Date</th>\n",
              "      <th>body</th>\n",
              "      <th>sentiment</th>\n",
              "    </tr>\n",
              "  </thead>\n",
              "  <tbody>\n",
              "    <tr>\n",
              "      <th>0</th>\n",
              "      <td>2021-08-10 03:59:19</td>\n",
              "      <td>0         If it's that valuable why would you ...</td>\n",
              "      <td>{'neg': 0.019, 'neu': 0.862, 'pos': 0.119, 'co...</td>\n",
              "    </tr>\n",
              "    <tr>\n",
              "      <th>1</th>\n",
              "      <td>2021-08-10 03:58:53</td>\n",
              "      <td>0         If it's that valuable why would you ...</td>\n",
              "      <td>{'neg': 0.019, 'neu': 0.862, 'pos': 0.119, 'co...</td>\n",
              "    </tr>\n",
              "    <tr>\n",
              "      <th>2</th>\n",
              "      <td>2021-08-10 03:58:42</td>\n",
              "      <td>0         If it's that valuable why would you ...</td>\n",
              "      <td>{'neg': 0.019, 'neu': 0.862, 'pos': 0.119, 'co...</td>\n",
              "    </tr>\n",
              "    <tr>\n",
              "      <th>3</th>\n",
              "      <td>2021-08-10 03:58:36</td>\n",
              "      <td>0         If it's that valuable why would you ...</td>\n",
              "      <td>{'neg': 0.019, 'neu': 0.862, 'pos': 0.119, 'co...</td>\n",
              "    </tr>\n",
              "    <tr>\n",
              "      <th>4</th>\n",
              "      <td>2021-08-10 03:57:35</td>\n",
              "      <td>0         If it's that valuable why would you ...</td>\n",
              "      <td>{'neg': 0.019, 'neu': 0.862, 'pos': 0.119, 'co...</td>\n",
              "    </tr>\n",
              "  </tbody>\n",
              "</table>\n",
              "</div>"
            ],
            "text/plain": [
              "                  Date  ...                                          sentiment\n",
              "0  2021-08-10 03:59:19  ...  {'neg': 0.019, 'neu': 0.862, 'pos': 0.119, 'co...\n",
              "1  2021-08-10 03:58:53  ...  {'neg': 0.019, 'neu': 0.862, 'pos': 0.119, 'co...\n",
              "2  2021-08-10 03:58:42  ...  {'neg': 0.019, 'neu': 0.862, 'pos': 0.119, 'co...\n",
              "3  2021-08-10 03:58:36  ...  {'neg': 0.019, 'neu': 0.862, 'pos': 0.119, 'co...\n",
              "4  2021-08-10 03:57:35  ...  {'neg': 0.019, 'neu': 0.862, 'pos': 0.119, 'co...\n",
              "\n",
              "[5 rows x 3 columns]"
            ]
          },
          "metadata": {},
          "execution_count": 13
        }
      ]
    },
    {
      "cell_type": "code",
      "metadata": {
        "id": "WKwa-Oq7KThT"
      },
      "source": [
        "sentiments = reddit_aug['sentiment'].apply(pd.Series)"
      ],
      "execution_count": 14,
      "outputs": []
    },
    {
      "cell_type": "code",
      "metadata": {
        "colab": {
          "base_uri": "https://localhost:8080/",
          "height": 206
        },
        "id": "86BBM-xoKTji",
        "outputId": "169da17d-24a4-4003-ebb7-4a7064641b3b"
      },
      "source": [
        "reddit_aug = pd.concat([reddit_aug,sentiments], axis=1)\n",
        "reddit_aug.head()"
      ],
      "execution_count": 15,
      "outputs": [
        {
          "output_type": "execute_result",
          "data": {
            "text/html": [
              "<div>\n",
              "<style scoped>\n",
              "    .dataframe tbody tr th:only-of-type {\n",
              "        vertical-align: middle;\n",
              "    }\n",
              "\n",
              "    .dataframe tbody tr th {\n",
              "        vertical-align: top;\n",
              "    }\n",
              "\n",
              "    .dataframe thead th {\n",
              "        text-align: right;\n",
              "    }\n",
              "</style>\n",
              "<table border=\"1\" class=\"dataframe\">\n",
              "  <thead>\n",
              "    <tr style=\"text-align: right;\">\n",
              "      <th></th>\n",
              "      <th>Date</th>\n",
              "      <th>body</th>\n",
              "      <th>sentiment</th>\n",
              "      <th>neg</th>\n",
              "      <th>neu</th>\n",
              "      <th>pos</th>\n",
              "      <th>compound</th>\n",
              "    </tr>\n",
              "  </thead>\n",
              "  <tbody>\n",
              "    <tr>\n",
              "      <th>0</th>\n",
              "      <td>2021-08-10 03:59:19</td>\n",
              "      <td>0         If it's that valuable why would you ...</td>\n",
              "      <td>{'neg': 0.019, 'neu': 0.862, 'pos': 0.119, 'co...</td>\n",
              "      <td>0.019</td>\n",
              "      <td>0.862</td>\n",
              "      <td>0.119</td>\n",
              "      <td>0.7579</td>\n",
              "    </tr>\n",
              "    <tr>\n",
              "      <th>1</th>\n",
              "      <td>2021-08-10 03:58:53</td>\n",
              "      <td>0         If it's that valuable why would you ...</td>\n",
              "      <td>{'neg': 0.019, 'neu': 0.862, 'pos': 0.119, 'co...</td>\n",
              "      <td>0.019</td>\n",
              "      <td>0.862</td>\n",
              "      <td>0.119</td>\n",
              "      <td>0.7579</td>\n",
              "    </tr>\n",
              "    <tr>\n",
              "      <th>2</th>\n",
              "      <td>2021-08-10 03:58:42</td>\n",
              "      <td>0         If it's that valuable why would you ...</td>\n",
              "      <td>{'neg': 0.019, 'neu': 0.862, 'pos': 0.119, 'co...</td>\n",
              "      <td>0.019</td>\n",
              "      <td>0.862</td>\n",
              "      <td>0.119</td>\n",
              "      <td>0.7579</td>\n",
              "    </tr>\n",
              "    <tr>\n",
              "      <th>3</th>\n",
              "      <td>2021-08-10 03:58:36</td>\n",
              "      <td>0         If it's that valuable why would you ...</td>\n",
              "      <td>{'neg': 0.019, 'neu': 0.862, 'pos': 0.119, 'co...</td>\n",
              "      <td>0.019</td>\n",
              "      <td>0.862</td>\n",
              "      <td>0.119</td>\n",
              "      <td>0.7579</td>\n",
              "    </tr>\n",
              "    <tr>\n",
              "      <th>4</th>\n",
              "      <td>2021-08-10 03:57:35</td>\n",
              "      <td>0         If it's that valuable why would you ...</td>\n",
              "      <td>{'neg': 0.019, 'neu': 0.862, 'pos': 0.119, 'co...</td>\n",
              "      <td>0.019</td>\n",
              "      <td>0.862</td>\n",
              "      <td>0.119</td>\n",
              "      <td>0.7579</td>\n",
              "    </tr>\n",
              "  </tbody>\n",
              "</table>\n",
              "</div>"
            ],
            "text/plain": [
              "                  Date  ... compound\n",
              "0  2021-08-10 03:59:19  ...   0.7579\n",
              "1  2021-08-10 03:58:53  ...   0.7579\n",
              "2  2021-08-10 03:58:42  ...   0.7579\n",
              "3  2021-08-10 03:58:36  ...   0.7579\n",
              "4  2021-08-10 03:57:35  ...   0.7579\n",
              "\n",
              "[5 rows x 7 columns]"
            ]
          },
          "metadata": {},
          "execution_count": 15
        }
      ]
    },
    {
      "cell_type": "code",
      "metadata": {
        "colab": {
          "base_uri": "https://localhost:8080/",
          "height": 206
        },
        "id": "Q2sVCpIMLe1Y",
        "outputId": "8cf2f50f-25dc-40c2-da19-601d08e7af1f"
      },
      "source": [
        "reddit_aug.tail()"
      ],
      "execution_count": 17,
      "outputs": [
        {
          "output_type": "execute_result",
          "data": {
            "text/html": [
              "<div>\n",
              "<style scoped>\n",
              "    .dataframe tbody tr th:only-of-type {\n",
              "        vertical-align: middle;\n",
              "    }\n",
              "\n",
              "    .dataframe tbody tr th {\n",
              "        vertical-align: top;\n",
              "    }\n",
              "\n",
              "    .dataframe thead th {\n",
              "        text-align: right;\n",
              "    }\n",
              "</style>\n",
              "<table border=\"1\" class=\"dataframe\">\n",
              "  <thead>\n",
              "    <tr style=\"text-align: right;\">\n",
              "      <th></th>\n",
              "      <th>Date</th>\n",
              "      <th>body</th>\n",
              "      <th>sentiment</th>\n",
              "      <th>neg</th>\n",
              "      <th>neu</th>\n",
              "      <th>pos</th>\n",
              "      <th>compound</th>\n",
              "    </tr>\n",
              "  </thead>\n",
              "  <tbody>\n",
              "    <tr>\n",
              "      <th>99996</th>\n",
              "      <td>2021-08-22 01:25:01</td>\n",
              "      <td>0         If it's that valuable why would you ...</td>\n",
              "      <td>{'neg': 0.019, 'neu': 0.862, 'pos': 0.119, 'co...</td>\n",
              "      <td>0.019</td>\n",
              "      <td>0.862</td>\n",
              "      <td>0.119</td>\n",
              "      <td>0.7579</td>\n",
              "    </tr>\n",
              "    <tr>\n",
              "      <th>99997</th>\n",
              "      <td>2021-08-22 01:24:52</td>\n",
              "      <td>0         If it's that valuable why would you ...</td>\n",
              "      <td>{'neg': 0.019, 'neu': 0.862, 'pos': 0.119, 'co...</td>\n",
              "      <td>0.019</td>\n",
              "      <td>0.862</td>\n",
              "      <td>0.119</td>\n",
              "      <td>0.7579</td>\n",
              "    </tr>\n",
              "    <tr>\n",
              "      <th>99998</th>\n",
              "      <td>2021-08-22 01:24:28</td>\n",
              "      <td>0         If it's that valuable why would you ...</td>\n",
              "      <td>{'neg': 0.019, 'neu': 0.862, 'pos': 0.119, 'co...</td>\n",
              "      <td>0.019</td>\n",
              "      <td>0.862</td>\n",
              "      <td>0.119</td>\n",
              "      <td>0.7579</td>\n",
              "    </tr>\n",
              "    <tr>\n",
              "      <th>99999</th>\n",
              "      <td>2021-08-22 01:24:27</td>\n",
              "      <td>0         If it's that valuable why would you ...</td>\n",
              "      <td>{'neg': 0.019, 'neu': 0.862, 'pos': 0.119, 'co...</td>\n",
              "      <td>0.019</td>\n",
              "      <td>0.862</td>\n",
              "      <td>0.119</td>\n",
              "      <td>0.7579</td>\n",
              "    </tr>\n",
              "    <tr>\n",
              "      <th>100000</th>\n",
              "      <td>2021-08-22 01:24:27</td>\n",
              "      <td>0         If it's that valuable why would you ...</td>\n",
              "      <td>{'neg': 0.019, 'neu': 0.862, 'pos': 0.119, 'co...</td>\n",
              "      <td>0.019</td>\n",
              "      <td>0.862</td>\n",
              "      <td>0.119</td>\n",
              "      <td>0.7579</td>\n",
              "    </tr>\n",
              "  </tbody>\n",
              "</table>\n",
              "</div>"
            ],
            "text/plain": [
              "                       Date  ... compound\n",
              "99996   2021-08-22 01:25:01  ...   0.7579\n",
              "99997   2021-08-22 01:24:52  ...   0.7579\n",
              "99998   2021-08-22 01:24:28  ...   0.7579\n",
              "99999   2021-08-22 01:24:27  ...   0.7579\n",
              "100000  2021-08-22 01:24:27  ...   0.7579\n",
              "\n",
              "[5 rows x 7 columns]"
            ]
          },
          "metadata": {},
          "execution_count": 17
        }
      ]
    },
    {
      "cell_type": "code",
      "metadata": {
        "colab": {
          "base_uri": "https://localhost:8080/",
          "height": 206
        },
        "id": "9e1bSX0-K2cg",
        "outputId": "1abab0c9-6fb1-41f7-8286-993aed56c6d7"
      },
      "source": [
        "full_reddit = pd.concat([reddit,reddit_aug], axis=0)\n",
        "full_reddit.tail()"
      ],
      "execution_count": 16,
      "outputs": [
        {
          "output_type": "execute_result",
          "data": {
            "text/html": [
              "<div>\n",
              "<style scoped>\n",
              "    .dataframe tbody tr th:only-of-type {\n",
              "        vertical-align: middle;\n",
              "    }\n",
              "\n",
              "    .dataframe tbody tr th {\n",
              "        vertical-align: top;\n",
              "    }\n",
              "\n",
              "    .dataframe thead th {\n",
              "        text-align: right;\n",
              "    }\n",
              "</style>\n",
              "<table border=\"1\" class=\"dataframe\">\n",
              "  <thead>\n",
              "    <tr style=\"text-align: right;\">\n",
              "      <th></th>\n",
              "      <th>Date</th>\n",
              "      <th>body</th>\n",
              "      <th>sentiment</th>\n",
              "      <th>neg</th>\n",
              "      <th>neu</th>\n",
              "      <th>pos</th>\n",
              "      <th>compound</th>\n",
              "    </tr>\n",
              "  </thead>\n",
              "  <tbody>\n",
              "    <tr>\n",
              "      <th>99996</th>\n",
              "      <td>2021-08-22 01:25:01</td>\n",
              "      <td>0         If it's that valuable why would you ...</td>\n",
              "      <td>{'neg': 0.019, 'neu': 0.862, 'pos': 0.119, 'co...</td>\n",
              "      <td>0.019</td>\n",
              "      <td>0.862</td>\n",
              "      <td>0.119</td>\n",
              "      <td>0.7579</td>\n",
              "    </tr>\n",
              "    <tr>\n",
              "      <th>99997</th>\n",
              "      <td>2021-08-22 01:24:52</td>\n",
              "      <td>0         If it's that valuable why would you ...</td>\n",
              "      <td>{'neg': 0.019, 'neu': 0.862, 'pos': 0.119, 'co...</td>\n",
              "      <td>0.019</td>\n",
              "      <td>0.862</td>\n",
              "      <td>0.119</td>\n",
              "      <td>0.7579</td>\n",
              "    </tr>\n",
              "    <tr>\n",
              "      <th>99998</th>\n",
              "      <td>2021-08-22 01:24:28</td>\n",
              "      <td>0         If it's that valuable why would you ...</td>\n",
              "      <td>{'neg': 0.019, 'neu': 0.862, 'pos': 0.119, 'co...</td>\n",
              "      <td>0.019</td>\n",
              "      <td>0.862</td>\n",
              "      <td>0.119</td>\n",
              "      <td>0.7579</td>\n",
              "    </tr>\n",
              "    <tr>\n",
              "      <th>99999</th>\n",
              "      <td>2021-08-22 01:24:27</td>\n",
              "      <td>0         If it's that valuable why would you ...</td>\n",
              "      <td>{'neg': 0.019, 'neu': 0.862, 'pos': 0.119, 'co...</td>\n",
              "      <td>0.019</td>\n",
              "      <td>0.862</td>\n",
              "      <td>0.119</td>\n",
              "      <td>0.7579</td>\n",
              "    </tr>\n",
              "    <tr>\n",
              "      <th>100000</th>\n",
              "      <td>2021-08-22 01:24:27</td>\n",
              "      <td>0         If it's that valuable why would you ...</td>\n",
              "      <td>{'neg': 0.019, 'neu': 0.862, 'pos': 0.119, 'co...</td>\n",
              "      <td>0.019</td>\n",
              "      <td>0.862</td>\n",
              "      <td>0.119</td>\n",
              "      <td>0.7579</td>\n",
              "    </tr>\n",
              "  </tbody>\n",
              "</table>\n",
              "</div>"
            ],
            "text/plain": [
              "                       Date  ... compound\n",
              "99996   2021-08-22 01:25:01  ...   0.7579\n",
              "99997   2021-08-22 01:24:52  ...   0.7579\n",
              "99998   2021-08-22 01:24:28  ...   0.7579\n",
              "99999   2021-08-22 01:24:27  ...   0.7579\n",
              "100000  2021-08-22 01:24:27  ...   0.7579\n",
              "\n",
              "[5 rows x 7 columns]"
            ]
          },
          "metadata": {},
          "execution_count": 16
        }
      ]
    },
    {
      "cell_type": "code",
      "metadata": {
        "id": "eFCJprZ8K2hA"
      },
      "source": [
        "#save as csv\n",
        "full_reddit.to_csv('redditSentiment.csv', sep='\\t', index=None)"
      ],
      "execution_count": 18,
      "outputs": []
    },
    {
      "cell_type": "markdown",
      "metadata": {
        "id": "TgRFTDo2pf97"
      },
      "source": [
        "## Daily sentiment score"
      ]
    },
    {
      "cell_type": "code",
      "metadata": {
        "id": "pg5mFSdWqg_b"
      },
      "source": [
        "def getDate(series):\n",
        "  return series.split(' ')[0]"
      ],
      "execution_count": null,
      "outputs": []
    },
    {
      "cell_type": "code",
      "metadata": {
        "id": "YOLEHUmVrDag"
      },
      "source": [
        "reddit['Day'] = reddit['Date'].apply(getDate)"
      ],
      "execution_count": null,
      "outputs": []
    },
    {
      "cell_type": "code",
      "metadata": {
        "id": "KncLPPJRrKSS"
      },
      "source": [
        "#Getting average score\n",
        "daily_score = reddit.groupby(by=['Day'],as_index=False).mean()"
      ],
      "execution_count": null,
      "outputs": []
    },
    {
      "cell_type": "code",
      "metadata": {
        "colab": {
          "base_uri": "https://localhost:8080/",
          "height": 204
        },
        "id": "1Yto18gCrTlo",
        "outputId": "a02b198d-e837-43e0-9d5f-1aaea1e108d6"
      },
      "source": [
        "daily_score.tail()"
      ],
      "execution_count": null,
      "outputs": [
        {
          "output_type": "execute_result",
          "data": {
            "text/html": [
              "<div>\n",
              "<style scoped>\n",
              "    .dataframe tbody tr th:only-of-type {\n",
              "        vertical-align: middle;\n",
              "    }\n",
              "\n",
              "    .dataframe tbody tr th {\n",
              "        vertical-align: top;\n",
              "    }\n",
              "\n",
              "    .dataframe thead th {\n",
              "        text-align: right;\n",
              "    }\n",
              "</style>\n",
              "<table border=\"1\" class=\"dataframe\">\n",
              "  <thead>\n",
              "    <tr style=\"text-align: right;\">\n",
              "      <th></th>\n",
              "      <th>Day</th>\n",
              "      <th>neg</th>\n",
              "      <th>neu</th>\n",
              "      <th>pos</th>\n",
              "      <th>compound</th>\n",
              "    </tr>\n",
              "  </thead>\n",
              "  <tbody>\n",
              "    <tr>\n",
              "      <th>186</th>\n",
              "      <td>2021-07-28</td>\n",
              "      <td>0.078570</td>\n",
              "      <td>0.799123</td>\n",
              "      <td>0.118990</td>\n",
              "      <td>0.067936</td>\n",
              "    </tr>\n",
              "    <tr>\n",
              "      <th>187</th>\n",
              "      <td>2021-07-29</td>\n",
              "      <td>0.062790</td>\n",
              "      <td>0.869973</td>\n",
              "      <td>0.067253</td>\n",
              "      <td>0.054193</td>\n",
              "    </tr>\n",
              "    <tr>\n",
              "      <th>188</th>\n",
              "      <td>2021-07-30</td>\n",
              "      <td>0.071823</td>\n",
              "      <td>0.805740</td>\n",
              "      <td>0.122450</td>\n",
              "      <td>0.094655</td>\n",
              "    </tr>\n",
              "    <tr>\n",
              "      <th>189</th>\n",
              "      <td>2021-07-31</td>\n",
              "      <td>0.083880</td>\n",
              "      <td>0.775040</td>\n",
              "      <td>0.141130</td>\n",
              "      <td>0.086357</td>\n",
              "    </tr>\n",
              "    <tr>\n",
              "      <th>190</th>\n",
              "      <td>2021-08-01</td>\n",
              "      <td>0.064850</td>\n",
              "      <td>0.796123</td>\n",
              "      <td>0.130710</td>\n",
              "      <td>0.138810</td>\n",
              "    </tr>\n",
              "  </tbody>\n",
              "</table>\n",
              "</div>"
            ],
            "text/plain": [
              "            Day       neg       neu       pos  compound\n",
              "186  2021-07-28  0.078570  0.799123  0.118990  0.067936\n",
              "187  2021-07-29  0.062790  0.869973  0.067253  0.054193\n",
              "188  2021-07-30  0.071823  0.805740  0.122450  0.094655\n",
              "189  2021-07-31  0.083880  0.775040  0.141130  0.086357\n",
              "190  2021-08-01  0.064850  0.796123  0.130710  0.138810"
            ]
          },
          "metadata": {},
          "execution_count": 43
        }
      ]
    },
    {
      "cell_type": "code",
      "metadata": {
        "id": "MNT_7rvTrVBe"
      },
      "source": [
        "#save as csv\n",
        "daily_score.to_csv('redditDailySentiment.csv', sep='\\t', index=None)"
      ],
      "execution_count": null,
      "outputs": []
    },
    {
      "cell_type": "markdown",
      "metadata": {
        "id": "9tK_sfPzk_4O"
      },
      "source": [
        "## Hourly Sentiment Score"
      ]
    },
    {
      "cell_type": "code",
      "metadata": {
        "id": "ptddTg4erjLI"
      },
      "source": [
        "import pandas as pd"
      ],
      "execution_count": 19,
      "outputs": []
    },
    {
      "cell_type": "code",
      "metadata": {
        "id": "ypQtbSxhlD0L"
      },
      "source": [
        "def getHour(series):\n",
        "  hour= series.split(':')[0]\n",
        "  hour = hour +':00:00'\n",
        "  return hour"
      ],
      "execution_count": 20,
      "outputs": []
    },
    {
      "cell_type": "code",
      "metadata": {
        "id": "rDejEKM4Jnlj"
      },
      "source": [
        "reddit = pd.read_csv('redditSentiment.csv', sep='\\t', index_col=None)"
      ],
      "execution_count": 21,
      "outputs": []
    },
    {
      "cell_type": "code",
      "metadata": {
        "colab": {
          "base_uri": "https://localhost:8080/",
          "height": 206
        },
        "id": "skAifrCSlPXk",
        "outputId": "e8a836e9-d386-4bea-cdd3-a18c65ea7bc0"
      },
      "source": [
        "reddit.head()"
      ],
      "execution_count": 22,
      "outputs": [
        {
          "output_type": "execute_result",
          "data": {
            "text/html": [
              "<div>\n",
              "<style scoped>\n",
              "    .dataframe tbody tr th:only-of-type {\n",
              "        vertical-align: middle;\n",
              "    }\n",
              "\n",
              "    .dataframe tbody tr th {\n",
              "        vertical-align: top;\n",
              "    }\n",
              "\n",
              "    .dataframe thead th {\n",
              "        text-align: right;\n",
              "    }\n",
              "</style>\n",
              "<table border=\"1\" class=\"dataframe\">\n",
              "  <thead>\n",
              "    <tr style=\"text-align: right;\">\n",
              "      <th></th>\n",
              "      <th>Date</th>\n",
              "      <th>body</th>\n",
              "      <th>sentiment</th>\n",
              "      <th>neg</th>\n",
              "      <th>neu</th>\n",
              "      <th>pos</th>\n",
              "      <th>compound</th>\n",
              "    </tr>\n",
              "  </thead>\n",
              "  <tbody>\n",
              "    <tr>\n",
              "      <th>0</th>\n",
              "      <td>2021-02-12 14:23:46</td>\n",
              "      <td>Bitcoin is the profits</td>\n",
              "      <td>{'neg': 0.0, 'neu': 0.508, 'pos': 0.492, 'comp...</td>\n",
              "      <td>0.000</td>\n",
              "      <td>0.508</td>\n",
              "      <td>0.492</td>\n",
              "      <td>0.4404</td>\n",
              "    </tr>\n",
              "    <tr>\n",
              "      <th>1</th>\n",
              "      <td>2021-02-12 14:23:43</td>\n",
              "      <td>Frankly, I welcome it. Right now, I don't see ...</td>\n",
              "      <td>{'neg': 0.163, 'neu': 0.715, 'pos': 0.122, 'co...</td>\n",
              "      <td>0.163</td>\n",
              "      <td>0.715</td>\n",
              "      <td>0.122</td>\n",
              "      <td>-0.8720</td>\n",
              "    </tr>\n",
              "    <tr>\n",
              "      <th>2</th>\n",
              "      <td>2021-02-12 14:23:41</td>\n",
              "      <td>Depends on what you are after.  \\nStorage of w...</td>\n",
              "      <td>{'neg': 0.05, 'neu': 0.796, 'pos': 0.154, 'com...</td>\n",
              "      <td>0.050</td>\n",
              "      <td>0.796</td>\n",
              "      <td>0.154</td>\n",
              "      <td>0.9788</td>\n",
              "    </tr>\n",
              "    <tr>\n",
              "      <th>3</th>\n",
              "      <td>2021-02-12 14:23:36</td>\n",
              "      <td>SALVATORE GANACCI 😁</td>\n",
              "      <td>{'neg': 0.0, 'neu': 1.0, 'pos': 0.0, 'compound...</td>\n",
              "      <td>0.000</td>\n",
              "      <td>1.000</td>\n",
              "      <td>0.000</td>\n",
              "      <td>0.0000</td>\n",
              "    </tr>\n",
              "    <tr>\n",
              "      <th>4</th>\n",
              "      <td>2021-02-12 14:23:29</td>\n",
              "      <td>Fuck Paul. He's a damaged twit.\\nI guess you a...</td>\n",
              "      <td>{'neg': 0.39, 'neu': 0.61, 'pos': 0.0, 'compou...</td>\n",
              "      <td>0.390</td>\n",
              "      <td>0.610</td>\n",
              "      <td>0.000</td>\n",
              "      <td>-0.7506</td>\n",
              "    </tr>\n",
              "  </tbody>\n",
              "</table>\n",
              "</div>"
            ],
            "text/plain": [
              "                  Date  ... compound\n",
              "0  2021-02-12 14:23:46  ...   0.4404\n",
              "1  2021-02-12 14:23:43  ...  -0.8720\n",
              "2  2021-02-12 14:23:41  ...   0.9788\n",
              "3  2021-02-12 14:23:36  ...   0.0000\n",
              "4  2021-02-12 14:23:29  ...  -0.7506\n",
              "\n",
              "[5 rows x 7 columns]"
            ]
          },
          "metadata": {},
          "execution_count": 22
        }
      ]
    },
    {
      "cell_type": "code",
      "metadata": {
        "colab": {
          "base_uri": "https://localhost:8080/",
          "height": 206
        },
        "id": "J_L3EWUYLm0N",
        "outputId": "f6831854-1d0c-42db-9946-9c3139dc280f"
      },
      "source": [
        "reddit.tail()"
      ],
      "execution_count": 23,
      "outputs": [
        {
          "output_type": "execute_result",
          "data": {
            "text/html": [
              "<div>\n",
              "<style scoped>\n",
              "    .dataframe tbody tr th:only-of-type {\n",
              "        vertical-align: middle;\n",
              "    }\n",
              "\n",
              "    .dataframe tbody tr th {\n",
              "        vertical-align: top;\n",
              "    }\n",
              "\n",
              "    .dataframe thead th {\n",
              "        text-align: right;\n",
              "    }\n",
              "</style>\n",
              "<table border=\"1\" class=\"dataframe\">\n",
              "  <thead>\n",
              "    <tr style=\"text-align: right;\">\n",
              "      <th></th>\n",
              "      <th>Date</th>\n",
              "      <th>body</th>\n",
              "      <th>sentiment</th>\n",
              "      <th>neg</th>\n",
              "      <th>neu</th>\n",
              "      <th>pos</th>\n",
              "      <th>compound</th>\n",
              "    </tr>\n",
              "  </thead>\n",
              "  <tbody>\n",
              "    <tr>\n",
              "      <th>199996</th>\n",
              "      <td>2021-08-22 01:25:01</td>\n",
              "      <td>0         If it's that valuable why would you ...</td>\n",
              "      <td>{'neg': 0.019, 'neu': 0.862, 'pos': 0.119, 'co...</td>\n",
              "      <td>0.019</td>\n",
              "      <td>0.862</td>\n",
              "      <td>0.119</td>\n",
              "      <td>0.7579</td>\n",
              "    </tr>\n",
              "    <tr>\n",
              "      <th>199997</th>\n",
              "      <td>2021-08-22 01:24:52</td>\n",
              "      <td>0         If it's that valuable why would you ...</td>\n",
              "      <td>{'neg': 0.019, 'neu': 0.862, 'pos': 0.119, 'co...</td>\n",
              "      <td>0.019</td>\n",
              "      <td>0.862</td>\n",
              "      <td>0.119</td>\n",
              "      <td>0.7579</td>\n",
              "    </tr>\n",
              "    <tr>\n",
              "      <th>199998</th>\n",
              "      <td>2021-08-22 01:24:28</td>\n",
              "      <td>0         If it's that valuable why would you ...</td>\n",
              "      <td>{'neg': 0.019, 'neu': 0.862, 'pos': 0.119, 'co...</td>\n",
              "      <td>0.019</td>\n",
              "      <td>0.862</td>\n",
              "      <td>0.119</td>\n",
              "      <td>0.7579</td>\n",
              "    </tr>\n",
              "    <tr>\n",
              "      <th>199999</th>\n",
              "      <td>2021-08-22 01:24:27</td>\n",
              "      <td>0         If it's that valuable why would you ...</td>\n",
              "      <td>{'neg': 0.019, 'neu': 0.862, 'pos': 0.119, 'co...</td>\n",
              "      <td>0.019</td>\n",
              "      <td>0.862</td>\n",
              "      <td>0.119</td>\n",
              "      <td>0.7579</td>\n",
              "    </tr>\n",
              "    <tr>\n",
              "      <th>200000</th>\n",
              "      <td>2021-08-22 01:24:27</td>\n",
              "      <td>0         If it's that valuable why would you ...</td>\n",
              "      <td>{'neg': 0.019, 'neu': 0.862, 'pos': 0.119, 'co...</td>\n",
              "      <td>0.019</td>\n",
              "      <td>0.862</td>\n",
              "      <td>0.119</td>\n",
              "      <td>0.7579</td>\n",
              "    </tr>\n",
              "  </tbody>\n",
              "</table>\n",
              "</div>"
            ],
            "text/plain": [
              "                       Date  ... compound\n",
              "199996  2021-08-22 01:25:01  ...   0.7579\n",
              "199997  2021-08-22 01:24:52  ...   0.7579\n",
              "199998  2021-08-22 01:24:28  ...   0.7579\n",
              "199999  2021-08-22 01:24:27  ...   0.7579\n",
              "200000  2021-08-22 01:24:27  ...   0.7579\n",
              "\n",
              "[5 rows x 7 columns]"
            ]
          },
          "metadata": {},
          "execution_count": 23
        }
      ]
    },
    {
      "cell_type": "code",
      "metadata": {
        "id": "8dxvZi_ilT1i"
      },
      "source": [
        "reddit['Hour'] = reddit['Date'].apply(getHour)"
      ],
      "execution_count": 24,
      "outputs": []
    },
    {
      "cell_type": "code",
      "metadata": {
        "colab": {
          "base_uri": "https://localhost:8080/",
          "height": 206
        },
        "id": "KqfrB_AFlXH8",
        "outputId": "75afd650-7b3e-40c3-e35a-b31d02c06669"
      },
      "source": [
        "reddit.head()"
      ],
      "execution_count": 25,
      "outputs": [
        {
          "output_type": "execute_result",
          "data": {
            "text/html": [
              "<div>\n",
              "<style scoped>\n",
              "    .dataframe tbody tr th:only-of-type {\n",
              "        vertical-align: middle;\n",
              "    }\n",
              "\n",
              "    .dataframe tbody tr th {\n",
              "        vertical-align: top;\n",
              "    }\n",
              "\n",
              "    .dataframe thead th {\n",
              "        text-align: right;\n",
              "    }\n",
              "</style>\n",
              "<table border=\"1\" class=\"dataframe\">\n",
              "  <thead>\n",
              "    <tr style=\"text-align: right;\">\n",
              "      <th></th>\n",
              "      <th>Date</th>\n",
              "      <th>body</th>\n",
              "      <th>sentiment</th>\n",
              "      <th>neg</th>\n",
              "      <th>neu</th>\n",
              "      <th>pos</th>\n",
              "      <th>compound</th>\n",
              "      <th>Hour</th>\n",
              "    </tr>\n",
              "  </thead>\n",
              "  <tbody>\n",
              "    <tr>\n",
              "      <th>0</th>\n",
              "      <td>2021-02-12 14:23:46</td>\n",
              "      <td>Bitcoin is the profits</td>\n",
              "      <td>{'neg': 0.0, 'neu': 0.508, 'pos': 0.492, 'comp...</td>\n",
              "      <td>0.000</td>\n",
              "      <td>0.508</td>\n",
              "      <td>0.492</td>\n",
              "      <td>0.4404</td>\n",
              "      <td>2021-02-12 14:00:00</td>\n",
              "    </tr>\n",
              "    <tr>\n",
              "      <th>1</th>\n",
              "      <td>2021-02-12 14:23:43</td>\n",
              "      <td>Frankly, I welcome it. Right now, I don't see ...</td>\n",
              "      <td>{'neg': 0.163, 'neu': 0.715, 'pos': 0.122, 'co...</td>\n",
              "      <td>0.163</td>\n",
              "      <td>0.715</td>\n",
              "      <td>0.122</td>\n",
              "      <td>-0.8720</td>\n",
              "      <td>2021-02-12 14:00:00</td>\n",
              "    </tr>\n",
              "    <tr>\n",
              "      <th>2</th>\n",
              "      <td>2021-02-12 14:23:41</td>\n",
              "      <td>Depends on what you are after.  \\nStorage of w...</td>\n",
              "      <td>{'neg': 0.05, 'neu': 0.796, 'pos': 0.154, 'com...</td>\n",
              "      <td>0.050</td>\n",
              "      <td>0.796</td>\n",
              "      <td>0.154</td>\n",
              "      <td>0.9788</td>\n",
              "      <td>2021-02-12 14:00:00</td>\n",
              "    </tr>\n",
              "    <tr>\n",
              "      <th>3</th>\n",
              "      <td>2021-02-12 14:23:36</td>\n",
              "      <td>SALVATORE GANACCI 😁</td>\n",
              "      <td>{'neg': 0.0, 'neu': 1.0, 'pos': 0.0, 'compound...</td>\n",
              "      <td>0.000</td>\n",
              "      <td>1.000</td>\n",
              "      <td>0.000</td>\n",
              "      <td>0.0000</td>\n",
              "      <td>2021-02-12 14:00:00</td>\n",
              "    </tr>\n",
              "    <tr>\n",
              "      <th>4</th>\n",
              "      <td>2021-02-12 14:23:29</td>\n",
              "      <td>Fuck Paul. He's a damaged twit.\\nI guess you a...</td>\n",
              "      <td>{'neg': 0.39, 'neu': 0.61, 'pos': 0.0, 'compou...</td>\n",
              "      <td>0.390</td>\n",
              "      <td>0.610</td>\n",
              "      <td>0.000</td>\n",
              "      <td>-0.7506</td>\n",
              "      <td>2021-02-12 14:00:00</td>\n",
              "    </tr>\n",
              "  </tbody>\n",
              "</table>\n",
              "</div>"
            ],
            "text/plain": [
              "                  Date  ...                 Hour\n",
              "0  2021-02-12 14:23:46  ...  2021-02-12 14:00:00\n",
              "1  2021-02-12 14:23:43  ...  2021-02-12 14:00:00\n",
              "2  2021-02-12 14:23:41  ...  2021-02-12 14:00:00\n",
              "3  2021-02-12 14:23:36  ...  2021-02-12 14:00:00\n",
              "4  2021-02-12 14:23:29  ...  2021-02-12 14:00:00\n",
              "\n",
              "[5 rows x 8 columns]"
            ]
          },
          "metadata": {},
          "execution_count": 25
        }
      ]
    },
    {
      "cell_type": "code",
      "metadata": {
        "colab": {
          "base_uri": "https://localhost:8080/",
          "height": 206
        },
        "id": "NGGaHFZJlYdF",
        "outputId": "c104ddb8-e9a2-465b-b0f4-19cfea66bde2"
      },
      "source": [
        "#Getting average score\n",
        "hourly_score = reddit.groupby(by=['Hour'],as_index=False).mean()\n",
        "hourly_score.head()"
      ],
      "execution_count": 26,
      "outputs": [
        {
          "output_type": "execute_result",
          "data": {
            "text/html": [
              "<div>\n",
              "<style scoped>\n",
              "    .dataframe tbody tr th:only-of-type {\n",
              "        vertical-align: middle;\n",
              "    }\n",
              "\n",
              "    .dataframe tbody tr th {\n",
              "        vertical-align: top;\n",
              "    }\n",
              "\n",
              "    .dataframe thead th {\n",
              "        text-align: right;\n",
              "    }\n",
              "</style>\n",
              "<table border=\"1\" class=\"dataframe\">\n",
              "  <thead>\n",
              "    <tr style=\"text-align: right;\">\n",
              "      <th></th>\n",
              "      <th>Hour</th>\n",
              "      <th>neg</th>\n",
              "      <th>neu</th>\n",
              "      <th>pos</th>\n",
              "      <th>compound</th>\n",
              "    </tr>\n",
              "  </thead>\n",
              "  <tbody>\n",
              "    <tr>\n",
              "      <th>0</th>\n",
              "      <td>2021-01-01 12:00:00</td>\n",
              "      <td>0.042100</td>\n",
              "      <td>0.788730</td>\n",
              "      <td>0.159170</td>\n",
              "      <td>0.249644</td>\n",
              "    </tr>\n",
              "    <tr>\n",
              "      <th>1</th>\n",
              "      <td>2021-01-01 20:00:00</td>\n",
              "      <td>0.057535</td>\n",
              "      <td>0.763265</td>\n",
              "      <td>0.179185</td>\n",
              "      <td>0.232856</td>\n",
              "    </tr>\n",
              "    <tr>\n",
              "      <th>2</th>\n",
              "      <td>2021-01-02 04:00:00</td>\n",
              "      <td>0.070860</td>\n",
              "      <td>0.805880</td>\n",
              "      <td>0.113310</td>\n",
              "      <td>0.087468</td>\n",
              "    </tr>\n",
              "    <tr>\n",
              "      <th>3</th>\n",
              "      <td>2021-01-02 11:00:00</td>\n",
              "      <td>0.059394</td>\n",
              "      <td>0.755424</td>\n",
              "      <td>0.154909</td>\n",
              "      <td>0.265852</td>\n",
              "    </tr>\n",
              "    <tr>\n",
              "      <th>4</th>\n",
              "      <td>2021-01-02 12:00:00</td>\n",
              "      <td>0.047412</td>\n",
              "      <td>0.823184</td>\n",
              "      <td>0.121910</td>\n",
              "      <td>0.135536</td>\n",
              "    </tr>\n",
              "  </tbody>\n",
              "</table>\n",
              "</div>"
            ],
            "text/plain": [
              "                  Hour       neg       neu       pos  compound\n",
              "0  2021-01-01 12:00:00  0.042100  0.788730  0.159170  0.249644\n",
              "1  2021-01-01 20:00:00  0.057535  0.763265  0.179185  0.232856\n",
              "2  2021-01-02 04:00:00  0.070860  0.805880  0.113310  0.087468\n",
              "3  2021-01-02 11:00:00  0.059394  0.755424  0.154909  0.265852\n",
              "4  2021-01-02 12:00:00  0.047412  0.823184  0.121910  0.135536"
            ]
          },
          "metadata": {},
          "execution_count": 26
        }
      ]
    },
    {
      "cell_type": "code",
      "metadata": {
        "colab": {
          "base_uri": "https://localhost:8080/",
          "height": 206
        },
        "id": "r2bdYb7xlg8m",
        "outputId": "577e78ad-1f2e-411b-c815-9e2190ac8ecc"
      },
      "source": [
        "hourly_score.tail()"
      ],
      "execution_count": 27,
      "outputs": [
        {
          "output_type": "execute_result",
          "data": {
            "text/html": [
              "<div>\n",
              "<style scoped>\n",
              "    .dataframe tbody tr th:only-of-type {\n",
              "        vertical-align: middle;\n",
              "    }\n",
              "\n",
              "    .dataframe tbody tr th {\n",
              "        vertical-align: top;\n",
              "    }\n",
              "\n",
              "    .dataframe thead th {\n",
              "        text-align: right;\n",
              "    }\n",
              "</style>\n",
              "<table border=\"1\" class=\"dataframe\">\n",
              "  <thead>\n",
              "    <tr style=\"text-align: right;\">\n",
              "      <th></th>\n",
              "      <th>Hour</th>\n",
              "      <th>neg</th>\n",
              "      <th>neu</th>\n",
              "      <th>pos</th>\n",
              "      <th>compound</th>\n",
              "    </tr>\n",
              "  </thead>\n",
              "  <tbody>\n",
              "    <tr>\n",
              "      <th>1548</th>\n",
              "      <td>2021-08-31 00:00:00</td>\n",
              "      <td>0.019</td>\n",
              "      <td>0.862</td>\n",
              "      <td>0.119</td>\n",
              "      <td>0.7579</td>\n",
              "    </tr>\n",
              "    <tr>\n",
              "      <th>1549</th>\n",
              "      <td>2021-08-31 01:00:00</td>\n",
              "      <td>0.019</td>\n",
              "      <td>0.862</td>\n",
              "      <td>0.119</td>\n",
              "      <td>0.7579</td>\n",
              "    </tr>\n",
              "    <tr>\n",
              "      <th>1550</th>\n",
              "      <td>2021-08-31 02:00:00</td>\n",
              "      <td>0.019</td>\n",
              "      <td>0.862</td>\n",
              "      <td>0.119</td>\n",
              "      <td>0.7579</td>\n",
              "    </tr>\n",
              "    <tr>\n",
              "      <th>1551</th>\n",
              "      <td>2021-08-31 03:00:00</td>\n",
              "      <td>0.019</td>\n",
              "      <td>0.862</td>\n",
              "      <td>0.119</td>\n",
              "      <td>0.7579</td>\n",
              "    </tr>\n",
              "    <tr>\n",
              "      <th>1552</th>\n",
              "      <td>Was driving around Omaha and saw this billboar...</td>\n",
              "      <td>0.019</td>\n",
              "      <td>0.862</td>\n",
              "      <td>0.119</td>\n",
              "      <td>0.7579</td>\n",
              "    </tr>\n",
              "  </tbody>\n",
              "</table>\n",
              "</div>"
            ],
            "text/plain": [
              "                                                   Hour    neg  ...    pos  compound\n",
              "1548                                2021-08-31 00:00:00  0.019  ...  0.119    0.7579\n",
              "1549                                2021-08-31 01:00:00  0.019  ...  0.119    0.7579\n",
              "1550                                2021-08-31 02:00:00  0.019  ...  0.119    0.7579\n",
              "1551                                2021-08-31 03:00:00  0.019  ...  0.119    0.7579\n",
              "1552  Was driving around Omaha and saw this billboar...  0.019  ...  0.119    0.7579\n",
              "\n",
              "[5 rows x 5 columns]"
            ]
          },
          "metadata": {},
          "execution_count": 27
        }
      ]
    },
    {
      "cell_type": "code",
      "metadata": {
        "colab": {
          "base_uri": "https://localhost:8080/",
          "height": 206
        },
        "id": "mE_UMhpQLuv5",
        "outputId": "e407de86-eb28-4f4c-8600-629e8b9546ae"
      },
      "source": [
        "hourly_score = hourly_score.iloc[:-1,:]\n",
        "hourly_score.tail()"
      ],
      "execution_count": 28,
      "outputs": [
        {
          "output_type": "execute_result",
          "data": {
            "text/html": [
              "<div>\n",
              "<style scoped>\n",
              "    .dataframe tbody tr th:only-of-type {\n",
              "        vertical-align: middle;\n",
              "    }\n",
              "\n",
              "    .dataframe tbody tr th {\n",
              "        vertical-align: top;\n",
              "    }\n",
              "\n",
              "    .dataframe thead th {\n",
              "        text-align: right;\n",
              "    }\n",
              "</style>\n",
              "<table border=\"1\" class=\"dataframe\">\n",
              "  <thead>\n",
              "    <tr style=\"text-align: right;\">\n",
              "      <th></th>\n",
              "      <th>Hour</th>\n",
              "      <th>neg</th>\n",
              "      <th>neu</th>\n",
              "      <th>pos</th>\n",
              "      <th>compound</th>\n",
              "    </tr>\n",
              "  </thead>\n",
              "  <tbody>\n",
              "    <tr>\n",
              "      <th>1547</th>\n",
              "      <td>2021-08-30 23:00:00</td>\n",
              "      <td>0.019</td>\n",
              "      <td>0.862</td>\n",
              "      <td>0.119</td>\n",
              "      <td>0.7579</td>\n",
              "    </tr>\n",
              "    <tr>\n",
              "      <th>1548</th>\n",
              "      <td>2021-08-31 00:00:00</td>\n",
              "      <td>0.019</td>\n",
              "      <td>0.862</td>\n",
              "      <td>0.119</td>\n",
              "      <td>0.7579</td>\n",
              "    </tr>\n",
              "    <tr>\n",
              "      <th>1549</th>\n",
              "      <td>2021-08-31 01:00:00</td>\n",
              "      <td>0.019</td>\n",
              "      <td>0.862</td>\n",
              "      <td>0.119</td>\n",
              "      <td>0.7579</td>\n",
              "    </tr>\n",
              "    <tr>\n",
              "      <th>1550</th>\n",
              "      <td>2021-08-31 02:00:00</td>\n",
              "      <td>0.019</td>\n",
              "      <td>0.862</td>\n",
              "      <td>0.119</td>\n",
              "      <td>0.7579</td>\n",
              "    </tr>\n",
              "    <tr>\n",
              "      <th>1551</th>\n",
              "      <td>2021-08-31 03:00:00</td>\n",
              "      <td>0.019</td>\n",
              "      <td>0.862</td>\n",
              "      <td>0.119</td>\n",
              "      <td>0.7579</td>\n",
              "    </tr>\n",
              "  </tbody>\n",
              "</table>\n",
              "</div>"
            ],
            "text/plain": [
              "                     Hour    neg    neu    pos  compound\n",
              "1547  2021-08-30 23:00:00  0.019  0.862  0.119    0.7579\n",
              "1548  2021-08-31 00:00:00  0.019  0.862  0.119    0.7579\n",
              "1549  2021-08-31 01:00:00  0.019  0.862  0.119    0.7579\n",
              "1550  2021-08-31 02:00:00  0.019  0.862  0.119    0.7579\n",
              "1551  2021-08-31 03:00:00  0.019  0.862  0.119    0.7579"
            ]
          },
          "metadata": {},
          "execution_count": 28
        }
      ]
    },
    {
      "cell_type": "code",
      "metadata": {
        "id": "TvTvpcYYlmi8"
      },
      "source": [
        "#save as csv\n",
        "hourly_score.to_csv('redditHourlySentiment.csv', sep='\\t', index=None)"
      ],
      "execution_count": 29,
      "outputs": []
    },
    {
      "cell_type": "code",
      "metadata": {
        "id": "59nFEiSUlq_u"
      },
      "source": [
        ""
      ],
      "execution_count": null,
      "outputs": []
    }
  ]
}