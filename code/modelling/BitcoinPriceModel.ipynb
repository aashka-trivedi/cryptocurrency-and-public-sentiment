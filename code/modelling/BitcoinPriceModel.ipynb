{
  "nbformat": 4,
  "nbformat_minor": 0,
  "metadata": {
    "colab": {
      "name": "BitcoinPriceModel.ipynb",
      "provenance": []
    },
    "kernelspec": {
      "name": "python3",
      "display_name": "Python 3"
    },
    "language_info": {
      "name": "python"
    }
  },
  "cells": [
    {
      "cell_type": "markdown",
      "metadata": {
        "id": "dZ-VUxYVRI1k"
      },
      "source": [
        "# Predicting Change in Bitcoin Prices using Social Media Interest Measures\n",
        "\n",
        "Here, we train a classifier to use Daily twitter sentiment scores, daily reddit sentiment scores, and daily google trend scores to categorize the change in bitcoin prices into one of 5 categories: highly negative (-2), moderately negative (-1), no commendable change (0), moderately positive (1), highly negative (2)"
      ]
    },
    {
      "cell_type": "code",
      "metadata": {
        "id": "J8vrC959RFeG"
      },
      "source": [
        "import pandas as pd\n",
        "import matplotlib.pyplot as plt\n",
        "from sklearn.model_selection import train_test_split\n",
        "from sklearn.ensemble import RandomForestClassifier\n",
        "from sklearn import metrics \n",
        "from sklearn.svm import SVC\n",
        "from sklearn.tree import DecisionTreeClassifier"
      ],
      "execution_count": 58,
      "outputs": []
    },
    {
      "cell_type": "markdown",
      "metadata": {
        "id": "76QQ5v9CUCZU"
      },
      "source": [
        "## Prepare Data"
      ]
    },
    {
      "cell_type": "code",
      "metadata": {
        "id": "pSPLeCV7SwKq"
      },
      "source": [
        "#Import Data\n",
        "\n",
        "bitcoin = pd.read_csv('categorical_bitcoin_price.csv', sep='\\t', index_col=0)\n",
        "reddit = pd.read_csv('redditDailySentiment.csv', sep='\\t', index_col=None)\n",
        "trends= pd.read_csv('trends_daily_score.csv', sep='\\t', index_col=0)\n",
        "#twitter = READ TWITTER DATA"
      ],
      "execution_count": 8,
      "outputs": []
    },
    {
      "cell_type": "code",
      "metadata": {
        "colab": {
          "base_uri": "https://localhost:8080/",
          "height": 204
        },
        "id": "6E9G27__TM-8",
        "outputId": "9de05dfb-125a-4f37-e3e7-a8ea8a14f474"
      },
      "source": [
        "bitcoin.head()"
      ],
      "execution_count": 6,
      "outputs": [
        {
          "output_type": "execute_result",
          "data": {
            "text/html": [
              "<div>\n",
              "<style scoped>\n",
              "    .dataframe tbody tr th:only-of-type {\n",
              "        vertical-align: middle;\n",
              "    }\n",
              "\n",
              "    .dataframe tbody tr th {\n",
              "        vertical-align: top;\n",
              "    }\n",
              "\n",
              "    .dataframe thead th {\n",
              "        text-align: right;\n",
              "    }\n",
              "</style>\n",
              "<table border=\"1\" class=\"dataframe\">\n",
              "  <thead>\n",
              "    <tr style=\"text-align: right;\">\n",
              "      <th></th>\n",
              "      <th>Date</th>\n",
              "      <th>open</th>\n",
              "      <th>high</th>\n",
              "      <th>low</th>\n",
              "      <th>close</th>\n",
              "      <th>volume</th>\n",
              "      <th>Diff_Open</th>\n",
              "      <th>Diff_Category</th>\n",
              "    </tr>\n",
              "  </thead>\n",
              "  <tbody>\n",
              "    <tr>\n",
              "      <th>0</th>\n",
              "      <td>2021-01-01</td>\n",
              "      <td>28923.63</td>\n",
              "      <td>29600.00</td>\n",
              "      <td>28624.57</td>\n",
              "      <td>29331.69</td>\n",
              "      <td>54182.925011</td>\n",
              "      <td>NaN</td>\n",
              "      <td>0</td>\n",
              "    </tr>\n",
              "    <tr>\n",
              "      <th>1</th>\n",
              "      <td>2021-01-02</td>\n",
              "      <td>29331.70</td>\n",
              "      <td>33300.00</td>\n",
              "      <td>28946.53</td>\n",
              "      <td>32178.33</td>\n",
              "      <td>129993.873362</td>\n",
              "      <td>408.07</td>\n",
              "      <td>0</td>\n",
              "    </tr>\n",
              "    <tr>\n",
              "      <th>2</th>\n",
              "      <td>2021-01-03</td>\n",
              "      <td>32176.45</td>\n",
              "      <td>34778.11</td>\n",
              "      <td>31962.99</td>\n",
              "      <td>33000.05</td>\n",
              "      <td>120957.566750</td>\n",
              "      <td>2844.75</td>\n",
              "      <td>1</td>\n",
              "    </tr>\n",
              "    <tr>\n",
              "      <th>3</th>\n",
              "      <td>2021-01-04</td>\n",
              "      <td>33000.05</td>\n",
              "      <td>33600.00</td>\n",
              "      <td>28130.00</td>\n",
              "      <td>31988.71</td>\n",
              "      <td>140899.885690</td>\n",
              "      <td>823.60</td>\n",
              "      <td>1</td>\n",
              "    </tr>\n",
              "    <tr>\n",
              "      <th>4</th>\n",
              "      <td>2021-01-05</td>\n",
              "      <td>31989.75</td>\n",
              "      <td>34360.00</td>\n",
              "      <td>29900.00</td>\n",
              "      <td>33949.53</td>\n",
              "      <td>116049.997038</td>\n",
              "      <td>-1010.30</td>\n",
              "      <td>-1</td>\n",
              "    </tr>\n",
              "  </tbody>\n",
              "</table>\n",
              "</div>"
            ],
            "text/plain": [
              "         Date      open      high  ...         volume  Diff_Open  Diff_Category\n",
              "0  2021-01-01  28923.63  29600.00  ...   54182.925011        NaN              0\n",
              "1  2021-01-02  29331.70  33300.00  ...  129993.873362     408.07              0\n",
              "2  2021-01-03  32176.45  34778.11  ...  120957.566750    2844.75              1\n",
              "3  2021-01-04  33000.05  33600.00  ...  140899.885690     823.60              1\n",
              "4  2021-01-05  31989.75  34360.00  ...  116049.997038   -1010.30             -1\n",
              "\n",
              "[5 rows x 8 columns]"
            ]
          },
          "metadata": {},
          "execution_count": 6
        }
      ]
    },
    {
      "cell_type": "code",
      "metadata": {
        "colab": {
          "base_uri": "https://localhost:8080/",
          "height": 204
        },
        "id": "bCoKqWLCTO95",
        "outputId": "8fdc44df-4fe9-4c49-f8ad-217c338723dc"
      },
      "source": [
        "reddit.head()"
      ],
      "execution_count": 17,
      "outputs": [
        {
          "output_type": "execute_result",
          "data": {
            "text/html": [
              "<div>\n",
              "<style scoped>\n",
              "    .dataframe tbody tr th:only-of-type {\n",
              "        vertical-align: middle;\n",
              "    }\n",
              "\n",
              "    .dataframe tbody tr th {\n",
              "        vertical-align: top;\n",
              "    }\n",
              "\n",
              "    .dataframe thead th {\n",
              "        text-align: right;\n",
              "    }\n",
              "</style>\n",
              "<table border=\"1\" class=\"dataframe\">\n",
              "  <thead>\n",
              "    <tr style=\"text-align: right;\">\n",
              "      <th></th>\n",
              "      <th>Date</th>\n",
              "      <th>neg</th>\n",
              "      <th>neu</th>\n",
              "      <th>pos</th>\n",
              "      <th>compound</th>\n",
              "    </tr>\n",
              "  </thead>\n",
              "  <tbody>\n",
              "    <tr>\n",
              "      <th>0</th>\n",
              "      <td>2021-01-01</td>\n",
              "      <td>0.052390</td>\n",
              "      <td>0.771753</td>\n",
              "      <td>0.172513</td>\n",
              "      <td>0.238452</td>\n",
              "    </tr>\n",
              "    <tr>\n",
              "      <th>1</th>\n",
              "      <td>2021-01-02</td>\n",
              "      <td>0.057414</td>\n",
              "      <td>0.811156</td>\n",
              "      <td>0.121446</td>\n",
              "      <td>0.135624</td>\n",
              "    </tr>\n",
              "    <tr>\n",
              "      <th>2</th>\n",
              "      <td>2021-01-03</td>\n",
              "      <td>0.063241</td>\n",
              "      <td>0.783810</td>\n",
              "      <td>0.148659</td>\n",
              "      <td>0.152421</td>\n",
              "    </tr>\n",
              "    <tr>\n",
              "      <th>3</th>\n",
              "      <td>2021-01-04</td>\n",
              "      <td>0.061042</td>\n",
              "      <td>0.815152</td>\n",
              "      <td>0.121297</td>\n",
              "      <td>0.167221</td>\n",
              "    </tr>\n",
              "    <tr>\n",
              "      <th>4</th>\n",
              "      <td>2021-01-05</td>\n",
              "      <td>0.061790</td>\n",
              "      <td>0.801428</td>\n",
              "      <td>0.135118</td>\n",
              "      <td>0.147205</td>\n",
              "    </tr>\n",
              "  </tbody>\n",
              "</table>\n",
              "</div>"
            ],
            "text/plain": [
              "         Date       neg       neu       pos  compound\n",
              "0  2021-01-01  0.052390  0.771753  0.172513  0.238452\n",
              "1  2021-01-02  0.057414  0.811156  0.121446  0.135624\n",
              "2  2021-01-03  0.063241  0.783810  0.148659  0.152421\n",
              "3  2021-01-04  0.061042  0.815152  0.121297  0.167221\n",
              "4  2021-01-05  0.061790  0.801428  0.135118  0.147205"
            ]
          },
          "metadata": {},
          "execution_count": 17
        }
      ]
    },
    {
      "cell_type": "code",
      "metadata": {
        "colab": {
          "base_uri": "https://localhost:8080/",
          "height": 204
        },
        "id": "F9K9kWM9TPNW",
        "outputId": "db59eb4a-add5-497c-cb01-11be6603afcd"
      },
      "source": [
        "trends.head()"
      ],
      "execution_count": 16,
      "outputs": [
        {
          "output_type": "execute_result",
          "data": {
            "text/html": [
              "<div>\n",
              "<style scoped>\n",
              "    .dataframe tbody tr th:only-of-type {\n",
              "        vertical-align: middle;\n",
              "    }\n",
              "\n",
              "    .dataframe tbody tr th {\n",
              "        vertical-align: top;\n",
              "    }\n",
              "\n",
              "    .dataframe thead th {\n",
              "        text-align: right;\n",
              "    }\n",
              "</style>\n",
              "<table border=\"1\" class=\"dataframe\">\n",
              "  <thead>\n",
              "    <tr style=\"text-align: right;\">\n",
              "      <th></th>\n",
              "      <th>Date</th>\n",
              "      <th>avg_score</th>\n",
              "      <th>weighted_score</th>\n",
              "    </tr>\n",
              "  </thead>\n",
              "  <tbody>\n",
              "    <tr>\n",
              "      <th>0</th>\n",
              "      <td>2021-01-01</td>\n",
              "      <td>12.660625</td>\n",
              "      <td>14.447561</td>\n",
              "    </tr>\n",
              "    <tr>\n",
              "      <th>1</th>\n",
              "      <td>2021-01-02</td>\n",
              "      <td>34.144375</td>\n",
              "      <td>37.360744</td>\n",
              "    </tr>\n",
              "    <tr>\n",
              "      <th>2</th>\n",
              "      <td>2021-01-03</td>\n",
              "      <td>48.853125</td>\n",
              "      <td>53.128124</td>\n",
              "    </tr>\n",
              "    <tr>\n",
              "      <th>3</th>\n",
              "      <td>2021-01-04</td>\n",
              "      <td>32.544375</td>\n",
              "      <td>35.352064</td>\n",
              "    </tr>\n",
              "    <tr>\n",
              "      <th>4</th>\n",
              "      <td>2021-01-05</td>\n",
              "      <td>24.341250</td>\n",
              "      <td>26.472194</td>\n",
              "    </tr>\n",
              "  </tbody>\n",
              "</table>\n",
              "</div>"
            ],
            "text/plain": [
              "         Date  avg_score  weighted_score\n",
              "0  2021-01-01  12.660625       14.447561\n",
              "1  2021-01-02  34.144375       37.360744\n",
              "2  2021-01-03  48.853125       53.128124\n",
              "3  2021-01-04  32.544375       35.352064\n",
              "4  2021-01-05  24.341250       26.472194"
            ]
          },
          "metadata": {},
          "execution_count": 16
        }
      ]
    },
    {
      "cell_type": "code",
      "metadata": {
        "id": "2NdIVLzuTnsK"
      },
      "source": [
        "#Rename merging column (\"Date\")\n",
        "reddit = reddit.rename(columns={\"Day\": \"Date\"})\n",
        "trends = trends.rename(columns={\"date\": \"Date\"})"
      ],
      "execution_count": 15,
      "outputs": []
    },
    {
      "cell_type": "code",
      "metadata": {
        "colab": {
          "base_uri": "https://localhost:8080/",
          "height": 204
        },
        "id": "N6Ii8znJSkBV",
        "outputId": "c691b711-1619-4211-93e3-f8500f7a14ee"
      },
      "source": [
        "#Combine Data into dataframe\n",
        "\n",
        "data = pd.DataFrame()\n",
        "data[\"Date\"] = bitcoin[\"Date\"]\n",
        "data = data.merge(reddit, on='Date')\n",
        "data = data.merge(trends, on='Date')\n",
        "data = data.merge(bitcoin, on='Date')\n",
        "data.head()"
      ],
      "execution_count": 20,
      "outputs": [
        {
          "output_type": "execute_result",
          "data": {
            "text/html": [
              "<div>\n",
              "<style scoped>\n",
              "    .dataframe tbody tr th:only-of-type {\n",
              "        vertical-align: middle;\n",
              "    }\n",
              "\n",
              "    .dataframe tbody tr th {\n",
              "        vertical-align: top;\n",
              "    }\n",
              "\n",
              "    .dataframe thead th {\n",
              "        text-align: right;\n",
              "    }\n",
              "</style>\n",
              "<table border=\"1\" class=\"dataframe\">\n",
              "  <thead>\n",
              "    <tr style=\"text-align: right;\">\n",
              "      <th></th>\n",
              "      <th>Date</th>\n",
              "      <th>neg</th>\n",
              "      <th>neu</th>\n",
              "      <th>pos</th>\n",
              "      <th>compound</th>\n",
              "      <th>avg_score</th>\n",
              "      <th>weighted_score</th>\n",
              "      <th>open</th>\n",
              "      <th>high</th>\n",
              "      <th>low</th>\n",
              "      <th>close</th>\n",
              "      <th>volume</th>\n",
              "      <th>Diff_Open</th>\n",
              "      <th>Diff_Category</th>\n",
              "    </tr>\n",
              "  </thead>\n",
              "  <tbody>\n",
              "    <tr>\n",
              "      <th>0</th>\n",
              "      <td>2021-01-01</td>\n",
              "      <td>0.052390</td>\n",
              "      <td>0.771753</td>\n",
              "      <td>0.172513</td>\n",
              "      <td>0.238452</td>\n",
              "      <td>12.660625</td>\n",
              "      <td>14.447561</td>\n",
              "      <td>28923.63</td>\n",
              "      <td>29600.00</td>\n",
              "      <td>28624.57</td>\n",
              "      <td>29331.69</td>\n",
              "      <td>54182.925011</td>\n",
              "      <td>NaN</td>\n",
              "      <td>0</td>\n",
              "    </tr>\n",
              "    <tr>\n",
              "      <th>1</th>\n",
              "      <td>2021-01-02</td>\n",
              "      <td>0.057414</td>\n",
              "      <td>0.811156</td>\n",
              "      <td>0.121446</td>\n",
              "      <td>0.135624</td>\n",
              "      <td>34.144375</td>\n",
              "      <td>37.360744</td>\n",
              "      <td>29331.70</td>\n",
              "      <td>33300.00</td>\n",
              "      <td>28946.53</td>\n",
              "      <td>32178.33</td>\n",
              "      <td>129993.873362</td>\n",
              "      <td>408.07</td>\n",
              "      <td>0</td>\n",
              "    </tr>\n",
              "    <tr>\n",
              "      <th>2</th>\n",
              "      <td>2021-01-03</td>\n",
              "      <td>0.063241</td>\n",
              "      <td>0.783810</td>\n",
              "      <td>0.148659</td>\n",
              "      <td>0.152421</td>\n",
              "      <td>48.853125</td>\n",
              "      <td>53.128124</td>\n",
              "      <td>32176.45</td>\n",
              "      <td>34778.11</td>\n",
              "      <td>31962.99</td>\n",
              "      <td>33000.05</td>\n",
              "      <td>120957.566750</td>\n",
              "      <td>2844.75</td>\n",
              "      <td>1</td>\n",
              "    </tr>\n",
              "    <tr>\n",
              "      <th>3</th>\n",
              "      <td>2021-01-04</td>\n",
              "      <td>0.061042</td>\n",
              "      <td>0.815152</td>\n",
              "      <td>0.121297</td>\n",
              "      <td>0.167221</td>\n",
              "      <td>32.544375</td>\n",
              "      <td>35.352064</td>\n",
              "      <td>33000.05</td>\n",
              "      <td>33600.00</td>\n",
              "      <td>28130.00</td>\n",
              "      <td>31988.71</td>\n",
              "      <td>140899.885690</td>\n",
              "      <td>823.60</td>\n",
              "      <td>1</td>\n",
              "    </tr>\n",
              "    <tr>\n",
              "      <th>4</th>\n",
              "      <td>2021-01-05</td>\n",
              "      <td>0.061790</td>\n",
              "      <td>0.801428</td>\n",
              "      <td>0.135118</td>\n",
              "      <td>0.147205</td>\n",
              "      <td>24.341250</td>\n",
              "      <td>26.472194</td>\n",
              "      <td>31989.75</td>\n",
              "      <td>34360.00</td>\n",
              "      <td>29900.00</td>\n",
              "      <td>33949.53</td>\n",
              "      <td>116049.997038</td>\n",
              "      <td>-1010.30</td>\n",
              "      <td>-1</td>\n",
              "    </tr>\n",
              "  </tbody>\n",
              "</table>\n",
              "</div>"
            ],
            "text/plain": [
              "         Date       neg       neu  ...         volume  Diff_Open  Diff_Category\n",
              "0  2021-01-01  0.052390  0.771753  ...   54182.925011        NaN              0\n",
              "1  2021-01-02  0.057414  0.811156  ...  129993.873362     408.07              0\n",
              "2  2021-01-03  0.063241  0.783810  ...  120957.566750    2844.75              1\n",
              "3  2021-01-04  0.061042  0.815152  ...  140899.885690     823.60              1\n",
              "4  2021-01-05  0.061790  0.801428  ...  116049.997038   -1010.30             -1\n",
              "\n",
              "[5 rows x 14 columns]"
            ]
          },
          "metadata": {},
          "execution_count": 20
        }
      ]
    },
    {
      "cell_type": "code",
      "metadata": {
        "colab": {
          "base_uri": "https://localhost:8080/",
          "height": 204
        },
        "id": "WBFMXQPNVeGt",
        "outputId": "60cd553e-29dc-446d-a07c-6896b9d8fb35"
      },
      "source": [
        "#Rename columns, drop unnecessary columns\n",
        "data = data.drop(['weighted_score', 'high', 'low','close','volume'],axis=1)\n",
        "data = data.rename(columns={'neg':'neg_reddit', 'neu':'neu_reddit','pos':'pos_reddit','compound':'compound_reddit','avg_score':'avg_trend','Diff_Open':'diff_open','Diff_Category':'label'})\n",
        "data.head()"
      ],
      "execution_count": 22,
      "outputs": [
        {
          "output_type": "execute_result",
          "data": {
            "text/html": [
              "<div>\n",
              "<style scoped>\n",
              "    .dataframe tbody tr th:only-of-type {\n",
              "        vertical-align: middle;\n",
              "    }\n",
              "\n",
              "    .dataframe tbody tr th {\n",
              "        vertical-align: top;\n",
              "    }\n",
              "\n",
              "    .dataframe thead th {\n",
              "        text-align: right;\n",
              "    }\n",
              "</style>\n",
              "<table border=\"1\" class=\"dataframe\">\n",
              "  <thead>\n",
              "    <tr style=\"text-align: right;\">\n",
              "      <th></th>\n",
              "      <th>Date</th>\n",
              "      <th>neg_reddit</th>\n",
              "      <th>neu_reddit</th>\n",
              "      <th>pos_reddit</th>\n",
              "      <th>compound_reddit</th>\n",
              "      <th>avg_trend</th>\n",
              "      <th>open</th>\n",
              "      <th>diff_open</th>\n",
              "      <th>label</th>\n",
              "    </tr>\n",
              "  </thead>\n",
              "  <tbody>\n",
              "    <tr>\n",
              "      <th>0</th>\n",
              "      <td>2021-01-01</td>\n",
              "      <td>0.052390</td>\n",
              "      <td>0.771753</td>\n",
              "      <td>0.172513</td>\n",
              "      <td>0.238452</td>\n",
              "      <td>12.660625</td>\n",
              "      <td>28923.63</td>\n",
              "      <td>NaN</td>\n",
              "      <td>0</td>\n",
              "    </tr>\n",
              "    <tr>\n",
              "      <th>1</th>\n",
              "      <td>2021-01-02</td>\n",
              "      <td>0.057414</td>\n",
              "      <td>0.811156</td>\n",
              "      <td>0.121446</td>\n",
              "      <td>0.135624</td>\n",
              "      <td>34.144375</td>\n",
              "      <td>29331.70</td>\n",
              "      <td>408.07</td>\n",
              "      <td>0</td>\n",
              "    </tr>\n",
              "    <tr>\n",
              "      <th>2</th>\n",
              "      <td>2021-01-03</td>\n",
              "      <td>0.063241</td>\n",
              "      <td>0.783810</td>\n",
              "      <td>0.148659</td>\n",
              "      <td>0.152421</td>\n",
              "      <td>48.853125</td>\n",
              "      <td>32176.45</td>\n",
              "      <td>2844.75</td>\n",
              "      <td>1</td>\n",
              "    </tr>\n",
              "    <tr>\n",
              "      <th>3</th>\n",
              "      <td>2021-01-04</td>\n",
              "      <td>0.061042</td>\n",
              "      <td>0.815152</td>\n",
              "      <td>0.121297</td>\n",
              "      <td>0.167221</td>\n",
              "      <td>32.544375</td>\n",
              "      <td>33000.05</td>\n",
              "      <td>823.60</td>\n",
              "      <td>1</td>\n",
              "    </tr>\n",
              "    <tr>\n",
              "      <th>4</th>\n",
              "      <td>2021-01-05</td>\n",
              "      <td>0.061790</td>\n",
              "      <td>0.801428</td>\n",
              "      <td>0.135118</td>\n",
              "      <td>0.147205</td>\n",
              "      <td>24.341250</td>\n",
              "      <td>31989.75</td>\n",
              "      <td>-1010.30</td>\n",
              "      <td>-1</td>\n",
              "    </tr>\n",
              "  </tbody>\n",
              "</table>\n",
              "</div>"
            ],
            "text/plain": [
              "         Date  neg_reddit  neu_reddit  ...      open  diff_open  label\n",
              "0  2021-01-01    0.052390    0.771753  ...  28923.63        NaN      0\n",
              "1  2021-01-02    0.057414    0.811156  ...  29331.70     408.07      0\n",
              "2  2021-01-03    0.063241    0.783810  ...  32176.45    2844.75      1\n",
              "3  2021-01-04    0.061042    0.815152  ...  33000.05     823.60      1\n",
              "4  2021-01-05    0.061790    0.801428  ...  31989.75   -1010.30     -1\n",
              "\n",
              "[5 rows x 9 columns]"
            ]
          },
          "metadata": {},
          "execution_count": 22
        }
      ]
    },
    {
      "cell_type": "code",
      "metadata": {
        "colab": {
          "base_uri": "https://localhost:8080/"
        },
        "id": "3Lu_4PUmWXLo",
        "outputId": "530f5656-0fac-4448-e667-2ae9f109da0d"
      },
      "source": [
        "data['label'].value_counts()"
      ],
      "execution_count": 26,
      "outputs": [
        {
          "output_type": "execute_result",
          "data": {
            "text/plain": [
              " 1    69\n",
              "-1    68\n",
              " 0    42\n",
              " 2     8\n",
              "-2     4\n",
              "Name: label, dtype: int64"
            ]
          },
          "metadata": {},
          "execution_count": 26
        }
      ]
    },
    {
      "cell_type": "code",
      "metadata": {
        "colab": {
          "base_uri": "https://localhost:8080/"
        },
        "id": "bZjTkoAQW81a",
        "outputId": "66bcf55e-d283-48c1-e963-2f42a356941c"
      },
      "source": [
        "data.columns"
      ],
      "execution_count": 27,
      "outputs": [
        {
          "output_type": "execute_result",
          "data": {
            "text/plain": [
              "Index(['Date', 'neg_reddit', 'neu_reddit', 'pos_reddit', 'compound_reddit',\n",
              "       'avg_trend', 'open', 'diff_open', 'label'],\n",
              "      dtype='object')"
            ]
          },
          "metadata": {},
          "execution_count": 27
        }
      ]
    },
    {
      "cell_type": "code",
      "metadata": {
        "id": "is_lnEBjWcX-"
      },
      "source": [
        "#get training and test data\n",
        "#Using only compound sentiment score, and average google trend score\n",
        "X = data[['compound_reddit','avg_trend']]\n",
        "y = data[['label']]\n",
        "\n",
        "X_train, X_test, y_train, y_test = train_test_split(X, y, test_size = 0.20)"
      ],
      "execution_count": 40,
      "outputs": []
    },
    {
      "cell_type": "markdown",
      "metadata": {
        "id": "L4wp1DDsXYhs"
      },
      "source": [
        "## Training the Random Forest Classifier\n",
        "\n",
        "Reference: https://www.geeksforgeeks.org/random-forest-classifier-using-scikit-learn/"
      ]
    },
    {
      "cell_type": "code",
      "metadata": {
        "colab": {
          "base_uri": "https://localhost:8080/"
        },
        "id": "0uP2qPULXOaK",
        "outputId": "e658c575-6fdc-4262-e575-7f8043db74ab"
      },
      "source": [
        "#Train Model\n",
        "clf = RandomForestClassifier(n_estimators = 10) \n",
        "clf.fit(X_train, y_train)\n",
        "\n",
        "#Predict\n",
        "y_pred = clf.predict(X_test)"
      ],
      "execution_count": 48,
      "outputs": [
        {
          "output_type": "stream",
          "name": "stderr",
          "text": [
            "/usr/local/lib/python3.7/dist-packages/ipykernel_launcher.py:3: DataConversionWarning: A column-vector y was passed when a 1d array was expected. Please change the shape of y to (n_samples,), for example using ravel().\n",
            "  This is separate from the ipykernel package so we can avoid doing imports until\n"
          ]
        }
      ]
    },
    {
      "cell_type": "code",
      "metadata": {
        "colab": {
          "base_uri": "https://localhost:8080/"
        },
        "id": "33C6EB1NXquG",
        "outputId": "a988413d-24a8-4d81-8e5a-24bfbd9dd0fb"
      },
      "source": [
        "#Reference: https://scikit-learn.org/stable/modules/model_evaluation.html\n",
        "\n",
        "#Evaluate Model\n",
        "print(\"Accuracy: \", metrics.accuracy_score(y_test, y_pred))\n",
        "print(\"F1-Score: \", metrics.f1_score(y_test, y_pred, average='weighted'))\n",
        "print(\"Precision: \", metrics.precision_score(y_test, y_pred, average='weighted'))\n",
        "print(\"Recall: \", metrics.recall_score(y_test, y_pred, average='weighted'))"
      ],
      "execution_count": 49,
      "outputs": [
        {
          "output_type": "stream",
          "name": "stdout",
          "text": [
            "Accuracy:  0.3333333333333333\n",
            "F1-Score:  0.3230769230769231\n",
            "Precision:  0.31776556776556775\n",
            "Recall:  0.3333333333333333\n"
          ]
        },
        {
          "output_type": "stream",
          "name": "stderr",
          "text": [
            "/usr/local/lib/python3.7/dist-packages/sklearn/metrics/_classification.py:1308: UndefinedMetricWarning: Recall is ill-defined and being set to 0.0 in labels with no true samples. Use `zero_division` parameter to control this behavior.\n",
            "  _warn_prf(average, modifier, msg_start, len(result))\n"
          ]
        }
      ]
    },
    {
      "cell_type": "code",
      "metadata": {
        "colab": {
          "base_uri": "https://localhost:8080/"
        },
        "id": "OlVYpHcXZwNO",
        "outputId": "655e83a0-3078-490f-b5b1-06904b2875bb"
      },
      "source": [
        "y_pred"
      ],
      "execution_count": 50,
      "outputs": [
        {
          "output_type": "execute_result",
          "data": {
            "text/plain": [
              "array([ 1,  0,  1,  1,  1, -1, -1,  1,  0,  1, -1,  1,  0,  0, -1,  2, -2,\n",
              "       -1,  0, -1,  1,  1,  1, -1, -1,  0, -1, -1,  1,  1,  1,  1,  1,  1,\n",
              "       -1, -1,  0, -1, -1])"
            ]
          },
          "metadata": {},
          "execution_count": 50
        }
      ]
    },
    {
      "cell_type": "markdown",
      "metadata": {
        "id": "StIKT-JxZmQq"
      },
      "source": [
        "## Training a Support Vector Classifier\n",
        "\n",
        "Reference: https://scikit-learn.org/stable/auto_examples/classification/plot_classifier_comparison.html"
      ]
    },
    {
      "cell_type": "code",
      "metadata": {
        "colab": {
          "base_uri": "https://localhost:8080/"
        },
        "id": "oMZFLlOmZlnm",
        "outputId": "55a0b82a-e790-4e00-f938-eb0b31b6cf6a"
      },
      "source": [
        "#Train Model\n",
        "clf = SVC(kernel=\"linear\", C=0.025)\n",
        "clf.fit(X_train, y_train)\n",
        "\n",
        "#Predict\n",
        "y_pred = clf.predict(X_test)"
      ],
      "execution_count": 56,
      "outputs": [
        {
          "output_type": "stream",
          "name": "stderr",
          "text": [
            "/usr/local/lib/python3.7/dist-packages/sklearn/utils/validation.py:985: DataConversionWarning: A column-vector y was passed when a 1d array was expected. Please change the shape of y to (n_samples, ), for example using ravel().\n",
            "  y = column_or_1d(y, warn=True)\n"
          ]
        }
      ]
    },
    {
      "cell_type": "code",
      "metadata": {
        "colab": {
          "base_uri": "https://localhost:8080/"
        },
        "id": "Nq3cjoGpYFIK",
        "outputId": "b09f59db-ff6a-4274-ce4d-6c60943b571a"
      },
      "source": [
        "#Evaluate Model\n",
        "print(\"Accuracy: \", metrics.accuracy_score(y_test, y_pred))\n",
        "print(\"F1-Score: \", metrics.f1_score(y_test, y_pred, average='weighted'))\n",
        "print(\"Precision: \", metrics.precision_score(y_test, y_pred, average='weighted'))\n",
        "print(\"Recall: \", metrics.recall_score(y_test, y_pred, average='weighted'))"
      ],
      "execution_count": 57,
      "outputs": [
        {
          "output_type": "stream",
          "name": "stdout",
          "text": [
            "Accuracy:  0.358974358974359\n",
            "F1-Score:  0.22833333333333336\n",
            "Precision:  0.24074074074074076\n",
            "Recall:  0.358974358974359\n"
          ]
        },
        {
          "output_type": "stream",
          "name": "stderr",
          "text": [
            "/usr/local/lib/python3.7/dist-packages/sklearn/metrics/_classification.py:1308: UndefinedMetricWarning: Precision is ill-defined and being set to 0.0 in labels with no predicted samples. Use `zero_division` parameter to control this behavior.\n",
            "  _warn_prf(average, modifier, msg_start, len(result))\n"
          ]
        }
      ]
    },
    {
      "cell_type": "markdown",
      "metadata": {
        "id": "1vUdjZTyawdK"
      },
      "source": [
        "## Decision Tree Classifier"
      ]
    },
    {
      "cell_type": "code",
      "metadata": {
        "id": "Nj-AA40Aav3K"
      },
      "source": [
        "#Train Model\n",
        "clf = DecisionTreeClassifier(max_depth=5)\n",
        "clf.fit(X_train, y_train)\n",
        "\n",
        "#Predict\n",
        "y_pred = clf.predict(X_test)"
      ],
      "execution_count": 59,
      "outputs": []
    },
    {
      "cell_type": "code",
      "metadata": {
        "colab": {
          "base_uri": "https://localhost:8080/"
        },
        "id": "GCrzQIJMaMf9",
        "outputId": "be1c50a4-d49e-4263-f004-6631c9637ddc"
      },
      "source": [
        "#Evaluate Model\n",
        "print(\"Accuracy: \", metrics.accuracy_score(y_test, y_pred))\n",
        "print(\"F1-Score: \", metrics.f1_score(y_test, y_pred, average='weighted'))\n",
        "print(\"Precision: \", metrics.precision_score(y_test, y_pred, average='weighted'))\n",
        "print(\"Recall: \", metrics.recall_score(y_test, y_pred, average='weighted'))"
      ],
      "execution_count": 60,
      "outputs": [
        {
          "output_type": "stream",
          "name": "stdout",
          "text": [
            "Accuracy:  0.4358974358974359\n",
            "F1-Score:  0.44045584045584046\n",
            "Precision:  0.466925231631114\n",
            "Recall:  0.4358974358974359\n"
          ]
        }
      ]
    },
    {
      "cell_type": "markdown",
      "metadata": {
        "id": "ue0oPCNpiner"
      },
      "source": [
        "# 3-way Classification\n",
        "\n",
        "Here, we attempt to categorize change in bitcoin prices to one of 3 categories: negative change (-1), no change (0), positive change (1)"
      ]
    },
    {
      "cell_type": "code",
      "metadata": {
        "colab": {
          "base_uri": "https://localhost:8080/",
          "height": 204
        },
        "id": "W4RkWw7Ga5ER",
        "outputId": "5e7a8cde-8c1d-4dfe-f59d-f0330971fb25"
      },
      "source": [
        "data.head()"
      ],
      "execution_count": 61,
      "outputs": [
        {
          "output_type": "execute_result",
          "data": {
            "text/html": [
              "<div>\n",
              "<style scoped>\n",
              "    .dataframe tbody tr th:only-of-type {\n",
              "        vertical-align: middle;\n",
              "    }\n",
              "\n",
              "    .dataframe tbody tr th {\n",
              "        vertical-align: top;\n",
              "    }\n",
              "\n",
              "    .dataframe thead th {\n",
              "        text-align: right;\n",
              "    }\n",
              "</style>\n",
              "<table border=\"1\" class=\"dataframe\">\n",
              "  <thead>\n",
              "    <tr style=\"text-align: right;\">\n",
              "      <th></th>\n",
              "      <th>Date</th>\n",
              "      <th>neg_reddit</th>\n",
              "      <th>neu_reddit</th>\n",
              "      <th>pos_reddit</th>\n",
              "      <th>compound_reddit</th>\n",
              "      <th>avg_trend</th>\n",
              "      <th>open</th>\n",
              "      <th>diff_open</th>\n",
              "      <th>label</th>\n",
              "    </tr>\n",
              "  </thead>\n",
              "  <tbody>\n",
              "    <tr>\n",
              "      <th>0</th>\n",
              "      <td>2021-01-01</td>\n",
              "      <td>0.052390</td>\n",
              "      <td>0.771753</td>\n",
              "      <td>0.172513</td>\n",
              "      <td>0.238452</td>\n",
              "      <td>12.660625</td>\n",
              "      <td>28923.63</td>\n",
              "      <td>NaN</td>\n",
              "      <td>0</td>\n",
              "    </tr>\n",
              "    <tr>\n",
              "      <th>1</th>\n",
              "      <td>2021-01-02</td>\n",
              "      <td>0.057414</td>\n",
              "      <td>0.811156</td>\n",
              "      <td>0.121446</td>\n",
              "      <td>0.135624</td>\n",
              "      <td>34.144375</td>\n",
              "      <td>29331.70</td>\n",
              "      <td>408.07</td>\n",
              "      <td>0</td>\n",
              "    </tr>\n",
              "    <tr>\n",
              "      <th>2</th>\n",
              "      <td>2021-01-03</td>\n",
              "      <td>0.063241</td>\n",
              "      <td>0.783810</td>\n",
              "      <td>0.148659</td>\n",
              "      <td>0.152421</td>\n",
              "      <td>48.853125</td>\n",
              "      <td>32176.45</td>\n",
              "      <td>2844.75</td>\n",
              "      <td>1</td>\n",
              "    </tr>\n",
              "    <tr>\n",
              "      <th>3</th>\n",
              "      <td>2021-01-04</td>\n",
              "      <td>0.061042</td>\n",
              "      <td>0.815152</td>\n",
              "      <td>0.121297</td>\n",
              "      <td>0.167221</td>\n",
              "      <td>32.544375</td>\n",
              "      <td>33000.05</td>\n",
              "      <td>823.60</td>\n",
              "      <td>1</td>\n",
              "    </tr>\n",
              "    <tr>\n",
              "      <th>4</th>\n",
              "      <td>2021-01-05</td>\n",
              "      <td>0.061790</td>\n",
              "      <td>0.801428</td>\n",
              "      <td>0.135118</td>\n",
              "      <td>0.147205</td>\n",
              "      <td>24.341250</td>\n",
              "      <td>31989.75</td>\n",
              "      <td>-1010.30</td>\n",
              "      <td>-1</td>\n",
              "    </tr>\n",
              "  </tbody>\n",
              "</table>\n",
              "</div>"
            ],
            "text/plain": [
              "         Date  neg_reddit  neu_reddit  ...      open  diff_open  label\n",
              "0  2021-01-01    0.052390    0.771753  ...  28923.63        NaN      0\n",
              "1  2021-01-02    0.057414    0.811156  ...  29331.70     408.07      0\n",
              "2  2021-01-03    0.063241    0.783810  ...  32176.45    2844.75      1\n",
              "3  2021-01-04    0.061042    0.815152  ...  33000.05     823.60      1\n",
              "4  2021-01-05    0.061790    0.801428  ...  31989.75   -1010.30     -1\n",
              "\n",
              "[5 rows x 9 columns]"
            ]
          },
          "metadata": {},
          "execution_count": 61
        }
      ]
    },
    {
      "cell_type": "code",
      "metadata": {
        "colab": {
          "base_uri": "https://localhost:8080/",
          "height": 204
        },
        "id": "zNeMc0zmi4Tq",
        "outputId": "21e729ed-91a9-49e6-d305-f455b514b24f"
      },
      "source": [
        "#Transform Label\n",
        "data.loc[data['label'] >0, 'label_3'] = 1  \n",
        "data.loc[data['label'] <0, 'label_3'] = -1  \n",
        "data.loc[data['label'] ==0, 'label_3'] = 0\n",
        "\n",
        "data.head()"
      ],
      "execution_count": 63,
      "outputs": [
        {
          "output_type": "execute_result",
          "data": {
            "text/html": [
              "<div>\n",
              "<style scoped>\n",
              "    .dataframe tbody tr th:only-of-type {\n",
              "        vertical-align: middle;\n",
              "    }\n",
              "\n",
              "    .dataframe tbody tr th {\n",
              "        vertical-align: top;\n",
              "    }\n",
              "\n",
              "    .dataframe thead th {\n",
              "        text-align: right;\n",
              "    }\n",
              "</style>\n",
              "<table border=\"1\" class=\"dataframe\">\n",
              "  <thead>\n",
              "    <tr style=\"text-align: right;\">\n",
              "      <th></th>\n",
              "      <th>Date</th>\n",
              "      <th>neg_reddit</th>\n",
              "      <th>neu_reddit</th>\n",
              "      <th>pos_reddit</th>\n",
              "      <th>compound_reddit</th>\n",
              "      <th>avg_trend</th>\n",
              "      <th>open</th>\n",
              "      <th>diff_open</th>\n",
              "      <th>label</th>\n",
              "      <th>label_3</th>\n",
              "    </tr>\n",
              "  </thead>\n",
              "  <tbody>\n",
              "    <tr>\n",
              "      <th>0</th>\n",
              "      <td>2021-01-01</td>\n",
              "      <td>0.052390</td>\n",
              "      <td>0.771753</td>\n",
              "      <td>0.172513</td>\n",
              "      <td>0.238452</td>\n",
              "      <td>12.660625</td>\n",
              "      <td>28923.63</td>\n",
              "      <td>NaN</td>\n",
              "      <td>0</td>\n",
              "      <td>0.0</td>\n",
              "    </tr>\n",
              "    <tr>\n",
              "      <th>1</th>\n",
              "      <td>2021-01-02</td>\n",
              "      <td>0.057414</td>\n",
              "      <td>0.811156</td>\n",
              "      <td>0.121446</td>\n",
              "      <td>0.135624</td>\n",
              "      <td>34.144375</td>\n",
              "      <td>29331.70</td>\n",
              "      <td>408.07</td>\n",
              "      <td>0</td>\n",
              "      <td>0.0</td>\n",
              "    </tr>\n",
              "    <tr>\n",
              "      <th>2</th>\n",
              "      <td>2021-01-03</td>\n",
              "      <td>0.063241</td>\n",
              "      <td>0.783810</td>\n",
              "      <td>0.148659</td>\n",
              "      <td>0.152421</td>\n",
              "      <td>48.853125</td>\n",
              "      <td>32176.45</td>\n",
              "      <td>2844.75</td>\n",
              "      <td>1</td>\n",
              "      <td>1.0</td>\n",
              "    </tr>\n",
              "    <tr>\n",
              "      <th>3</th>\n",
              "      <td>2021-01-04</td>\n",
              "      <td>0.061042</td>\n",
              "      <td>0.815152</td>\n",
              "      <td>0.121297</td>\n",
              "      <td>0.167221</td>\n",
              "      <td>32.544375</td>\n",
              "      <td>33000.05</td>\n",
              "      <td>823.60</td>\n",
              "      <td>1</td>\n",
              "      <td>1.0</td>\n",
              "    </tr>\n",
              "    <tr>\n",
              "      <th>4</th>\n",
              "      <td>2021-01-05</td>\n",
              "      <td>0.061790</td>\n",
              "      <td>0.801428</td>\n",
              "      <td>0.135118</td>\n",
              "      <td>0.147205</td>\n",
              "      <td>24.341250</td>\n",
              "      <td>31989.75</td>\n",
              "      <td>-1010.30</td>\n",
              "      <td>-1</td>\n",
              "      <td>-1.0</td>\n",
              "    </tr>\n",
              "  </tbody>\n",
              "</table>\n",
              "</div>"
            ],
            "text/plain": [
              "         Date  neg_reddit  neu_reddit  ...  diff_open  label  label_3\n",
              "0  2021-01-01    0.052390    0.771753  ...        NaN      0      0.0\n",
              "1  2021-01-02    0.057414    0.811156  ...     408.07      0      0.0\n",
              "2  2021-01-03    0.063241    0.783810  ...    2844.75      1      1.0\n",
              "3  2021-01-04    0.061042    0.815152  ...     823.60      1      1.0\n",
              "4  2021-01-05    0.061790    0.801428  ...   -1010.30     -1     -1.0\n",
              "\n",
              "[5 rows x 10 columns]"
            ]
          },
          "metadata": {},
          "execution_count": 63
        }
      ]
    },
    {
      "cell_type": "code",
      "metadata": {
        "id": "AoUhW1CvjdMu"
      },
      "source": [
        "#get training and test data\n",
        "#Using only compound sentiment score, and average google trend score\n",
        "X = data[['compound_reddit','avg_trend']]\n",
        "y = data[['label_3']]\n",
        "\n",
        "X_train, X_test, y_train, y_test = train_test_split(X, y, test_size = 0.20)"
      ],
      "execution_count": 64,
      "outputs": []
    },
    {
      "cell_type": "code",
      "metadata": {
        "id": "WOd9wCLhjjNw"
      },
      "source": [
        "#Train Decision Tree\n",
        "#Train Model\n",
        "clf = DecisionTreeClassifier(max_depth=5)\n",
        "clf.fit(X_train, y_train)\n",
        "\n",
        "#Predict\n",
        "y_pred = clf.predict(X_test)"
      ],
      "execution_count": 65,
      "outputs": []
    },
    {
      "cell_type": "code",
      "metadata": {
        "colab": {
          "base_uri": "https://localhost:8080/"
        },
        "id": "6GUtkGN4jnU_",
        "outputId": "e5b13aa9-5540-40b3-ff77-a42fdef46fd6"
      },
      "source": [
        "#Evaluate Model\n",
        "print(\"Accuracy: \", metrics.accuracy_score(y_test, y_pred))\n",
        "print(\"F1-Score: \", metrics.f1_score(y_test, y_pred, average='weighted'))\n",
        "print(\"Precision: \", metrics.precision_score(y_test, y_pred, average='weighted'))\n",
        "print(\"Recall: \", metrics.recall_score(y_test, y_pred, average='weighted'))"
      ],
      "execution_count": 66,
      "outputs": [
        {
          "output_type": "stream",
          "name": "stdout",
          "text": [
            "Accuracy:  0.41025641025641024\n",
            "F1-Score:  0.3998565537027075\n",
            "Precision:  0.3957264957264957\n",
            "Recall:  0.41025641025641024\n"
          ]
        }
      ]
    },
    {
      "cell_type": "code",
      "metadata": {
        "id": "fAIm_Ebqjo7M"
      },
      "source": [
        ""
      ],
      "execution_count": null,
      "outputs": []
    }
  ]
}