{
  "nbformat": 4,
  "nbformat_minor": 0,
  "metadata": {
    "colab": {
      "name": "BitcoinPriceModel.ipynb",
      "provenance": []
    },
    "kernelspec": {
      "name": "python3",
      "display_name": "Python 3"
    },
    "language_info": {
      "name": "python"
    }
  },
  "cells": [
    {
      "cell_type": "markdown",
      "metadata": {
        "id": "dZ-VUxYVRI1k"
      },
      "source": [
        "# Predicting Change in Bitcoin Prices using Social Media Interest Measures\n",
        "\n",
        "Here, we train a classifier to use Daily twitter sentiment scores, daily reddit sentiment scores, and daily google trend scores to categorize the change in bitcoin prices into one of 5 categories: highly negative (-2), moderately negative (-1), no commendable change (0), moderately positive (1), highly negative (2)"
      ]
    },
    {
      "cell_type": "code",
      "metadata": {
        "id": "J8vrC959RFeG"
      },
      "source": [
        "import pandas as pd\n",
        "import matplotlib.pyplot as plt\n",
        "from sklearn.model_selection import train_test_split\n",
        "from sklearn.ensemble import RandomForestClassifier\n",
        "from sklearn import metrics \n",
        "from sklearn.svm import SVC\n",
        "from sklearn.tree import DecisionTreeClassifier"
      ],
      "execution_count": 1,
      "outputs": []
    },
    {
      "cell_type": "markdown",
      "metadata": {
        "id": "76QQ5v9CUCZU"
      },
      "source": [
        "## Prepare Data"
      ]
    },
    {
      "cell_type": "code",
      "metadata": {
        "id": "pSPLeCV7SwKq"
      },
      "source": [
        "#Import Data\n",
        "\n",
        "bitcoin = pd.read_csv('categorical_bitcoin_price.csv', sep='\\t', index_col=0)\n",
        "reddit = pd.read_csv('redditDailySentiment.csv', sep='\\t', index_col=None)\n",
        "trends= pd.read_csv('trends_daily_score.csv', sep='\\t', index_col=0)\n",
        "twitter = pd.read_csv('twitterSentiment.csv', sep=',', index_col=None)"
      ],
      "execution_count": 2,
      "outputs": []
    },
    {
      "cell_type": "code",
      "metadata": {
        "colab": {
          "base_uri": "https://localhost:8080/",
          "height": 204
        },
        "id": "6E9G27__TM-8",
        "outputId": "9de05dfb-125a-4f37-e3e7-a8ea8a14f474"
      },
      "source": [
        "bitcoin.head()"
      ],
      "execution_count": null,
      "outputs": [
        {
          "output_type": "execute_result",
          "data": {
            "text/html": [
              "<div>\n",
              "<style scoped>\n",
              "    .dataframe tbody tr th:only-of-type {\n",
              "        vertical-align: middle;\n",
              "    }\n",
              "\n",
              "    .dataframe tbody tr th {\n",
              "        vertical-align: top;\n",
              "    }\n",
              "\n",
              "    .dataframe thead th {\n",
              "        text-align: right;\n",
              "    }\n",
              "</style>\n",
              "<table border=\"1\" class=\"dataframe\">\n",
              "  <thead>\n",
              "    <tr style=\"text-align: right;\">\n",
              "      <th></th>\n",
              "      <th>Date</th>\n",
              "      <th>open</th>\n",
              "      <th>high</th>\n",
              "      <th>low</th>\n",
              "      <th>close</th>\n",
              "      <th>volume</th>\n",
              "      <th>Diff_Open</th>\n",
              "      <th>Diff_Category</th>\n",
              "    </tr>\n",
              "  </thead>\n",
              "  <tbody>\n",
              "    <tr>\n",
              "      <th>0</th>\n",
              "      <td>2021-01-01</td>\n",
              "      <td>28923.63</td>\n",
              "      <td>29600.00</td>\n",
              "      <td>28624.57</td>\n",
              "      <td>29331.69</td>\n",
              "      <td>54182.925011</td>\n",
              "      <td>NaN</td>\n",
              "      <td>0</td>\n",
              "    </tr>\n",
              "    <tr>\n",
              "      <th>1</th>\n",
              "      <td>2021-01-02</td>\n",
              "      <td>29331.70</td>\n",
              "      <td>33300.00</td>\n",
              "      <td>28946.53</td>\n",
              "      <td>32178.33</td>\n",
              "      <td>129993.873362</td>\n",
              "      <td>408.07</td>\n",
              "      <td>0</td>\n",
              "    </tr>\n",
              "    <tr>\n",
              "      <th>2</th>\n",
              "      <td>2021-01-03</td>\n",
              "      <td>32176.45</td>\n",
              "      <td>34778.11</td>\n",
              "      <td>31962.99</td>\n",
              "      <td>33000.05</td>\n",
              "      <td>120957.566750</td>\n",
              "      <td>2844.75</td>\n",
              "      <td>1</td>\n",
              "    </tr>\n",
              "    <tr>\n",
              "      <th>3</th>\n",
              "      <td>2021-01-04</td>\n",
              "      <td>33000.05</td>\n",
              "      <td>33600.00</td>\n",
              "      <td>28130.00</td>\n",
              "      <td>31988.71</td>\n",
              "      <td>140899.885690</td>\n",
              "      <td>823.60</td>\n",
              "      <td>1</td>\n",
              "    </tr>\n",
              "    <tr>\n",
              "      <th>4</th>\n",
              "      <td>2021-01-05</td>\n",
              "      <td>31989.75</td>\n",
              "      <td>34360.00</td>\n",
              "      <td>29900.00</td>\n",
              "      <td>33949.53</td>\n",
              "      <td>116049.997038</td>\n",
              "      <td>-1010.30</td>\n",
              "      <td>-1</td>\n",
              "    </tr>\n",
              "  </tbody>\n",
              "</table>\n",
              "</div>"
            ],
            "text/plain": [
              "         Date      open      high  ...         volume  Diff_Open  Diff_Category\n",
              "0  2021-01-01  28923.63  29600.00  ...   54182.925011        NaN              0\n",
              "1  2021-01-02  29331.70  33300.00  ...  129993.873362     408.07              0\n",
              "2  2021-01-03  32176.45  34778.11  ...  120957.566750    2844.75              1\n",
              "3  2021-01-04  33000.05  33600.00  ...  140899.885690     823.60              1\n",
              "4  2021-01-05  31989.75  34360.00  ...  116049.997038   -1010.30             -1\n",
              "\n",
              "[5 rows x 8 columns]"
            ]
          },
          "metadata": {},
          "execution_count": 6
        }
      ]
    },
    {
      "cell_type": "code",
      "metadata": {
        "colab": {
          "base_uri": "https://localhost:8080/",
          "height": 204
        },
        "id": "bCoKqWLCTO95",
        "outputId": "8fdc44df-4fe9-4c49-f8ad-217c338723dc"
      },
      "source": [
        "reddit.head()"
      ],
      "execution_count": null,
      "outputs": [
        {
          "output_type": "execute_result",
          "data": {
            "text/html": [
              "<div>\n",
              "<style scoped>\n",
              "    .dataframe tbody tr th:only-of-type {\n",
              "        vertical-align: middle;\n",
              "    }\n",
              "\n",
              "    .dataframe tbody tr th {\n",
              "        vertical-align: top;\n",
              "    }\n",
              "\n",
              "    .dataframe thead th {\n",
              "        text-align: right;\n",
              "    }\n",
              "</style>\n",
              "<table border=\"1\" class=\"dataframe\">\n",
              "  <thead>\n",
              "    <tr style=\"text-align: right;\">\n",
              "      <th></th>\n",
              "      <th>Date</th>\n",
              "      <th>neg</th>\n",
              "      <th>neu</th>\n",
              "      <th>pos</th>\n",
              "      <th>compound</th>\n",
              "    </tr>\n",
              "  </thead>\n",
              "  <tbody>\n",
              "    <tr>\n",
              "      <th>0</th>\n",
              "      <td>2021-01-01</td>\n",
              "      <td>0.052390</td>\n",
              "      <td>0.771753</td>\n",
              "      <td>0.172513</td>\n",
              "      <td>0.238452</td>\n",
              "    </tr>\n",
              "    <tr>\n",
              "      <th>1</th>\n",
              "      <td>2021-01-02</td>\n",
              "      <td>0.057414</td>\n",
              "      <td>0.811156</td>\n",
              "      <td>0.121446</td>\n",
              "      <td>0.135624</td>\n",
              "    </tr>\n",
              "    <tr>\n",
              "      <th>2</th>\n",
              "      <td>2021-01-03</td>\n",
              "      <td>0.063241</td>\n",
              "      <td>0.783810</td>\n",
              "      <td>0.148659</td>\n",
              "      <td>0.152421</td>\n",
              "    </tr>\n",
              "    <tr>\n",
              "      <th>3</th>\n",
              "      <td>2021-01-04</td>\n",
              "      <td>0.061042</td>\n",
              "      <td>0.815152</td>\n",
              "      <td>0.121297</td>\n",
              "      <td>0.167221</td>\n",
              "    </tr>\n",
              "    <tr>\n",
              "      <th>4</th>\n",
              "      <td>2021-01-05</td>\n",
              "      <td>0.061790</td>\n",
              "      <td>0.801428</td>\n",
              "      <td>0.135118</td>\n",
              "      <td>0.147205</td>\n",
              "    </tr>\n",
              "  </tbody>\n",
              "</table>\n",
              "</div>"
            ],
            "text/plain": [
              "         Date       neg       neu       pos  compound\n",
              "0  2021-01-01  0.052390  0.771753  0.172513  0.238452\n",
              "1  2021-01-02  0.057414  0.811156  0.121446  0.135624\n",
              "2  2021-01-03  0.063241  0.783810  0.148659  0.152421\n",
              "3  2021-01-04  0.061042  0.815152  0.121297  0.167221\n",
              "4  2021-01-05  0.061790  0.801428  0.135118  0.147205"
            ]
          },
          "metadata": {},
          "execution_count": 17
        }
      ]
    },
    {
      "cell_type": "code",
      "metadata": {
        "colab": {
          "base_uri": "https://localhost:8080/",
          "height": 204
        },
        "id": "F9K9kWM9TPNW",
        "outputId": "db59eb4a-add5-497c-cb01-11be6603afcd"
      },
      "source": [
        "trends.head()"
      ],
      "execution_count": null,
      "outputs": [
        {
          "output_type": "execute_result",
          "data": {
            "text/html": [
              "<div>\n",
              "<style scoped>\n",
              "    .dataframe tbody tr th:only-of-type {\n",
              "        vertical-align: middle;\n",
              "    }\n",
              "\n",
              "    .dataframe tbody tr th {\n",
              "        vertical-align: top;\n",
              "    }\n",
              "\n",
              "    .dataframe thead th {\n",
              "        text-align: right;\n",
              "    }\n",
              "</style>\n",
              "<table border=\"1\" class=\"dataframe\">\n",
              "  <thead>\n",
              "    <tr style=\"text-align: right;\">\n",
              "      <th></th>\n",
              "      <th>Date</th>\n",
              "      <th>avg_score</th>\n",
              "      <th>weighted_score</th>\n",
              "    </tr>\n",
              "  </thead>\n",
              "  <tbody>\n",
              "    <tr>\n",
              "      <th>0</th>\n",
              "      <td>2021-01-01</td>\n",
              "      <td>12.660625</td>\n",
              "      <td>14.447561</td>\n",
              "    </tr>\n",
              "    <tr>\n",
              "      <th>1</th>\n",
              "      <td>2021-01-02</td>\n",
              "      <td>34.144375</td>\n",
              "      <td>37.360744</td>\n",
              "    </tr>\n",
              "    <tr>\n",
              "      <th>2</th>\n",
              "      <td>2021-01-03</td>\n",
              "      <td>48.853125</td>\n",
              "      <td>53.128124</td>\n",
              "    </tr>\n",
              "    <tr>\n",
              "      <th>3</th>\n",
              "      <td>2021-01-04</td>\n",
              "      <td>32.544375</td>\n",
              "      <td>35.352064</td>\n",
              "    </tr>\n",
              "    <tr>\n",
              "      <th>4</th>\n",
              "      <td>2021-01-05</td>\n",
              "      <td>24.341250</td>\n",
              "      <td>26.472194</td>\n",
              "    </tr>\n",
              "  </tbody>\n",
              "</table>\n",
              "</div>"
            ],
            "text/plain": [
              "         Date  avg_score  weighted_score\n",
              "0  2021-01-01  12.660625       14.447561\n",
              "1  2021-01-02  34.144375       37.360744\n",
              "2  2021-01-03  48.853125       53.128124\n",
              "3  2021-01-04  32.544375       35.352064\n",
              "4  2021-01-05  24.341250       26.472194"
            ]
          },
          "metadata": {},
          "execution_count": 16
        }
      ]
    },
    {
      "cell_type": "code",
      "metadata": {
        "colab": {
          "base_uri": "https://localhost:8080/",
          "height": 204
        },
        "id": "nZahHokiP_Qv",
        "outputId": "93eb2730-5136-48e3-d852-9f4dc48aa925"
      },
      "source": [
        "twitter.head()"
      ],
      "execution_count": 3,
      "outputs": [
        {
          "output_type": "execute_result",
          "data": {
            "text/html": [
              "<div>\n",
              "<style scoped>\n",
              "    .dataframe tbody tr th:only-of-type {\n",
              "        vertical-align: middle;\n",
              "    }\n",
              "\n",
              "    .dataframe tbody tr th {\n",
              "        vertical-align: top;\n",
              "    }\n",
              "\n",
              "    .dataframe thead th {\n",
              "        text-align: right;\n",
              "    }\n",
              "</style>\n",
              "<table border=\"1\" class=\"dataframe\">\n",
              "  <thead>\n",
              "    <tr style=\"text-align: right;\">\n",
              "      <th></th>\n",
              "      <th>Day</th>\n",
              "      <th>neg</th>\n",
              "      <th>neu</th>\n",
              "      <th>pos</th>\n",
              "      <th>compound</th>\n",
              "    </tr>\n",
              "  </thead>\n",
              "  <tbody>\n",
              "    <tr>\n",
              "      <th>0</th>\n",
              "      <td>2021-02-05</td>\n",
              "      <td>0.030948</td>\n",
              "      <td>0.892471</td>\n",
              "      <td>0.076579</td>\n",
              "      <td>0.125674</td>\n",
              "    </tr>\n",
              "    <tr>\n",
              "      <th>1</th>\n",
              "      <td>2021-02-06</td>\n",
              "      <td>0.028127</td>\n",
              "      <td>0.896185</td>\n",
              "      <td>0.075680</td>\n",
              "      <td>0.129964</td>\n",
              "    </tr>\n",
              "    <tr>\n",
              "      <th>2</th>\n",
              "      <td>2021-02-07</td>\n",
              "      <td>0.028718</td>\n",
              "      <td>0.890963</td>\n",
              "      <td>0.080317</td>\n",
              "      <td>0.139650</td>\n",
              "    </tr>\n",
              "    <tr>\n",
              "      <th>3</th>\n",
              "      <td>2021-02-08</td>\n",
              "      <td>0.025719</td>\n",
              "      <td>0.887855</td>\n",
              "      <td>0.086424</td>\n",
              "      <td>0.157384</td>\n",
              "    </tr>\n",
              "    <tr>\n",
              "      <th>4</th>\n",
              "      <td>2021-02-09</td>\n",
              "      <td>0.027866</td>\n",
              "      <td>0.890614</td>\n",
              "      <td>0.081516</td>\n",
              "      <td>0.149618</td>\n",
              "    </tr>\n",
              "  </tbody>\n",
              "</table>\n",
              "</div>"
            ],
            "text/plain": [
              "          Day       neg       neu       pos  compound\n",
              "0  2021-02-05  0.030948  0.892471  0.076579  0.125674\n",
              "1  2021-02-06  0.028127  0.896185  0.075680  0.129964\n",
              "2  2021-02-07  0.028718  0.890963  0.080317  0.139650\n",
              "3  2021-02-08  0.025719  0.887855  0.086424  0.157384\n",
              "4  2021-02-09  0.027866  0.890614  0.081516  0.149618"
            ]
          },
          "metadata": {},
          "execution_count": 3
        }
      ]
    },
    {
      "cell_type": "code",
      "metadata": {
        "id": "2NdIVLzuTnsK"
      },
      "source": [
        "#Rename merging column (\"Date\")\n",
        "reddit = reddit.rename(columns={\"Day\": \"Date\"})\n",
        "trends = trends.rename(columns={\"date\": \"Date\"})\n",
        "twitter = twitter.rename(columns={\"Day\": \"Date\"})"
      ],
      "execution_count": 4,
      "outputs": []
    },
    {
      "cell_type": "code",
      "metadata": {
        "colab": {
          "base_uri": "https://localhost:8080/",
          "height": 309
        },
        "id": "N6Ii8znJSkBV",
        "outputId": "175235e6-377f-4b9d-805a-caebd7a10189"
      },
      "source": [
        "#Combine Data into dataframe\n",
        "\n",
        "data = pd.DataFrame()\n",
        "data[\"Date\"] = bitcoin[\"Date\"]\n",
        "data = data.merge(twitter, on='Date')\n",
        "data = data.merge(reddit, on='Date')\n",
        "data = data.merge(trends, on='Date')\n",
        "data = data.merge(bitcoin, on='Date')\n",
        "data.head()"
      ],
      "execution_count": 5,
      "outputs": [
        {
          "output_type": "execute_result",
          "data": {
            "text/html": [
              "<div>\n",
              "<style scoped>\n",
              "    .dataframe tbody tr th:only-of-type {\n",
              "        vertical-align: middle;\n",
              "    }\n",
              "\n",
              "    .dataframe tbody tr th {\n",
              "        vertical-align: top;\n",
              "    }\n",
              "\n",
              "    .dataframe thead th {\n",
              "        text-align: right;\n",
              "    }\n",
              "</style>\n",
              "<table border=\"1\" class=\"dataframe\">\n",
              "  <thead>\n",
              "    <tr style=\"text-align: right;\">\n",
              "      <th></th>\n",
              "      <th>Date</th>\n",
              "      <th>neg_x</th>\n",
              "      <th>neu_x</th>\n",
              "      <th>pos_x</th>\n",
              "      <th>compound_x</th>\n",
              "      <th>neg_y</th>\n",
              "      <th>neu_y</th>\n",
              "      <th>pos_y</th>\n",
              "      <th>compound_y</th>\n",
              "      <th>avg_score</th>\n",
              "      <th>weighted_score</th>\n",
              "      <th>open</th>\n",
              "      <th>high</th>\n",
              "      <th>low</th>\n",
              "      <th>close</th>\n",
              "      <th>volume</th>\n",
              "      <th>Diff_Open</th>\n",
              "      <th>Diff_Category</th>\n",
              "    </tr>\n",
              "  </thead>\n",
              "  <tbody>\n",
              "    <tr>\n",
              "      <th>0</th>\n",
              "      <td>2021-02-08</td>\n",
              "      <td>0.025719</td>\n",
              "      <td>0.887855</td>\n",
              "      <td>0.086424</td>\n",
              "      <td>0.157384</td>\n",
              "      <td>0.065759</td>\n",
              "      <td>0.796466</td>\n",
              "      <td>0.137774</td>\n",
              "      <td>0.131102</td>\n",
              "      <td>50.626875</td>\n",
              "      <td>51.557635</td>\n",
              "      <td>38795.69</td>\n",
              "      <td>46794.45</td>\n",
              "      <td>37988.89</td>\n",
              "      <td>46374.87</td>\n",
              "      <td>138597.536914</td>\n",
              "      <td>-385.32</td>\n",
              "      <td>0</td>\n",
              "    </tr>\n",
              "    <tr>\n",
              "      <th>1</th>\n",
              "      <td>2021-02-09</td>\n",
              "      <td>0.027866</td>\n",
              "      <td>0.890614</td>\n",
              "      <td>0.081516</td>\n",
              "      <td>0.149618</td>\n",
              "      <td>0.063627</td>\n",
              "      <td>0.804396</td>\n",
              "      <td>0.129117</td>\n",
              "      <td>0.159778</td>\n",
              "      <td>65.428750</td>\n",
              "      <td>67.025286</td>\n",
              "      <td>46374.86</td>\n",
              "      <td>48142.19</td>\n",
              "      <td>44961.09</td>\n",
              "      <td>46420.42</td>\n",
              "      <td>115499.861712</td>\n",
              "      <td>7579.17</td>\n",
              "      <td>2</td>\n",
              "    </tr>\n",
              "    <tr>\n",
              "      <th>2</th>\n",
              "      <td>2021-02-10</td>\n",
              "      <td>0.028736</td>\n",
              "      <td>0.885619</td>\n",
              "      <td>0.085641</td>\n",
              "      <td>0.158076</td>\n",
              "      <td>0.059693</td>\n",
              "      <td>0.800772</td>\n",
              "      <td>0.137013</td>\n",
              "      <td>0.153127</td>\n",
              "      <td>35.386250</td>\n",
              "      <td>37.993114</td>\n",
              "      <td>46420.42</td>\n",
              "      <td>47310.00</td>\n",
              "      <td>43727.00</td>\n",
              "      <td>44807.58</td>\n",
              "      <td>97154.182200</td>\n",
              "      <td>45.56</td>\n",
              "      <td>0</td>\n",
              "    </tr>\n",
              "    <tr>\n",
              "      <th>3</th>\n",
              "      <td>2021-02-13</td>\n",
              "      <td>0.029296</td>\n",
              "      <td>0.885487</td>\n",
              "      <td>0.085214</td>\n",
              "      <td>0.148188</td>\n",
              "      <td>0.067005</td>\n",
              "      <td>0.800504</td>\n",
              "      <td>0.129159</td>\n",
              "      <td>0.142842</td>\n",
              "      <td>18.039375</td>\n",
              "      <td>19.782415</td>\n",
              "      <td>47298.15</td>\n",
              "      <td>48150.00</td>\n",
              "      <td>46202.53</td>\n",
              "      <td>47153.69</td>\n",
              "      <td>63768.097399</td>\n",
              "      <td>-670.51</td>\n",
              "      <td>-1</td>\n",
              "    </tr>\n",
              "    <tr>\n",
              "      <th>4</th>\n",
              "      <td>2021-02-14</td>\n",
              "      <td>0.026092</td>\n",
              "      <td>0.859811</td>\n",
              "      <td>0.114094</td>\n",
              "      <td>0.255904</td>\n",
              "      <td>0.067111</td>\n",
              "      <td>0.798853</td>\n",
              "      <td>0.130681</td>\n",
              "      <td>0.141220</td>\n",
              "      <td>25.836250</td>\n",
              "      <td>28.548080</td>\n",
              "      <td>47156.78</td>\n",
              "      <td>49707.43</td>\n",
              "      <td>47014.17</td>\n",
              "      <td>48577.79</td>\n",
              "      <td>73735.475533</td>\n",
              "      <td>-141.37</td>\n",
              "      <td>0</td>\n",
              "    </tr>\n",
              "  </tbody>\n",
              "</table>\n",
              "</div>"
            ],
            "text/plain": [
              "         Date     neg_x     neu_x  ...         volume  Diff_Open  Diff_Category\n",
              "0  2021-02-08  0.025719  0.887855  ...  138597.536914    -385.32              0\n",
              "1  2021-02-09  0.027866  0.890614  ...  115499.861712    7579.17              2\n",
              "2  2021-02-10  0.028736  0.885619  ...   97154.182200      45.56              0\n",
              "3  2021-02-13  0.029296  0.885487  ...   63768.097399    -670.51             -1\n",
              "4  2021-02-14  0.026092  0.859811  ...   73735.475533    -141.37              0\n",
              "\n",
              "[5 rows x 18 columns]"
            ]
          },
          "metadata": {},
          "execution_count": 5
        }
      ]
    },
    {
      "cell_type": "code",
      "metadata": {
        "colab": {
          "base_uri": "https://localhost:8080/",
          "height": 204
        },
        "id": "WBFMXQPNVeGt",
        "outputId": "867f3ede-db00-4cff-e623-e731b4379e3c"
      },
      "source": [
        "#Rename columns, drop unnecessary columns\n",
        "data = data.drop(['weighted_score', 'high', 'low','close','volume'],axis=1)\n",
        "data = data.rename(columns={'neg_x':'neg_twitter', 'neu_x':'neu_twitter','pos_x':'pos_twitter','compound_x':'compound_twitter','neg_y':'neg_reddit', 'neu_y':'neu_reddit','pos_y':'pos_reddit','compound_y':'compound_reddit','avg_score':'avg_trend','Diff_Open':'diff_open','Diff_Category':'label'})\n",
        "data.head()"
      ],
      "execution_count": 6,
      "outputs": [
        {
          "output_type": "execute_result",
          "data": {
            "text/html": [
              "<div>\n",
              "<style scoped>\n",
              "    .dataframe tbody tr th:only-of-type {\n",
              "        vertical-align: middle;\n",
              "    }\n",
              "\n",
              "    .dataframe tbody tr th {\n",
              "        vertical-align: top;\n",
              "    }\n",
              "\n",
              "    .dataframe thead th {\n",
              "        text-align: right;\n",
              "    }\n",
              "</style>\n",
              "<table border=\"1\" class=\"dataframe\">\n",
              "  <thead>\n",
              "    <tr style=\"text-align: right;\">\n",
              "      <th></th>\n",
              "      <th>Date</th>\n",
              "      <th>neg_twitter</th>\n",
              "      <th>neu_twitter</th>\n",
              "      <th>pos_twitter</th>\n",
              "      <th>compound_twitter</th>\n",
              "      <th>neg_reddit</th>\n",
              "      <th>neu_reddit</th>\n",
              "      <th>pos_reddit</th>\n",
              "      <th>compound_reddit</th>\n",
              "      <th>avg_trend</th>\n",
              "      <th>open</th>\n",
              "      <th>diff_open</th>\n",
              "      <th>label</th>\n",
              "    </tr>\n",
              "  </thead>\n",
              "  <tbody>\n",
              "    <tr>\n",
              "      <th>0</th>\n",
              "      <td>2021-02-08</td>\n",
              "      <td>0.025719</td>\n",
              "      <td>0.887855</td>\n",
              "      <td>0.086424</td>\n",
              "      <td>0.157384</td>\n",
              "      <td>0.065759</td>\n",
              "      <td>0.796466</td>\n",
              "      <td>0.137774</td>\n",
              "      <td>0.131102</td>\n",
              "      <td>50.626875</td>\n",
              "      <td>38795.69</td>\n",
              "      <td>-385.32</td>\n",
              "      <td>0</td>\n",
              "    </tr>\n",
              "    <tr>\n",
              "      <th>1</th>\n",
              "      <td>2021-02-09</td>\n",
              "      <td>0.027866</td>\n",
              "      <td>0.890614</td>\n",
              "      <td>0.081516</td>\n",
              "      <td>0.149618</td>\n",
              "      <td>0.063627</td>\n",
              "      <td>0.804396</td>\n",
              "      <td>0.129117</td>\n",
              "      <td>0.159778</td>\n",
              "      <td>65.428750</td>\n",
              "      <td>46374.86</td>\n",
              "      <td>7579.17</td>\n",
              "      <td>2</td>\n",
              "    </tr>\n",
              "    <tr>\n",
              "      <th>2</th>\n",
              "      <td>2021-02-10</td>\n",
              "      <td>0.028736</td>\n",
              "      <td>0.885619</td>\n",
              "      <td>0.085641</td>\n",
              "      <td>0.158076</td>\n",
              "      <td>0.059693</td>\n",
              "      <td>0.800772</td>\n",
              "      <td>0.137013</td>\n",
              "      <td>0.153127</td>\n",
              "      <td>35.386250</td>\n",
              "      <td>46420.42</td>\n",
              "      <td>45.56</td>\n",
              "      <td>0</td>\n",
              "    </tr>\n",
              "    <tr>\n",
              "      <th>3</th>\n",
              "      <td>2021-02-13</td>\n",
              "      <td>0.029296</td>\n",
              "      <td>0.885487</td>\n",
              "      <td>0.085214</td>\n",
              "      <td>0.148188</td>\n",
              "      <td>0.067005</td>\n",
              "      <td>0.800504</td>\n",
              "      <td>0.129159</td>\n",
              "      <td>0.142842</td>\n",
              "      <td>18.039375</td>\n",
              "      <td>47298.15</td>\n",
              "      <td>-670.51</td>\n",
              "      <td>-1</td>\n",
              "    </tr>\n",
              "    <tr>\n",
              "      <th>4</th>\n",
              "      <td>2021-02-14</td>\n",
              "      <td>0.026092</td>\n",
              "      <td>0.859811</td>\n",
              "      <td>0.114094</td>\n",
              "      <td>0.255904</td>\n",
              "      <td>0.067111</td>\n",
              "      <td>0.798853</td>\n",
              "      <td>0.130681</td>\n",
              "      <td>0.141220</td>\n",
              "      <td>25.836250</td>\n",
              "      <td>47156.78</td>\n",
              "      <td>-141.37</td>\n",
              "      <td>0</td>\n",
              "    </tr>\n",
              "  </tbody>\n",
              "</table>\n",
              "</div>"
            ],
            "text/plain": [
              "         Date  neg_twitter  neu_twitter  ...      open  diff_open  label\n",
              "0  2021-02-08     0.025719     0.887855  ...  38795.69    -385.32      0\n",
              "1  2021-02-09     0.027866     0.890614  ...  46374.86    7579.17      2\n",
              "2  2021-02-10     0.028736     0.885619  ...  46420.42      45.56      0\n",
              "3  2021-02-13     0.029296     0.885487  ...  47298.15    -670.51     -1\n",
              "4  2021-02-14     0.026092     0.859811  ...  47156.78    -141.37      0\n",
              "\n",
              "[5 rows x 13 columns]"
            ]
          },
          "metadata": {},
          "execution_count": 6
        }
      ]
    },
    {
      "cell_type": "code",
      "metadata": {
        "colab": {
          "base_uri": "https://localhost:8080/"
        },
        "id": "3Lu_4PUmWXLo",
        "outputId": "63df4ff2-6471-4e8d-fe0f-b14e1bc34851"
      },
      "source": [
        "data['label'].value_counts()"
      ],
      "execution_count": 7,
      "outputs": [
        {
          "output_type": "execute_result",
          "data": {
            "text/plain": [
              " 1    20\n",
              "-1    18\n",
              " 0    12\n",
              " 2     2\n",
              "Name: label, dtype: int64"
            ]
          },
          "metadata": {},
          "execution_count": 7
        }
      ]
    },
    {
      "cell_type": "code",
      "metadata": {
        "colab": {
          "base_uri": "https://localhost:8080/"
        },
        "id": "bZjTkoAQW81a",
        "outputId": "48238c0e-76a2-44a6-e27b-2d4d009d69bb"
      },
      "source": [
        "data.columns"
      ],
      "execution_count": 8,
      "outputs": [
        {
          "output_type": "execute_result",
          "data": {
            "text/plain": [
              "Index(['Date', 'neg_twitter', 'neu_twitter', 'pos_twitter', 'compound_twitter',\n",
              "       'neg_reddit', 'neu_reddit', 'pos_reddit', 'compound_reddit',\n",
              "       'avg_trend', 'open', 'diff_open', 'label'],\n",
              "      dtype='object')"
            ]
          },
          "metadata": {},
          "execution_count": 8
        }
      ]
    },
    {
      "cell_type": "code",
      "metadata": {
        "id": "is_lnEBjWcX-"
      },
      "source": [
        "#get training and test data\n",
        "#Using only compound sentiment score, and average google trend score\n",
        "X = data[['compound_twitter','compound_reddit','avg_trend']]\n",
        "y = data[['label']]\n",
        "\n",
        "#we need to use the y value for the NEXT day as the classification variable\n",
        "X = X.iloc[:-1,:]\n",
        "y= y.iloc[1:,:]\n",
        "\n",
        "X_train, X_test, y_train, y_test = train_test_split(X, y, test_size = 0.20)"
      ],
      "execution_count": 11,
      "outputs": []
    },
    {
      "cell_type": "markdown",
      "metadata": {
        "id": "L4wp1DDsXYhs"
      },
      "source": [
        "## Training the Random Forest Classifier\n",
        "\n",
        "Reference: https://www.geeksforgeeks.org/random-forest-classifier-using-scikit-learn/"
      ]
    },
    {
      "cell_type": "code",
      "metadata": {
        "colab": {
          "base_uri": "https://localhost:8080/"
        },
        "id": "0uP2qPULXOaK",
        "outputId": "94fcb412-976d-48e9-8c8c-1c50a24da06e"
      },
      "source": [
        "#Train Model\n",
        "clf = RandomForestClassifier(n_estimators = 10) \n",
        "clf.fit(X_train, y_train)\n",
        "\n",
        "#Predict\n",
        "y_pred = clf.predict(X_test)"
      ],
      "execution_count": 15,
      "outputs": [
        {
          "output_type": "stream",
          "name": "stderr",
          "text": [
            "/usr/local/lib/python3.7/dist-packages/ipykernel_launcher.py:3: DataConversionWarning: A column-vector y was passed when a 1d array was expected. Please change the shape of y to (n_samples,), for example using ravel().\n",
            "  This is separate from the ipykernel package so we can avoid doing imports until\n"
          ]
        }
      ]
    },
    {
      "cell_type": "code",
      "metadata": {
        "colab": {
          "base_uri": "https://localhost:8080/"
        },
        "id": "33C6EB1NXquG",
        "outputId": "502941c5-5679-4467-c14a-1dfbe0fbf52a"
      },
      "source": [
        "#Reference: https://scikit-learn.org/stable/modules/model_evaluation.html\n",
        "\n",
        "#Evaluate Model\n",
        "print(\"Accuracy: \", metrics.accuracy_score(y_test, y_pred))\n",
        "print(\"F1-Score: \", metrics.f1_score(y_test, y_pred, average='weighted'))\n",
        "print(\"Precision: \", metrics.precision_score(y_test, y_pred, average='weighted'))\n",
        "print(\"Recall: \", metrics.recall_score(y_test, y_pred, average='weighted'))"
      ],
      "execution_count": 16,
      "outputs": [
        {
          "output_type": "stream",
          "name": "stdout",
          "text": [
            "Accuracy:  0.09090909090909091\n",
            "F1-Score:  0.04958677685950413\n",
            "Precision:  0.03409090909090909\n",
            "Recall:  0.09090909090909091\n"
          ]
        },
        {
          "output_type": "stream",
          "name": "stderr",
          "text": [
            "/usr/local/lib/python3.7/dist-packages/sklearn/metrics/_classification.py:1308: UndefinedMetricWarning: Precision is ill-defined and being set to 0.0 in labels with no predicted samples. Use `zero_division` parameter to control this behavior.\n",
            "  _warn_prf(average, modifier, msg_start, len(result))\n"
          ]
        }
      ]
    },
    {
      "cell_type": "code",
      "metadata": {
        "colab": {
          "base_uri": "https://localhost:8080/"
        },
        "id": "OlVYpHcXZwNO",
        "outputId": "6b490f09-beb8-48e6-b1ae-5e04da374459"
      },
      "source": [
        "y_pred"
      ],
      "execution_count": 17,
      "outputs": [
        {
          "output_type": "execute_result",
          "data": {
            "text/plain": [
              "array([ 1,  1, -1, -1, -1,  0, -1, -1, -1, -1, -1])"
            ]
          },
          "metadata": {},
          "execution_count": 17
        }
      ]
    },
    {
      "cell_type": "markdown",
      "metadata": {
        "id": "StIKT-JxZmQq"
      },
      "source": [
        "## Training a Support Vector Classifier\n",
        "\n",
        "Reference: https://scikit-learn.org/stable/auto_examples/classification/plot_classifier_comparison.html"
      ]
    },
    {
      "cell_type": "code",
      "metadata": {
        "colab": {
          "base_uri": "https://localhost:8080/"
        },
        "id": "oMZFLlOmZlnm",
        "outputId": "87f4f4d5-fb8a-44a7-dc5e-13a7f6e9f43b"
      },
      "source": [
        "#Train Model\n",
        "clf = SVC(kernel=\"linear\", C=0.025)\n",
        "clf.fit(X_train, y_train)\n",
        "\n",
        "#Predict\n",
        "y_pred = clf.predict(X_test)"
      ],
      "execution_count": 18,
      "outputs": [
        {
          "output_type": "stream",
          "name": "stderr",
          "text": [
            "/usr/local/lib/python3.7/dist-packages/sklearn/utils/validation.py:985: DataConversionWarning: A column-vector y was passed when a 1d array was expected. Please change the shape of y to (n_samples, ), for example using ravel().\n",
            "  y = column_or_1d(y, warn=True)\n"
          ]
        }
      ]
    },
    {
      "cell_type": "code",
      "metadata": {
        "colab": {
          "base_uri": "https://localhost:8080/"
        },
        "id": "Nq3cjoGpYFIK",
        "outputId": "c4ade7b9-ec60-47d3-c6ad-bd36ddc9a62b"
      },
      "source": [
        "#Evaluate Model\n",
        "print(\"Accuracy: \", metrics.accuracy_score(y_test, y_pred))\n",
        "print(\"F1-Score: \", metrics.f1_score(y_test, y_pred, average='weighted'))\n",
        "print(\"Precision: \", metrics.precision_score(y_test, y_pred, average='weighted'))\n",
        "print(\"Recall: \", metrics.recall_score(y_test, y_pred, average='weighted'))"
      ],
      "execution_count": 19,
      "outputs": [
        {
          "output_type": "stream",
          "name": "stdout",
          "text": [
            "Accuracy:  0.36363636363636365\n",
            "F1-Score:  0.19393939393939394\n",
            "Precision:  0.1322314049586777\n",
            "Recall:  0.36363636363636365\n"
          ]
        },
        {
          "output_type": "stream",
          "name": "stderr",
          "text": [
            "/usr/local/lib/python3.7/dist-packages/sklearn/metrics/_classification.py:1308: UndefinedMetricWarning: Precision is ill-defined and being set to 0.0 in labels with no predicted samples. Use `zero_division` parameter to control this behavior.\n",
            "  _warn_prf(average, modifier, msg_start, len(result))\n"
          ]
        }
      ]
    },
    {
      "cell_type": "markdown",
      "metadata": {
        "id": "1vUdjZTyawdK"
      },
      "source": [
        "## Decision Tree Classifier"
      ]
    },
    {
      "cell_type": "code",
      "metadata": {
        "id": "Nj-AA40Aav3K"
      },
      "source": [
        "#Train Model\n",
        "clf = DecisionTreeClassifier(max_depth=5)\n",
        "clf.fit(X_train, y_train)\n",
        "\n",
        "#Predict\n",
        "y_pred = clf.predict(X_test)"
      ],
      "execution_count": 20,
      "outputs": []
    },
    {
      "cell_type": "code",
      "metadata": {
        "colab": {
          "base_uri": "https://localhost:8080/"
        },
        "id": "GCrzQIJMaMf9",
        "outputId": "fc47d7e4-9f75-4a33-f062-c10077e33242"
      },
      "source": [
        "#Evaluate Model\n",
        "print(\"Accuracy: \", metrics.accuracy_score(y_test, y_pred))\n",
        "print(\"F1-Score: \", metrics.f1_score(y_test, y_pred, average='weighted'))\n",
        "print(\"Precision: \", metrics.precision_score(y_test, y_pred, average='weighted'))\n",
        "print(\"Recall: \", metrics.recall_score(y_test, y_pred, average='weighted'))"
      ],
      "execution_count": 21,
      "outputs": [
        {
          "output_type": "stream",
          "name": "stdout",
          "text": [
            "Accuracy:  0.36363636363636365\n",
            "F1-Score:  0.3590909090909091\n",
            "Precision:  0.3727272727272727\n",
            "Recall:  0.36363636363636365\n"
          ]
        },
        {
          "output_type": "stream",
          "name": "stderr",
          "text": [
            "/usr/local/lib/python3.7/dist-packages/sklearn/metrics/_classification.py:1308: UndefinedMetricWarning: Precision is ill-defined and being set to 0.0 in labels with no predicted samples. Use `zero_division` parameter to control this behavior.\n",
            "  _warn_prf(average, modifier, msg_start, len(result))\n"
          ]
        }
      ]
    },
    {
      "cell_type": "markdown",
      "metadata": {
        "id": "ue0oPCNpiner"
      },
      "source": [
        "# 3-way Classification\n",
        "\n",
        "Here, we attempt to categorize change in bitcoin prices to one of 3 categories: negative change (-1), no change (0), positive change (1)"
      ]
    },
    {
      "cell_type": "code",
      "metadata": {
        "colab": {
          "base_uri": "https://localhost:8080/",
          "height": 204
        },
        "id": "W4RkWw7Ga5ER",
        "outputId": "aa37e5d7-4d0b-44fd-88c9-06f080da8d67"
      },
      "source": [
        "data.head()"
      ],
      "execution_count": 22,
      "outputs": [
        {
          "output_type": "execute_result",
          "data": {
            "text/html": [
              "<div>\n",
              "<style scoped>\n",
              "    .dataframe tbody tr th:only-of-type {\n",
              "        vertical-align: middle;\n",
              "    }\n",
              "\n",
              "    .dataframe tbody tr th {\n",
              "        vertical-align: top;\n",
              "    }\n",
              "\n",
              "    .dataframe thead th {\n",
              "        text-align: right;\n",
              "    }\n",
              "</style>\n",
              "<table border=\"1\" class=\"dataframe\">\n",
              "  <thead>\n",
              "    <tr style=\"text-align: right;\">\n",
              "      <th></th>\n",
              "      <th>Date</th>\n",
              "      <th>neg_twitter</th>\n",
              "      <th>neu_twitter</th>\n",
              "      <th>pos_twitter</th>\n",
              "      <th>compound_twitter</th>\n",
              "      <th>neg_reddit</th>\n",
              "      <th>neu_reddit</th>\n",
              "      <th>pos_reddit</th>\n",
              "      <th>compound_reddit</th>\n",
              "      <th>avg_trend</th>\n",
              "      <th>open</th>\n",
              "      <th>diff_open</th>\n",
              "      <th>label</th>\n",
              "    </tr>\n",
              "  </thead>\n",
              "  <tbody>\n",
              "    <tr>\n",
              "      <th>0</th>\n",
              "      <td>2021-02-08</td>\n",
              "      <td>0.025719</td>\n",
              "      <td>0.887855</td>\n",
              "      <td>0.086424</td>\n",
              "      <td>0.157384</td>\n",
              "      <td>0.065759</td>\n",
              "      <td>0.796466</td>\n",
              "      <td>0.137774</td>\n",
              "      <td>0.131102</td>\n",
              "      <td>50.626875</td>\n",
              "      <td>38795.69</td>\n",
              "      <td>-385.32</td>\n",
              "      <td>0</td>\n",
              "    </tr>\n",
              "    <tr>\n",
              "      <th>1</th>\n",
              "      <td>2021-02-09</td>\n",
              "      <td>0.027866</td>\n",
              "      <td>0.890614</td>\n",
              "      <td>0.081516</td>\n",
              "      <td>0.149618</td>\n",
              "      <td>0.063627</td>\n",
              "      <td>0.804396</td>\n",
              "      <td>0.129117</td>\n",
              "      <td>0.159778</td>\n",
              "      <td>65.428750</td>\n",
              "      <td>46374.86</td>\n",
              "      <td>7579.17</td>\n",
              "      <td>2</td>\n",
              "    </tr>\n",
              "    <tr>\n",
              "      <th>2</th>\n",
              "      <td>2021-02-10</td>\n",
              "      <td>0.028736</td>\n",
              "      <td>0.885619</td>\n",
              "      <td>0.085641</td>\n",
              "      <td>0.158076</td>\n",
              "      <td>0.059693</td>\n",
              "      <td>0.800772</td>\n",
              "      <td>0.137013</td>\n",
              "      <td>0.153127</td>\n",
              "      <td>35.386250</td>\n",
              "      <td>46420.42</td>\n",
              "      <td>45.56</td>\n",
              "      <td>0</td>\n",
              "    </tr>\n",
              "    <tr>\n",
              "      <th>3</th>\n",
              "      <td>2021-02-13</td>\n",
              "      <td>0.029296</td>\n",
              "      <td>0.885487</td>\n",
              "      <td>0.085214</td>\n",
              "      <td>0.148188</td>\n",
              "      <td>0.067005</td>\n",
              "      <td>0.800504</td>\n",
              "      <td>0.129159</td>\n",
              "      <td>0.142842</td>\n",
              "      <td>18.039375</td>\n",
              "      <td>47298.15</td>\n",
              "      <td>-670.51</td>\n",
              "      <td>-1</td>\n",
              "    </tr>\n",
              "    <tr>\n",
              "      <th>4</th>\n",
              "      <td>2021-02-14</td>\n",
              "      <td>0.026092</td>\n",
              "      <td>0.859811</td>\n",
              "      <td>0.114094</td>\n",
              "      <td>0.255904</td>\n",
              "      <td>0.067111</td>\n",
              "      <td>0.798853</td>\n",
              "      <td>0.130681</td>\n",
              "      <td>0.141220</td>\n",
              "      <td>25.836250</td>\n",
              "      <td>47156.78</td>\n",
              "      <td>-141.37</td>\n",
              "      <td>0</td>\n",
              "    </tr>\n",
              "  </tbody>\n",
              "</table>\n",
              "</div>"
            ],
            "text/plain": [
              "         Date  neg_twitter  neu_twitter  ...      open  diff_open  label\n",
              "0  2021-02-08     0.025719     0.887855  ...  38795.69    -385.32      0\n",
              "1  2021-02-09     0.027866     0.890614  ...  46374.86    7579.17      2\n",
              "2  2021-02-10     0.028736     0.885619  ...  46420.42      45.56      0\n",
              "3  2021-02-13     0.029296     0.885487  ...  47298.15    -670.51     -1\n",
              "4  2021-02-14     0.026092     0.859811  ...  47156.78    -141.37      0\n",
              "\n",
              "[5 rows x 13 columns]"
            ]
          },
          "metadata": {},
          "execution_count": 22
        }
      ]
    },
    {
      "cell_type": "code",
      "metadata": {
        "colab": {
          "base_uri": "https://localhost:8080/",
          "height": 204
        },
        "id": "zNeMc0zmi4Tq",
        "outputId": "3d731ed7-53c0-4c83-8621-3e5aed8046d2"
      },
      "source": [
        "#Transform Label\n",
        "data.loc[data['label'] >0, 'label_3'] = 1  \n",
        "data.loc[data['label'] <0, 'label_3'] = -1  \n",
        "data.loc[data['label'] ==0, 'label_3'] = 0\n",
        "\n",
        "data.head()"
      ],
      "execution_count": 23,
      "outputs": [
        {
          "output_type": "execute_result",
          "data": {
            "text/html": [
              "<div>\n",
              "<style scoped>\n",
              "    .dataframe tbody tr th:only-of-type {\n",
              "        vertical-align: middle;\n",
              "    }\n",
              "\n",
              "    .dataframe tbody tr th {\n",
              "        vertical-align: top;\n",
              "    }\n",
              "\n",
              "    .dataframe thead th {\n",
              "        text-align: right;\n",
              "    }\n",
              "</style>\n",
              "<table border=\"1\" class=\"dataframe\">\n",
              "  <thead>\n",
              "    <tr style=\"text-align: right;\">\n",
              "      <th></th>\n",
              "      <th>Date</th>\n",
              "      <th>neg_twitter</th>\n",
              "      <th>neu_twitter</th>\n",
              "      <th>pos_twitter</th>\n",
              "      <th>compound_twitter</th>\n",
              "      <th>neg_reddit</th>\n",
              "      <th>neu_reddit</th>\n",
              "      <th>pos_reddit</th>\n",
              "      <th>compound_reddit</th>\n",
              "      <th>avg_trend</th>\n",
              "      <th>open</th>\n",
              "      <th>diff_open</th>\n",
              "      <th>label</th>\n",
              "      <th>label_3</th>\n",
              "    </tr>\n",
              "  </thead>\n",
              "  <tbody>\n",
              "    <tr>\n",
              "      <th>0</th>\n",
              "      <td>2021-02-08</td>\n",
              "      <td>0.025719</td>\n",
              "      <td>0.887855</td>\n",
              "      <td>0.086424</td>\n",
              "      <td>0.157384</td>\n",
              "      <td>0.065759</td>\n",
              "      <td>0.796466</td>\n",
              "      <td>0.137774</td>\n",
              "      <td>0.131102</td>\n",
              "      <td>50.626875</td>\n",
              "      <td>38795.69</td>\n",
              "      <td>-385.32</td>\n",
              "      <td>0</td>\n",
              "      <td>0.0</td>\n",
              "    </tr>\n",
              "    <tr>\n",
              "      <th>1</th>\n",
              "      <td>2021-02-09</td>\n",
              "      <td>0.027866</td>\n",
              "      <td>0.890614</td>\n",
              "      <td>0.081516</td>\n",
              "      <td>0.149618</td>\n",
              "      <td>0.063627</td>\n",
              "      <td>0.804396</td>\n",
              "      <td>0.129117</td>\n",
              "      <td>0.159778</td>\n",
              "      <td>65.428750</td>\n",
              "      <td>46374.86</td>\n",
              "      <td>7579.17</td>\n",
              "      <td>2</td>\n",
              "      <td>1.0</td>\n",
              "    </tr>\n",
              "    <tr>\n",
              "      <th>2</th>\n",
              "      <td>2021-02-10</td>\n",
              "      <td>0.028736</td>\n",
              "      <td>0.885619</td>\n",
              "      <td>0.085641</td>\n",
              "      <td>0.158076</td>\n",
              "      <td>0.059693</td>\n",
              "      <td>0.800772</td>\n",
              "      <td>0.137013</td>\n",
              "      <td>0.153127</td>\n",
              "      <td>35.386250</td>\n",
              "      <td>46420.42</td>\n",
              "      <td>45.56</td>\n",
              "      <td>0</td>\n",
              "      <td>0.0</td>\n",
              "    </tr>\n",
              "    <tr>\n",
              "      <th>3</th>\n",
              "      <td>2021-02-13</td>\n",
              "      <td>0.029296</td>\n",
              "      <td>0.885487</td>\n",
              "      <td>0.085214</td>\n",
              "      <td>0.148188</td>\n",
              "      <td>0.067005</td>\n",
              "      <td>0.800504</td>\n",
              "      <td>0.129159</td>\n",
              "      <td>0.142842</td>\n",
              "      <td>18.039375</td>\n",
              "      <td>47298.15</td>\n",
              "      <td>-670.51</td>\n",
              "      <td>-1</td>\n",
              "      <td>-1.0</td>\n",
              "    </tr>\n",
              "    <tr>\n",
              "      <th>4</th>\n",
              "      <td>2021-02-14</td>\n",
              "      <td>0.026092</td>\n",
              "      <td>0.859811</td>\n",
              "      <td>0.114094</td>\n",
              "      <td>0.255904</td>\n",
              "      <td>0.067111</td>\n",
              "      <td>0.798853</td>\n",
              "      <td>0.130681</td>\n",
              "      <td>0.141220</td>\n",
              "      <td>25.836250</td>\n",
              "      <td>47156.78</td>\n",
              "      <td>-141.37</td>\n",
              "      <td>0</td>\n",
              "      <td>0.0</td>\n",
              "    </tr>\n",
              "  </tbody>\n",
              "</table>\n",
              "</div>"
            ],
            "text/plain": [
              "         Date  neg_twitter  neu_twitter  ...  diff_open  label  label_3\n",
              "0  2021-02-08     0.025719     0.887855  ...    -385.32      0      0.0\n",
              "1  2021-02-09     0.027866     0.890614  ...    7579.17      2      1.0\n",
              "2  2021-02-10     0.028736     0.885619  ...      45.56      0      0.0\n",
              "3  2021-02-13     0.029296     0.885487  ...    -670.51     -1     -1.0\n",
              "4  2021-02-14     0.026092     0.859811  ...    -141.37      0      0.0\n",
              "\n",
              "[5 rows x 14 columns]"
            ]
          },
          "metadata": {},
          "execution_count": 23
        }
      ]
    },
    {
      "cell_type": "code",
      "metadata": {
        "id": "AoUhW1CvjdMu"
      },
      "source": [
        "#get training and test data\n",
        "#Using only compound sentiment score, and average google trend score\n",
        "X = data[['compound_twitter','compound_reddit','avg_trend']]\n",
        "y = data[['label_3']]\n",
        "\n",
        "X_train, X_test, y_train, y_test = train_test_split(X, y, test_size = 0.20)"
      ],
      "execution_count": 24,
      "outputs": []
    },
    {
      "cell_type": "code",
      "metadata": {
        "id": "WOd9wCLhjjNw"
      },
      "source": [
        "#Train Decision Tree\n",
        "#Train Model\n",
        "clf = DecisionTreeClassifier(max_depth=5)\n",
        "clf.fit(X_train, y_train)\n",
        "\n",
        "#Predict\n",
        "y_pred = clf.predict(X_test)"
      ],
      "execution_count": 25,
      "outputs": []
    },
    {
      "cell_type": "code",
      "metadata": {
        "id": "6GUtkGN4jnU_",
        "colab": {
          "base_uri": "https://localhost:8080/"
        },
        "outputId": "0b738bb0-0fbf-445e-bfd7-158d55c73a18"
      },
      "source": [
        "#Evaluate Model\n",
        "print(\"Accuracy: \", metrics.accuracy_score(y_test, y_pred))\n",
        "print(\"F1-Score: \", metrics.f1_score(y_test, y_pred, average='weighted'))\n",
        "print(\"Precision: \", metrics.precision_score(y_test, y_pred, average='weighted'))\n",
        "print(\"Recall: \", metrics.recall_score(y_test, y_pred, average='weighted'))"
      ],
      "execution_count": 26,
      "outputs": [
        {
          "output_type": "stream",
          "name": "stdout",
          "text": [
            "Accuracy:  0.2727272727272727\n",
            "F1-Score:  0.2621015348288076\n",
            "Precision:  0.33116883116883117\n",
            "Recall:  0.2727272727272727\n"
          ]
        }
      ]
    },
    {
      "cell_type": "code",
      "metadata": {
        "id": "fAIm_Ebqjo7M"
      },
      "source": [
        ""
      ],
      "execution_count": null,
      "outputs": []
    }
  ]
}