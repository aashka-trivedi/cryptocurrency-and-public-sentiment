{
  "nbformat": 4,
  "nbformat_minor": 0,
  "metadata": {
    "colab": {
      "name": "BitcoinPriceModel.ipynb",
      "provenance": [],
      "collapsed_sections": []
    },
    "kernelspec": {
      "name": "python3",
      "display_name": "Python 3"
    },
    "language_info": {
      "name": "python"
    }
  },
  "cells": [
    {
      "cell_type": "markdown",
      "metadata": {
        "id": "dZ-VUxYVRI1k"
      },
      "source": [
        "# Predicting Change in Daily Bitcoin Prices using Social Media Interest Measures\n",
        "\n",
        "Here, we train a classifier to use Daily twitter sentiment scores, daily reddit sentiment scores, and daily google trend scores to categorize the change in bitcoin prices into one of 5 categories: highly negative (-2), moderately negative (-1), no commendable change (0), moderately positive (1), highly negative (2)"
      ]
    },
    {
      "cell_type": "code",
      "metadata": {
        "id": "J8vrC959RFeG"
      },
      "source": [
        "import pandas as pd\n",
        "import matplotlib.pyplot as plt\n",
        "from sklearn.model_selection import train_test_split\n",
        "from sklearn.ensemble import RandomForestClassifier\n",
        "from sklearn import metrics \n",
        "from sklearn.svm import SVC\n",
        "from sklearn.tree import DecisionTreeClassifier"
      ],
      "execution_count": null,
      "outputs": []
    },
    {
      "cell_type": "markdown",
      "metadata": {
        "id": "76QQ5v9CUCZU"
      },
      "source": [
        "## Prepare Data"
      ]
    },
    {
      "cell_type": "code",
      "metadata": {
        "id": "pSPLeCV7SwKq"
      },
      "source": [
        "#Import Data\n",
        "\n",
        "bitcoin = pd.read_csv('categorical_bitcoin_price.csv', sep='\\t', index_col=0)\n",
        "reddit = pd.read_csv('redditDailySentiment.csv', sep='\\t', index_col=None)\n",
        "trends= pd.read_csv('trends_daily_score.csv', sep='\\t', index_col=0)\n",
        "twitter = pd.read_csv('twitterSentiment.csv', sep=',', index_col=None)"
      ],
      "execution_count": null,
      "outputs": []
    },
    {
      "cell_type": "code",
      "metadata": {
        "colab": {
          "base_uri": "https://localhost:8080/",
          "height": 206
        },
        "id": "6E9G27__TM-8",
        "outputId": "847efc18-3c31-4da6-aeb1-07aabdcd816b"
      },
      "source": [
        "bitcoin.head()"
      ],
      "execution_count": null,
      "outputs": [
        {
          "output_type": "execute_result",
          "data": {
            "text/html": [
              "<div>\n",
              "<style scoped>\n",
              "    .dataframe tbody tr th:only-of-type {\n",
              "        vertical-align: middle;\n",
              "    }\n",
              "\n",
              "    .dataframe tbody tr th {\n",
              "        vertical-align: top;\n",
              "    }\n",
              "\n",
              "    .dataframe thead th {\n",
              "        text-align: right;\n",
              "    }\n",
              "</style>\n",
              "<table border=\"1\" class=\"dataframe\">\n",
              "  <thead>\n",
              "    <tr style=\"text-align: right;\">\n",
              "      <th></th>\n",
              "      <th>Date</th>\n",
              "      <th>open</th>\n",
              "      <th>high</th>\n",
              "      <th>low</th>\n",
              "      <th>close</th>\n",
              "      <th>volume</th>\n",
              "      <th>Diff_Open</th>\n",
              "      <th>Diff_Category</th>\n",
              "    </tr>\n",
              "  </thead>\n",
              "  <tbody>\n",
              "    <tr>\n",
              "      <th>0</th>\n",
              "      <td>2021-01-01</td>\n",
              "      <td>28923.63</td>\n",
              "      <td>29600.00</td>\n",
              "      <td>28624.57</td>\n",
              "      <td>29331.69</td>\n",
              "      <td>54182.925011</td>\n",
              "      <td>NaN</td>\n",
              "      <td>0</td>\n",
              "    </tr>\n",
              "    <tr>\n",
              "      <th>1</th>\n",
              "      <td>2021-01-02</td>\n",
              "      <td>29331.70</td>\n",
              "      <td>33300.00</td>\n",
              "      <td>28946.53</td>\n",
              "      <td>32178.33</td>\n",
              "      <td>129993.873362</td>\n",
              "      <td>408.07</td>\n",
              "      <td>0</td>\n",
              "    </tr>\n",
              "    <tr>\n",
              "      <th>2</th>\n",
              "      <td>2021-01-03</td>\n",
              "      <td>32176.45</td>\n",
              "      <td>34778.11</td>\n",
              "      <td>31962.99</td>\n",
              "      <td>33000.05</td>\n",
              "      <td>120957.566750</td>\n",
              "      <td>2844.75</td>\n",
              "      <td>1</td>\n",
              "    </tr>\n",
              "    <tr>\n",
              "      <th>3</th>\n",
              "      <td>2021-01-04</td>\n",
              "      <td>33000.05</td>\n",
              "      <td>33600.00</td>\n",
              "      <td>28130.00</td>\n",
              "      <td>31988.71</td>\n",
              "      <td>140899.885690</td>\n",
              "      <td>823.60</td>\n",
              "      <td>1</td>\n",
              "    </tr>\n",
              "    <tr>\n",
              "      <th>4</th>\n",
              "      <td>2021-01-05</td>\n",
              "      <td>31989.75</td>\n",
              "      <td>34360.00</td>\n",
              "      <td>29900.00</td>\n",
              "      <td>33949.53</td>\n",
              "      <td>116049.997038</td>\n",
              "      <td>-1010.30</td>\n",
              "      <td>-1</td>\n",
              "    </tr>\n",
              "  </tbody>\n",
              "</table>\n",
              "</div>"
            ],
            "text/plain": [
              "         Date      open      high  ...         volume  Diff_Open  Diff_Category\n",
              "0  2021-01-01  28923.63  29600.00  ...   54182.925011        NaN              0\n",
              "1  2021-01-02  29331.70  33300.00  ...  129993.873362     408.07              0\n",
              "2  2021-01-03  32176.45  34778.11  ...  120957.566750    2844.75              1\n",
              "3  2021-01-04  33000.05  33600.00  ...  140899.885690     823.60              1\n",
              "4  2021-01-05  31989.75  34360.00  ...  116049.997038   -1010.30             -1\n",
              "\n",
              "[5 rows x 8 columns]"
            ]
          },
          "metadata": {},
          "execution_count": 63
        }
      ]
    },
    {
      "cell_type": "code",
      "metadata": {
        "colab": {
          "base_uri": "https://localhost:8080/",
          "height": 206
        },
        "id": "bCoKqWLCTO95",
        "outputId": "5ab06b23-8332-4077-d795-6214a50033dc"
      },
      "source": [
        "reddit.head()"
      ],
      "execution_count": null,
      "outputs": [
        {
          "output_type": "execute_result",
          "data": {
            "text/html": [
              "<div>\n",
              "<style scoped>\n",
              "    .dataframe tbody tr th:only-of-type {\n",
              "        vertical-align: middle;\n",
              "    }\n",
              "\n",
              "    .dataframe tbody tr th {\n",
              "        vertical-align: top;\n",
              "    }\n",
              "\n",
              "    .dataframe thead th {\n",
              "        text-align: right;\n",
              "    }\n",
              "</style>\n",
              "<table border=\"1\" class=\"dataframe\">\n",
              "  <thead>\n",
              "    <tr style=\"text-align: right;\">\n",
              "      <th></th>\n",
              "      <th>Day</th>\n",
              "      <th>neg</th>\n",
              "      <th>neu</th>\n",
              "      <th>pos</th>\n",
              "      <th>compound</th>\n",
              "    </tr>\n",
              "  </thead>\n",
              "  <tbody>\n",
              "    <tr>\n",
              "      <th>0</th>\n",
              "      <td>2021-01-01</td>\n",
              "      <td>0.052390</td>\n",
              "      <td>0.771753</td>\n",
              "      <td>0.172513</td>\n",
              "      <td>0.238452</td>\n",
              "    </tr>\n",
              "    <tr>\n",
              "      <th>1</th>\n",
              "      <td>2021-01-02</td>\n",
              "      <td>0.057414</td>\n",
              "      <td>0.811156</td>\n",
              "      <td>0.121446</td>\n",
              "      <td>0.135624</td>\n",
              "    </tr>\n",
              "    <tr>\n",
              "      <th>2</th>\n",
              "      <td>2021-01-03</td>\n",
              "      <td>0.063241</td>\n",
              "      <td>0.783810</td>\n",
              "      <td>0.148659</td>\n",
              "      <td>0.152421</td>\n",
              "    </tr>\n",
              "    <tr>\n",
              "      <th>3</th>\n",
              "      <td>2021-01-04</td>\n",
              "      <td>0.061042</td>\n",
              "      <td>0.815152</td>\n",
              "      <td>0.121297</td>\n",
              "      <td>0.167221</td>\n",
              "    </tr>\n",
              "    <tr>\n",
              "      <th>4</th>\n",
              "      <td>2021-01-05</td>\n",
              "      <td>0.061790</td>\n",
              "      <td>0.801428</td>\n",
              "      <td>0.135118</td>\n",
              "      <td>0.147205</td>\n",
              "    </tr>\n",
              "  </tbody>\n",
              "</table>\n",
              "</div>"
            ],
            "text/plain": [
              "          Day       neg       neu       pos  compound\n",
              "0  2021-01-01  0.052390  0.771753  0.172513  0.238452\n",
              "1  2021-01-02  0.057414  0.811156  0.121446  0.135624\n",
              "2  2021-01-03  0.063241  0.783810  0.148659  0.152421\n",
              "3  2021-01-04  0.061042  0.815152  0.121297  0.167221\n",
              "4  2021-01-05  0.061790  0.801428  0.135118  0.147205"
            ]
          },
          "metadata": {},
          "execution_count": 64
        }
      ]
    },
    {
      "cell_type": "code",
      "metadata": {
        "colab": {
          "base_uri": "https://localhost:8080/",
          "height": 206
        },
        "id": "F9K9kWM9TPNW",
        "outputId": "21b73f07-7927-4948-b9b3-a4e3c139a36c"
      },
      "source": [
        "trends.head()"
      ],
      "execution_count": null,
      "outputs": [
        {
          "output_type": "execute_result",
          "data": {
            "text/html": [
              "<div>\n",
              "<style scoped>\n",
              "    .dataframe tbody tr th:only-of-type {\n",
              "        vertical-align: middle;\n",
              "    }\n",
              "\n",
              "    .dataframe tbody tr th {\n",
              "        vertical-align: top;\n",
              "    }\n",
              "\n",
              "    .dataframe thead th {\n",
              "        text-align: right;\n",
              "    }\n",
              "</style>\n",
              "<table border=\"1\" class=\"dataframe\">\n",
              "  <thead>\n",
              "    <tr style=\"text-align: right;\">\n",
              "      <th></th>\n",
              "      <th>date</th>\n",
              "      <th>avg_score</th>\n",
              "      <th>weighted_score</th>\n",
              "    </tr>\n",
              "  </thead>\n",
              "  <tbody>\n",
              "    <tr>\n",
              "      <th>0</th>\n",
              "      <td>2021-01-01</td>\n",
              "      <td>12.660625</td>\n",
              "      <td>14.447561</td>\n",
              "    </tr>\n",
              "    <tr>\n",
              "      <th>1</th>\n",
              "      <td>2021-01-02</td>\n",
              "      <td>34.144375</td>\n",
              "      <td>37.360744</td>\n",
              "    </tr>\n",
              "    <tr>\n",
              "      <th>2</th>\n",
              "      <td>2021-01-03</td>\n",
              "      <td>48.853125</td>\n",
              "      <td>53.128124</td>\n",
              "    </tr>\n",
              "    <tr>\n",
              "      <th>3</th>\n",
              "      <td>2021-01-04</td>\n",
              "      <td>32.544375</td>\n",
              "      <td>35.352064</td>\n",
              "    </tr>\n",
              "    <tr>\n",
              "      <th>4</th>\n",
              "      <td>2021-01-05</td>\n",
              "      <td>24.341250</td>\n",
              "      <td>26.472194</td>\n",
              "    </tr>\n",
              "  </tbody>\n",
              "</table>\n",
              "</div>"
            ],
            "text/plain": [
              "         date  avg_score  weighted_score\n",
              "0  2021-01-01  12.660625       14.447561\n",
              "1  2021-01-02  34.144375       37.360744\n",
              "2  2021-01-03  48.853125       53.128124\n",
              "3  2021-01-04  32.544375       35.352064\n",
              "4  2021-01-05  24.341250       26.472194"
            ]
          },
          "metadata": {},
          "execution_count": 65
        }
      ]
    },
    {
      "cell_type": "code",
      "metadata": {
        "colab": {
          "base_uri": "https://localhost:8080/",
          "height": 206
        },
        "id": "nZahHokiP_Qv",
        "outputId": "d81a1aa5-d068-44ce-d9b6-7c1a9bf49c2f"
      },
      "source": [
        "twitter.head()"
      ],
      "execution_count": null,
      "outputs": [
        {
          "output_type": "execute_result",
          "data": {
            "text/html": [
              "<div>\n",
              "<style scoped>\n",
              "    .dataframe tbody tr th:only-of-type {\n",
              "        vertical-align: middle;\n",
              "    }\n",
              "\n",
              "    .dataframe tbody tr th {\n",
              "        vertical-align: top;\n",
              "    }\n",
              "\n",
              "    .dataframe thead th {\n",
              "        text-align: right;\n",
              "    }\n",
              "</style>\n",
              "<table border=\"1\" class=\"dataframe\">\n",
              "  <thead>\n",
              "    <tr style=\"text-align: right;\">\n",
              "      <th></th>\n",
              "      <th>Day</th>\n",
              "      <th>neg</th>\n",
              "      <th>neu</th>\n",
              "      <th>pos</th>\n",
              "      <th>compound</th>\n",
              "    </tr>\n",
              "  </thead>\n",
              "  <tbody>\n",
              "    <tr>\n",
              "      <th>0</th>\n",
              "      <td>2021-02-05</td>\n",
              "      <td>0.030948</td>\n",
              "      <td>0.892471</td>\n",
              "      <td>0.076579</td>\n",
              "      <td>0.125674</td>\n",
              "    </tr>\n",
              "    <tr>\n",
              "      <th>1</th>\n",
              "      <td>2021-02-06</td>\n",
              "      <td>0.028127</td>\n",
              "      <td>0.896185</td>\n",
              "      <td>0.075680</td>\n",
              "      <td>0.129964</td>\n",
              "    </tr>\n",
              "    <tr>\n",
              "      <th>2</th>\n",
              "      <td>2021-02-07</td>\n",
              "      <td>0.028718</td>\n",
              "      <td>0.890963</td>\n",
              "      <td>0.080317</td>\n",
              "      <td>0.139650</td>\n",
              "    </tr>\n",
              "    <tr>\n",
              "      <th>3</th>\n",
              "      <td>2021-02-08</td>\n",
              "      <td>0.025719</td>\n",
              "      <td>0.887855</td>\n",
              "      <td>0.086424</td>\n",
              "      <td>0.157384</td>\n",
              "    </tr>\n",
              "    <tr>\n",
              "      <th>4</th>\n",
              "      <td>2021-02-09</td>\n",
              "      <td>0.027866</td>\n",
              "      <td>0.890614</td>\n",
              "      <td>0.081516</td>\n",
              "      <td>0.149618</td>\n",
              "    </tr>\n",
              "  </tbody>\n",
              "</table>\n",
              "</div>"
            ],
            "text/plain": [
              "          Day       neg       neu       pos  compound\n",
              "0  2021-02-05  0.030948  0.892471  0.076579  0.125674\n",
              "1  2021-02-06  0.028127  0.896185  0.075680  0.129964\n",
              "2  2021-02-07  0.028718  0.890963  0.080317  0.139650\n",
              "3  2021-02-08  0.025719  0.887855  0.086424  0.157384\n",
              "4  2021-02-09  0.027866  0.890614  0.081516  0.149618"
            ]
          },
          "metadata": {},
          "execution_count": 66
        }
      ]
    },
    {
      "cell_type": "code",
      "metadata": {
        "id": "2NdIVLzuTnsK"
      },
      "source": [
        "#Rename merging column (\"Date\")\n",
        "reddit = reddit.rename(columns={\"Day\": \"Date\"})\n",
        "trends = trends.rename(columns={\"date\": \"Date\"})\n",
        "twitter = twitter.rename(columns={\"Day\": \"Date\"})"
      ],
      "execution_count": null,
      "outputs": []
    },
    {
      "cell_type": "code",
      "metadata": {
        "colab": {
          "base_uri": "https://localhost:8080/",
          "height": 206
        },
        "id": "N6Ii8znJSkBV",
        "outputId": "a36293c7-11e2-4098-97d7-28b96dfe13c6"
      },
      "source": [
        "#Combine Data into dataframe\n",
        "\n",
        "data = pd.DataFrame()\n",
        "data[\"Date\"] = bitcoin[\"Date\"]\n",
        "data = data.merge(twitter[['Date','compound']], on='Date',how='outer')\n",
        "data = data.merge(reddit[['Date','compound']], on='Date', how='outer')\n",
        "data = data.merge(trends[['Date', 'avg_score']], on='Date',how='outer')\n",
        "data = data.merge(bitcoin[['Date','Diff_Category']], on='Date',how='outer')\n",
        "data.head()"
      ],
      "execution_count": null,
      "outputs": [
        {
          "output_type": "execute_result",
          "data": {
            "text/html": [
              "<div>\n",
              "<style scoped>\n",
              "    .dataframe tbody tr th:only-of-type {\n",
              "        vertical-align: middle;\n",
              "    }\n",
              "\n",
              "    .dataframe tbody tr th {\n",
              "        vertical-align: top;\n",
              "    }\n",
              "\n",
              "    .dataframe thead th {\n",
              "        text-align: right;\n",
              "    }\n",
              "</style>\n",
              "<table border=\"1\" class=\"dataframe\">\n",
              "  <thead>\n",
              "    <tr style=\"text-align: right;\">\n",
              "      <th></th>\n",
              "      <th>Date</th>\n",
              "      <th>compound_x</th>\n",
              "      <th>compound_y</th>\n",
              "      <th>avg_score</th>\n",
              "      <th>Diff_Category</th>\n",
              "    </tr>\n",
              "  </thead>\n",
              "  <tbody>\n",
              "    <tr>\n",
              "      <th>0</th>\n",
              "      <td>2021-01-01</td>\n",
              "      <td>NaN</td>\n",
              "      <td>0.238452</td>\n",
              "      <td>12.660625</td>\n",
              "      <td>0.0</td>\n",
              "    </tr>\n",
              "    <tr>\n",
              "      <th>1</th>\n",
              "      <td>2021-01-02</td>\n",
              "      <td>NaN</td>\n",
              "      <td>0.135624</td>\n",
              "      <td>34.144375</td>\n",
              "      <td>0.0</td>\n",
              "    </tr>\n",
              "    <tr>\n",
              "      <th>2</th>\n",
              "      <td>2021-01-03</td>\n",
              "      <td>NaN</td>\n",
              "      <td>0.152421</td>\n",
              "      <td>48.853125</td>\n",
              "      <td>1.0</td>\n",
              "    </tr>\n",
              "    <tr>\n",
              "      <th>3</th>\n",
              "      <td>2021-01-04</td>\n",
              "      <td>NaN</td>\n",
              "      <td>0.167221</td>\n",
              "      <td>32.544375</td>\n",
              "      <td>1.0</td>\n",
              "    </tr>\n",
              "    <tr>\n",
              "      <th>4</th>\n",
              "      <td>2021-01-05</td>\n",
              "      <td>NaN</td>\n",
              "      <td>0.147205</td>\n",
              "      <td>24.341250</td>\n",
              "      <td>-1.0</td>\n",
              "    </tr>\n",
              "  </tbody>\n",
              "</table>\n",
              "</div>"
            ],
            "text/plain": [
              "         Date  compound_x  compound_y  avg_score  Diff_Category\n",
              "0  2021-01-01         NaN    0.238452  12.660625            0.0\n",
              "1  2021-01-02         NaN    0.135624  34.144375            0.0\n",
              "2  2021-01-03         NaN    0.152421  48.853125            1.0\n",
              "3  2021-01-04         NaN    0.167221  32.544375            1.0\n",
              "4  2021-01-05         NaN    0.147205  24.341250           -1.0"
            ]
          },
          "metadata": {},
          "execution_count": 149
        }
      ]
    },
    {
      "cell_type": "code",
      "metadata": {
        "colab": {
          "base_uri": "https://localhost:8080/",
          "height": 70
        },
        "id": "WBFMXQPNVeGt",
        "outputId": "c691aca3-971b-4783-b6b4-bdb65369dfe2"
      },
      "source": [
        "#Rename columns, drop unnecessary columns\n",
        "'''\n",
        "data = data.drop(['weighted_score', 'high', 'low','close','volume'],axis=1)\n",
        "data = data.rename(columns={'neg_x':'neg_twitter', 'neu_x':'neu_twitter','pos_x':'pos_twitter','compound_x':'compound_twitter','neg_y':'neg_reddit', 'neu_y':'neu_reddit','pos_y':'pos_reddit','compound_y':'compound_reddit','avg_score':'avg_trend','Diff_Open':'diff_open','Diff_Category':'label'})\n",
        "data.head()\n",
        "'''"
      ],
      "execution_count": null,
      "outputs": [
        {
          "output_type": "execute_result",
          "data": {
            "application/vnd.google.colaboratory.intrinsic+json": {
              "type": "string"
            },
            "text/plain": [
              "\"\\ndata = data.drop(['weighted_score', 'high', 'low','close','volume'],axis=1)\\ndata = data.rename(columns={'neg_x':'neg_twitter', 'neu_x':'neu_twitter','pos_x':'pos_twitter','compound_x':'compound_twitter','neg_y':'neg_reddit', 'neu_y':'neu_reddit','pos_y':'pos_reddit','compound_y':'compound_reddit','avg_score':'avg_trend','Diff_Open':'diff_open','Diff_Category':'label'})\\ndata.head()\\n\""
            ]
          },
          "metadata": {},
          "execution_count": 73
        }
      ]
    },
    {
      "cell_type": "code",
      "metadata": {
        "colab": {
          "base_uri": "https://localhost:8080/"
        },
        "id": "3Lu_4PUmWXLo",
        "outputId": "5269d3e5-40dd-43e2-bdcc-59845d9d7c42"
      },
      "source": [
        "data['Diff_Category'].value_counts()"
      ],
      "execution_count": null,
      "outputs": [
        {
          "output_type": "execute_result",
          "data": {
            "text/plain": [
              "-1.0    88\n",
              " 1.0    84\n",
              " 0.0    59\n",
              " 2.0     8\n",
              "-2.0     4\n",
              "Name: Diff_Category, dtype: int64"
            ]
          },
          "metadata": {},
          "execution_count": 75
        }
      ]
    },
    {
      "cell_type": "code",
      "source": [
        "#Drop all values for which we dont have the bitcoin price category\n",
        "data = data.dropna(subset=['Diff_Category'])\n",
        "#drop all values for which both twitter and reddit scores are missing\n",
        "data = data.dropna(thresh=4)\n",
        "#Fill NAN values with the mean\n",
        "data = data.fillna(data.mean())\n",
        "data.tail()"
      ],
      "metadata": {
        "colab": {
          "base_uri": "https://localhost:8080/",
          "height": 206
        },
        "id": "1Xdz97PMcXgR",
        "outputId": "68e72f15-f1e0-4694-b09b-2eaa54867634"
      },
      "execution_count": null,
      "outputs": [
        {
          "output_type": "execute_result",
          "data": {
            "text/html": [
              "<div>\n",
              "<style scoped>\n",
              "    .dataframe tbody tr th:only-of-type {\n",
              "        vertical-align: middle;\n",
              "    }\n",
              "\n",
              "    .dataframe tbody tr th {\n",
              "        vertical-align: top;\n",
              "    }\n",
              "\n",
              "    .dataframe thead th {\n",
              "        text-align: right;\n",
              "    }\n",
              "</style>\n",
              "<table border=\"1\" class=\"dataframe\">\n",
              "  <thead>\n",
              "    <tr style=\"text-align: right;\">\n",
              "      <th></th>\n",
              "      <th>Date</th>\n",
              "      <th>compound_x</th>\n",
              "      <th>compound_y</th>\n",
              "      <th>avg_score</th>\n",
              "      <th>Diff_Category</th>\n",
              "    </tr>\n",
              "  </thead>\n",
              "  <tbody>\n",
              "    <tr>\n",
              "      <th>232</th>\n",
              "      <td>2021-08-21</td>\n",
              "      <td>0.263556</td>\n",
              "      <td>0.119886</td>\n",
              "      <td>18.431875</td>\n",
              "      <td>1.0</td>\n",
              "    </tr>\n",
              "    <tr>\n",
              "      <th>234</th>\n",
              "      <td>2021-08-23</td>\n",
              "      <td>0.231269</td>\n",
              "      <td>0.119886</td>\n",
              "      <td>27.978125</td>\n",
              "      <td>0.0</td>\n",
              "    </tr>\n",
              "    <tr>\n",
              "      <th>235</th>\n",
              "      <td>2021-08-24</td>\n",
              "      <td>0.283053</td>\n",
              "      <td>0.119886</td>\n",
              "      <td>19.946875</td>\n",
              "      <td>0.0</td>\n",
              "    </tr>\n",
              "    <tr>\n",
              "      <th>236</th>\n",
              "      <td>2021-08-25</td>\n",
              "      <td>0.383225</td>\n",
              "      <td>0.119886</td>\n",
              "      <td>15.628125</td>\n",
              "      <td>-1.0</td>\n",
              "    </tr>\n",
              "    <tr>\n",
              "      <th>237</th>\n",
              "      <td>2021-08-26</td>\n",
              "      <td>0.321619</td>\n",
              "      <td>0.119886</td>\n",
              "      <td>13.031250</td>\n",
              "      <td>1.0</td>\n",
              "    </tr>\n",
              "  </tbody>\n",
              "</table>\n",
              "</div>"
            ],
            "text/plain": [
              "           Date  compound_x  compound_y  avg_score  Diff_Category\n",
              "232  2021-08-21    0.263556    0.119886  18.431875            1.0\n",
              "234  2021-08-23    0.231269    0.119886  27.978125            0.0\n",
              "235  2021-08-24    0.283053    0.119886  19.946875            0.0\n",
              "236  2021-08-25    0.383225    0.119886  15.628125           -1.0\n",
              "237  2021-08-26    0.321619    0.119886  13.031250            1.0"
            ]
          },
          "metadata": {},
          "execution_count": 150
        }
      ]
    },
    {
      "cell_type": "code",
      "metadata": {
        "id": "is_lnEBjWcX-"
      },
      "source": [
        "#get training and test data\n",
        "#Using only compound sentiment score, and average google trend score\n",
        "X = data[['compound_x','compound_y','avg_score']]\n",
        "y = data[['Diff_Category']]\n",
        "\n",
        "#we need to use the y value for the NEXT day as the classification variable\n",
        "X = X.iloc[:-1,:]\n",
        "y= y.iloc[1:,:]\n",
        "\n",
        "X_train, X_test, y_train, y_test = train_test_split(X, y, test_size = 0.05, random_state=7)"
      ],
      "execution_count": null,
      "outputs": []
    },
    {
      "cell_type": "markdown",
      "metadata": {
        "id": "L4wp1DDsXYhs"
      },
      "source": [
        "## Training the Random Forest Classifier\n",
        "\n",
        "Reference: https://www.geeksforgeeks.org/random-forest-classifier-using-scikit-learn/"
      ]
    },
    {
      "cell_type": "code",
      "metadata": {
        "colab": {
          "base_uri": "https://localhost:8080/"
        },
        "id": "0uP2qPULXOaK",
        "outputId": "1cb7b9e6-a298-482c-f2cf-0a4a6ad38eb6"
      },
      "source": [
        "#Train Model\n",
        "clf = RandomForestClassifier(n_estimators = 10) \n",
        "clf.fit(X_train, y_train)\n",
        "\n",
        "#Predict\n",
        "y_pred = clf.predict(X_test)"
      ],
      "execution_count": null,
      "outputs": [
        {
          "output_type": "stream",
          "name": "stderr",
          "text": [
            "/usr/local/lib/python3.7/dist-packages/ipykernel_launcher.py:3: DataConversionWarning: A column-vector y was passed when a 1d array was expected. Please change the shape of y to (n_samples,), for example using ravel().\n",
            "  This is separate from the ipykernel package so we can avoid doing imports until\n"
          ]
        }
      ]
    },
    {
      "cell_type": "code",
      "metadata": {
        "colab": {
          "base_uri": "https://localhost:8080/"
        },
        "id": "33C6EB1NXquG",
        "outputId": "44ada620-fa57-4709-cc0b-2b8fa3d3996c"
      },
      "source": [
        "#Reference: https://scikit-learn.org/stable/modules/model_evaluation.html\n",
        "\n",
        "#Evaluate Model\n",
        "print(\"Accuracy: \", metrics.accuracy_score(y_test, y_pred))\n",
        "print(\"F1-Score: \", metrics.f1_score(y_test, y_pred, average='weighted'))\n",
        "print(\"Precision: \", metrics.precision_score(y_test, y_pred, average='weighted'))\n",
        "print(\"Recall: \", metrics.recall_score(y_test, y_pred, average='weighted'))"
      ],
      "execution_count": null,
      "outputs": [
        {
          "output_type": "stream",
          "name": "stdout",
          "text": [
            "Accuracy:  0.5454545454545454\n",
            "F1-Score:  0.5454545454545454\n",
            "Precision:  0.7532467532467532\n",
            "Recall:  0.5454545454545454\n"
          ]
        },
        {
          "output_type": "stream",
          "name": "stderr",
          "text": [
            "/usr/local/lib/python3.7/dist-packages/sklearn/metrics/_classification.py:1308: UndefinedMetricWarning: Precision is ill-defined and being set to 0.0 in labels with no predicted samples. Use `zero_division` parameter to control this behavior.\n",
            "  _warn_prf(average, modifier, msg_start, len(result))\n",
            "/usr/local/lib/python3.7/dist-packages/sklearn/metrics/_classification.py:1308: UndefinedMetricWarning: Recall is ill-defined and being set to 0.0 in labels with no true samples. Use `zero_division` parameter to control this behavior.\n",
            "  _warn_prf(average, modifier, msg_start, len(result))\n"
          ]
        }
      ]
    },
    {
      "cell_type": "markdown",
      "metadata": {
        "id": "StIKT-JxZmQq"
      },
      "source": [
        "## Training a Support Vector Classifier\n",
        "\n",
        "Reference: https://scikit-learn.org/stable/auto_examples/classification/plot_classifier_comparison.html"
      ]
    },
    {
      "cell_type": "code",
      "metadata": {
        "colab": {
          "base_uri": "https://localhost:8080/"
        },
        "id": "oMZFLlOmZlnm",
        "outputId": "f47ca4b9-5bcb-4f9b-887d-9ceb8edd7c19"
      },
      "source": [
        "#Train Model\n",
        "clf = SVC(kernel=\"linear\", C=0.025)\n",
        "clf.fit(X_train, y_train)\n",
        "\n",
        "#Predict\n",
        "y_pred = clf.predict(X_test)"
      ],
      "execution_count": null,
      "outputs": [
        {
          "output_type": "stream",
          "name": "stderr",
          "text": [
            "/usr/local/lib/python3.7/dist-packages/sklearn/utils/validation.py:985: DataConversionWarning: A column-vector y was passed when a 1d array was expected. Please change the shape of y to (n_samples, ), for example using ravel().\n",
            "  y = column_or_1d(y, warn=True)\n"
          ]
        }
      ]
    },
    {
      "cell_type": "code",
      "metadata": {
        "colab": {
          "base_uri": "https://localhost:8080/"
        },
        "id": "Nq3cjoGpYFIK",
        "outputId": "60b7db85-b19e-491b-bfd3-06e3ff263c55"
      },
      "source": [
        "#Evaluate Model\n",
        "print(\"Accuracy: \", metrics.accuracy_score(y_test, y_pred))\n",
        "print(\"F1-Score: \", metrics.f1_score(y_test, y_pred, average='weighted'))\n",
        "print(\"Precision: \", metrics.precision_score(y_test, y_pred, average='weighted'))\n",
        "print(\"Recall: \", metrics.recall_score(y_test, y_pred, average='weighted'))"
      ],
      "execution_count": null,
      "outputs": [
        {
          "output_type": "stream",
          "name": "stdout",
          "text": [
            "Accuracy:  0.2727272727272727\n",
            "F1-Score:  0.11688311688311687\n",
            "Precision:  0.07438016528925619\n",
            "Recall:  0.2727272727272727\n"
          ]
        },
        {
          "output_type": "stream",
          "name": "stderr",
          "text": [
            "/usr/local/lib/python3.7/dist-packages/sklearn/metrics/_classification.py:1308: UndefinedMetricWarning: Precision is ill-defined and being set to 0.0 in labels with no predicted samples. Use `zero_division` parameter to control this behavior.\n",
            "  _warn_prf(average, modifier, msg_start, len(result))\n"
          ]
        }
      ]
    },
    {
      "cell_type": "markdown",
      "metadata": {
        "id": "1vUdjZTyawdK"
      },
      "source": [
        "## Decision Tree Classifier"
      ]
    },
    {
      "cell_type": "code",
      "metadata": {
        "id": "Nj-AA40Aav3K"
      },
      "source": [
        "#Train Model\n",
        "clf = DecisionTreeClassifier(max_depth=5)\n",
        "clf.fit(X_train, y_train)\n",
        "\n",
        "#Predict\n",
        "y_pred = clf.predict(X_test)"
      ],
      "execution_count": 158,
      "outputs": []
    },
    {
      "cell_type": "code",
      "metadata": {
        "id": "GCrzQIJMaMf9",
        "colab": {
          "base_uri": "https://localhost:8080/"
        },
        "outputId": "cf5ad9c7-b3e5-4913-b4f6-a03bc83ec297"
      },
      "source": [
        "#Evaluate Model\n",
        "print(\"Accuracy: \", metrics.accuracy_score(y_test, y_pred))\n",
        "print(\"F1-Score: \", metrics.f1_score(y_test, y_pred, average='weighted'))\n",
        "print(\"Precision: \", metrics.precision_score(y_test, y_pred, average='weighted'))\n",
        "print(\"Recall: \", metrics.recall_score(y_test, y_pred, average='weighted'))"
      ],
      "execution_count": 159,
      "outputs": [
        {
          "output_type": "stream",
          "name": "stdout",
          "text": [
            "Accuracy:  0.45454545454545453\n",
            "F1-Score:  0.4646464646464646\n",
            "Precision:  0.7727272727272727\n",
            "Recall:  0.45454545454545453\n"
          ]
        },
        {
          "output_type": "stream",
          "name": "stderr",
          "text": [
            "/usr/local/lib/python3.7/dist-packages/sklearn/metrics/_classification.py:1308: UndefinedMetricWarning: Precision is ill-defined and being set to 0.0 in labels with no predicted samples. Use `zero_division` parameter to control this behavior.\n",
            "  _warn_prf(average, modifier, msg_start, len(result))\n",
            "/usr/local/lib/python3.7/dist-packages/sklearn/metrics/_classification.py:1308: UndefinedMetricWarning: Recall is ill-defined and being set to 0.0 in labels with no true samples. Use `zero_division` parameter to control this behavior.\n",
            "  _warn_prf(average, modifier, msg_start, len(result))\n"
          ]
        }
      ]
    },
    {
      "cell_type": "markdown",
      "source": [
        "## Hyperparamter Tuning on Random Forest Classifier"
      ],
      "metadata": {
        "id": "aRZxvKOShZ5r"
      }
    },
    {
      "cell_type": "code",
      "source": [
        "#Train Model\n",
        "clf = RandomForestClassifier(n_estimators = 10) \n",
        "clf.fit(X_train, y_train)\n",
        "\n",
        "#Predict\n",
        "y_pred = clf.predict(X_test)\n",
        "#Evaluate Model\n",
        "print(\"Accuracy: \", metrics.accuracy_score(y_test, y_pred))\n",
        "print(\"F1-Score: \", metrics.f1_score(y_test, y_pred, average='weighted'))\n",
        "print(\"Precision: \", metrics.precision_score(y_test, y_pred, average='weighted'))\n",
        "print(\"Recall: \", metrics.recall_score(y_test, y_pred, average='weighted'))"
      ],
      "metadata": {
        "id": "hx6QmkJUhZbf",
        "colab": {
          "base_uri": "https://localhost:8080/"
        },
        "outputId": "985bb31d-de96-4f71-9025-3c4c19aa9db0"
      },
      "execution_count": 161,
      "outputs": [
        {
          "output_type": "stream",
          "name": "stdout",
          "text": [
            "Accuracy:  0.5454545454545454\n",
            "F1-Score:  0.5454545454545454\n",
            "Precision:  0.6000000000000001\n",
            "Recall:  0.5454545454545454\n"
          ]
        },
        {
          "output_type": "stream",
          "name": "stderr",
          "text": [
            "/usr/local/lib/python3.7/dist-packages/ipykernel_launcher.py:3: DataConversionWarning: A column-vector y was passed when a 1d array was expected. Please change the shape of y to (n_samples,), for example using ravel().\n",
            "  This is separate from the ipykernel package so we can avoid doing imports until\n",
            "/usr/local/lib/python3.7/dist-packages/sklearn/metrics/_classification.py:1308: UndefinedMetricWarning: Precision is ill-defined and being set to 0.0 in labels with no predicted samples. Use `zero_division` parameter to control this behavior.\n",
            "  _warn_prf(average, modifier, msg_start, len(result))\n"
          ]
        }
      ]
    },
    {
      "cell_type": "code",
      "source": [
        "# Current parameters in use\n",
        "from pprint import pprint\n",
        "# Look at parameters used by our current forest\n",
        "print('Parameters currently in use:\\n')\n",
        "pprint(clf.get_params())"
      ],
      "metadata": {
        "colab": {
          "base_uri": "https://localhost:8080/"
        },
        "id": "8VpPkar9iQg0",
        "outputId": "9793aec1-c68d-409b-ef87-a01a175ca7b1"
      },
      "execution_count": 162,
      "outputs": [
        {
          "output_type": "stream",
          "name": "stdout",
          "text": [
            "Parameters currently in use:\n",
            "\n",
            "{'bootstrap': True,\n",
            " 'ccp_alpha': 0.0,\n",
            " 'class_weight': None,\n",
            " 'criterion': 'gini',\n",
            " 'max_depth': None,\n",
            " 'max_features': 'auto',\n",
            " 'max_leaf_nodes': None,\n",
            " 'max_samples': None,\n",
            " 'min_impurity_decrease': 0.0,\n",
            " 'min_samples_leaf': 1,\n",
            " 'min_samples_split': 2,\n",
            " 'min_weight_fraction_leaf': 0.0,\n",
            " 'n_estimators': 10,\n",
            " 'n_jobs': None,\n",
            " 'oob_score': False,\n",
            " 'random_state': None,\n",
            " 'verbose': 0,\n",
            " 'warm_start': False}\n"
          ]
        }
      ]
    },
    {
      "cell_type": "code",
      "source": [
        "from sklearn.model_selection import GridSearchCV\n",
        "# Create the parameter grid based on the results of random search \n",
        "param_grid = {\n",
        "    'bootstrap': [False, True],\n",
        "    'max_depth': [10,50,5],\n",
        "    'max_features': [2, 3, 'auto'],\n",
        "    'min_samples_leaf': [1, 2, 3],\n",
        "    'min_samples_split': [2,3, 5, 7],\n",
        "    'n_estimators': [10,20,30]\n",
        "}\n",
        "# Create a based model\n",
        "rf = RandomForestClassifier()\n",
        "# Instantiate the grid search model\n",
        "grid_search = GridSearchCV(estimator = rf, param_grid = param_grid, \n",
        "                          cv = 3, n_jobs = -1, verbose = 2)"
      ],
      "metadata": {
        "id": "wuynIWE_iQkx"
      },
      "execution_count": 163,
      "outputs": []
    },
    {
      "cell_type": "code",
      "source": [
        "grid_search.fit(X_train, y_train)"
      ],
      "metadata": {
        "colab": {
          "base_uri": "https://localhost:8080/"
        },
        "id": "A7BIuzapiQnM",
        "outputId": "6ead249f-20cb-4fa1-a2d5-2b82df4c8ea9"
      },
      "execution_count": 164,
      "outputs": [
        {
          "output_type": "stream",
          "name": "stdout",
          "text": [
            "Fitting 3 folds for each of 648 candidates, totalling 1944 fits\n"
          ]
        },
        {
          "output_type": "stream",
          "name": "stderr",
          "text": [
            "/usr/local/lib/python3.7/dist-packages/sklearn/model_selection/_search.py:926: DataConversionWarning: A column-vector y was passed when a 1d array was expected. Please change the shape of y to (n_samples,), for example using ravel().\n",
            "  self.best_estimator_.fit(X, y, **fit_params)\n"
          ]
        },
        {
          "output_type": "execute_result",
          "data": {
            "text/plain": [
              "GridSearchCV(cv=3, estimator=RandomForestClassifier(), n_jobs=-1,\n",
              "             param_grid={'bootstrap': [False, True], 'max_depth': [10, 50, 5],\n",
              "                         'max_features': [2, 3, 'auto'],\n",
              "                         'min_samples_leaf': [1, 2, 3],\n",
              "                         'min_samples_split': [2, 3, 5, 7],\n",
              "                         'n_estimators': [10, 20, 30]},\n",
              "             verbose=2)"
            ]
          },
          "metadata": {},
          "execution_count": 164
        }
      ]
    },
    {
      "cell_type": "code",
      "source": [
        "grid_search.best_params_"
      ],
      "metadata": {
        "colab": {
          "base_uri": "https://localhost:8080/"
        },
        "id": "L6JNG94XiQpW",
        "outputId": "fb9564e5-05fa-42d1-9f3f-4afa09af9dfd"
      },
      "execution_count": 165,
      "outputs": [
        {
          "output_type": "execute_result",
          "data": {
            "text/plain": [
              "{'bootstrap': False,\n",
              " 'max_depth': 10,\n",
              " 'max_features': 3,\n",
              " 'min_samples_leaf': 1,\n",
              " 'min_samples_split': 7,\n",
              " 'n_estimators': 10}"
            ]
          },
          "metadata": {},
          "execution_count": 165
        }
      ]
    },
    {
      "cell_type": "code",
      "source": [
        "#Train Model\n",
        "clf = RandomForestClassifier(bootstrap=False, max_depth=10, max_features=3 , min_samples_leaf=1, min_samples_split=7, n_estimators = 10) \n",
        "clf.fit(X_train, y_train)\n",
        "\n",
        "#Predict\n",
        "y_pred = clf.predict(X_test)\n",
        "#Evaluate Model\n",
        "print(\"Accuracy: \", metrics.accuracy_score(y_test, y_pred))\n",
        "print(\"F1-Score: \", metrics.f1_score(y_test, y_pred, average='weighted'))\n",
        "print(\"Precision: \", metrics.precision_score(y_test, y_pred, average='weighted'))\n",
        "print(\"Recall: \", metrics.recall_score(y_test, y_pred, average='weighted'))"
      ],
      "metadata": {
        "colab": {
          "base_uri": "https://localhost:8080/"
        },
        "id": "1OW7tfnBjPOr",
        "outputId": "9b44dcb3-9dd0-4d31-8455-b21788bbbe07"
      },
      "execution_count": 169,
      "outputs": [
        {
          "output_type": "stream",
          "name": "stdout",
          "text": [
            "Accuracy: 0.56625636363636365\n",
            "F1-Score: 0.48038961038961036\n",
            "Precision: 0.5890606060606060\n",
            "Recall: 0.41373636363636365\n"
          ]
        }
      ]
    },
    {
      "cell_type": "markdown",
      "metadata": {
        "id": "ue0oPCNpiner"
      },
      "source": [
        "# 3-way Classification\n",
        "\n",
        "Here, we attempt to categorize change in bitcoin prices to one of 3 categories: negative change (-1), no change (0), positive change (1)"
      ]
    },
    {
      "cell_type": "code",
      "metadata": {
        "colab": {
          "base_uri": "https://localhost:8080/",
          "height": 206
        },
        "id": "W4RkWw7Ga5ER",
        "outputId": "8b73255c-0038-48b6-b9cf-fd1e56d40ac9"
      },
      "source": [
        "data.head()"
      ],
      "execution_count": null,
      "outputs": [
        {
          "output_type": "execute_result",
          "data": {
            "text/html": [
              "<div>\n",
              "<style scoped>\n",
              "    .dataframe tbody tr th:only-of-type {\n",
              "        vertical-align: middle;\n",
              "    }\n",
              "\n",
              "    .dataframe tbody tr th {\n",
              "        vertical-align: top;\n",
              "    }\n",
              "\n",
              "    .dataframe thead th {\n",
              "        text-align: right;\n",
              "    }\n",
              "</style>\n",
              "<table border=\"1\" class=\"dataframe\">\n",
              "  <thead>\n",
              "    <tr style=\"text-align: right;\">\n",
              "      <th></th>\n",
              "      <th>Date</th>\n",
              "      <th>compound_x</th>\n",
              "      <th>compound_y</th>\n",
              "      <th>avg_score</th>\n",
              "      <th>Diff_Category</th>\n",
              "    </tr>\n",
              "  </thead>\n",
              "  <tbody>\n",
              "    <tr>\n",
              "      <th>0</th>\n",
              "      <td>2021-01-01</td>\n",
              "      <td>0.208399</td>\n",
              "      <td>0.238452</td>\n",
              "      <td>12.660625</td>\n",
              "      <td>0.0</td>\n",
              "    </tr>\n",
              "    <tr>\n",
              "      <th>1</th>\n",
              "      <td>2021-01-02</td>\n",
              "      <td>0.208399</td>\n",
              "      <td>0.135624</td>\n",
              "      <td>34.144375</td>\n",
              "      <td>0.0</td>\n",
              "    </tr>\n",
              "    <tr>\n",
              "      <th>2</th>\n",
              "      <td>2021-01-03</td>\n",
              "      <td>0.208399</td>\n",
              "      <td>0.152421</td>\n",
              "      <td>48.853125</td>\n",
              "      <td>1.0</td>\n",
              "    </tr>\n",
              "    <tr>\n",
              "      <th>3</th>\n",
              "      <td>2021-01-04</td>\n",
              "      <td>0.208399</td>\n",
              "      <td>0.167221</td>\n",
              "      <td>32.544375</td>\n",
              "      <td>1.0</td>\n",
              "    </tr>\n",
              "    <tr>\n",
              "      <th>4</th>\n",
              "      <td>2021-01-05</td>\n",
              "      <td>0.208399</td>\n",
              "      <td>0.147205</td>\n",
              "      <td>24.341250</td>\n",
              "      <td>-1.0</td>\n",
              "    </tr>\n",
              "  </tbody>\n",
              "</table>\n",
              "</div>"
            ],
            "text/plain": [
              "         Date  compound_x  compound_y  avg_score  Diff_Category\n",
              "0  2021-01-01    0.208399    0.238452  12.660625            0.0\n",
              "1  2021-01-02    0.208399    0.135624  34.144375            0.0\n",
              "2  2021-01-03    0.208399    0.152421  48.853125            1.0\n",
              "3  2021-01-04    0.208399    0.167221  32.544375            1.0\n",
              "4  2021-01-05    0.208399    0.147205  24.341250           -1.0"
            ]
          },
          "metadata": {},
          "execution_count": 96
        }
      ]
    },
    {
      "cell_type": "code",
      "metadata": {
        "colab": {
          "base_uri": "https://localhost:8080/",
          "height": 206
        },
        "id": "zNeMc0zmi4Tq",
        "outputId": "2fc0b998-9079-442e-fd45-c945e64da51d"
      },
      "source": [
        "#Transform Label\n",
        "data.loc[data['Diff_Category'] >0, 'label_3'] = 1  \n",
        "data.loc[data['Diff_Category'] <0, 'label_3'] = -1  \n",
        "data.loc[data['Diff_Category'] ==0, 'label_3'] = 0\n",
        "\n",
        "data.head()"
      ],
      "execution_count": null,
      "outputs": [
        {
          "output_type": "execute_result",
          "data": {
            "text/html": [
              "<div>\n",
              "<style scoped>\n",
              "    .dataframe tbody tr th:only-of-type {\n",
              "        vertical-align: middle;\n",
              "    }\n",
              "\n",
              "    .dataframe tbody tr th {\n",
              "        vertical-align: top;\n",
              "    }\n",
              "\n",
              "    .dataframe thead th {\n",
              "        text-align: right;\n",
              "    }\n",
              "</style>\n",
              "<table border=\"1\" class=\"dataframe\">\n",
              "  <thead>\n",
              "    <tr style=\"text-align: right;\">\n",
              "      <th></th>\n",
              "      <th>Date</th>\n",
              "      <th>compound_x</th>\n",
              "      <th>compound_y</th>\n",
              "      <th>avg_score</th>\n",
              "      <th>Diff_Category</th>\n",
              "      <th>label_3</th>\n",
              "    </tr>\n",
              "  </thead>\n",
              "  <tbody>\n",
              "    <tr>\n",
              "      <th>0</th>\n",
              "      <td>2021-01-01</td>\n",
              "      <td>0.208399</td>\n",
              "      <td>0.238452</td>\n",
              "      <td>12.660625</td>\n",
              "      <td>0.0</td>\n",
              "      <td>0.0</td>\n",
              "    </tr>\n",
              "    <tr>\n",
              "      <th>1</th>\n",
              "      <td>2021-01-02</td>\n",
              "      <td>0.208399</td>\n",
              "      <td>0.135624</td>\n",
              "      <td>34.144375</td>\n",
              "      <td>0.0</td>\n",
              "      <td>0.0</td>\n",
              "    </tr>\n",
              "    <tr>\n",
              "      <th>2</th>\n",
              "      <td>2021-01-03</td>\n",
              "      <td>0.208399</td>\n",
              "      <td>0.152421</td>\n",
              "      <td>48.853125</td>\n",
              "      <td>1.0</td>\n",
              "      <td>1.0</td>\n",
              "    </tr>\n",
              "    <tr>\n",
              "      <th>3</th>\n",
              "      <td>2021-01-04</td>\n",
              "      <td>0.208399</td>\n",
              "      <td>0.167221</td>\n",
              "      <td>32.544375</td>\n",
              "      <td>1.0</td>\n",
              "      <td>1.0</td>\n",
              "    </tr>\n",
              "    <tr>\n",
              "      <th>4</th>\n",
              "      <td>2021-01-05</td>\n",
              "      <td>0.208399</td>\n",
              "      <td>0.147205</td>\n",
              "      <td>24.341250</td>\n",
              "      <td>-1.0</td>\n",
              "      <td>-1.0</td>\n",
              "    </tr>\n",
              "  </tbody>\n",
              "</table>\n",
              "</div>"
            ],
            "text/plain": [
              "         Date  compound_x  compound_y  avg_score  Diff_Category  label_3\n",
              "0  2021-01-01    0.208399    0.238452  12.660625            0.0      0.0\n",
              "1  2021-01-02    0.208399    0.135624  34.144375            0.0      0.0\n",
              "2  2021-01-03    0.208399    0.152421  48.853125            1.0      1.0\n",
              "3  2021-01-04    0.208399    0.167221  32.544375            1.0      1.0\n",
              "4  2021-01-05    0.208399    0.147205  24.341250           -1.0     -1.0"
            ]
          },
          "metadata": {},
          "execution_count": 97
        }
      ]
    },
    {
      "cell_type": "code",
      "metadata": {
        "id": "AoUhW1CvjdMu"
      },
      "source": [
        "#get training and test data\n",
        "#Using only compound sentiment score, and average google trend score\n",
        "X = data[['compound_x','compound_y','avg_score']]\n",
        "y = data[['label_3']]\n",
        "\n",
        "X_train, X_test, y_train, y_test = train_test_split(X, y, test_size = 0.05)"
      ],
      "execution_count": null,
      "outputs": []
    },
    {
      "cell_type": "code",
      "metadata": {
        "id": "WOd9wCLhjjNw"
      },
      "source": [
        "#Train Decision Tree\n",
        "#Train Model\n",
        "clf = DecisionTreeClassifier(max_depth=5)\n",
        "clf.fit(X_train, y_train)\n",
        "\n",
        "#Predict\n",
        "y_pred = clf.predict(X_test)"
      ],
      "execution_count": null,
      "outputs": []
    },
    {
      "cell_type": "code",
      "metadata": {
        "id": "6GUtkGN4jnU_",
        "colab": {
          "base_uri": "https://localhost:8080/"
        },
        "outputId": "ea0114d5-6f95-4330-8338-55133e516ed6"
      },
      "source": [
        "#Evaluate Model\n",
        "print(\"Accuracy: \", metrics.accuracy_score(y_test, y_pred))\n",
        "print(\"F1-Score: \", metrics.f1_score(y_test, y_pred, average='weighted'))\n",
        "print(\"Precision: \", metrics.precision_score(y_test, y_pred, average='weighted'))\n",
        "print(\"Recall: \", metrics.recall_score(y_test, y_pred, average='weighted'))"
      ],
      "execution_count": null,
      "outputs": [
        {
          "output_type": "stream",
          "name": "stdout",
          "text": [
            "Accuracy:  0.2727272727272727\n",
            "F1-Score:  0.25757575757575757\n",
            "Precision:  0.36363636363636365\n",
            "Recall:  0.2727272727272727\n"
          ]
        }
      ]
    },
    {
      "cell_type": "markdown",
      "metadata": {
        "id": "KwUkRDvQ8PZj"
      },
      "source": [
        "\n",
        "# Predicting Change in Hourly Bitcoin Prices using Social Media Interest Measures\n",
        "Here, we train a classifier to use Daily hourly sentiment scores, hourly reddit sentiment scores, and hourly google trend scores to categorize the change in bitcoin prices into one of 3 categories: negative (-1), no commendable change (0), positive (1)"
      ]
    },
    {
      "cell_type": "code",
      "metadata": {
        "id": "fAIm_Ebqjo7M"
      },
      "source": [
        "import pandas as pd\n",
        "import matplotlib.pyplot as plt\n",
        "from sklearn.model_selection import train_test_split\n",
        "from sklearn.ensemble import RandomForestClassifier\n",
        "from sklearn import metrics \n",
        "from sklearn.svm import SVC\n",
        "from sklearn.tree import DecisionTreeClassifier"
      ],
      "execution_count": null,
      "outputs": []
    },
    {
      "cell_type": "markdown",
      "metadata": {
        "id": "CTIkZMyT8cDJ"
      },
      "source": [
        "## Prepare Data"
      ]
    },
    {
      "cell_type": "code",
      "metadata": {
        "id": "CMSB0iJq8bcM"
      },
      "source": [
        "#Import Data\n",
        "\n",
        "bitcoin = pd.read_csv('categorical_bitcoin_hourly.csv', sep='\\t', index_col=None)\n",
        "reddit = pd.read_csv('redditHourlySentiment.csv', sep='\\t', index_col=None)\n",
        "trends= pd.read_csv('trends_hourly_score.csv', sep='\\t', index_col=None)\n",
        "twitter = pd.read_csv('twitterSentiment_hourly.csv', sep=',', index_col=None)"
      ],
      "execution_count": null,
      "outputs": []
    },
    {
      "cell_type": "code",
      "metadata": {
        "colab": {
          "base_uri": "https://localhost:8080/",
          "height": 206
        },
        "id": "NjdAowLN8u54",
        "outputId": "56765c60-71de-46ab-e328-c253f515d695"
      },
      "source": [
        "bitcoin.tail()"
      ],
      "execution_count": null,
      "outputs": [
        {
          "output_type": "execute_result",
          "data": {
            "text/html": [
              "<div>\n",
              "<style scoped>\n",
              "    .dataframe tbody tr th:only-of-type {\n",
              "        vertical-align: middle;\n",
              "    }\n",
              "\n",
              "    .dataframe tbody tr th {\n",
              "        vertical-align: top;\n",
              "    }\n",
              "\n",
              "    .dataframe thead th {\n",
              "        text-align: right;\n",
              "    }\n",
              "</style>\n",
              "<table border=\"1\" class=\"dataframe\">\n",
              "  <thead>\n",
              "    <tr style=\"text-align: right;\">\n",
              "      <th></th>\n",
              "      <th>date</th>\n",
              "      <th>open</th>\n",
              "      <th>high</th>\n",
              "      <th>low</th>\n",
              "      <th>close</th>\n",
              "      <th>Volume BTC</th>\n",
              "      <th>Volume USD</th>\n",
              "      <th>Diff_Open</th>\n",
              "      <th>Diff_Category</th>\n",
              "    </tr>\n",
              "  </thead>\n",
              "  <tbody>\n",
              "    <tr>\n",
              "      <th>5827</th>\n",
              "      <td>2021-01-01 04:00:00</td>\n",
              "      <td>29351.85</td>\n",
              "      <td>29458.27</td>\n",
              "      <td>29121.80</td>\n",
              "      <td>29290.38</td>\n",
              "      <td>325.565700</td>\n",
              "      <td>9.535943e+06</td>\n",
              "      <td>57.27</td>\n",
              "      <td>0</td>\n",
              "    </tr>\n",
              "    <tr>\n",
              "      <th>5828</th>\n",
              "      <td>2021-01-01 03:00:00</td>\n",
              "      <td>29249.33</td>\n",
              "      <td>29414.48</td>\n",
              "      <td>29216.61</td>\n",
              "      <td>29345.63</td>\n",
              "      <td>284.146568</td>\n",
              "      <td>8.338460e+06</td>\n",
              "      <td>-102.52</td>\n",
              "      <td>0</td>\n",
              "    </tr>\n",
              "    <tr>\n",
              "      <th>5829</th>\n",
              "      <td>2021-01-01 02:00:00</td>\n",
              "      <td>29484.39</td>\n",
              "      <td>29535.95</td>\n",
              "      <td>29189.34</td>\n",
              "      <td>29249.33</td>\n",
              "      <td>290.242637</td>\n",
              "      <td>8.489403e+06</td>\n",
              "      <td>235.06</td>\n",
              "      <td>1</td>\n",
              "    </tr>\n",
              "    <tr>\n",
              "      <th>5830</th>\n",
              "      <td>2021-01-01 01:00:00</td>\n",
              "      <td>29070.66</td>\n",
              "      <td>29543.93</td>\n",
              "      <td>29010.36</td>\n",
              "      <td>29479.12</td>\n",
              "      <td>648.597652</td>\n",
              "      <td>1.912009e+07</td>\n",
              "      <td>-413.73</td>\n",
              "      <td>-1</td>\n",
              "    </tr>\n",
              "    <tr>\n",
              "      <th>5831</th>\n",
              "      <td>2021-01-01 00:00:00</td>\n",
              "      <td>28999.63</td>\n",
              "      <td>29099.00</td>\n",
              "      <td>28774.64</td>\n",
              "      <td>29056.94</td>\n",
              "      <td>397.964775</td>\n",
              "      <td>1.156364e+07</td>\n",
              "      <td>-71.03</td>\n",
              "      <td>0</td>\n",
              "    </tr>\n",
              "  </tbody>\n",
              "</table>\n",
              "</div>"
            ],
            "text/plain": [
              "                     date      open  ...  Diff_Open  Diff_Category\n",
              "5827  2021-01-01 04:00:00  29351.85  ...      57.27              0\n",
              "5828  2021-01-01 03:00:00  29249.33  ...    -102.52              0\n",
              "5829  2021-01-01 02:00:00  29484.39  ...     235.06              1\n",
              "5830  2021-01-01 01:00:00  29070.66  ...    -413.73             -1\n",
              "5831  2021-01-01 00:00:00  28999.63  ...     -71.03              0\n",
              "\n",
              "[5 rows x 9 columns]"
            ]
          },
          "metadata": {},
          "execution_count": 3
        }
      ]
    },
    {
      "cell_type": "code",
      "metadata": {
        "colab": {
          "base_uri": "https://localhost:8080/",
          "height": 206
        },
        "id": "ye5CTeg38yIG",
        "outputId": "cf7c38af-d8a3-407c-9776-acac27521315"
      },
      "source": [
        "reddit = reddit.rename(columns={'Hour': 'date'})\n",
        "reddit.tail()"
      ],
      "execution_count": null,
      "outputs": [
        {
          "output_type": "execute_result",
          "data": {
            "text/html": [
              "<div>\n",
              "<style scoped>\n",
              "    .dataframe tbody tr th:only-of-type {\n",
              "        vertical-align: middle;\n",
              "    }\n",
              "\n",
              "    .dataframe tbody tr th {\n",
              "        vertical-align: top;\n",
              "    }\n",
              "\n",
              "    .dataframe thead th {\n",
              "        text-align: right;\n",
              "    }\n",
              "</style>\n",
              "<table border=\"1\" class=\"dataframe\">\n",
              "  <thead>\n",
              "    <tr style=\"text-align: right;\">\n",
              "      <th></th>\n",
              "      <th>date</th>\n",
              "      <th>neg</th>\n",
              "      <th>neu</th>\n",
              "      <th>pos</th>\n",
              "      <th>compound</th>\n",
              "    </tr>\n",
              "  </thead>\n",
              "  <tbody>\n",
              "    <tr>\n",
              "      <th>1547</th>\n",
              "      <td>2021-08-30 23:00:00</td>\n",
              "      <td>0.019</td>\n",
              "      <td>0.862</td>\n",
              "      <td>0.119</td>\n",
              "      <td>0.7579</td>\n",
              "    </tr>\n",
              "    <tr>\n",
              "      <th>1548</th>\n",
              "      <td>2021-08-31 00:00:00</td>\n",
              "      <td>0.019</td>\n",
              "      <td>0.862</td>\n",
              "      <td>0.119</td>\n",
              "      <td>0.7579</td>\n",
              "    </tr>\n",
              "    <tr>\n",
              "      <th>1549</th>\n",
              "      <td>2021-08-31 01:00:00</td>\n",
              "      <td>0.019</td>\n",
              "      <td>0.862</td>\n",
              "      <td>0.119</td>\n",
              "      <td>0.7579</td>\n",
              "    </tr>\n",
              "    <tr>\n",
              "      <th>1550</th>\n",
              "      <td>2021-08-31 02:00:00</td>\n",
              "      <td>0.019</td>\n",
              "      <td>0.862</td>\n",
              "      <td>0.119</td>\n",
              "      <td>0.7579</td>\n",
              "    </tr>\n",
              "    <tr>\n",
              "      <th>1551</th>\n",
              "      <td>2021-08-31 03:00:00</td>\n",
              "      <td>0.019</td>\n",
              "      <td>0.862</td>\n",
              "      <td>0.119</td>\n",
              "      <td>0.7579</td>\n",
              "    </tr>\n",
              "  </tbody>\n",
              "</table>\n",
              "</div>"
            ],
            "text/plain": [
              "                     date    neg    neu    pos  compound\n",
              "1547  2021-08-30 23:00:00  0.019  0.862  0.119    0.7579\n",
              "1548  2021-08-31 00:00:00  0.019  0.862  0.119    0.7579\n",
              "1549  2021-08-31 01:00:00  0.019  0.862  0.119    0.7579\n",
              "1550  2021-08-31 02:00:00  0.019  0.862  0.119    0.7579\n",
              "1551  2021-08-31 03:00:00  0.019  0.862  0.119    0.7579"
            ]
          },
          "metadata": {},
          "execution_count": 102
        }
      ]
    },
    {
      "cell_type": "code",
      "metadata": {
        "colab": {
          "base_uri": "https://localhost:8080/",
          "height": 417
        },
        "id": "vUTR3qm28y9_",
        "outputId": "72b50fe7-0d6b-4126-8ee6-b69c29912d29"
      },
      "source": [
        "trends.tail()"
      ],
      "execution_count": null,
      "outputs": [
        {
          "output_type": "execute_result",
          "data": {
            "text/html": [
              "<div>\n",
              "<style scoped>\n",
              "    .dataframe tbody tr th:only-of-type {\n",
              "        vertical-align: middle;\n",
              "    }\n",
              "\n",
              "    .dataframe tbody tr th {\n",
              "        vertical-align: top;\n",
              "    }\n",
              "\n",
              "    .dataframe thead th {\n",
              "        text-align: right;\n",
              "    }\n",
              "</style>\n",
              "<table border=\"1\" class=\"dataframe\">\n",
              "  <thead>\n",
              "    <tr style=\"text-align: right;\">\n",
              "      <th></th>\n",
              "      <th>date</th>\n",
              "      <th>bitcoin</th>\n",
              "      <th>btc</th>\n",
              "      <th>bitcoin price</th>\n",
              "      <th>bitcoin kurs</th>\n",
              "      <th>bitcoin usd</th>\n",
              "      <th>bitcoin stock</th>\n",
              "      <th>bitcoin dollar</th>\n",
              "      <th>bitcoin euro</th>\n",
              "      <th>buy bitcoin</th>\n",
              "      <th>buy btc</th>\n",
              "      <th>btc usd</th>\n",
              "      <th>btc inr</th>\n",
              "      <th>price btc</th>\n",
              "      <th>btc stock</th>\n",
              "      <th>btc coin</th>\n",
              "      <th>btc euro</th>\n",
              "      <th>avg_score</th>\n",
              "    </tr>\n",
              "  </thead>\n",
              "  <tbody>\n",
              "    <tr>\n",
              "      <th>5827</th>\n",
              "      <td>2021-08-31 19:00:00</td>\n",
              "      <td>12.07</td>\n",
              "      <td>14.07</td>\n",
              "      <td>9.9</td>\n",
              "      <td>8.36</td>\n",
              "      <td>10.88</td>\n",
              "      <td>8.1</td>\n",
              "      <td>15.96</td>\n",
              "      <td>21.76</td>\n",
              "      <td>12.6</td>\n",
              "      <td>5.89</td>\n",
              "      <td>11.76</td>\n",
              "      <td>3.8</td>\n",
              "      <td>6.24</td>\n",
              "      <td>7.81</td>\n",
              "      <td>9.01</td>\n",
              "      <td>28.86</td>\n",
              "      <td>11.691875</td>\n",
              "    </tr>\n",
              "    <tr>\n",
              "      <th>5828</th>\n",
              "      <td>2021-08-31 20:00:00</td>\n",
              "      <td>12.07</td>\n",
              "      <td>14.07</td>\n",
              "      <td>9.9</td>\n",
              "      <td>8.36</td>\n",
              "      <td>10.88</td>\n",
              "      <td>8.1</td>\n",
              "      <td>15.96</td>\n",
              "      <td>21.76</td>\n",
              "      <td>12.6</td>\n",
              "      <td>5.89</td>\n",
              "      <td>11.76</td>\n",
              "      <td>3.8</td>\n",
              "      <td>6.24</td>\n",
              "      <td>7.81</td>\n",
              "      <td>9.01</td>\n",
              "      <td>28.86</td>\n",
              "      <td>11.691875</td>\n",
              "    </tr>\n",
              "    <tr>\n",
              "      <th>5829</th>\n",
              "      <td>2021-08-31 21:00:00</td>\n",
              "      <td>12.07</td>\n",
              "      <td>14.07</td>\n",
              "      <td>9.9</td>\n",
              "      <td>8.36</td>\n",
              "      <td>10.88</td>\n",
              "      <td>8.1</td>\n",
              "      <td>15.96</td>\n",
              "      <td>21.76</td>\n",
              "      <td>12.6</td>\n",
              "      <td>5.89</td>\n",
              "      <td>11.76</td>\n",
              "      <td>3.8</td>\n",
              "      <td>6.24</td>\n",
              "      <td>7.81</td>\n",
              "      <td>9.01</td>\n",
              "      <td>28.86</td>\n",
              "      <td>11.691875</td>\n",
              "    </tr>\n",
              "    <tr>\n",
              "      <th>5830</th>\n",
              "      <td>2021-08-31 22:00:00</td>\n",
              "      <td>12.07</td>\n",
              "      <td>14.07</td>\n",
              "      <td>9.9</td>\n",
              "      <td>8.36</td>\n",
              "      <td>10.88</td>\n",
              "      <td>8.1</td>\n",
              "      <td>15.96</td>\n",
              "      <td>21.76</td>\n",
              "      <td>12.6</td>\n",
              "      <td>5.89</td>\n",
              "      <td>11.76</td>\n",
              "      <td>3.8</td>\n",
              "      <td>6.24</td>\n",
              "      <td>7.81</td>\n",
              "      <td>9.01</td>\n",
              "      <td>28.86</td>\n",
              "      <td>11.691875</td>\n",
              "    </tr>\n",
              "    <tr>\n",
              "      <th>5831</th>\n",
              "      <td>2021-08-31 23:00:00</td>\n",
              "      <td>12.07</td>\n",
              "      <td>14.07</td>\n",
              "      <td>9.9</td>\n",
              "      <td>8.36</td>\n",
              "      <td>10.88</td>\n",
              "      <td>8.1</td>\n",
              "      <td>15.96</td>\n",
              "      <td>21.76</td>\n",
              "      <td>12.6</td>\n",
              "      <td>5.89</td>\n",
              "      <td>11.76</td>\n",
              "      <td>3.8</td>\n",
              "      <td>6.24</td>\n",
              "      <td>7.81</td>\n",
              "      <td>9.01</td>\n",
              "      <td>28.86</td>\n",
              "      <td>11.691875</td>\n",
              "    </tr>\n",
              "  </tbody>\n",
              "</table>\n",
              "</div>"
            ],
            "text/plain": [
              "                     date  bitcoin    btc  ...  btc coin  btc euro  avg_score\n",
              "5827  2021-08-31 19:00:00    12.07  14.07  ...      9.01     28.86  11.691875\n",
              "5828  2021-08-31 20:00:00    12.07  14.07  ...      9.01     28.86  11.691875\n",
              "5829  2021-08-31 21:00:00    12.07  14.07  ...      9.01     28.86  11.691875\n",
              "5830  2021-08-31 22:00:00    12.07  14.07  ...      9.01     28.86  11.691875\n",
              "5831  2021-08-31 23:00:00    12.07  14.07  ...      9.01     28.86  11.691875\n",
              "\n",
              "[5 rows x 18 columns]"
            ]
          },
          "metadata": {},
          "execution_count": 5
        }
      ]
    },
    {
      "cell_type": "code",
      "metadata": {
        "colab": {
          "base_uri": "https://localhost:8080/",
          "height": 677
        },
        "id": "l8JBvlAXXV4o",
        "outputId": "d79eefa5-ec27-462b-95f6-694fdeb60d37"
      },
      "source": [
        "twitter.tail(20)"
      ],
      "execution_count": null,
      "outputs": [
        {
          "output_type": "execute_result",
          "data": {
            "text/html": [
              "<div>\n",
              "<style scoped>\n",
              "    .dataframe tbody tr th:only-of-type {\n",
              "        vertical-align: middle;\n",
              "    }\n",
              "\n",
              "    .dataframe tbody tr th {\n",
              "        vertical-align: top;\n",
              "    }\n",
              "\n",
              "    .dataframe thead th {\n",
              "        text-align: right;\n",
              "    }\n",
              "</style>\n",
              "<table border=\"1\" class=\"dataframe\">\n",
              "  <thead>\n",
              "    <tr style=\"text-align: right;\">\n",
              "      <th></th>\n",
              "      <th>Hour</th>\n",
              "      <th>neg</th>\n",
              "      <th>neu</th>\n",
              "      <th>pos</th>\n",
              "      <th>compound</th>\n",
              "    </tr>\n",
              "  </thead>\n",
              "  <tbody>\n",
              "    <tr>\n",
              "      <th>1971</th>\n",
              "      <td>2021-11-19 15:00:00</td>\n",
              "      <td>0.032943</td>\n",
              "      <td>0.864558</td>\n",
              "      <td>0.102496</td>\n",
              "      <td>0.213237</td>\n",
              "    </tr>\n",
              "    <tr>\n",
              "      <th>1972</th>\n",
              "      <td>2021-11-19 16:00:00</td>\n",
              "      <td>0.026469</td>\n",
              "      <td>0.872561</td>\n",
              "      <td>0.100972</td>\n",
              "      <td>0.236397</td>\n",
              "    </tr>\n",
              "    <tr>\n",
              "      <th>1973</th>\n",
              "      <td>2021-11-19 17:00:00</td>\n",
              "      <td>0.032144</td>\n",
              "      <td>0.852734</td>\n",
              "      <td>0.115126</td>\n",
              "      <td>0.258893</td>\n",
              "    </tr>\n",
              "    <tr>\n",
              "      <th>1974</th>\n",
              "      <td>2021-11-19 18:00:00</td>\n",
              "      <td>0.040772</td>\n",
              "      <td>0.854975</td>\n",
              "      <td>0.104250</td>\n",
              "      <td>0.179953</td>\n",
              "    </tr>\n",
              "    <tr>\n",
              "      <th>1975</th>\n",
              "      <td>2021-11-19 19:00:00</td>\n",
              "      <td>0.031683</td>\n",
              "      <td>0.865458</td>\n",
              "      <td>0.102859</td>\n",
              "      <td>0.233449</td>\n",
              "    </tr>\n",
              "    <tr>\n",
              "      <th>1976</th>\n",
              "      <td>2021-11-19 20:00:00</td>\n",
              "      <td>0.028347</td>\n",
              "      <td>0.871458</td>\n",
              "      <td>0.100195</td>\n",
              "      <td>0.241766</td>\n",
              "    </tr>\n",
              "    <tr>\n",
              "      <th>1977</th>\n",
              "      <td>2021-11-19 21:00:00</td>\n",
              "      <td>0.028735</td>\n",
              "      <td>0.879008</td>\n",
              "      <td>0.092264</td>\n",
              "      <td>0.215446</td>\n",
              "    </tr>\n",
              "    <tr>\n",
              "      <th>1978</th>\n",
              "      <td>2021-11-19 22:00:00</td>\n",
              "      <td>0.033254</td>\n",
              "      <td>0.865578</td>\n",
              "      <td>0.101166</td>\n",
              "      <td>0.244083</td>\n",
              "    </tr>\n",
              "    <tr>\n",
              "      <th>1979</th>\n",
              "      <td>2021-11-19 23:00:00</td>\n",
              "      <td>0.026742</td>\n",
              "      <td>0.875645</td>\n",
              "      <td>0.097604</td>\n",
              "      <td>0.228104</td>\n",
              "    </tr>\n",
              "    <tr>\n",
              "      <th>1980</th>\n",
              "      <td>['Airdrop', 'Airdrops', 'Airdropinspector', 'B...</td>\n",
              "      <td>0.000000</td>\n",
              "      <td>1.000000</td>\n",
              "      <td>0.000000</td>\n",
              "      <td>0.000000</td>\n",
              "    </tr>\n",
              "    <tr>\n",
              "      <th>1981</th>\n",
              "      <td>['Bitcoin']:00:00</td>\n",
              "      <td>0.000000</td>\n",
              "      <td>1.000000</td>\n",
              "      <td>0.000000</td>\n",
              "      <td>0.000000</td>\n",
              "    </tr>\n",
              "    <tr>\n",
              "      <th>1982</th>\n",
              "      <td>['ETH', 'BTC', 'Bitcoin']:00:00</td>\n",
              "      <td>0.000000</td>\n",
              "      <td>1.000000</td>\n",
              "      <td>0.000000</td>\n",
              "      <td>0.000000</td>\n",
              "    </tr>\n",
              "    <tr>\n",
              "      <th>1983</th>\n",
              "      <td>['PW', 'pythonwealth', 'Presale', 'token', 'ic...</td>\n",
              "      <td>0.000000</td>\n",
              "      <td>1.000000</td>\n",
              "      <td>0.000000</td>\n",
              "      <td>0.000000</td>\n",
              "    </tr>\n",
              "    <tr>\n",
              "      <th>1984</th>\n",
              "      <td>['YieldFarming', 'Airdrop', 'Binance', 'Bitcoi...</td>\n",
              "      <td>0.000000</td>\n",
              "      <td>1.000000</td>\n",
              "      <td>0.000000</td>\n",
              "      <td>0.000000</td>\n",
              "    </tr>\n",
              "    <tr>\n",
              "      <th>1985</th>\n",
              "      <td>['YieldFarming', 'Airdrop', 'PancakeSwap', 'Gi...</td>\n",
              "      <td>0.000000</td>\n",
              "      <td>1.000000</td>\n",
              "      <td>0.000000</td>\n",
              "      <td>0.000000</td>\n",
              "    </tr>\n",
              "    <tr>\n",
              "      <th>1986</th>\n",
              "      <td>['bitcoin']:00:00</td>\n",
              "      <td>0.000000</td>\n",
              "      <td>1.000000</td>\n",
              "      <td>0.000000</td>\n",
              "      <td>0.000000</td>\n",
              "    </tr>\n",
              "    <tr>\n",
              "      <th>1987</th>\n",
              "      <td>['btc']:00:00</td>\n",
              "      <td>0.000000</td>\n",
              "      <td>1.000000</td>\n",
              "      <td>0.000000</td>\n",
              "      <td>0.000000</td>\n",
              "    </tr>\n",
              "    <tr>\n",
              "      <th>1988</th>\n",
              "      <td>['cryptocurrency', 'BSC', 'Bitcoin', 'Ethereum...</td>\n",
              "      <td>0.000000</td>\n",
              "      <td>1.000000</td>\n",
              "      <td>0.000000</td>\n",
              "      <td>0.000000</td>\n",
              "    </tr>\n",
              "    <tr>\n",
              "      <th>1989</th>\n",
              "      <td>['cryptotrading', 'crypto', 'tradingbots', 'bi...</td>\n",
              "      <td>0.000000</td>\n",
              "      <td>1.000000</td>\n",
              "      <td>0.000000</td>\n",
              "      <td>0.000000</td>\n",
              "    </tr>\n",
              "    <tr>\n",
              "      <th>1990</th>\n",
              "      <td>['cryptotrading', 'tradingbots', 'altcoins', '...</td>\n",
              "      <td>0.000000</td>\n",
              "      <td>1.000000</td>\n",
              "      <td>0.000000</td>\n",
              "      <td>0.000000</td>\n",
              "    </tr>\n",
              "  </tbody>\n",
              "</table>\n",
              "</div>"
            ],
            "text/plain": [
              "                                                   Hour  ...  compound\n",
              "1971                                2021-11-19 15:00:00  ...  0.213237\n",
              "1972                                2021-11-19 16:00:00  ...  0.236397\n",
              "1973                                2021-11-19 17:00:00  ...  0.258893\n",
              "1974                                2021-11-19 18:00:00  ...  0.179953\n",
              "1975                                2021-11-19 19:00:00  ...  0.233449\n",
              "1976                                2021-11-19 20:00:00  ...  0.241766\n",
              "1977                                2021-11-19 21:00:00  ...  0.215446\n",
              "1978                                2021-11-19 22:00:00  ...  0.244083\n",
              "1979                                2021-11-19 23:00:00  ...  0.228104\n",
              "1980  ['Airdrop', 'Airdrops', 'Airdropinspector', 'B...  ...  0.000000\n",
              "1981                                  ['Bitcoin']:00:00  ...  0.000000\n",
              "1982                    ['ETH', 'BTC', 'Bitcoin']:00:00  ...  0.000000\n",
              "1983  ['PW', 'pythonwealth', 'Presale', 'token', 'ic...  ...  0.000000\n",
              "1984  ['YieldFarming', 'Airdrop', 'Binance', 'Bitcoi...  ...  0.000000\n",
              "1985  ['YieldFarming', 'Airdrop', 'PancakeSwap', 'Gi...  ...  0.000000\n",
              "1986                                  ['bitcoin']:00:00  ...  0.000000\n",
              "1987                                      ['btc']:00:00  ...  0.000000\n",
              "1988  ['cryptocurrency', 'BSC', 'Bitcoin', 'Ethereum...  ...  0.000000\n",
              "1989  ['cryptotrading', 'crypto', 'tradingbots', 'bi...  ...  0.000000\n",
              "1990  ['cryptotrading', 'tradingbots', 'altcoins', '...  ...  0.000000\n",
              "\n",
              "[20 rows x 5 columns]"
            ]
          },
          "metadata": {},
          "execution_count": 9
        }
      ]
    },
    {
      "cell_type": "code",
      "metadata": {
        "id": "IP2ZLXG0XZ-P"
      },
      "source": [
        "twitter = twitter.iloc[:1980,:]\n",
        "twitter = twitter.rename(columns={'Hour':'date'})"
      ],
      "execution_count": null,
      "outputs": []
    },
    {
      "cell_type": "code",
      "metadata": {
        "colab": {
          "base_uri": "https://localhost:8080/",
          "height": 206
        },
        "id": "uZLy3thWXjrE",
        "outputId": "3ccaab93-738b-4c8c-da3b-b6d3e8339480"
      },
      "source": [
        "twitter.tail()"
      ],
      "execution_count": null,
      "outputs": [
        {
          "output_type": "execute_result",
          "data": {
            "text/html": [
              "<div>\n",
              "<style scoped>\n",
              "    .dataframe tbody tr th:only-of-type {\n",
              "        vertical-align: middle;\n",
              "    }\n",
              "\n",
              "    .dataframe tbody tr th {\n",
              "        vertical-align: top;\n",
              "    }\n",
              "\n",
              "    .dataframe thead th {\n",
              "        text-align: right;\n",
              "    }\n",
              "</style>\n",
              "<table border=\"1\" class=\"dataframe\">\n",
              "  <thead>\n",
              "    <tr style=\"text-align: right;\">\n",
              "      <th></th>\n",
              "      <th>date</th>\n",
              "      <th>neg</th>\n",
              "      <th>neu</th>\n",
              "      <th>pos</th>\n",
              "      <th>compound</th>\n",
              "    </tr>\n",
              "  </thead>\n",
              "  <tbody>\n",
              "    <tr>\n",
              "      <th>1975</th>\n",
              "      <td>2021-11-19 19:00:00</td>\n",
              "      <td>0.031683</td>\n",
              "      <td>0.865458</td>\n",
              "      <td>0.102859</td>\n",
              "      <td>0.233449</td>\n",
              "    </tr>\n",
              "    <tr>\n",
              "      <th>1976</th>\n",
              "      <td>2021-11-19 20:00:00</td>\n",
              "      <td>0.028347</td>\n",
              "      <td>0.871458</td>\n",
              "      <td>0.100195</td>\n",
              "      <td>0.241766</td>\n",
              "    </tr>\n",
              "    <tr>\n",
              "      <th>1977</th>\n",
              "      <td>2021-11-19 21:00:00</td>\n",
              "      <td>0.028735</td>\n",
              "      <td>0.879008</td>\n",
              "      <td>0.092264</td>\n",
              "      <td>0.215446</td>\n",
              "    </tr>\n",
              "    <tr>\n",
              "      <th>1978</th>\n",
              "      <td>2021-11-19 22:00:00</td>\n",
              "      <td>0.033254</td>\n",
              "      <td>0.865578</td>\n",
              "      <td>0.101166</td>\n",
              "      <td>0.244083</td>\n",
              "    </tr>\n",
              "    <tr>\n",
              "      <th>1979</th>\n",
              "      <td>2021-11-19 23:00:00</td>\n",
              "      <td>0.026742</td>\n",
              "      <td>0.875645</td>\n",
              "      <td>0.097604</td>\n",
              "      <td>0.228104</td>\n",
              "    </tr>\n",
              "  </tbody>\n",
              "</table>\n",
              "</div>"
            ],
            "text/plain": [
              "                     date       neg       neu       pos  compound\n",
              "1975  2021-11-19 19:00:00  0.031683  0.865458  0.102859  0.233449\n",
              "1976  2021-11-19 20:00:00  0.028347  0.871458  0.100195  0.241766\n",
              "1977  2021-11-19 21:00:00  0.028735  0.879008  0.092264  0.215446\n",
              "1978  2021-11-19 22:00:00  0.033254  0.865578  0.101166  0.244083\n",
              "1979  2021-11-19 23:00:00  0.026742  0.875645  0.097604  0.228104"
            ]
          },
          "metadata": {},
          "execution_count": 16
        }
      ]
    },
    {
      "cell_type": "code",
      "metadata": {
        "colab": {
          "base_uri": "https://localhost:8080/"
        },
        "id": "gEF5F0qvGWkx",
        "outputId": "2888b959-9424-438d-bc63-986dbb5fe015"
      },
      "source": [
        "print(bitcoin.shape[0])\n",
        "print(trends.shape[0])\n",
        "print(reddit.shape[0])\n",
        "print(twitter.shape[0])"
      ],
      "execution_count": null,
      "outputs": [
        {
          "output_type": "stream",
          "name": "stdout",
          "text": [
            "5832\n",
            "5832\n",
            "1552\n",
            "1980\n"
          ]
        }
      ]
    },
    {
      "cell_type": "code",
      "source": [
        "#Combine Data into dataframe using outer join\n",
        "\n",
        "\n",
        "data = pd.DataFrame()\n",
        "data[\"date\"] = bitcoin[\"date\"]\n",
        "data = data.merge(bitcoin[['date','Diff_Category']], on='date')\n",
        "data = data.merge(trends[['date','avg_score']], on='date', how='outer')\n",
        "data = data.merge(reddit[['date','compound']], on='date', how='outer')\n",
        "data = data.merge(twitter[['date','compound']], on='date', how='outer')\n",
        "\n",
        "data.tail()"
      ],
      "metadata": {
        "colab": {
          "base_uri": "https://localhost:8080/",
          "height": 206
        },
        "id": "hMlvXvvGZk-a",
        "outputId": "262ee96c-5886-48ed-a4e0-509f4974e783"
      },
      "execution_count": null,
      "outputs": [
        {
          "output_type": "execute_result",
          "data": {
            "text/html": [
              "<div>\n",
              "<style scoped>\n",
              "    .dataframe tbody tr th:only-of-type {\n",
              "        vertical-align: middle;\n",
              "    }\n",
              "\n",
              "    .dataframe tbody tr th {\n",
              "        vertical-align: top;\n",
              "    }\n",
              "\n",
              "    .dataframe thead th {\n",
              "        text-align: right;\n",
              "    }\n",
              "</style>\n",
              "<table border=\"1\" class=\"dataframe\">\n",
              "  <thead>\n",
              "    <tr style=\"text-align: right;\">\n",
              "      <th></th>\n",
              "      <th>date</th>\n",
              "      <th>Diff_Category</th>\n",
              "      <th>avg_score</th>\n",
              "      <th>compound_x</th>\n",
              "      <th>compound_y</th>\n",
              "    </tr>\n",
              "  </thead>\n",
              "  <tbody>\n",
              "    <tr>\n",
              "      <th>6179</th>\n",
              "      <td>2021-11-19 19:00:00</td>\n",
              "      <td>NaN</td>\n",
              "      <td>NaN</td>\n",
              "      <td>NaN</td>\n",
              "      <td>0.233449</td>\n",
              "    </tr>\n",
              "    <tr>\n",
              "      <th>6180</th>\n",
              "      <td>2021-11-19 20:00:00</td>\n",
              "      <td>NaN</td>\n",
              "      <td>NaN</td>\n",
              "      <td>NaN</td>\n",
              "      <td>0.241766</td>\n",
              "    </tr>\n",
              "    <tr>\n",
              "      <th>6181</th>\n",
              "      <td>2021-11-19 21:00:00</td>\n",
              "      <td>NaN</td>\n",
              "      <td>NaN</td>\n",
              "      <td>NaN</td>\n",
              "      <td>0.215446</td>\n",
              "    </tr>\n",
              "    <tr>\n",
              "      <th>6182</th>\n",
              "      <td>2021-11-19 22:00:00</td>\n",
              "      <td>NaN</td>\n",
              "      <td>NaN</td>\n",
              "      <td>NaN</td>\n",
              "      <td>0.244083</td>\n",
              "    </tr>\n",
              "    <tr>\n",
              "      <th>6183</th>\n",
              "      <td>2021-11-19 23:00:00</td>\n",
              "      <td>NaN</td>\n",
              "      <td>NaN</td>\n",
              "      <td>NaN</td>\n",
              "      <td>0.228104</td>\n",
              "    </tr>\n",
              "  </tbody>\n",
              "</table>\n",
              "</div>"
            ],
            "text/plain": [
              "                     date  Diff_Category  avg_score  compound_x  compound_y\n",
              "6179  2021-11-19 19:00:00            NaN        NaN         NaN    0.233449\n",
              "6180  2021-11-19 20:00:00            NaN        NaN         NaN    0.241766\n",
              "6181  2021-11-19 21:00:00            NaN        NaN         NaN    0.215446\n",
              "6182  2021-11-19 22:00:00            NaN        NaN         NaN    0.244083\n",
              "6183  2021-11-19 23:00:00            NaN        NaN         NaN    0.228104"
            ]
          },
          "metadata": {},
          "execution_count": 105
        }
      ]
    },
    {
      "cell_type": "code",
      "metadata": {
        "id": "QVKorBiKIgfj",
        "colab": {
          "base_uri": "https://localhost:8080/",
          "height": 206
        },
        "outputId": "10971c6f-7408-43a0-9777-64b266699656"
      },
      "source": [
        "#Drop all values for which we dont have the bitcoin price category\n",
        "data = data.dropna(subset=['Diff_Category'])\n",
        "data.tail()"
      ],
      "execution_count": null,
      "outputs": [
        {
          "output_type": "execute_result",
          "data": {
            "text/html": [
              "<div>\n",
              "<style scoped>\n",
              "    .dataframe tbody tr th:only-of-type {\n",
              "        vertical-align: middle;\n",
              "    }\n",
              "\n",
              "    .dataframe tbody tr th {\n",
              "        vertical-align: top;\n",
              "    }\n",
              "\n",
              "    .dataframe thead th {\n",
              "        text-align: right;\n",
              "    }\n",
              "</style>\n",
              "<table border=\"1\" class=\"dataframe\">\n",
              "  <thead>\n",
              "    <tr style=\"text-align: right;\">\n",
              "      <th></th>\n",
              "      <th>date</th>\n",
              "      <th>Diff_Category</th>\n",
              "      <th>avg_score</th>\n",
              "      <th>compound_x</th>\n",
              "      <th>compound_y</th>\n",
              "    </tr>\n",
              "  </thead>\n",
              "  <tbody>\n",
              "    <tr>\n",
              "      <th>5827</th>\n",
              "      <td>2021-01-01 04:00:00</td>\n",
              "      <td>0.0</td>\n",
              "      <td>12.660625</td>\n",
              "      <td>NaN</td>\n",
              "      <td>NaN</td>\n",
              "    </tr>\n",
              "    <tr>\n",
              "      <th>5828</th>\n",
              "      <td>2021-01-01 03:00:00</td>\n",
              "      <td>0.0</td>\n",
              "      <td>12.660625</td>\n",
              "      <td>NaN</td>\n",
              "      <td>NaN</td>\n",
              "    </tr>\n",
              "    <tr>\n",
              "      <th>5829</th>\n",
              "      <td>2021-01-01 02:00:00</td>\n",
              "      <td>1.0</td>\n",
              "      <td>12.660625</td>\n",
              "      <td>NaN</td>\n",
              "      <td>NaN</td>\n",
              "    </tr>\n",
              "    <tr>\n",
              "      <th>5830</th>\n",
              "      <td>2021-01-01 01:00:00</td>\n",
              "      <td>-1.0</td>\n",
              "      <td>12.660625</td>\n",
              "      <td>NaN</td>\n",
              "      <td>NaN</td>\n",
              "    </tr>\n",
              "    <tr>\n",
              "      <th>5831</th>\n",
              "      <td>2021-01-01 00:00:00</td>\n",
              "      <td>0.0</td>\n",
              "      <td>12.660625</td>\n",
              "      <td>NaN</td>\n",
              "      <td>NaN</td>\n",
              "    </tr>\n",
              "  </tbody>\n",
              "</table>\n",
              "</div>"
            ],
            "text/plain": [
              "                     date  Diff_Category  avg_score  compound_x  compound_y\n",
              "5827  2021-01-01 04:00:00            0.0  12.660625         NaN         NaN\n",
              "5828  2021-01-01 03:00:00            0.0  12.660625         NaN         NaN\n",
              "5829  2021-01-01 02:00:00            1.0  12.660625         NaN         NaN\n",
              "5830  2021-01-01 01:00:00           -1.0  12.660625         NaN         NaN\n",
              "5831  2021-01-01 00:00:00            0.0  12.660625         NaN         NaN"
            ]
          },
          "metadata": {},
          "execution_count": 106
        }
      ]
    },
    {
      "cell_type": "code",
      "source": [
        "#drop all values for which both twitter and reddit scores are missing\n",
        "data = data.dropna(thresh=4)\n",
        "data.tail()"
      ],
      "metadata": {
        "colab": {
          "base_uri": "https://localhost:8080/",
          "height": 206
        },
        "id": "D9apI16vaIPn",
        "outputId": "b2908da1-65da-4a9e-825a-5d19581e2878"
      },
      "execution_count": null,
      "outputs": [
        {
          "output_type": "execute_result",
          "data": {
            "text/html": [
              "<div>\n",
              "<style scoped>\n",
              "    .dataframe tbody tr th:only-of-type {\n",
              "        vertical-align: middle;\n",
              "    }\n",
              "\n",
              "    .dataframe tbody tr th {\n",
              "        vertical-align: top;\n",
              "    }\n",
              "\n",
              "    .dataframe thead th {\n",
              "        text-align: right;\n",
              "    }\n",
              "</style>\n",
              "<table border=\"1\" class=\"dataframe\">\n",
              "  <thead>\n",
              "    <tr style=\"text-align: right;\">\n",
              "      <th></th>\n",
              "      <th>date</th>\n",
              "      <th>Diff_Category</th>\n",
              "      <th>avg_score</th>\n",
              "      <th>compound_x</th>\n",
              "      <th>compound_y</th>\n",
              "    </tr>\n",
              "  </thead>\n",
              "  <tbody>\n",
              "    <tr>\n",
              "      <th>5795</th>\n",
              "      <td>2021-01-02 12:00:00</td>\n",
              "      <td>-1.0</td>\n",
              "      <td>34.144375</td>\n",
              "      <td>0.135536</td>\n",
              "      <td>NaN</td>\n",
              "    </tr>\n",
              "    <tr>\n",
              "      <th>5796</th>\n",
              "      <td>2021-01-02 11:00:00</td>\n",
              "      <td>0.0</td>\n",
              "      <td>34.144375</td>\n",
              "      <td>0.265852</td>\n",
              "      <td>NaN</td>\n",
              "    </tr>\n",
              "    <tr>\n",
              "      <th>5803</th>\n",
              "      <td>2021-01-02 04:00:00</td>\n",
              "      <td>0.0</td>\n",
              "      <td>34.144375</td>\n",
              "      <td>0.087468</td>\n",
              "      <td>NaN</td>\n",
              "    </tr>\n",
              "    <tr>\n",
              "      <th>5811</th>\n",
              "      <td>2021-01-01 20:00:00</td>\n",
              "      <td>-1.0</td>\n",
              "      <td>12.660625</td>\n",
              "      <td>0.232856</td>\n",
              "      <td>NaN</td>\n",
              "    </tr>\n",
              "    <tr>\n",
              "      <th>5819</th>\n",
              "      <td>2021-01-01 12:00:00</td>\n",
              "      <td>0.0</td>\n",
              "      <td>12.660625</td>\n",
              "      <td>0.249644</td>\n",
              "      <td>NaN</td>\n",
              "    </tr>\n",
              "  </tbody>\n",
              "</table>\n",
              "</div>"
            ],
            "text/plain": [
              "                     date  Diff_Category  avg_score  compound_x  compound_y\n",
              "5795  2021-01-02 12:00:00           -1.0  34.144375    0.135536         NaN\n",
              "5796  2021-01-02 11:00:00            0.0  34.144375    0.265852         NaN\n",
              "5803  2021-01-02 04:00:00            0.0  34.144375    0.087468         NaN\n",
              "5811  2021-01-01 20:00:00           -1.0  12.660625    0.232856         NaN\n",
              "5819  2021-01-01 12:00:00            0.0  12.660625    0.249644         NaN"
            ]
          },
          "metadata": {},
          "execution_count": 107
        }
      ]
    },
    {
      "cell_type": "code",
      "source": [
        "#Fill NAN values with the mean\n",
        "data = data.fillna(data.mean())\n",
        "data.tail()"
      ],
      "metadata": {
        "colab": {
          "base_uri": "https://localhost:8080/",
          "height": 206
        },
        "id": "BRmVaYUIYnQA",
        "outputId": "489ab19c-e0c0-46b0-abdc-537390a37033"
      },
      "execution_count": null,
      "outputs": [
        {
          "output_type": "execute_result",
          "data": {
            "text/html": [
              "<div>\n",
              "<style scoped>\n",
              "    .dataframe tbody tr th:only-of-type {\n",
              "        vertical-align: middle;\n",
              "    }\n",
              "\n",
              "    .dataframe tbody tr th {\n",
              "        vertical-align: top;\n",
              "    }\n",
              "\n",
              "    .dataframe thead th {\n",
              "        text-align: right;\n",
              "    }\n",
              "</style>\n",
              "<table border=\"1\" class=\"dataframe\">\n",
              "  <thead>\n",
              "    <tr style=\"text-align: right;\">\n",
              "      <th></th>\n",
              "      <th>date</th>\n",
              "      <th>Diff_Category</th>\n",
              "      <th>avg_score</th>\n",
              "      <th>compound_x</th>\n",
              "      <th>compound_y</th>\n",
              "    </tr>\n",
              "  </thead>\n",
              "  <tbody>\n",
              "    <tr>\n",
              "      <th>5795</th>\n",
              "      <td>2021-01-02 12:00:00</td>\n",
              "      <td>-1.0</td>\n",
              "      <td>34.144375</td>\n",
              "      <td>0.135536</td>\n",
              "      <td>0.208859</td>\n",
              "    </tr>\n",
              "    <tr>\n",
              "      <th>5796</th>\n",
              "      <td>2021-01-02 11:00:00</td>\n",
              "      <td>0.0</td>\n",
              "      <td>34.144375</td>\n",
              "      <td>0.265852</td>\n",
              "      <td>0.208859</td>\n",
              "    </tr>\n",
              "    <tr>\n",
              "      <th>5803</th>\n",
              "      <td>2021-01-02 04:00:00</td>\n",
              "      <td>0.0</td>\n",
              "      <td>34.144375</td>\n",
              "      <td>0.087468</td>\n",
              "      <td>0.208859</td>\n",
              "    </tr>\n",
              "    <tr>\n",
              "      <th>5811</th>\n",
              "      <td>2021-01-01 20:00:00</td>\n",
              "      <td>-1.0</td>\n",
              "      <td>12.660625</td>\n",
              "      <td>0.232856</td>\n",
              "      <td>0.208859</td>\n",
              "    </tr>\n",
              "    <tr>\n",
              "      <th>5819</th>\n",
              "      <td>2021-01-01 12:00:00</td>\n",
              "      <td>0.0</td>\n",
              "      <td>12.660625</td>\n",
              "      <td>0.249644</td>\n",
              "      <td>0.208859</td>\n",
              "    </tr>\n",
              "  </tbody>\n",
              "</table>\n",
              "</div>"
            ],
            "text/plain": [
              "                     date  Diff_Category  avg_score  compound_x  compound_y\n",
              "5795  2021-01-02 12:00:00           -1.0  34.144375    0.135536    0.208859\n",
              "5796  2021-01-02 11:00:00            0.0  34.144375    0.265852    0.208859\n",
              "5803  2021-01-02 04:00:00            0.0  34.144375    0.087468    0.208859\n",
              "5811  2021-01-01 20:00:00           -1.0  12.660625    0.232856    0.208859\n",
              "5819  2021-01-01 12:00:00            0.0  12.660625    0.249644    0.208859"
            ]
          },
          "metadata": {},
          "execution_count": 108
        }
      ]
    },
    {
      "cell_type": "code",
      "metadata": {
        "id": "otCeaHvb9ec-"
      },
      "source": [
        "#get training and test data\n",
        "#Using only compound sentiment score, and average google trend score\n",
        "X = data[['compound_x','compound_y','avg_score']]\n",
        "y = data[['Diff_Category']]\n",
        "\n",
        "#we need to use the y value for the NEXT hour as the classification variable\n",
        "X = X.iloc[:-1,:]\n",
        "y= y.iloc[1:,:]\n",
        "\n",
        "X_train, X_test, y_train, y_test = train_test_split(X, y, test_size = 0.05, random_state=7)"
      ],
      "execution_count": null,
      "outputs": []
    },
    {
      "cell_type": "code",
      "metadata": {
        "id": "aWw3mJvFj1eJ",
        "colab": {
          "base_uri": "https://localhost:8080/",
          "height": 70
        },
        "outputId": "b128fee4-b9b0-49f4-d2e7-ce6643a7f559"
      },
      "source": [
        "#trying with all attributes\n",
        "#get training and test data\n",
        "'''\n",
        "cols = data.columns\n",
        "X = data[cols[2:]]\n",
        "y = data[['Diff_Category']]\n",
        "\n",
        "#we need to use the y value for the NEXT hour as the classification variable\n",
        "X = X.iloc[:-1,:]\n",
        "y= y.iloc[1:,:]\n",
        "\n",
        "X_train, X_test, y_train, y_test = train_test_split(X, y, test_size = 0.20, random_state=7)\n",
        "'''"
      ],
      "execution_count": null,
      "outputs": [
        {
          "output_type": "execute_result",
          "data": {
            "application/vnd.google.colaboratory.intrinsic+json": {
              "type": "string"
            },
            "text/plain": [
              "\"\\ncols = data.columns\\nX = data[cols[2:]]\\ny = data[['Diff_Category']]\\n\\n#we need to use the y value for the NEXT hour as the classification variable\\nX = X.iloc[:-1,:]\\ny= y.iloc[1:,:]\\n\\nX_train, X_test, y_train, y_test = train_test_split(X, y, test_size = 0.20, random_state=7)\\n\""
            ]
          },
          "metadata": {},
          "execution_count": 58
        }
      ]
    },
    {
      "cell_type": "markdown",
      "metadata": {
        "id": "Oin14tvs9ypi"
      },
      "source": [
        "## Training a Decision Tree Classifier"
      ]
    },
    {
      "cell_type": "code",
      "metadata": {
        "id": "qmPEfBk59tho"
      },
      "source": [
        "#Train Model\n",
        "clf = DecisionTreeClassifier(max_depth=5)\n",
        "clf.fit(X_train, y_train)\n",
        "\n",
        "#Predict\n",
        "y_pred = clf.predict(X_test)"
      ],
      "execution_count": null,
      "outputs": []
    },
    {
      "cell_type": "code",
      "metadata": {
        "colab": {
          "base_uri": "https://localhost:8080/"
        },
        "id": "HWUhqRYn92nU",
        "outputId": "08deb56a-b25f-4bbb-c679-111f17463649"
      },
      "source": [
        "#Evaluate Model\n",
        "print(\"Train Accuracy: \",clf.score(X_train, y_train) )\n",
        "print(\"Test Accuracy: \", metrics.accuracy_score(y_test.values, y_pred))\n",
        "print(\"F1-Score: \", metrics.f1_score(y_test, y_pred, average='weighted'))\n",
        "print(\"Precision: \", metrics.precision_score(y_test, y_pred, average='weighted'))\n",
        "print(\"Recall: \", metrics.recall_score(y_test, y_pred, average='weighted'))"
      ],
      "execution_count": null,
      "outputs": [
        {
          "output_type": "stream",
          "name": "stdout",
          "text": [
            "Train Accuracy:  0.46709470304975925\n",
            "Test Accuracy:  0.5378787878787878\n",
            "F1-Score:  0.4898744824016563\n",
            "Precision:  0.4933833217081298\n",
            "Recall:  0.5378787878787878\n"
          ]
        }
      ]
    },
    {
      "cell_type": "markdown",
      "metadata": {
        "id": "JKkPeJsH-Ar8"
      },
      "source": [
        "## Training a Random Forrest Classifier"
      ]
    },
    {
      "cell_type": "code",
      "metadata": {
        "colab": {
          "base_uri": "https://localhost:8080/"
        },
        "id": "T9ALH7Zu95B_",
        "outputId": "cc027c77-d16e-4249-f152-e8b732bc236b"
      },
      "source": [
        "#Train Model\n",
        "clf = RandomForestClassifier(n_estimators = 5) \n",
        "clf.fit(X_train, y_train)\n",
        "\n",
        "#Predict\n",
        "y_pred = clf.predict(X_test)\n",
        "\n",
        "#Evaluate Model\n",
        "print(\"Accuracy: \", metrics.accuracy_score(y_test, y_pred))\n",
        "print(\"F1-Score: \", metrics.f1_score(y_test, y_pred, average='weighted'))\n",
        "print(\"Precision: \", metrics.precision_score(y_test, y_pred, average='weighted'))\n",
        "print(\"Recall: \", metrics.recall_score(y_test, y_pred, average='weighted'))"
      ],
      "execution_count": null,
      "outputs": [
        {
          "output_type": "stream",
          "name": "stdout",
          "text": [
            "Accuracy:  0.4090909090909091\n",
            "F1-Score:  0.41714956583377627\n",
            "Precision:  0.4310430353057081\n",
            "Recall:  0.4090909090909091\n"
          ]
        },
        {
          "output_type": "stream",
          "name": "stderr",
          "text": [
            "/usr/local/lib/python3.7/dist-packages/ipykernel_launcher.py:3: DataConversionWarning: A column-vector y was passed when a 1d array was expected. Please change the shape of y to (n_samples,), for example using ravel().\n",
            "  This is separate from the ipykernel package so we can avoid doing imports until\n"
          ]
        }
      ]
    },
    {
      "cell_type": "markdown",
      "metadata": {
        "id": "4D2nKwwj-GZ-"
      },
      "source": [
        "## Training an SVM Classifier"
      ]
    },
    {
      "cell_type": "code",
      "metadata": {
        "colab": {
          "base_uri": "https://localhost:8080/"
        },
        "id": "WuMmpaD3-Edv",
        "outputId": "8b142911-b483-4b94-c327-320047150f75"
      },
      "source": [
        "#Train Model\n",
        "clf = SVC(kernel=\"linear\", C=0.025)\n",
        "clf.fit(X_train, y_train)\n",
        "\n",
        "#Predict\n",
        "y_pred = clf.predict(X_test)\n",
        "\n",
        "\n",
        "#Evaluate Model\n",
        "print(\"Accuracy: \", metrics.accuracy_score(y_test, y_pred))\n",
        "print(\"F1-Score: \", metrics.f1_score(y_test, y_pred, average='weighted'))\n",
        "print(\"Precision: \", metrics.precision_score(y_test, y_pred, average='weighted'))\n",
        "print(\"Recall: \", metrics.recall_score(y_test, y_pred, average='weighted'))"
      ],
      "execution_count": null,
      "outputs": [
        {
          "output_type": "stream",
          "name": "stderr",
          "text": [
            "/usr/local/lib/python3.7/dist-packages/sklearn/utils/validation.py:985: DataConversionWarning: A column-vector y was passed when a 1d array was expected. Please change the shape of y to (n_samples, ), for example using ravel().\n",
            "  y = column_or_1d(y, warn=True)\n"
          ]
        },
        {
          "output_type": "stream",
          "name": "stdout",
          "text": [
            "Accuracy:  0.5\n",
            "F1-Score:  0.37482399755127027\n",
            "Precision:  0.3537401863673049\n",
            "Recall:  0.5\n"
          ]
        },
        {
          "output_type": "stream",
          "name": "stderr",
          "text": [
            "/usr/local/lib/python3.7/dist-packages/sklearn/metrics/_classification.py:1308: UndefinedMetricWarning: Precision is ill-defined and being set to 0.0 in labels with no predicted samples. Use `zero_division` parameter to control this behavior.\n",
            "  _warn_prf(average, modifier, msg_start, len(result))\n"
          ]
        }
      ]
    },
    {
      "cell_type": "markdown",
      "source": [
        "## Hyperparamter Tuning for Decision Tree Model"
      ],
      "metadata": {
        "id": "4vyzRVKMeZjR"
      }
    },
    {
      "cell_type": "code",
      "metadata": {
        "id": "KtA2_gb6-e5L",
        "colab": {
          "base_uri": "https://localhost:8080/"
        },
        "outputId": "9267025b-a892-403d-8fd3-e26049de9597"
      },
      "source": [
        "#Train Model\n",
        "clf = DecisionTreeClassifier(max_depth=5)\n",
        "clf.fit(X_train, y_train)\n",
        "\n",
        "#Predict\n",
        "y_pred = clf.predict(X_test)\n",
        "\n",
        "#Evaluate Model\n",
        "print(\"Train Accuracy: \",clf.score(X_train, y_train) )\n",
        "print(\"Test Accuracy: \", metrics.accuracy_score(y_test.values, y_pred))\n",
        "print(\"F1-Score: \", metrics.f1_score(y_test, y_pred, average='weighted'))\n",
        "print(\"Precision: \", metrics.precision_score(y_test, y_pred, average='weighted'))\n",
        "print(\"Recall: \", metrics.recall_score(y_test, y_pred, average='weighted'))"
      ],
      "execution_count": null,
      "outputs": [
        {
          "output_type": "stream",
          "name": "stdout",
          "text": [
            "Train Accuracy:  0.46709470304975925\n",
            "Test Accuracy:  0.5378787878787878\n",
            "F1-Score:  0.4898744824016563\n",
            "Precision:  0.4933833217081298\n",
            "Recall:  0.5378787878787878\n"
          ]
        }
      ]
    },
    {
      "cell_type": "code",
      "source": [
        "# Current parameters in use\n",
        "from pprint import pprint\n",
        "# Look at parameters used by our current forest\n",
        "print('Parameters currently in use:\\n')\n",
        "pprint(clf.get_params())"
      ],
      "metadata": {
        "colab": {
          "base_uri": "https://localhost:8080/"
        },
        "id": "t3tmjcaIfEIO",
        "outputId": "93826870-8257-4580-df5b-46d5435a1320"
      },
      "execution_count": null,
      "outputs": [
        {
          "output_type": "stream",
          "name": "stdout",
          "text": [
            "Parameters currently in use:\n",
            "\n",
            "{'ccp_alpha': 0.0,\n",
            " 'class_weight': None,\n",
            " 'criterion': 'gini',\n",
            " 'max_depth': 5,\n",
            " 'max_features': None,\n",
            " 'max_leaf_nodes': None,\n",
            " 'min_impurity_decrease': 0.0,\n",
            " 'min_samples_leaf': 1,\n",
            " 'min_samples_split': 2,\n",
            " 'min_weight_fraction_leaf': 0.0,\n",
            " 'random_state': None,\n",
            " 'splitter': 'best'}\n"
          ]
        }
      ]
    },
    {
      "cell_type": "code",
      "source": [
        "from sklearn.model_selection import GridSearchCV\n",
        "# Create the parameter grid based on the results of random search \n",
        "param_grid = {\n",
        "    'max_depth': [5,10,15],\n",
        "    'max_features': [None, 2, 3],\n",
        "    'min_samples_leaf': [1, 2, 3],\n",
        "    'min_samples_split': [2,3,5],\n",
        "    'splitter' : ['best','random']\n",
        "}\n",
        "# Create a based model\n",
        "clf = DecisionTreeClassifier()\n",
        "# Instantiate the grid search model\n",
        "grid_search = GridSearchCV(estimator = clf, param_grid = param_grid, \n",
        "                          cv = 3, n_jobs = -1, verbose = 2)"
      ],
      "metadata": {
        "id": "GzKw9bbofHQX"
      },
      "execution_count": null,
      "outputs": []
    },
    {
      "cell_type": "code",
      "source": [
        "grid_search.fit(X_train, y_train)"
      ],
      "metadata": {
        "colab": {
          "base_uri": "https://localhost:8080/"
        },
        "id": "I868RBuAfqH6",
        "outputId": "5253d4ca-0c11-4c9d-c1f2-64fe98bfde0a"
      },
      "execution_count": null,
      "outputs": [
        {
          "output_type": "stream",
          "name": "stdout",
          "text": [
            "Fitting 3 folds for each of 162 candidates, totalling 486 fits\n"
          ]
        },
        {
          "output_type": "execute_result",
          "data": {
            "text/plain": [
              "GridSearchCV(cv=3, estimator=DecisionTreeClassifier(max_depth=5), n_jobs=-1,\n",
              "             param_grid={'max_depth': [5, 10, 15], 'max_features': [None, 2, 3],\n",
              "                         'min_samples_leaf': [1, 2, 3],\n",
              "                         'min_samples_split': [2, 3, 5],\n",
              "                         'splitter': ['best', 'random']},\n",
              "             verbose=2)"
            ]
          },
          "metadata": {},
          "execution_count": 129
        }
      ]
    },
    {
      "cell_type": "code",
      "source": [
        "grid_search.best_params_"
      ],
      "metadata": {
        "colab": {
          "base_uri": "https://localhost:8080/"
        },
        "id": "44Z8tMceftxi",
        "outputId": "bc7a6ff4-262e-4938-a6df-b42f00cf119b"
      },
      "execution_count": null,
      "outputs": [
        {
          "output_type": "execute_result",
          "data": {
            "text/plain": [
              "{'max_depth': 5,\n",
              " 'max_features': 2,\n",
              " 'min_samples_leaf': 3,\n",
              " 'min_samples_split': 5,\n",
              " 'splitter': 'random'}"
            ]
          },
          "metadata": {},
          "execution_count": 130
        }
      ]
    },
    {
      "cell_type": "code",
      "source": [
        "#Train Model\n",
        "clf = DecisionTreeClassifier(max_depth=5, max_features=2, min_samples_leaf=3, min_samples_split=5, splitter='random')\n",
        "clf.fit(X_train, y_train)\n",
        "\n",
        "#Predict\n",
        "y_pred = clf.predict(X_test)\n",
        "\n",
        "#Evaluate Model\n",
        "print(\"Train Accuracy: \",clf.score(X_train, y_train) )\n",
        "print(\"Test Accuracy: \", metrics.accuracy_score(y_test.values, y_pred))\n",
        "print(\"F1-Score: \", metrics.f1_score(y_test, y_pred, average='weighted'))\n",
        "print(\"Precision: \", metrics.precision_score(y_test, y_pred, average='weighted'))\n",
        "print(\"Recall: \", metrics.recall_score(y_test, y_pred, average='weighted'))"
      ],
      "metadata": {
        "colab": {
          "base_uri": "https://localhost:8080/"
        },
        "id": "mP0BMwYLf6ds",
        "outputId": "3a992818-07b7-465a-c2d9-502c7a2d72e5"
      },
      "execution_count": null,
      "outputs": [
        {
          "output_type": "stream",
          "name": "stdout",
          "text": [
            "Train Accuracy: 0.4886035313001605\n",
            "Test Accuracy: 0.5878787878787878\n",
            "F1-Score: 0.4956976396415797\n",
            "Precision: 0.43320335011557585\n",
            "Recall: 0.5578787878787878\n"
          ]
        }
      ]
    },
    {
      "cell_type": "code",
      "source": [
        ""
      ],
      "metadata": {
        "id": "dopnDkhwhElj"
      },
      "execution_count": null,
      "outputs": []
    }
  ]
}