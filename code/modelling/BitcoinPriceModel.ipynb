{
  "nbformat": 4,
  "nbformat_minor": 0,
  "metadata": {
    "colab": {
      "name": "BitcoinPriceModel.ipynb",
      "provenance": []
    },
    "kernelspec": {
      "name": "python3",
      "display_name": "Python 3"
    },
    "language_info": {
      "name": "python"
    }
  },
  "cells": [
    {
      "cell_type": "markdown",
      "metadata": {
        "id": "dZ-VUxYVRI1k"
      },
      "source": [
        "# Predicting Change in Daily Bitcoin Prices using Social Media Interest Measures\n",
        "\n",
        "Here, we train a classifier to use Daily twitter sentiment scores, daily reddit sentiment scores, and daily google trend scores to categorize the change in bitcoin prices into one of 5 categories: highly negative (-2), moderately negative (-1), no commendable change (0), moderately positive (1), highly negative (2)"
      ]
    },
    {
      "cell_type": "code",
      "metadata": {
        "id": "J8vrC959RFeG"
      },
      "source": [
        "import pandas as pd\n",
        "import matplotlib.pyplot as plt\n",
        "from sklearn.model_selection import train_test_split\n",
        "from sklearn.ensemble import RandomForestClassifier\n",
        "from sklearn import metrics \n",
        "from sklearn.svm import SVC\n",
        "from sklearn.tree import DecisionTreeClassifier"
      ],
      "execution_count": null,
      "outputs": []
    },
    {
      "cell_type": "markdown",
      "metadata": {
        "id": "76QQ5v9CUCZU"
      },
      "source": [
        "## Prepare Data"
      ]
    },
    {
      "cell_type": "code",
      "metadata": {
        "id": "pSPLeCV7SwKq"
      },
      "source": [
        "#Import Data\n",
        "\n",
        "bitcoin = pd.read_csv('categorical_bitcoin_price.csv', sep='\\t', index_col=0)\n",
        "reddit = pd.read_csv('redditDailySentiment.csv', sep='\\t', index_col=None)\n",
        "trends= pd.read_csv('trends_daily_score.csv', sep='\\t', index_col=0)\n",
        "twitter = pd.read_csv('twitterSentiment.csv', sep=',', index_col=None)"
      ],
      "execution_count": null,
      "outputs": []
    },
    {
      "cell_type": "code",
      "metadata": {
        "colab": {
          "base_uri": "https://localhost:8080/",
          "height": 204
        },
        "id": "6E9G27__TM-8",
        "outputId": "9de05dfb-125a-4f37-e3e7-a8ea8a14f474"
      },
      "source": [
        "bitcoin.head()"
      ],
      "execution_count": null,
      "outputs": [
        {
          "output_type": "execute_result",
          "data": {
            "text/html": [
              "<div>\n",
              "<style scoped>\n",
              "    .dataframe tbody tr th:only-of-type {\n",
              "        vertical-align: middle;\n",
              "    }\n",
              "\n",
              "    .dataframe tbody tr th {\n",
              "        vertical-align: top;\n",
              "    }\n",
              "\n",
              "    .dataframe thead th {\n",
              "        text-align: right;\n",
              "    }\n",
              "</style>\n",
              "<table border=\"1\" class=\"dataframe\">\n",
              "  <thead>\n",
              "    <tr style=\"text-align: right;\">\n",
              "      <th></th>\n",
              "      <th>Date</th>\n",
              "      <th>open</th>\n",
              "      <th>high</th>\n",
              "      <th>low</th>\n",
              "      <th>close</th>\n",
              "      <th>volume</th>\n",
              "      <th>Diff_Open</th>\n",
              "      <th>Diff_Category</th>\n",
              "    </tr>\n",
              "  </thead>\n",
              "  <tbody>\n",
              "    <tr>\n",
              "      <th>0</th>\n",
              "      <td>2021-01-01</td>\n",
              "      <td>28923.63</td>\n",
              "      <td>29600.00</td>\n",
              "      <td>28624.57</td>\n",
              "      <td>29331.69</td>\n",
              "      <td>54182.925011</td>\n",
              "      <td>NaN</td>\n",
              "      <td>0</td>\n",
              "    </tr>\n",
              "    <tr>\n",
              "      <th>1</th>\n",
              "      <td>2021-01-02</td>\n",
              "      <td>29331.70</td>\n",
              "      <td>33300.00</td>\n",
              "      <td>28946.53</td>\n",
              "      <td>32178.33</td>\n",
              "      <td>129993.873362</td>\n",
              "      <td>408.07</td>\n",
              "      <td>0</td>\n",
              "    </tr>\n",
              "    <tr>\n",
              "      <th>2</th>\n",
              "      <td>2021-01-03</td>\n",
              "      <td>32176.45</td>\n",
              "      <td>34778.11</td>\n",
              "      <td>31962.99</td>\n",
              "      <td>33000.05</td>\n",
              "      <td>120957.566750</td>\n",
              "      <td>2844.75</td>\n",
              "      <td>1</td>\n",
              "    </tr>\n",
              "    <tr>\n",
              "      <th>3</th>\n",
              "      <td>2021-01-04</td>\n",
              "      <td>33000.05</td>\n",
              "      <td>33600.00</td>\n",
              "      <td>28130.00</td>\n",
              "      <td>31988.71</td>\n",
              "      <td>140899.885690</td>\n",
              "      <td>823.60</td>\n",
              "      <td>1</td>\n",
              "    </tr>\n",
              "    <tr>\n",
              "      <th>4</th>\n",
              "      <td>2021-01-05</td>\n",
              "      <td>31989.75</td>\n",
              "      <td>34360.00</td>\n",
              "      <td>29900.00</td>\n",
              "      <td>33949.53</td>\n",
              "      <td>116049.997038</td>\n",
              "      <td>-1010.30</td>\n",
              "      <td>-1</td>\n",
              "    </tr>\n",
              "  </tbody>\n",
              "</table>\n",
              "</div>"
            ],
            "text/plain": [
              "         Date      open      high  ...         volume  Diff_Open  Diff_Category\n",
              "0  2021-01-01  28923.63  29600.00  ...   54182.925011        NaN              0\n",
              "1  2021-01-02  29331.70  33300.00  ...  129993.873362     408.07              0\n",
              "2  2021-01-03  32176.45  34778.11  ...  120957.566750    2844.75              1\n",
              "3  2021-01-04  33000.05  33600.00  ...  140899.885690     823.60              1\n",
              "4  2021-01-05  31989.75  34360.00  ...  116049.997038   -1010.30             -1\n",
              "\n",
              "[5 rows x 8 columns]"
            ]
          },
          "metadata": {},
          "execution_count": 6
        }
      ]
    },
    {
      "cell_type": "code",
      "metadata": {
        "colab": {
          "base_uri": "https://localhost:8080/",
          "height": 204
        },
        "id": "bCoKqWLCTO95",
        "outputId": "8fdc44df-4fe9-4c49-f8ad-217c338723dc"
      },
      "source": [
        "reddit.head()"
      ],
      "execution_count": null,
      "outputs": [
        {
          "output_type": "execute_result",
          "data": {
            "text/html": [
              "<div>\n",
              "<style scoped>\n",
              "    .dataframe tbody tr th:only-of-type {\n",
              "        vertical-align: middle;\n",
              "    }\n",
              "\n",
              "    .dataframe tbody tr th {\n",
              "        vertical-align: top;\n",
              "    }\n",
              "\n",
              "    .dataframe thead th {\n",
              "        text-align: right;\n",
              "    }\n",
              "</style>\n",
              "<table border=\"1\" class=\"dataframe\">\n",
              "  <thead>\n",
              "    <tr style=\"text-align: right;\">\n",
              "      <th></th>\n",
              "      <th>Date</th>\n",
              "      <th>neg</th>\n",
              "      <th>neu</th>\n",
              "      <th>pos</th>\n",
              "      <th>compound</th>\n",
              "    </tr>\n",
              "  </thead>\n",
              "  <tbody>\n",
              "    <tr>\n",
              "      <th>0</th>\n",
              "      <td>2021-01-01</td>\n",
              "      <td>0.052390</td>\n",
              "      <td>0.771753</td>\n",
              "      <td>0.172513</td>\n",
              "      <td>0.238452</td>\n",
              "    </tr>\n",
              "    <tr>\n",
              "      <th>1</th>\n",
              "      <td>2021-01-02</td>\n",
              "      <td>0.057414</td>\n",
              "      <td>0.811156</td>\n",
              "      <td>0.121446</td>\n",
              "      <td>0.135624</td>\n",
              "    </tr>\n",
              "    <tr>\n",
              "      <th>2</th>\n",
              "      <td>2021-01-03</td>\n",
              "      <td>0.063241</td>\n",
              "      <td>0.783810</td>\n",
              "      <td>0.148659</td>\n",
              "      <td>0.152421</td>\n",
              "    </tr>\n",
              "    <tr>\n",
              "      <th>3</th>\n",
              "      <td>2021-01-04</td>\n",
              "      <td>0.061042</td>\n",
              "      <td>0.815152</td>\n",
              "      <td>0.121297</td>\n",
              "      <td>0.167221</td>\n",
              "    </tr>\n",
              "    <tr>\n",
              "      <th>4</th>\n",
              "      <td>2021-01-05</td>\n",
              "      <td>0.061790</td>\n",
              "      <td>0.801428</td>\n",
              "      <td>0.135118</td>\n",
              "      <td>0.147205</td>\n",
              "    </tr>\n",
              "  </tbody>\n",
              "</table>\n",
              "</div>"
            ],
            "text/plain": [
              "         Date       neg       neu       pos  compound\n",
              "0  2021-01-01  0.052390  0.771753  0.172513  0.238452\n",
              "1  2021-01-02  0.057414  0.811156  0.121446  0.135624\n",
              "2  2021-01-03  0.063241  0.783810  0.148659  0.152421\n",
              "3  2021-01-04  0.061042  0.815152  0.121297  0.167221\n",
              "4  2021-01-05  0.061790  0.801428  0.135118  0.147205"
            ]
          },
          "metadata": {},
          "execution_count": 17
        }
      ]
    },
    {
      "cell_type": "code",
      "metadata": {
        "colab": {
          "base_uri": "https://localhost:8080/",
          "height": 204
        },
        "id": "F9K9kWM9TPNW",
        "outputId": "db59eb4a-add5-497c-cb01-11be6603afcd"
      },
      "source": [
        "trends.head()"
      ],
      "execution_count": null,
      "outputs": [
        {
          "output_type": "execute_result",
          "data": {
            "text/html": [
              "<div>\n",
              "<style scoped>\n",
              "    .dataframe tbody tr th:only-of-type {\n",
              "        vertical-align: middle;\n",
              "    }\n",
              "\n",
              "    .dataframe tbody tr th {\n",
              "        vertical-align: top;\n",
              "    }\n",
              "\n",
              "    .dataframe thead th {\n",
              "        text-align: right;\n",
              "    }\n",
              "</style>\n",
              "<table border=\"1\" class=\"dataframe\">\n",
              "  <thead>\n",
              "    <tr style=\"text-align: right;\">\n",
              "      <th></th>\n",
              "      <th>Date</th>\n",
              "      <th>avg_score</th>\n",
              "      <th>weighted_score</th>\n",
              "    </tr>\n",
              "  </thead>\n",
              "  <tbody>\n",
              "    <tr>\n",
              "      <th>0</th>\n",
              "      <td>2021-01-01</td>\n",
              "      <td>12.660625</td>\n",
              "      <td>14.447561</td>\n",
              "    </tr>\n",
              "    <tr>\n",
              "      <th>1</th>\n",
              "      <td>2021-01-02</td>\n",
              "      <td>34.144375</td>\n",
              "      <td>37.360744</td>\n",
              "    </tr>\n",
              "    <tr>\n",
              "      <th>2</th>\n",
              "      <td>2021-01-03</td>\n",
              "      <td>48.853125</td>\n",
              "      <td>53.128124</td>\n",
              "    </tr>\n",
              "    <tr>\n",
              "      <th>3</th>\n",
              "      <td>2021-01-04</td>\n",
              "      <td>32.544375</td>\n",
              "      <td>35.352064</td>\n",
              "    </tr>\n",
              "    <tr>\n",
              "      <th>4</th>\n",
              "      <td>2021-01-05</td>\n",
              "      <td>24.341250</td>\n",
              "      <td>26.472194</td>\n",
              "    </tr>\n",
              "  </tbody>\n",
              "</table>\n",
              "</div>"
            ],
            "text/plain": [
              "         Date  avg_score  weighted_score\n",
              "0  2021-01-01  12.660625       14.447561\n",
              "1  2021-01-02  34.144375       37.360744\n",
              "2  2021-01-03  48.853125       53.128124\n",
              "3  2021-01-04  32.544375       35.352064\n",
              "4  2021-01-05  24.341250       26.472194"
            ]
          },
          "metadata": {},
          "execution_count": 16
        }
      ]
    },
    {
      "cell_type": "code",
      "metadata": {
        "colab": {
          "base_uri": "https://localhost:8080/",
          "height": 204
        },
        "id": "nZahHokiP_Qv",
        "outputId": "93eb2730-5136-48e3-d852-9f4dc48aa925"
      },
      "source": [
        "twitter.head()"
      ],
      "execution_count": null,
      "outputs": [
        {
          "output_type": "execute_result",
          "data": {
            "text/html": [
              "<div>\n",
              "<style scoped>\n",
              "    .dataframe tbody tr th:only-of-type {\n",
              "        vertical-align: middle;\n",
              "    }\n",
              "\n",
              "    .dataframe tbody tr th {\n",
              "        vertical-align: top;\n",
              "    }\n",
              "\n",
              "    .dataframe thead th {\n",
              "        text-align: right;\n",
              "    }\n",
              "</style>\n",
              "<table border=\"1\" class=\"dataframe\">\n",
              "  <thead>\n",
              "    <tr style=\"text-align: right;\">\n",
              "      <th></th>\n",
              "      <th>Day</th>\n",
              "      <th>neg</th>\n",
              "      <th>neu</th>\n",
              "      <th>pos</th>\n",
              "      <th>compound</th>\n",
              "    </tr>\n",
              "  </thead>\n",
              "  <tbody>\n",
              "    <tr>\n",
              "      <th>0</th>\n",
              "      <td>2021-02-05</td>\n",
              "      <td>0.030948</td>\n",
              "      <td>0.892471</td>\n",
              "      <td>0.076579</td>\n",
              "      <td>0.125674</td>\n",
              "    </tr>\n",
              "    <tr>\n",
              "      <th>1</th>\n",
              "      <td>2021-02-06</td>\n",
              "      <td>0.028127</td>\n",
              "      <td>0.896185</td>\n",
              "      <td>0.075680</td>\n",
              "      <td>0.129964</td>\n",
              "    </tr>\n",
              "    <tr>\n",
              "      <th>2</th>\n",
              "      <td>2021-02-07</td>\n",
              "      <td>0.028718</td>\n",
              "      <td>0.890963</td>\n",
              "      <td>0.080317</td>\n",
              "      <td>0.139650</td>\n",
              "    </tr>\n",
              "    <tr>\n",
              "      <th>3</th>\n",
              "      <td>2021-02-08</td>\n",
              "      <td>0.025719</td>\n",
              "      <td>0.887855</td>\n",
              "      <td>0.086424</td>\n",
              "      <td>0.157384</td>\n",
              "    </tr>\n",
              "    <tr>\n",
              "      <th>4</th>\n",
              "      <td>2021-02-09</td>\n",
              "      <td>0.027866</td>\n",
              "      <td>0.890614</td>\n",
              "      <td>0.081516</td>\n",
              "      <td>0.149618</td>\n",
              "    </tr>\n",
              "  </tbody>\n",
              "</table>\n",
              "</div>"
            ],
            "text/plain": [
              "          Day       neg       neu       pos  compound\n",
              "0  2021-02-05  0.030948  0.892471  0.076579  0.125674\n",
              "1  2021-02-06  0.028127  0.896185  0.075680  0.129964\n",
              "2  2021-02-07  0.028718  0.890963  0.080317  0.139650\n",
              "3  2021-02-08  0.025719  0.887855  0.086424  0.157384\n",
              "4  2021-02-09  0.027866  0.890614  0.081516  0.149618"
            ]
          },
          "metadata": {},
          "execution_count": 3
        }
      ]
    },
    {
      "cell_type": "code",
      "metadata": {
        "id": "2NdIVLzuTnsK"
      },
      "source": [
        "#Rename merging column (\"Date\")\n",
        "reddit = reddit.rename(columns={\"Day\": \"Date\"})\n",
        "trends = trends.rename(columns={\"date\": \"Date\"})\n",
        "twitter = twitter.rename(columns={\"Day\": \"Date\"})"
      ],
      "execution_count": null,
      "outputs": []
    },
    {
      "cell_type": "code",
      "metadata": {
        "colab": {
          "base_uri": "https://localhost:8080/",
          "height": 309
        },
        "id": "N6Ii8znJSkBV",
        "outputId": "175235e6-377f-4b9d-805a-caebd7a10189"
      },
      "source": [
        "#Combine Data into dataframe\n",
        "\n",
        "data = pd.DataFrame()\n",
        "data[\"Date\"] = bitcoin[\"Date\"]\n",
        "data = data.merge(twitter, on='Date')\n",
        "data = data.merge(reddit, on='Date')\n",
        "data = data.merge(trends, on='Date')\n",
        "data = data.merge(bitcoin, on='Date')\n",
        "data.head()"
      ],
      "execution_count": null,
      "outputs": [
        {
          "output_type": "execute_result",
          "data": {
            "text/html": [
              "<div>\n",
              "<style scoped>\n",
              "    .dataframe tbody tr th:only-of-type {\n",
              "        vertical-align: middle;\n",
              "    }\n",
              "\n",
              "    .dataframe tbody tr th {\n",
              "        vertical-align: top;\n",
              "    }\n",
              "\n",
              "    .dataframe thead th {\n",
              "        text-align: right;\n",
              "    }\n",
              "</style>\n",
              "<table border=\"1\" class=\"dataframe\">\n",
              "  <thead>\n",
              "    <tr style=\"text-align: right;\">\n",
              "      <th></th>\n",
              "      <th>Date</th>\n",
              "      <th>neg_x</th>\n",
              "      <th>neu_x</th>\n",
              "      <th>pos_x</th>\n",
              "      <th>compound_x</th>\n",
              "      <th>neg_y</th>\n",
              "      <th>neu_y</th>\n",
              "      <th>pos_y</th>\n",
              "      <th>compound_y</th>\n",
              "      <th>avg_score</th>\n",
              "      <th>weighted_score</th>\n",
              "      <th>open</th>\n",
              "      <th>high</th>\n",
              "      <th>low</th>\n",
              "      <th>close</th>\n",
              "      <th>volume</th>\n",
              "      <th>Diff_Open</th>\n",
              "      <th>Diff_Category</th>\n",
              "    </tr>\n",
              "  </thead>\n",
              "  <tbody>\n",
              "    <tr>\n",
              "      <th>0</th>\n",
              "      <td>2021-02-08</td>\n",
              "      <td>0.025719</td>\n",
              "      <td>0.887855</td>\n",
              "      <td>0.086424</td>\n",
              "      <td>0.157384</td>\n",
              "      <td>0.065759</td>\n",
              "      <td>0.796466</td>\n",
              "      <td>0.137774</td>\n",
              "      <td>0.131102</td>\n",
              "      <td>50.626875</td>\n",
              "      <td>51.557635</td>\n",
              "      <td>38795.69</td>\n",
              "      <td>46794.45</td>\n",
              "      <td>37988.89</td>\n",
              "      <td>46374.87</td>\n",
              "      <td>138597.536914</td>\n",
              "      <td>-385.32</td>\n",
              "      <td>0</td>\n",
              "    </tr>\n",
              "    <tr>\n",
              "      <th>1</th>\n",
              "      <td>2021-02-09</td>\n",
              "      <td>0.027866</td>\n",
              "      <td>0.890614</td>\n",
              "      <td>0.081516</td>\n",
              "      <td>0.149618</td>\n",
              "      <td>0.063627</td>\n",
              "      <td>0.804396</td>\n",
              "      <td>0.129117</td>\n",
              "      <td>0.159778</td>\n",
              "      <td>65.428750</td>\n",
              "      <td>67.025286</td>\n",
              "      <td>46374.86</td>\n",
              "      <td>48142.19</td>\n",
              "      <td>44961.09</td>\n",
              "      <td>46420.42</td>\n",
              "      <td>115499.861712</td>\n",
              "      <td>7579.17</td>\n",
              "      <td>2</td>\n",
              "    </tr>\n",
              "    <tr>\n",
              "      <th>2</th>\n",
              "      <td>2021-02-10</td>\n",
              "      <td>0.028736</td>\n",
              "      <td>0.885619</td>\n",
              "      <td>0.085641</td>\n",
              "      <td>0.158076</td>\n",
              "      <td>0.059693</td>\n",
              "      <td>0.800772</td>\n",
              "      <td>0.137013</td>\n",
              "      <td>0.153127</td>\n",
              "      <td>35.386250</td>\n",
              "      <td>37.993114</td>\n",
              "      <td>46420.42</td>\n",
              "      <td>47310.00</td>\n",
              "      <td>43727.00</td>\n",
              "      <td>44807.58</td>\n",
              "      <td>97154.182200</td>\n",
              "      <td>45.56</td>\n",
              "      <td>0</td>\n",
              "    </tr>\n",
              "    <tr>\n",
              "      <th>3</th>\n",
              "      <td>2021-02-13</td>\n",
              "      <td>0.029296</td>\n",
              "      <td>0.885487</td>\n",
              "      <td>0.085214</td>\n",
              "      <td>0.148188</td>\n",
              "      <td>0.067005</td>\n",
              "      <td>0.800504</td>\n",
              "      <td>0.129159</td>\n",
              "      <td>0.142842</td>\n",
              "      <td>18.039375</td>\n",
              "      <td>19.782415</td>\n",
              "      <td>47298.15</td>\n",
              "      <td>48150.00</td>\n",
              "      <td>46202.53</td>\n",
              "      <td>47153.69</td>\n",
              "      <td>63768.097399</td>\n",
              "      <td>-670.51</td>\n",
              "      <td>-1</td>\n",
              "    </tr>\n",
              "    <tr>\n",
              "      <th>4</th>\n",
              "      <td>2021-02-14</td>\n",
              "      <td>0.026092</td>\n",
              "      <td>0.859811</td>\n",
              "      <td>0.114094</td>\n",
              "      <td>0.255904</td>\n",
              "      <td>0.067111</td>\n",
              "      <td>0.798853</td>\n",
              "      <td>0.130681</td>\n",
              "      <td>0.141220</td>\n",
              "      <td>25.836250</td>\n",
              "      <td>28.548080</td>\n",
              "      <td>47156.78</td>\n",
              "      <td>49707.43</td>\n",
              "      <td>47014.17</td>\n",
              "      <td>48577.79</td>\n",
              "      <td>73735.475533</td>\n",
              "      <td>-141.37</td>\n",
              "      <td>0</td>\n",
              "    </tr>\n",
              "  </tbody>\n",
              "</table>\n",
              "</div>"
            ],
            "text/plain": [
              "         Date     neg_x     neu_x  ...         volume  Diff_Open  Diff_Category\n",
              "0  2021-02-08  0.025719  0.887855  ...  138597.536914    -385.32              0\n",
              "1  2021-02-09  0.027866  0.890614  ...  115499.861712    7579.17              2\n",
              "2  2021-02-10  0.028736  0.885619  ...   97154.182200      45.56              0\n",
              "3  2021-02-13  0.029296  0.885487  ...   63768.097399    -670.51             -1\n",
              "4  2021-02-14  0.026092  0.859811  ...   73735.475533    -141.37              0\n",
              "\n",
              "[5 rows x 18 columns]"
            ]
          },
          "metadata": {},
          "execution_count": 5
        }
      ]
    },
    {
      "cell_type": "code",
      "metadata": {
        "colab": {
          "base_uri": "https://localhost:8080/",
          "height": 204
        },
        "id": "WBFMXQPNVeGt",
        "outputId": "867f3ede-db00-4cff-e623-e731b4379e3c"
      },
      "source": [
        "#Rename columns, drop unnecessary columns\n",
        "data = data.drop(['weighted_score', 'high', 'low','close','volume'],axis=1)\n",
        "data = data.rename(columns={'neg_x':'neg_twitter', 'neu_x':'neu_twitter','pos_x':'pos_twitter','compound_x':'compound_twitter','neg_y':'neg_reddit', 'neu_y':'neu_reddit','pos_y':'pos_reddit','compound_y':'compound_reddit','avg_score':'avg_trend','Diff_Open':'diff_open','Diff_Category':'label'})\n",
        "data.head()"
      ],
      "execution_count": null,
      "outputs": [
        {
          "output_type": "execute_result",
          "data": {
            "text/html": [
              "<div>\n",
              "<style scoped>\n",
              "    .dataframe tbody tr th:only-of-type {\n",
              "        vertical-align: middle;\n",
              "    }\n",
              "\n",
              "    .dataframe tbody tr th {\n",
              "        vertical-align: top;\n",
              "    }\n",
              "\n",
              "    .dataframe thead th {\n",
              "        text-align: right;\n",
              "    }\n",
              "</style>\n",
              "<table border=\"1\" class=\"dataframe\">\n",
              "  <thead>\n",
              "    <tr style=\"text-align: right;\">\n",
              "      <th></th>\n",
              "      <th>Date</th>\n",
              "      <th>neg_twitter</th>\n",
              "      <th>neu_twitter</th>\n",
              "      <th>pos_twitter</th>\n",
              "      <th>compound_twitter</th>\n",
              "      <th>neg_reddit</th>\n",
              "      <th>neu_reddit</th>\n",
              "      <th>pos_reddit</th>\n",
              "      <th>compound_reddit</th>\n",
              "      <th>avg_trend</th>\n",
              "      <th>open</th>\n",
              "      <th>diff_open</th>\n",
              "      <th>label</th>\n",
              "    </tr>\n",
              "  </thead>\n",
              "  <tbody>\n",
              "    <tr>\n",
              "      <th>0</th>\n",
              "      <td>2021-02-08</td>\n",
              "      <td>0.025719</td>\n",
              "      <td>0.887855</td>\n",
              "      <td>0.086424</td>\n",
              "      <td>0.157384</td>\n",
              "      <td>0.065759</td>\n",
              "      <td>0.796466</td>\n",
              "      <td>0.137774</td>\n",
              "      <td>0.131102</td>\n",
              "      <td>50.626875</td>\n",
              "      <td>38795.69</td>\n",
              "      <td>-385.32</td>\n",
              "      <td>0</td>\n",
              "    </tr>\n",
              "    <tr>\n",
              "      <th>1</th>\n",
              "      <td>2021-02-09</td>\n",
              "      <td>0.027866</td>\n",
              "      <td>0.890614</td>\n",
              "      <td>0.081516</td>\n",
              "      <td>0.149618</td>\n",
              "      <td>0.063627</td>\n",
              "      <td>0.804396</td>\n",
              "      <td>0.129117</td>\n",
              "      <td>0.159778</td>\n",
              "      <td>65.428750</td>\n",
              "      <td>46374.86</td>\n",
              "      <td>7579.17</td>\n",
              "      <td>2</td>\n",
              "    </tr>\n",
              "    <tr>\n",
              "      <th>2</th>\n",
              "      <td>2021-02-10</td>\n",
              "      <td>0.028736</td>\n",
              "      <td>0.885619</td>\n",
              "      <td>0.085641</td>\n",
              "      <td>0.158076</td>\n",
              "      <td>0.059693</td>\n",
              "      <td>0.800772</td>\n",
              "      <td>0.137013</td>\n",
              "      <td>0.153127</td>\n",
              "      <td>35.386250</td>\n",
              "      <td>46420.42</td>\n",
              "      <td>45.56</td>\n",
              "      <td>0</td>\n",
              "    </tr>\n",
              "    <tr>\n",
              "      <th>3</th>\n",
              "      <td>2021-02-13</td>\n",
              "      <td>0.029296</td>\n",
              "      <td>0.885487</td>\n",
              "      <td>0.085214</td>\n",
              "      <td>0.148188</td>\n",
              "      <td>0.067005</td>\n",
              "      <td>0.800504</td>\n",
              "      <td>0.129159</td>\n",
              "      <td>0.142842</td>\n",
              "      <td>18.039375</td>\n",
              "      <td>47298.15</td>\n",
              "      <td>-670.51</td>\n",
              "      <td>-1</td>\n",
              "    </tr>\n",
              "    <tr>\n",
              "      <th>4</th>\n",
              "      <td>2021-02-14</td>\n",
              "      <td>0.026092</td>\n",
              "      <td>0.859811</td>\n",
              "      <td>0.114094</td>\n",
              "      <td>0.255904</td>\n",
              "      <td>0.067111</td>\n",
              "      <td>0.798853</td>\n",
              "      <td>0.130681</td>\n",
              "      <td>0.141220</td>\n",
              "      <td>25.836250</td>\n",
              "      <td>47156.78</td>\n",
              "      <td>-141.37</td>\n",
              "      <td>0</td>\n",
              "    </tr>\n",
              "  </tbody>\n",
              "</table>\n",
              "</div>"
            ],
            "text/plain": [
              "         Date  neg_twitter  neu_twitter  ...      open  diff_open  label\n",
              "0  2021-02-08     0.025719     0.887855  ...  38795.69    -385.32      0\n",
              "1  2021-02-09     0.027866     0.890614  ...  46374.86    7579.17      2\n",
              "2  2021-02-10     0.028736     0.885619  ...  46420.42      45.56      0\n",
              "3  2021-02-13     0.029296     0.885487  ...  47298.15    -670.51     -1\n",
              "4  2021-02-14     0.026092     0.859811  ...  47156.78    -141.37      0\n",
              "\n",
              "[5 rows x 13 columns]"
            ]
          },
          "metadata": {},
          "execution_count": 6
        }
      ]
    },
    {
      "cell_type": "code",
      "metadata": {
        "colab": {
          "base_uri": "https://localhost:8080/"
        },
        "id": "3Lu_4PUmWXLo",
        "outputId": "63df4ff2-6471-4e8d-fe0f-b14e1bc34851"
      },
      "source": [
        "data['label'].value_counts()"
      ],
      "execution_count": null,
      "outputs": [
        {
          "output_type": "execute_result",
          "data": {
            "text/plain": [
              " 1    20\n",
              "-1    18\n",
              " 0    12\n",
              " 2     2\n",
              "Name: label, dtype: int64"
            ]
          },
          "metadata": {},
          "execution_count": 7
        }
      ]
    },
    {
      "cell_type": "code",
      "metadata": {
        "colab": {
          "base_uri": "https://localhost:8080/"
        },
        "id": "bZjTkoAQW81a",
        "outputId": "48238c0e-76a2-44a6-e27b-2d4d009d69bb"
      },
      "source": [
        "data.columns"
      ],
      "execution_count": null,
      "outputs": [
        {
          "output_type": "execute_result",
          "data": {
            "text/plain": [
              "Index(['Date', 'neg_twitter', 'neu_twitter', 'pos_twitter', 'compound_twitter',\n",
              "       'neg_reddit', 'neu_reddit', 'pos_reddit', 'compound_reddit',\n",
              "       'avg_trend', 'open', 'diff_open', 'label'],\n",
              "      dtype='object')"
            ]
          },
          "metadata": {},
          "execution_count": 8
        }
      ]
    },
    {
      "cell_type": "code",
      "metadata": {
        "id": "is_lnEBjWcX-"
      },
      "source": [
        "#get training and test data\n",
        "#Using only compound sentiment score, and average google trend score\n",
        "X = data[['compound_twitter','compound_reddit','avg_trend']]\n",
        "y = data[['label']]\n",
        "\n",
        "#we need to use the y value for the NEXT day as the classification variable\n",
        "X = X.iloc[:-1,:]\n",
        "y= y.iloc[1:,:]\n",
        "\n",
        "X_train, X_test, y_train, y_test = train_test_split(X, y, test_size = 0.20)"
      ],
      "execution_count": null,
      "outputs": []
    },
    {
      "cell_type": "markdown",
      "metadata": {
        "id": "L4wp1DDsXYhs"
      },
      "source": [
        "## Training the Random Forest Classifier\n",
        "\n",
        "Reference: https://www.geeksforgeeks.org/random-forest-classifier-using-scikit-learn/"
      ]
    },
    {
      "cell_type": "code",
      "metadata": {
        "colab": {
          "base_uri": "https://localhost:8080/"
        },
        "id": "0uP2qPULXOaK",
        "outputId": "94fcb412-976d-48e9-8c8c-1c50a24da06e"
      },
      "source": [
        "#Train Model\n",
        "clf = RandomForestClassifier(n_estimators = 10) \n",
        "clf.fit(X_train, y_train)\n",
        "\n",
        "#Predict\n",
        "y_pred = clf.predict(X_test)"
      ],
      "execution_count": null,
      "outputs": [
        {
          "output_type": "stream",
          "name": "stderr",
          "text": [
            "/usr/local/lib/python3.7/dist-packages/ipykernel_launcher.py:3: DataConversionWarning: A column-vector y was passed when a 1d array was expected. Please change the shape of y to (n_samples,), for example using ravel().\n",
            "  This is separate from the ipykernel package so we can avoid doing imports until\n"
          ]
        }
      ]
    },
    {
      "cell_type": "code",
      "metadata": {
        "colab": {
          "base_uri": "https://localhost:8080/"
        },
        "id": "33C6EB1NXquG",
        "outputId": "502941c5-5679-4467-c14a-1dfbe0fbf52a"
      },
      "source": [
        "#Reference: https://scikit-learn.org/stable/modules/model_evaluation.html\n",
        "\n",
        "#Evaluate Model\n",
        "print(\"Accuracy: \", metrics.accuracy_score(y_test, y_pred))\n",
        "print(\"F1-Score: \", metrics.f1_score(y_test, y_pred, average='weighted'))\n",
        "print(\"Precision: \", metrics.precision_score(y_test, y_pred, average='weighted'))\n",
        "print(\"Recall: \", metrics.recall_score(y_test, y_pred, average='weighted'))"
      ],
      "execution_count": null,
      "outputs": [
        {
          "output_type": "stream",
          "name": "stdout",
          "text": [
            "Accuracy:  0.09090909090909091\n",
            "F1-Score:  0.04958677685950413\n",
            "Precision:  0.03409090909090909\n",
            "Recall:  0.09090909090909091\n"
          ]
        },
        {
          "output_type": "stream",
          "name": "stderr",
          "text": [
            "/usr/local/lib/python3.7/dist-packages/sklearn/metrics/_classification.py:1308: UndefinedMetricWarning: Precision is ill-defined and being set to 0.0 in labels with no predicted samples. Use `zero_division` parameter to control this behavior.\n",
            "  _warn_prf(average, modifier, msg_start, len(result))\n"
          ]
        }
      ]
    },
    {
      "cell_type": "code",
      "metadata": {
        "colab": {
          "base_uri": "https://localhost:8080/"
        },
        "id": "OlVYpHcXZwNO",
        "outputId": "6b490f09-beb8-48e6-b1ae-5e04da374459"
      },
      "source": [
        "y_pred"
      ],
      "execution_count": null,
      "outputs": [
        {
          "output_type": "execute_result",
          "data": {
            "text/plain": [
              "array([ 1,  1, -1, -1, -1,  0, -1, -1, -1, -1, -1])"
            ]
          },
          "metadata": {},
          "execution_count": 17
        }
      ]
    },
    {
      "cell_type": "markdown",
      "metadata": {
        "id": "StIKT-JxZmQq"
      },
      "source": [
        "## Training a Support Vector Classifier\n",
        "\n",
        "Reference: https://scikit-learn.org/stable/auto_examples/classification/plot_classifier_comparison.html"
      ]
    },
    {
      "cell_type": "code",
      "metadata": {
        "colab": {
          "base_uri": "https://localhost:8080/"
        },
        "id": "oMZFLlOmZlnm",
        "outputId": "87f4f4d5-fb8a-44a7-dc5e-13a7f6e9f43b"
      },
      "source": [
        "#Train Model\n",
        "clf = SVC(kernel=\"linear\", C=0.025)\n",
        "clf.fit(X_train, y_train)\n",
        "\n",
        "#Predict\n",
        "y_pred = clf.predict(X_test)"
      ],
      "execution_count": null,
      "outputs": [
        {
          "output_type": "stream",
          "name": "stderr",
          "text": [
            "/usr/local/lib/python3.7/dist-packages/sklearn/utils/validation.py:985: DataConversionWarning: A column-vector y was passed when a 1d array was expected. Please change the shape of y to (n_samples, ), for example using ravel().\n",
            "  y = column_or_1d(y, warn=True)\n"
          ]
        }
      ]
    },
    {
      "cell_type": "code",
      "metadata": {
        "colab": {
          "base_uri": "https://localhost:8080/"
        },
        "id": "Nq3cjoGpYFIK",
        "outputId": "c4ade7b9-ec60-47d3-c6ad-bd36ddc9a62b"
      },
      "source": [
        "#Evaluate Model\n",
        "print(\"Accuracy: \", metrics.accuracy_score(y_test, y_pred))\n",
        "print(\"F1-Score: \", metrics.f1_score(y_test, y_pred, average='weighted'))\n",
        "print(\"Precision: \", metrics.precision_score(y_test, y_pred, average='weighted'))\n",
        "print(\"Recall: \", metrics.recall_score(y_test, y_pred, average='weighted'))"
      ],
      "execution_count": null,
      "outputs": [
        {
          "output_type": "stream",
          "name": "stdout",
          "text": [
            "Accuracy:  0.36363636363636365\n",
            "F1-Score:  0.19393939393939394\n",
            "Precision:  0.1322314049586777\n",
            "Recall:  0.36363636363636365\n"
          ]
        },
        {
          "output_type": "stream",
          "name": "stderr",
          "text": [
            "/usr/local/lib/python3.7/dist-packages/sklearn/metrics/_classification.py:1308: UndefinedMetricWarning: Precision is ill-defined and being set to 0.0 in labels with no predicted samples. Use `zero_division` parameter to control this behavior.\n",
            "  _warn_prf(average, modifier, msg_start, len(result))\n"
          ]
        }
      ]
    },
    {
      "cell_type": "markdown",
      "metadata": {
        "id": "1vUdjZTyawdK"
      },
      "source": [
        "## Decision Tree Classifier"
      ]
    },
    {
      "cell_type": "code",
      "metadata": {
        "id": "Nj-AA40Aav3K"
      },
      "source": [
        "#Train Model\n",
        "clf = DecisionTreeClassifier(max_depth=5)\n",
        "clf.fit(X_train, y_train)\n",
        "\n",
        "#Predict\n",
        "y_pred = clf.predict(X_test)"
      ],
      "execution_count": null,
      "outputs": []
    },
    {
      "cell_type": "code",
      "metadata": {
        "colab": {
          "base_uri": "https://localhost:8080/"
        },
        "id": "GCrzQIJMaMf9",
        "outputId": "fc47d7e4-9f75-4a33-f062-c10077e33242"
      },
      "source": [
        "#Evaluate Model\n",
        "print(\"Accuracy: \", metrics.accuracy_score(y_test, y_pred))\n",
        "print(\"F1-Score: \", metrics.f1_score(y_test, y_pred, average='weighted'))\n",
        "print(\"Precision: \", metrics.precision_score(y_test, y_pred, average='weighted'))\n",
        "print(\"Recall: \", metrics.recall_score(y_test, y_pred, average='weighted'))"
      ],
      "execution_count": null,
      "outputs": [
        {
          "output_type": "stream",
          "name": "stdout",
          "text": [
            "Accuracy:  0.36363636363636365\n",
            "F1-Score:  0.3590909090909091\n",
            "Precision:  0.3727272727272727\n",
            "Recall:  0.36363636363636365\n"
          ]
        },
        {
          "output_type": "stream",
          "name": "stderr",
          "text": [
            "/usr/local/lib/python3.7/dist-packages/sklearn/metrics/_classification.py:1308: UndefinedMetricWarning: Precision is ill-defined and being set to 0.0 in labels with no predicted samples. Use `zero_division` parameter to control this behavior.\n",
            "  _warn_prf(average, modifier, msg_start, len(result))\n"
          ]
        }
      ]
    },
    {
      "cell_type": "markdown",
      "metadata": {
        "id": "ue0oPCNpiner"
      },
      "source": [
        "# 3-way Classification\n",
        "\n",
        "Here, we attempt to categorize change in bitcoin prices to one of 3 categories: negative change (-1), no change (0), positive change (1)"
      ]
    },
    {
      "cell_type": "code",
      "metadata": {
        "colab": {
          "base_uri": "https://localhost:8080/",
          "height": 204
        },
        "id": "W4RkWw7Ga5ER",
        "outputId": "aa37e5d7-4d0b-44fd-88c9-06f080da8d67"
      },
      "source": [
        "data.head()"
      ],
      "execution_count": null,
      "outputs": [
        {
          "output_type": "execute_result",
          "data": {
            "text/html": [
              "<div>\n",
              "<style scoped>\n",
              "    .dataframe tbody tr th:only-of-type {\n",
              "        vertical-align: middle;\n",
              "    }\n",
              "\n",
              "    .dataframe tbody tr th {\n",
              "        vertical-align: top;\n",
              "    }\n",
              "\n",
              "    .dataframe thead th {\n",
              "        text-align: right;\n",
              "    }\n",
              "</style>\n",
              "<table border=\"1\" class=\"dataframe\">\n",
              "  <thead>\n",
              "    <tr style=\"text-align: right;\">\n",
              "      <th></th>\n",
              "      <th>Date</th>\n",
              "      <th>neg_twitter</th>\n",
              "      <th>neu_twitter</th>\n",
              "      <th>pos_twitter</th>\n",
              "      <th>compound_twitter</th>\n",
              "      <th>neg_reddit</th>\n",
              "      <th>neu_reddit</th>\n",
              "      <th>pos_reddit</th>\n",
              "      <th>compound_reddit</th>\n",
              "      <th>avg_trend</th>\n",
              "      <th>open</th>\n",
              "      <th>diff_open</th>\n",
              "      <th>label</th>\n",
              "    </tr>\n",
              "  </thead>\n",
              "  <tbody>\n",
              "    <tr>\n",
              "      <th>0</th>\n",
              "      <td>2021-02-08</td>\n",
              "      <td>0.025719</td>\n",
              "      <td>0.887855</td>\n",
              "      <td>0.086424</td>\n",
              "      <td>0.157384</td>\n",
              "      <td>0.065759</td>\n",
              "      <td>0.796466</td>\n",
              "      <td>0.137774</td>\n",
              "      <td>0.131102</td>\n",
              "      <td>50.626875</td>\n",
              "      <td>38795.69</td>\n",
              "      <td>-385.32</td>\n",
              "      <td>0</td>\n",
              "    </tr>\n",
              "    <tr>\n",
              "      <th>1</th>\n",
              "      <td>2021-02-09</td>\n",
              "      <td>0.027866</td>\n",
              "      <td>0.890614</td>\n",
              "      <td>0.081516</td>\n",
              "      <td>0.149618</td>\n",
              "      <td>0.063627</td>\n",
              "      <td>0.804396</td>\n",
              "      <td>0.129117</td>\n",
              "      <td>0.159778</td>\n",
              "      <td>65.428750</td>\n",
              "      <td>46374.86</td>\n",
              "      <td>7579.17</td>\n",
              "      <td>2</td>\n",
              "    </tr>\n",
              "    <tr>\n",
              "      <th>2</th>\n",
              "      <td>2021-02-10</td>\n",
              "      <td>0.028736</td>\n",
              "      <td>0.885619</td>\n",
              "      <td>0.085641</td>\n",
              "      <td>0.158076</td>\n",
              "      <td>0.059693</td>\n",
              "      <td>0.800772</td>\n",
              "      <td>0.137013</td>\n",
              "      <td>0.153127</td>\n",
              "      <td>35.386250</td>\n",
              "      <td>46420.42</td>\n",
              "      <td>45.56</td>\n",
              "      <td>0</td>\n",
              "    </tr>\n",
              "    <tr>\n",
              "      <th>3</th>\n",
              "      <td>2021-02-13</td>\n",
              "      <td>0.029296</td>\n",
              "      <td>0.885487</td>\n",
              "      <td>0.085214</td>\n",
              "      <td>0.148188</td>\n",
              "      <td>0.067005</td>\n",
              "      <td>0.800504</td>\n",
              "      <td>0.129159</td>\n",
              "      <td>0.142842</td>\n",
              "      <td>18.039375</td>\n",
              "      <td>47298.15</td>\n",
              "      <td>-670.51</td>\n",
              "      <td>-1</td>\n",
              "    </tr>\n",
              "    <tr>\n",
              "      <th>4</th>\n",
              "      <td>2021-02-14</td>\n",
              "      <td>0.026092</td>\n",
              "      <td>0.859811</td>\n",
              "      <td>0.114094</td>\n",
              "      <td>0.255904</td>\n",
              "      <td>0.067111</td>\n",
              "      <td>0.798853</td>\n",
              "      <td>0.130681</td>\n",
              "      <td>0.141220</td>\n",
              "      <td>25.836250</td>\n",
              "      <td>47156.78</td>\n",
              "      <td>-141.37</td>\n",
              "      <td>0</td>\n",
              "    </tr>\n",
              "  </tbody>\n",
              "</table>\n",
              "</div>"
            ],
            "text/plain": [
              "         Date  neg_twitter  neu_twitter  ...      open  diff_open  label\n",
              "0  2021-02-08     0.025719     0.887855  ...  38795.69    -385.32      0\n",
              "1  2021-02-09     0.027866     0.890614  ...  46374.86    7579.17      2\n",
              "2  2021-02-10     0.028736     0.885619  ...  46420.42      45.56      0\n",
              "3  2021-02-13     0.029296     0.885487  ...  47298.15    -670.51     -1\n",
              "4  2021-02-14     0.026092     0.859811  ...  47156.78    -141.37      0\n",
              "\n",
              "[5 rows x 13 columns]"
            ]
          },
          "metadata": {},
          "execution_count": 22
        }
      ]
    },
    {
      "cell_type": "code",
      "metadata": {
        "colab": {
          "base_uri": "https://localhost:8080/",
          "height": 204
        },
        "id": "zNeMc0zmi4Tq",
        "outputId": "3d731ed7-53c0-4c83-8621-3e5aed8046d2"
      },
      "source": [
        "#Transform Label\n",
        "data.loc[data['label'] >0, 'label_3'] = 1  \n",
        "data.loc[data['label'] <0, 'label_3'] = -1  \n",
        "data.loc[data['label'] ==0, 'label_3'] = 0\n",
        "\n",
        "data.head()"
      ],
      "execution_count": null,
      "outputs": [
        {
          "output_type": "execute_result",
          "data": {
            "text/html": [
              "<div>\n",
              "<style scoped>\n",
              "    .dataframe tbody tr th:only-of-type {\n",
              "        vertical-align: middle;\n",
              "    }\n",
              "\n",
              "    .dataframe tbody tr th {\n",
              "        vertical-align: top;\n",
              "    }\n",
              "\n",
              "    .dataframe thead th {\n",
              "        text-align: right;\n",
              "    }\n",
              "</style>\n",
              "<table border=\"1\" class=\"dataframe\">\n",
              "  <thead>\n",
              "    <tr style=\"text-align: right;\">\n",
              "      <th></th>\n",
              "      <th>Date</th>\n",
              "      <th>neg_twitter</th>\n",
              "      <th>neu_twitter</th>\n",
              "      <th>pos_twitter</th>\n",
              "      <th>compound_twitter</th>\n",
              "      <th>neg_reddit</th>\n",
              "      <th>neu_reddit</th>\n",
              "      <th>pos_reddit</th>\n",
              "      <th>compound_reddit</th>\n",
              "      <th>avg_trend</th>\n",
              "      <th>open</th>\n",
              "      <th>diff_open</th>\n",
              "      <th>label</th>\n",
              "      <th>label_3</th>\n",
              "    </tr>\n",
              "  </thead>\n",
              "  <tbody>\n",
              "    <tr>\n",
              "      <th>0</th>\n",
              "      <td>2021-02-08</td>\n",
              "      <td>0.025719</td>\n",
              "      <td>0.887855</td>\n",
              "      <td>0.086424</td>\n",
              "      <td>0.157384</td>\n",
              "      <td>0.065759</td>\n",
              "      <td>0.796466</td>\n",
              "      <td>0.137774</td>\n",
              "      <td>0.131102</td>\n",
              "      <td>50.626875</td>\n",
              "      <td>38795.69</td>\n",
              "      <td>-385.32</td>\n",
              "      <td>0</td>\n",
              "      <td>0.0</td>\n",
              "    </tr>\n",
              "    <tr>\n",
              "      <th>1</th>\n",
              "      <td>2021-02-09</td>\n",
              "      <td>0.027866</td>\n",
              "      <td>0.890614</td>\n",
              "      <td>0.081516</td>\n",
              "      <td>0.149618</td>\n",
              "      <td>0.063627</td>\n",
              "      <td>0.804396</td>\n",
              "      <td>0.129117</td>\n",
              "      <td>0.159778</td>\n",
              "      <td>65.428750</td>\n",
              "      <td>46374.86</td>\n",
              "      <td>7579.17</td>\n",
              "      <td>2</td>\n",
              "      <td>1.0</td>\n",
              "    </tr>\n",
              "    <tr>\n",
              "      <th>2</th>\n",
              "      <td>2021-02-10</td>\n",
              "      <td>0.028736</td>\n",
              "      <td>0.885619</td>\n",
              "      <td>0.085641</td>\n",
              "      <td>0.158076</td>\n",
              "      <td>0.059693</td>\n",
              "      <td>0.800772</td>\n",
              "      <td>0.137013</td>\n",
              "      <td>0.153127</td>\n",
              "      <td>35.386250</td>\n",
              "      <td>46420.42</td>\n",
              "      <td>45.56</td>\n",
              "      <td>0</td>\n",
              "      <td>0.0</td>\n",
              "    </tr>\n",
              "    <tr>\n",
              "      <th>3</th>\n",
              "      <td>2021-02-13</td>\n",
              "      <td>0.029296</td>\n",
              "      <td>0.885487</td>\n",
              "      <td>0.085214</td>\n",
              "      <td>0.148188</td>\n",
              "      <td>0.067005</td>\n",
              "      <td>0.800504</td>\n",
              "      <td>0.129159</td>\n",
              "      <td>0.142842</td>\n",
              "      <td>18.039375</td>\n",
              "      <td>47298.15</td>\n",
              "      <td>-670.51</td>\n",
              "      <td>-1</td>\n",
              "      <td>-1.0</td>\n",
              "    </tr>\n",
              "    <tr>\n",
              "      <th>4</th>\n",
              "      <td>2021-02-14</td>\n",
              "      <td>0.026092</td>\n",
              "      <td>0.859811</td>\n",
              "      <td>0.114094</td>\n",
              "      <td>0.255904</td>\n",
              "      <td>0.067111</td>\n",
              "      <td>0.798853</td>\n",
              "      <td>0.130681</td>\n",
              "      <td>0.141220</td>\n",
              "      <td>25.836250</td>\n",
              "      <td>47156.78</td>\n",
              "      <td>-141.37</td>\n",
              "      <td>0</td>\n",
              "      <td>0.0</td>\n",
              "    </tr>\n",
              "  </tbody>\n",
              "</table>\n",
              "</div>"
            ],
            "text/plain": [
              "         Date  neg_twitter  neu_twitter  ...  diff_open  label  label_3\n",
              "0  2021-02-08     0.025719     0.887855  ...    -385.32      0      0.0\n",
              "1  2021-02-09     0.027866     0.890614  ...    7579.17      2      1.0\n",
              "2  2021-02-10     0.028736     0.885619  ...      45.56      0      0.0\n",
              "3  2021-02-13     0.029296     0.885487  ...    -670.51     -1     -1.0\n",
              "4  2021-02-14     0.026092     0.859811  ...    -141.37      0      0.0\n",
              "\n",
              "[5 rows x 14 columns]"
            ]
          },
          "metadata": {},
          "execution_count": 23
        }
      ]
    },
    {
      "cell_type": "code",
      "metadata": {
        "id": "AoUhW1CvjdMu"
      },
      "source": [
        "#get training and test data\n",
        "#Using only compound sentiment score, and average google trend score\n",
        "X = data[['compound_twitter','compound_reddit','avg_trend']]\n",
        "y = data[['label_3']]\n",
        "\n",
        "X_train, X_test, y_train, y_test = train_test_split(X, y, test_size = 0.20)"
      ],
      "execution_count": null,
      "outputs": []
    },
    {
      "cell_type": "code",
      "metadata": {
        "id": "WOd9wCLhjjNw"
      },
      "source": [
        "#Train Decision Tree\n",
        "#Train Model\n",
        "clf = DecisionTreeClassifier(max_depth=5)\n",
        "clf.fit(X_train, y_train)\n",
        "\n",
        "#Predict\n",
        "y_pred = clf.predict(X_test)"
      ],
      "execution_count": null,
      "outputs": []
    },
    {
      "cell_type": "code",
      "metadata": {
        "id": "6GUtkGN4jnU_",
        "colab": {
          "base_uri": "https://localhost:8080/"
        },
        "outputId": "0b738bb0-0fbf-445e-bfd7-158d55c73a18"
      },
      "source": [
        "#Evaluate Model\n",
        "print(\"Accuracy: \", metrics.accuracy_score(y_test, y_pred))\n",
        "print(\"F1-Score: \", metrics.f1_score(y_test, y_pred, average='weighted'))\n",
        "print(\"Precision: \", metrics.precision_score(y_test, y_pred, average='weighted'))\n",
        "print(\"Recall: \", metrics.recall_score(y_test, y_pred, average='weighted'))"
      ],
      "execution_count": null,
      "outputs": [
        {
          "output_type": "stream",
          "name": "stdout",
          "text": [
            "Accuracy:  0.2727272727272727\n",
            "F1-Score:  0.2621015348288076\n",
            "Precision:  0.33116883116883117\n",
            "Recall:  0.2727272727272727\n"
          ]
        }
      ]
    },
    {
      "cell_type": "markdown",
      "metadata": {
        "id": "KwUkRDvQ8PZj"
      },
      "source": [
        "\n",
        "# Predicting Change in Hourly Bitcoin Prices using Social Media Interest Measures\n",
        "Here, we train a classifier to use Daily hourly sentiment scores, hourly reddit sentiment scores, and hourly google trend scores to categorize the change in bitcoin prices into one of 3 categories: negative (-1), no commendable change (0), positive (1)"
      ]
    },
    {
      "cell_type": "code",
      "metadata": {
        "id": "fAIm_Ebqjo7M"
      },
      "source": [
        "import pandas as pd\n",
        "import matplotlib.pyplot as plt\n",
        "from sklearn.model_selection import train_test_split\n",
        "from sklearn.ensemble import RandomForestClassifier\n",
        "from sklearn import metrics \n",
        "from sklearn.svm import SVC\n",
        "from sklearn.tree import DecisionTreeClassifier"
      ],
      "execution_count": 1,
      "outputs": []
    },
    {
      "cell_type": "markdown",
      "metadata": {
        "id": "CTIkZMyT8cDJ"
      },
      "source": [
        "## Prepare Data"
      ]
    },
    {
      "cell_type": "code",
      "metadata": {
        "id": "CMSB0iJq8bcM"
      },
      "source": [
        "#Import Data\n",
        "\n",
        "bitcoin = pd.read_csv('categorical_bitcoin_hourly.csv', sep='\\t', index_col=None)\n",
        "reddit = pd.read_csv('redditHourlySentiment.csv', sep='\\t', index_col=None)\n",
        "trends= pd.read_csv('trends_hourly_score.csv', sep='\\t', index_col=None)\n",
        "twitter = pd.read_csv('twitterSentiment_hourly.csv', sep=',', index_col=None)"
      ],
      "execution_count": 2,
      "outputs": []
    },
    {
      "cell_type": "code",
      "metadata": {
        "colab": {
          "base_uri": "https://localhost:8080/",
          "height": 206
        },
        "id": "NjdAowLN8u54",
        "outputId": "56765c60-71de-46ab-e328-c253f515d695"
      },
      "source": [
        "bitcoin.tail()"
      ],
      "execution_count": 3,
      "outputs": [
        {
          "output_type": "execute_result",
          "data": {
            "text/html": [
              "<div>\n",
              "<style scoped>\n",
              "    .dataframe tbody tr th:only-of-type {\n",
              "        vertical-align: middle;\n",
              "    }\n",
              "\n",
              "    .dataframe tbody tr th {\n",
              "        vertical-align: top;\n",
              "    }\n",
              "\n",
              "    .dataframe thead th {\n",
              "        text-align: right;\n",
              "    }\n",
              "</style>\n",
              "<table border=\"1\" class=\"dataframe\">\n",
              "  <thead>\n",
              "    <tr style=\"text-align: right;\">\n",
              "      <th></th>\n",
              "      <th>date</th>\n",
              "      <th>open</th>\n",
              "      <th>high</th>\n",
              "      <th>low</th>\n",
              "      <th>close</th>\n",
              "      <th>Volume BTC</th>\n",
              "      <th>Volume USD</th>\n",
              "      <th>Diff_Open</th>\n",
              "      <th>Diff_Category</th>\n",
              "    </tr>\n",
              "  </thead>\n",
              "  <tbody>\n",
              "    <tr>\n",
              "      <th>5827</th>\n",
              "      <td>2021-01-01 04:00:00</td>\n",
              "      <td>29351.85</td>\n",
              "      <td>29458.27</td>\n",
              "      <td>29121.80</td>\n",
              "      <td>29290.38</td>\n",
              "      <td>325.565700</td>\n",
              "      <td>9.535943e+06</td>\n",
              "      <td>57.27</td>\n",
              "      <td>0</td>\n",
              "    </tr>\n",
              "    <tr>\n",
              "      <th>5828</th>\n",
              "      <td>2021-01-01 03:00:00</td>\n",
              "      <td>29249.33</td>\n",
              "      <td>29414.48</td>\n",
              "      <td>29216.61</td>\n",
              "      <td>29345.63</td>\n",
              "      <td>284.146568</td>\n",
              "      <td>8.338460e+06</td>\n",
              "      <td>-102.52</td>\n",
              "      <td>0</td>\n",
              "    </tr>\n",
              "    <tr>\n",
              "      <th>5829</th>\n",
              "      <td>2021-01-01 02:00:00</td>\n",
              "      <td>29484.39</td>\n",
              "      <td>29535.95</td>\n",
              "      <td>29189.34</td>\n",
              "      <td>29249.33</td>\n",
              "      <td>290.242637</td>\n",
              "      <td>8.489403e+06</td>\n",
              "      <td>235.06</td>\n",
              "      <td>1</td>\n",
              "    </tr>\n",
              "    <tr>\n",
              "      <th>5830</th>\n",
              "      <td>2021-01-01 01:00:00</td>\n",
              "      <td>29070.66</td>\n",
              "      <td>29543.93</td>\n",
              "      <td>29010.36</td>\n",
              "      <td>29479.12</td>\n",
              "      <td>648.597652</td>\n",
              "      <td>1.912009e+07</td>\n",
              "      <td>-413.73</td>\n",
              "      <td>-1</td>\n",
              "    </tr>\n",
              "    <tr>\n",
              "      <th>5831</th>\n",
              "      <td>2021-01-01 00:00:00</td>\n",
              "      <td>28999.63</td>\n",
              "      <td>29099.00</td>\n",
              "      <td>28774.64</td>\n",
              "      <td>29056.94</td>\n",
              "      <td>397.964775</td>\n",
              "      <td>1.156364e+07</td>\n",
              "      <td>-71.03</td>\n",
              "      <td>0</td>\n",
              "    </tr>\n",
              "  </tbody>\n",
              "</table>\n",
              "</div>"
            ],
            "text/plain": [
              "                     date      open  ...  Diff_Open  Diff_Category\n",
              "5827  2021-01-01 04:00:00  29351.85  ...      57.27              0\n",
              "5828  2021-01-01 03:00:00  29249.33  ...    -102.52              0\n",
              "5829  2021-01-01 02:00:00  29484.39  ...     235.06              1\n",
              "5830  2021-01-01 01:00:00  29070.66  ...    -413.73             -1\n",
              "5831  2021-01-01 00:00:00  28999.63  ...     -71.03              0\n",
              "\n",
              "[5 rows x 9 columns]"
            ]
          },
          "metadata": {},
          "execution_count": 3
        }
      ]
    },
    {
      "cell_type": "code",
      "metadata": {
        "colab": {
          "base_uri": "https://localhost:8080/",
          "height": 206
        },
        "id": "ye5CTeg38yIG",
        "outputId": "3f43cd53-9968-4629-f112-4d3a1ea2656e"
      },
      "source": [
        "reddit = reddit.rename(columns={'Hour': 'date'})\n",
        "reddit.tail()"
      ],
      "execution_count": 4,
      "outputs": [
        {
          "output_type": "execute_result",
          "data": {
            "text/html": [
              "<div>\n",
              "<style scoped>\n",
              "    .dataframe tbody tr th:only-of-type {\n",
              "        vertical-align: middle;\n",
              "    }\n",
              "\n",
              "    .dataframe tbody tr th {\n",
              "        vertical-align: top;\n",
              "    }\n",
              "\n",
              "    .dataframe thead th {\n",
              "        text-align: right;\n",
              "    }\n",
              "</style>\n",
              "<table border=\"1\" class=\"dataframe\">\n",
              "  <thead>\n",
              "    <tr style=\"text-align: right;\">\n",
              "      <th></th>\n",
              "      <th>date</th>\n",
              "      <th>neg</th>\n",
              "      <th>neu</th>\n",
              "      <th>pos</th>\n",
              "      <th>compound</th>\n",
              "    </tr>\n",
              "  </thead>\n",
              "  <tbody>\n",
              "    <tr>\n",
              "      <th>1547</th>\n",
              "      <td>2021-08-30 23:00:00</td>\n",
              "      <td>0.019</td>\n",
              "      <td>0.862</td>\n",
              "      <td>0.119</td>\n",
              "      <td>0.7579</td>\n",
              "    </tr>\n",
              "    <tr>\n",
              "      <th>1548</th>\n",
              "      <td>2021-08-31 00:00:00</td>\n",
              "      <td>0.019</td>\n",
              "      <td>0.862</td>\n",
              "      <td>0.119</td>\n",
              "      <td>0.7579</td>\n",
              "    </tr>\n",
              "    <tr>\n",
              "      <th>1549</th>\n",
              "      <td>2021-08-31 01:00:00</td>\n",
              "      <td>0.019</td>\n",
              "      <td>0.862</td>\n",
              "      <td>0.119</td>\n",
              "      <td>0.7579</td>\n",
              "    </tr>\n",
              "    <tr>\n",
              "      <th>1550</th>\n",
              "      <td>2021-08-31 02:00:00</td>\n",
              "      <td>0.019</td>\n",
              "      <td>0.862</td>\n",
              "      <td>0.119</td>\n",
              "      <td>0.7579</td>\n",
              "    </tr>\n",
              "    <tr>\n",
              "      <th>1551</th>\n",
              "      <td>2021-08-31 03:00:00</td>\n",
              "      <td>0.019</td>\n",
              "      <td>0.862</td>\n",
              "      <td>0.119</td>\n",
              "      <td>0.7579</td>\n",
              "    </tr>\n",
              "  </tbody>\n",
              "</table>\n",
              "</div>"
            ],
            "text/plain": [
              "                     date    neg    neu    pos  compound\n",
              "1547  2021-08-30 23:00:00  0.019  0.862  0.119    0.7579\n",
              "1548  2021-08-31 00:00:00  0.019  0.862  0.119    0.7579\n",
              "1549  2021-08-31 01:00:00  0.019  0.862  0.119    0.7579\n",
              "1550  2021-08-31 02:00:00  0.019  0.862  0.119    0.7579\n",
              "1551  2021-08-31 03:00:00  0.019  0.862  0.119    0.7579"
            ]
          },
          "metadata": {},
          "execution_count": 4
        }
      ]
    },
    {
      "cell_type": "code",
      "metadata": {
        "colab": {
          "base_uri": "https://localhost:8080/",
          "height": 417
        },
        "id": "vUTR3qm28y9_",
        "outputId": "72b50fe7-0d6b-4126-8ee6-b69c29912d29"
      },
      "source": [
        "trends.tail()"
      ],
      "execution_count": 5,
      "outputs": [
        {
          "output_type": "execute_result",
          "data": {
            "text/html": [
              "<div>\n",
              "<style scoped>\n",
              "    .dataframe tbody tr th:only-of-type {\n",
              "        vertical-align: middle;\n",
              "    }\n",
              "\n",
              "    .dataframe tbody tr th {\n",
              "        vertical-align: top;\n",
              "    }\n",
              "\n",
              "    .dataframe thead th {\n",
              "        text-align: right;\n",
              "    }\n",
              "</style>\n",
              "<table border=\"1\" class=\"dataframe\">\n",
              "  <thead>\n",
              "    <tr style=\"text-align: right;\">\n",
              "      <th></th>\n",
              "      <th>date</th>\n",
              "      <th>bitcoin</th>\n",
              "      <th>btc</th>\n",
              "      <th>bitcoin price</th>\n",
              "      <th>bitcoin kurs</th>\n",
              "      <th>bitcoin usd</th>\n",
              "      <th>bitcoin stock</th>\n",
              "      <th>bitcoin dollar</th>\n",
              "      <th>bitcoin euro</th>\n",
              "      <th>buy bitcoin</th>\n",
              "      <th>buy btc</th>\n",
              "      <th>btc usd</th>\n",
              "      <th>btc inr</th>\n",
              "      <th>price btc</th>\n",
              "      <th>btc stock</th>\n",
              "      <th>btc coin</th>\n",
              "      <th>btc euro</th>\n",
              "      <th>avg_score</th>\n",
              "    </tr>\n",
              "  </thead>\n",
              "  <tbody>\n",
              "    <tr>\n",
              "      <th>5827</th>\n",
              "      <td>2021-08-31 19:00:00</td>\n",
              "      <td>12.07</td>\n",
              "      <td>14.07</td>\n",
              "      <td>9.9</td>\n",
              "      <td>8.36</td>\n",
              "      <td>10.88</td>\n",
              "      <td>8.1</td>\n",
              "      <td>15.96</td>\n",
              "      <td>21.76</td>\n",
              "      <td>12.6</td>\n",
              "      <td>5.89</td>\n",
              "      <td>11.76</td>\n",
              "      <td>3.8</td>\n",
              "      <td>6.24</td>\n",
              "      <td>7.81</td>\n",
              "      <td>9.01</td>\n",
              "      <td>28.86</td>\n",
              "      <td>11.691875</td>\n",
              "    </tr>\n",
              "    <tr>\n",
              "      <th>5828</th>\n",
              "      <td>2021-08-31 20:00:00</td>\n",
              "      <td>12.07</td>\n",
              "      <td>14.07</td>\n",
              "      <td>9.9</td>\n",
              "      <td>8.36</td>\n",
              "      <td>10.88</td>\n",
              "      <td>8.1</td>\n",
              "      <td>15.96</td>\n",
              "      <td>21.76</td>\n",
              "      <td>12.6</td>\n",
              "      <td>5.89</td>\n",
              "      <td>11.76</td>\n",
              "      <td>3.8</td>\n",
              "      <td>6.24</td>\n",
              "      <td>7.81</td>\n",
              "      <td>9.01</td>\n",
              "      <td>28.86</td>\n",
              "      <td>11.691875</td>\n",
              "    </tr>\n",
              "    <tr>\n",
              "      <th>5829</th>\n",
              "      <td>2021-08-31 21:00:00</td>\n",
              "      <td>12.07</td>\n",
              "      <td>14.07</td>\n",
              "      <td>9.9</td>\n",
              "      <td>8.36</td>\n",
              "      <td>10.88</td>\n",
              "      <td>8.1</td>\n",
              "      <td>15.96</td>\n",
              "      <td>21.76</td>\n",
              "      <td>12.6</td>\n",
              "      <td>5.89</td>\n",
              "      <td>11.76</td>\n",
              "      <td>3.8</td>\n",
              "      <td>6.24</td>\n",
              "      <td>7.81</td>\n",
              "      <td>9.01</td>\n",
              "      <td>28.86</td>\n",
              "      <td>11.691875</td>\n",
              "    </tr>\n",
              "    <tr>\n",
              "      <th>5830</th>\n",
              "      <td>2021-08-31 22:00:00</td>\n",
              "      <td>12.07</td>\n",
              "      <td>14.07</td>\n",
              "      <td>9.9</td>\n",
              "      <td>8.36</td>\n",
              "      <td>10.88</td>\n",
              "      <td>8.1</td>\n",
              "      <td>15.96</td>\n",
              "      <td>21.76</td>\n",
              "      <td>12.6</td>\n",
              "      <td>5.89</td>\n",
              "      <td>11.76</td>\n",
              "      <td>3.8</td>\n",
              "      <td>6.24</td>\n",
              "      <td>7.81</td>\n",
              "      <td>9.01</td>\n",
              "      <td>28.86</td>\n",
              "      <td>11.691875</td>\n",
              "    </tr>\n",
              "    <tr>\n",
              "      <th>5831</th>\n",
              "      <td>2021-08-31 23:00:00</td>\n",
              "      <td>12.07</td>\n",
              "      <td>14.07</td>\n",
              "      <td>9.9</td>\n",
              "      <td>8.36</td>\n",
              "      <td>10.88</td>\n",
              "      <td>8.1</td>\n",
              "      <td>15.96</td>\n",
              "      <td>21.76</td>\n",
              "      <td>12.6</td>\n",
              "      <td>5.89</td>\n",
              "      <td>11.76</td>\n",
              "      <td>3.8</td>\n",
              "      <td>6.24</td>\n",
              "      <td>7.81</td>\n",
              "      <td>9.01</td>\n",
              "      <td>28.86</td>\n",
              "      <td>11.691875</td>\n",
              "    </tr>\n",
              "  </tbody>\n",
              "</table>\n",
              "</div>"
            ],
            "text/plain": [
              "                     date  bitcoin    btc  ...  btc coin  btc euro  avg_score\n",
              "5827  2021-08-31 19:00:00    12.07  14.07  ...      9.01     28.86  11.691875\n",
              "5828  2021-08-31 20:00:00    12.07  14.07  ...      9.01     28.86  11.691875\n",
              "5829  2021-08-31 21:00:00    12.07  14.07  ...      9.01     28.86  11.691875\n",
              "5830  2021-08-31 22:00:00    12.07  14.07  ...      9.01     28.86  11.691875\n",
              "5831  2021-08-31 23:00:00    12.07  14.07  ...      9.01     28.86  11.691875\n",
              "\n",
              "[5 rows x 18 columns]"
            ]
          },
          "metadata": {},
          "execution_count": 5
        }
      ]
    },
    {
      "cell_type": "code",
      "metadata": {
        "colab": {
          "base_uri": "https://localhost:8080/",
          "height": 677
        },
        "id": "l8JBvlAXXV4o",
        "outputId": "d79eefa5-ec27-462b-95f6-694fdeb60d37"
      },
      "source": [
        "twitter.tail(20)"
      ],
      "execution_count": 9,
      "outputs": [
        {
          "output_type": "execute_result",
          "data": {
            "text/html": [
              "<div>\n",
              "<style scoped>\n",
              "    .dataframe tbody tr th:only-of-type {\n",
              "        vertical-align: middle;\n",
              "    }\n",
              "\n",
              "    .dataframe tbody tr th {\n",
              "        vertical-align: top;\n",
              "    }\n",
              "\n",
              "    .dataframe thead th {\n",
              "        text-align: right;\n",
              "    }\n",
              "</style>\n",
              "<table border=\"1\" class=\"dataframe\">\n",
              "  <thead>\n",
              "    <tr style=\"text-align: right;\">\n",
              "      <th></th>\n",
              "      <th>Hour</th>\n",
              "      <th>neg</th>\n",
              "      <th>neu</th>\n",
              "      <th>pos</th>\n",
              "      <th>compound</th>\n",
              "    </tr>\n",
              "  </thead>\n",
              "  <tbody>\n",
              "    <tr>\n",
              "      <th>1971</th>\n",
              "      <td>2021-11-19 15:00:00</td>\n",
              "      <td>0.032943</td>\n",
              "      <td>0.864558</td>\n",
              "      <td>0.102496</td>\n",
              "      <td>0.213237</td>\n",
              "    </tr>\n",
              "    <tr>\n",
              "      <th>1972</th>\n",
              "      <td>2021-11-19 16:00:00</td>\n",
              "      <td>0.026469</td>\n",
              "      <td>0.872561</td>\n",
              "      <td>0.100972</td>\n",
              "      <td>0.236397</td>\n",
              "    </tr>\n",
              "    <tr>\n",
              "      <th>1973</th>\n",
              "      <td>2021-11-19 17:00:00</td>\n",
              "      <td>0.032144</td>\n",
              "      <td>0.852734</td>\n",
              "      <td>0.115126</td>\n",
              "      <td>0.258893</td>\n",
              "    </tr>\n",
              "    <tr>\n",
              "      <th>1974</th>\n",
              "      <td>2021-11-19 18:00:00</td>\n",
              "      <td>0.040772</td>\n",
              "      <td>0.854975</td>\n",
              "      <td>0.104250</td>\n",
              "      <td>0.179953</td>\n",
              "    </tr>\n",
              "    <tr>\n",
              "      <th>1975</th>\n",
              "      <td>2021-11-19 19:00:00</td>\n",
              "      <td>0.031683</td>\n",
              "      <td>0.865458</td>\n",
              "      <td>0.102859</td>\n",
              "      <td>0.233449</td>\n",
              "    </tr>\n",
              "    <tr>\n",
              "      <th>1976</th>\n",
              "      <td>2021-11-19 20:00:00</td>\n",
              "      <td>0.028347</td>\n",
              "      <td>0.871458</td>\n",
              "      <td>0.100195</td>\n",
              "      <td>0.241766</td>\n",
              "    </tr>\n",
              "    <tr>\n",
              "      <th>1977</th>\n",
              "      <td>2021-11-19 21:00:00</td>\n",
              "      <td>0.028735</td>\n",
              "      <td>0.879008</td>\n",
              "      <td>0.092264</td>\n",
              "      <td>0.215446</td>\n",
              "    </tr>\n",
              "    <tr>\n",
              "      <th>1978</th>\n",
              "      <td>2021-11-19 22:00:00</td>\n",
              "      <td>0.033254</td>\n",
              "      <td>0.865578</td>\n",
              "      <td>0.101166</td>\n",
              "      <td>0.244083</td>\n",
              "    </tr>\n",
              "    <tr>\n",
              "      <th>1979</th>\n",
              "      <td>2021-11-19 23:00:00</td>\n",
              "      <td>0.026742</td>\n",
              "      <td>0.875645</td>\n",
              "      <td>0.097604</td>\n",
              "      <td>0.228104</td>\n",
              "    </tr>\n",
              "    <tr>\n",
              "      <th>1980</th>\n",
              "      <td>['Airdrop', 'Airdrops', 'Airdropinspector', 'B...</td>\n",
              "      <td>0.000000</td>\n",
              "      <td>1.000000</td>\n",
              "      <td>0.000000</td>\n",
              "      <td>0.000000</td>\n",
              "    </tr>\n",
              "    <tr>\n",
              "      <th>1981</th>\n",
              "      <td>['Bitcoin']:00:00</td>\n",
              "      <td>0.000000</td>\n",
              "      <td>1.000000</td>\n",
              "      <td>0.000000</td>\n",
              "      <td>0.000000</td>\n",
              "    </tr>\n",
              "    <tr>\n",
              "      <th>1982</th>\n",
              "      <td>['ETH', 'BTC', 'Bitcoin']:00:00</td>\n",
              "      <td>0.000000</td>\n",
              "      <td>1.000000</td>\n",
              "      <td>0.000000</td>\n",
              "      <td>0.000000</td>\n",
              "    </tr>\n",
              "    <tr>\n",
              "      <th>1983</th>\n",
              "      <td>['PW', 'pythonwealth', 'Presale', 'token', 'ic...</td>\n",
              "      <td>0.000000</td>\n",
              "      <td>1.000000</td>\n",
              "      <td>0.000000</td>\n",
              "      <td>0.000000</td>\n",
              "    </tr>\n",
              "    <tr>\n",
              "      <th>1984</th>\n",
              "      <td>['YieldFarming', 'Airdrop', 'Binance', 'Bitcoi...</td>\n",
              "      <td>0.000000</td>\n",
              "      <td>1.000000</td>\n",
              "      <td>0.000000</td>\n",
              "      <td>0.000000</td>\n",
              "    </tr>\n",
              "    <tr>\n",
              "      <th>1985</th>\n",
              "      <td>['YieldFarming', 'Airdrop', 'PancakeSwap', 'Gi...</td>\n",
              "      <td>0.000000</td>\n",
              "      <td>1.000000</td>\n",
              "      <td>0.000000</td>\n",
              "      <td>0.000000</td>\n",
              "    </tr>\n",
              "    <tr>\n",
              "      <th>1986</th>\n",
              "      <td>['bitcoin']:00:00</td>\n",
              "      <td>0.000000</td>\n",
              "      <td>1.000000</td>\n",
              "      <td>0.000000</td>\n",
              "      <td>0.000000</td>\n",
              "    </tr>\n",
              "    <tr>\n",
              "      <th>1987</th>\n",
              "      <td>['btc']:00:00</td>\n",
              "      <td>0.000000</td>\n",
              "      <td>1.000000</td>\n",
              "      <td>0.000000</td>\n",
              "      <td>0.000000</td>\n",
              "    </tr>\n",
              "    <tr>\n",
              "      <th>1988</th>\n",
              "      <td>['cryptocurrency', 'BSC', 'Bitcoin', 'Ethereum...</td>\n",
              "      <td>0.000000</td>\n",
              "      <td>1.000000</td>\n",
              "      <td>0.000000</td>\n",
              "      <td>0.000000</td>\n",
              "    </tr>\n",
              "    <tr>\n",
              "      <th>1989</th>\n",
              "      <td>['cryptotrading', 'crypto', 'tradingbots', 'bi...</td>\n",
              "      <td>0.000000</td>\n",
              "      <td>1.000000</td>\n",
              "      <td>0.000000</td>\n",
              "      <td>0.000000</td>\n",
              "    </tr>\n",
              "    <tr>\n",
              "      <th>1990</th>\n",
              "      <td>['cryptotrading', 'tradingbots', 'altcoins', '...</td>\n",
              "      <td>0.000000</td>\n",
              "      <td>1.000000</td>\n",
              "      <td>0.000000</td>\n",
              "      <td>0.000000</td>\n",
              "    </tr>\n",
              "  </tbody>\n",
              "</table>\n",
              "</div>"
            ],
            "text/plain": [
              "                                                   Hour  ...  compound\n",
              "1971                                2021-11-19 15:00:00  ...  0.213237\n",
              "1972                                2021-11-19 16:00:00  ...  0.236397\n",
              "1973                                2021-11-19 17:00:00  ...  0.258893\n",
              "1974                                2021-11-19 18:00:00  ...  0.179953\n",
              "1975                                2021-11-19 19:00:00  ...  0.233449\n",
              "1976                                2021-11-19 20:00:00  ...  0.241766\n",
              "1977                                2021-11-19 21:00:00  ...  0.215446\n",
              "1978                                2021-11-19 22:00:00  ...  0.244083\n",
              "1979                                2021-11-19 23:00:00  ...  0.228104\n",
              "1980  ['Airdrop', 'Airdrops', 'Airdropinspector', 'B...  ...  0.000000\n",
              "1981                                  ['Bitcoin']:00:00  ...  0.000000\n",
              "1982                    ['ETH', 'BTC', 'Bitcoin']:00:00  ...  0.000000\n",
              "1983  ['PW', 'pythonwealth', 'Presale', 'token', 'ic...  ...  0.000000\n",
              "1984  ['YieldFarming', 'Airdrop', 'Binance', 'Bitcoi...  ...  0.000000\n",
              "1985  ['YieldFarming', 'Airdrop', 'PancakeSwap', 'Gi...  ...  0.000000\n",
              "1986                                  ['bitcoin']:00:00  ...  0.000000\n",
              "1987                                      ['btc']:00:00  ...  0.000000\n",
              "1988  ['cryptocurrency', 'BSC', 'Bitcoin', 'Ethereum...  ...  0.000000\n",
              "1989  ['cryptotrading', 'crypto', 'tradingbots', 'bi...  ...  0.000000\n",
              "1990  ['cryptotrading', 'tradingbots', 'altcoins', '...  ...  0.000000\n",
              "\n",
              "[20 rows x 5 columns]"
            ]
          },
          "metadata": {},
          "execution_count": 9
        }
      ]
    },
    {
      "cell_type": "code",
      "metadata": {
        "id": "IP2ZLXG0XZ-P"
      },
      "source": [
        "twitter = twitter.iloc[:1980,:]\n",
        "twitter = twitter.rename(columns={'Hour':'date'})"
      ],
      "execution_count": 15,
      "outputs": []
    },
    {
      "cell_type": "code",
      "metadata": {
        "colab": {
          "base_uri": "https://localhost:8080/",
          "height": 206
        },
        "id": "uZLy3thWXjrE",
        "outputId": "3ccaab93-738b-4c8c-da3b-b6d3e8339480"
      },
      "source": [
        "twitter.tail()"
      ],
      "execution_count": 16,
      "outputs": [
        {
          "output_type": "execute_result",
          "data": {
            "text/html": [
              "<div>\n",
              "<style scoped>\n",
              "    .dataframe tbody tr th:only-of-type {\n",
              "        vertical-align: middle;\n",
              "    }\n",
              "\n",
              "    .dataframe tbody tr th {\n",
              "        vertical-align: top;\n",
              "    }\n",
              "\n",
              "    .dataframe thead th {\n",
              "        text-align: right;\n",
              "    }\n",
              "</style>\n",
              "<table border=\"1\" class=\"dataframe\">\n",
              "  <thead>\n",
              "    <tr style=\"text-align: right;\">\n",
              "      <th></th>\n",
              "      <th>date</th>\n",
              "      <th>neg</th>\n",
              "      <th>neu</th>\n",
              "      <th>pos</th>\n",
              "      <th>compound</th>\n",
              "    </tr>\n",
              "  </thead>\n",
              "  <tbody>\n",
              "    <tr>\n",
              "      <th>1975</th>\n",
              "      <td>2021-11-19 19:00:00</td>\n",
              "      <td>0.031683</td>\n",
              "      <td>0.865458</td>\n",
              "      <td>0.102859</td>\n",
              "      <td>0.233449</td>\n",
              "    </tr>\n",
              "    <tr>\n",
              "      <th>1976</th>\n",
              "      <td>2021-11-19 20:00:00</td>\n",
              "      <td>0.028347</td>\n",
              "      <td>0.871458</td>\n",
              "      <td>0.100195</td>\n",
              "      <td>0.241766</td>\n",
              "    </tr>\n",
              "    <tr>\n",
              "      <th>1977</th>\n",
              "      <td>2021-11-19 21:00:00</td>\n",
              "      <td>0.028735</td>\n",
              "      <td>0.879008</td>\n",
              "      <td>0.092264</td>\n",
              "      <td>0.215446</td>\n",
              "    </tr>\n",
              "    <tr>\n",
              "      <th>1978</th>\n",
              "      <td>2021-11-19 22:00:00</td>\n",
              "      <td>0.033254</td>\n",
              "      <td>0.865578</td>\n",
              "      <td>0.101166</td>\n",
              "      <td>0.244083</td>\n",
              "    </tr>\n",
              "    <tr>\n",
              "      <th>1979</th>\n",
              "      <td>2021-11-19 23:00:00</td>\n",
              "      <td>0.026742</td>\n",
              "      <td>0.875645</td>\n",
              "      <td>0.097604</td>\n",
              "      <td>0.228104</td>\n",
              "    </tr>\n",
              "  </tbody>\n",
              "</table>\n",
              "</div>"
            ],
            "text/plain": [
              "                     date       neg       neu       pos  compound\n",
              "1975  2021-11-19 19:00:00  0.031683  0.865458  0.102859  0.233449\n",
              "1976  2021-11-19 20:00:00  0.028347  0.871458  0.100195  0.241766\n",
              "1977  2021-11-19 21:00:00  0.028735  0.879008  0.092264  0.215446\n",
              "1978  2021-11-19 22:00:00  0.033254  0.865578  0.101166  0.244083\n",
              "1979  2021-11-19 23:00:00  0.026742  0.875645  0.097604  0.228104"
            ]
          },
          "metadata": {},
          "execution_count": 16
        }
      ]
    },
    {
      "cell_type": "code",
      "metadata": {
        "colab": {
          "base_uri": "https://localhost:8080/"
        },
        "id": "gEF5F0qvGWkx",
        "outputId": "e00b6d20-4d64-465a-b5af-c0da88a5725d"
      },
      "source": [
        "print(bitcoin.shape[0])\n",
        "print(trends.shape[0])\n",
        "print(reddit.shape[0])\n",
        "print(twitter.shape[0])"
      ],
      "execution_count": 14,
      "outputs": [
        {
          "output_type": "stream",
          "name": "stdout",
          "text": [
            "5832\n",
            "5832\n",
            "1552\n",
            "1980\n"
          ]
        }
      ]
    },
    {
      "cell_type": "code",
      "metadata": {
        "colab": {
          "base_uri": "https://localhost:8080/",
          "height": 206
        },
        "id": "xr3KzLdX85E8",
        "outputId": "8218aa4d-5386-4078-d5bd-d4c7250feb59"
      },
      "source": [
        "#Combine Data into dataframe\n",
        "\n",
        "data = pd.DataFrame()\n",
        "data[\"date\"] = bitcoin[\"date\"]\n",
        "data = data.merge(bitcoin[['date','Diff_Category']], on='date')\n",
        "data = data.merge(trends[['date','avg_score']], on='date', how='outer')\n",
        "data = data.merge(reddit[['date','compound']], on='date', how='inner')\n",
        "data = data.merge(twitter[['date','compound']], on='date', how='inner')\n",
        "\n",
        "data.tail()"
      ],
      "execution_count": 55,
      "outputs": [
        {
          "output_type": "execute_result",
          "data": {
            "text/html": [
              "<div>\n",
              "<style scoped>\n",
              "    .dataframe tbody tr th:only-of-type {\n",
              "        vertical-align: middle;\n",
              "    }\n",
              "\n",
              "    .dataframe tbody tr th {\n",
              "        vertical-align: top;\n",
              "    }\n",
              "\n",
              "    .dataframe thead th {\n",
              "        text-align: right;\n",
              "    }\n",
              "</style>\n",
              "<table border=\"1\" class=\"dataframe\">\n",
              "  <thead>\n",
              "    <tr style=\"text-align: right;\">\n",
              "      <th></th>\n",
              "      <th>date</th>\n",
              "      <th>Diff_Category</th>\n",
              "      <th>avg_score</th>\n",
              "      <th>compound_x</th>\n",
              "      <th>compound_y</th>\n",
              "    </tr>\n",
              "  </thead>\n",
              "  <tbody>\n",
              "    <tr>\n",
              "      <th>550</th>\n",
              "      <td>2021-02-09 04:00:00</td>\n",
              "      <td>-1</td>\n",
              "      <td>65.428750</td>\n",
              "      <td>0.169034</td>\n",
              "      <td>0.177088</td>\n",
              "    </tr>\n",
              "    <tr>\n",
              "      <th>551</th>\n",
              "      <td>2021-02-08 20:00:00</td>\n",
              "      <td>-1</td>\n",
              "      <td>50.626875</td>\n",
              "      <td>0.137459</td>\n",
              "      <td>0.171370</td>\n",
              "    </tr>\n",
              "    <tr>\n",
              "      <th>552</th>\n",
              "      <td>2021-02-08 03:00:00</td>\n",
              "      <td>1</td>\n",
              "      <td>50.626875</td>\n",
              "      <td>0.176463</td>\n",
              "      <td>0.182238</td>\n",
              "    </tr>\n",
              "    <tr>\n",
              "      <th>553</th>\n",
              "      <td>2021-02-08 02:00:00</td>\n",
              "      <td>1</td>\n",
              "      <td>50.626875</td>\n",
              "      <td>0.133948</td>\n",
              "      <td>0.117205</td>\n",
              "    </tr>\n",
              "    <tr>\n",
              "      <th>554</th>\n",
              "      <td>2021-02-08 01:00:00</td>\n",
              "      <td>1</td>\n",
              "      <td>50.626875</td>\n",
              "      <td>0.053669</td>\n",
              "      <td>0.106501</td>\n",
              "    </tr>\n",
              "  </tbody>\n",
              "</table>\n",
              "</div>"
            ],
            "text/plain": [
              "                    date  Diff_Category  avg_score  compound_x  compound_y\n",
              "550  2021-02-09 04:00:00             -1  65.428750    0.169034    0.177088\n",
              "551  2021-02-08 20:00:00             -1  50.626875    0.137459    0.171370\n",
              "552  2021-02-08 03:00:00              1  50.626875    0.176463    0.182238\n",
              "553  2021-02-08 02:00:00              1  50.626875    0.133948    0.117205\n",
              "554  2021-02-08 01:00:00              1  50.626875    0.053669    0.106501"
            ]
          },
          "metadata": {},
          "execution_count": 55
        }
      ]
    },
    {
      "cell_type": "code",
      "metadata": {
        "colab": {
          "base_uri": "https://localhost:8080/",
          "height": 70
        },
        "id": "DJh_PL9YjkWa",
        "outputId": "99215e98-3aa8-4d43-9160-0a1a2bd1e806"
      },
      "source": [
        "#trying with all attributes\n",
        "#GIVES WORSE PERFORMANCE- DO NOT USE\n",
        "'''\n",
        "data = pd.DataFrame()\n",
        "data[\"date\"] = bitcoin[\"date\"]\n",
        "data = data.merge(bitcoin[['date','Diff_Category']], on='date')\n",
        "data = data.merge(trends, on='date', how='outer')\n",
        "data = data.merge(reddit, on='date', how='inner')\n",
        "data = data.merge(twitter, on='date', how='inner')\n",
        "data.tail()\n",
        "'''"
      ],
      "execution_count": 56,
      "outputs": [
        {
          "output_type": "execute_result",
          "data": {
            "application/vnd.google.colaboratory.intrinsic+json": {
              "type": "string"
            },
            "text/plain": [
              "'\\ndata = pd.DataFrame()\\ndata[\"date\"] = bitcoin[\"date\"]\\ndata = data.merge(bitcoin[[\\'date\\',\\'Diff_Category\\']], on=\\'date\\')\\ndata = data.merge(trends, on=\\'date\\', how=\\'outer\\')\\ndata = data.merge(reddit, on=\\'date\\', how=\\'inner\\')\\ndata = data.merge(twitter, on=\\'date\\', how=\\'inner\\')\\ndata.tail()\\n'"
            ]
          },
          "metadata": {},
          "execution_count": 56
        }
      ]
    },
    {
      "cell_type": "code",
      "metadata": {
        "id": "QVKorBiKIgfj"
      },
      "source": [
        "#data = data.fillna(0)\n",
        "#data.tail()"
      ],
      "execution_count": 43,
      "outputs": []
    },
    {
      "cell_type": "code",
      "metadata": {
        "id": "otCeaHvb9ec-"
      },
      "source": [
        "#get training and test data\n",
        "#Using only compound sentiment score, and average google trend score\n",
        "X = data[['compound_x','compound_y','avg_score']]\n",
        "y = data[['Diff_Category']]\n",
        "\n",
        "#we need to use the y value for the NEXT hour as the classification variable\n",
        "X = X.iloc[:-1,:]\n",
        "y= y.iloc[1:,:]\n",
        "\n",
        "X_train, X_test, y_train, y_test = train_test_split(X, y, test_size = 0.20, random_state=7)"
      ],
      "execution_count": 57,
      "outputs": []
    },
    {
      "cell_type": "code",
      "metadata": {
        "id": "aWw3mJvFj1eJ",
        "colab": {
          "base_uri": "https://localhost:8080/",
          "height": 70
        },
        "outputId": "b128fee4-b9b0-49f4-d2e7-ce6643a7f559"
      },
      "source": [
        "#trying with all attributes\n",
        "#get training and test data\n",
        "'''\n",
        "cols = data.columns\n",
        "X = data[cols[2:]]\n",
        "y = data[['Diff_Category']]\n",
        "\n",
        "#we need to use the y value for the NEXT hour as the classification variable\n",
        "X = X.iloc[:-1,:]\n",
        "y= y.iloc[1:,:]\n",
        "\n",
        "X_train, X_test, y_train, y_test = train_test_split(X, y, test_size = 0.20, random_state=7)\n",
        "'''"
      ],
      "execution_count": 58,
      "outputs": [
        {
          "output_type": "execute_result",
          "data": {
            "application/vnd.google.colaboratory.intrinsic+json": {
              "type": "string"
            },
            "text/plain": [
              "\"\\ncols = data.columns\\nX = data[cols[2:]]\\ny = data[['Diff_Category']]\\n\\n#we need to use the y value for the NEXT hour as the classification variable\\nX = X.iloc[:-1,:]\\ny= y.iloc[1:,:]\\n\\nX_train, X_test, y_train, y_test = train_test_split(X, y, test_size = 0.20, random_state=7)\\n\""
            ]
          },
          "metadata": {},
          "execution_count": 58
        }
      ]
    },
    {
      "cell_type": "markdown",
      "metadata": {
        "id": "Oin14tvs9ypi"
      },
      "source": [
        "## Training a Decision Tree Classifier"
      ]
    },
    {
      "cell_type": "code",
      "metadata": {
        "id": "qmPEfBk59tho"
      },
      "source": [
        "#Train Model\n",
        "clf = DecisionTreeClassifier(max_depth=5)\n",
        "clf.fit(X_train, y_train)\n",
        "\n",
        "#Predict\n",
        "y_pred = clf.predict(X_test)"
      ],
      "execution_count": 59,
      "outputs": []
    },
    {
      "cell_type": "code",
      "metadata": {
        "colab": {
          "base_uri": "https://localhost:8080/"
        },
        "id": "HWUhqRYn92nU",
        "outputId": "7dc761af-6c89-47ed-a57f-7d9993d9ce15"
      },
      "source": [
        "#Evaluate Model\n",
        "print(\"Accuracy: \", metrics.accuracy_score(y_test, y_pred))\n",
        "print(\"F1-Score: \", metrics.f1_score(y_test, y_pred, average='weighted'))\n",
        "print(\"Precision: \", metrics.precision_score(y_test, y_pred, average='weighted'))\n",
        "print(\"Recall: \", metrics.recall_score(y_test, y_pred, average='weighted'))"
      ],
      "execution_count": 60,
      "outputs": [
        {
          "output_type": "stream",
          "name": "stdout",
          "text": [
            "Accuracy:  0.4594594594594595\n",
            "F1-Score:  0.3639768520922193\n",
            "Precision:  0.45849928876244667\n",
            "Recall:  0.4594594594594595\n"
          ]
        }
      ]
    },
    {
      "cell_type": "markdown",
      "metadata": {
        "id": "JKkPeJsH-Ar8"
      },
      "source": [
        "## Training a Random Forrest Classifier"
      ]
    },
    {
      "cell_type": "code",
      "metadata": {
        "colab": {
          "base_uri": "https://localhost:8080/"
        },
        "id": "T9ALH7Zu95B_",
        "outputId": "e9d13822-81e8-49c1-bb74-9691b4e9b5c8"
      },
      "source": [
        "#Train Model\n",
        "clf = RandomForestClassifier(n_estimators = 10) \n",
        "clf.fit(X_train, y_train)\n",
        "\n",
        "#Predict\n",
        "y_pred = clf.predict(X_test)\n",
        "\n",
        "#Evaluate Model\n",
        "print(\"Accuracy: \", metrics.accuracy_score(y_test, y_pred))\n",
        "print(\"F1-Score: \", metrics.f1_score(y_test, y_pred, average='weighted'))\n",
        "print(\"Precision: \", metrics.precision_score(y_test, y_pred, average='weighted'))\n",
        "print(\"Recall: \", metrics.recall_score(y_test, y_pred, average='weighted'))"
      ],
      "execution_count": 61,
      "outputs": [
        {
          "output_type": "stream",
          "name": "stdout",
          "text": [
            "Accuracy:  0.32432432432432434\n",
            "F1-Score:  0.31132645803698433\n",
            "Precision:  0.3266975181868799\n",
            "Recall:  0.32432432432432434\n"
          ]
        },
        {
          "output_type": "stream",
          "name": "stderr",
          "text": [
            "/usr/local/lib/python3.7/dist-packages/ipykernel_launcher.py:3: DataConversionWarning: A column-vector y was passed when a 1d array was expected. Please change the shape of y to (n_samples,), for example using ravel().\n",
            "  This is separate from the ipykernel package so we can avoid doing imports until\n"
          ]
        }
      ]
    },
    {
      "cell_type": "markdown",
      "metadata": {
        "id": "4D2nKwwj-GZ-"
      },
      "source": [
        "## Training an SVM Classifier"
      ]
    },
    {
      "cell_type": "code",
      "metadata": {
        "colab": {
          "base_uri": "https://localhost:8080/"
        },
        "id": "WuMmpaD3-Edv",
        "outputId": "da52bd20-f18b-4053-85d6-0a1e5475c03e"
      },
      "source": [
        "#Train Model\n",
        "clf = SVC(kernel=\"linear\", C=0.025)\n",
        "clf.fit(X_train, y_train)\n",
        "\n",
        "#Predict\n",
        "y_pred = clf.predict(X_test)\n",
        "\n",
        "\n",
        "#Evaluate Model\n",
        "print(\"Accuracy: \", metrics.accuracy_score(y_test, y_pred))\n",
        "print(\"F1-Score: \", metrics.f1_score(y_test, y_pred, average='weighted'))\n",
        "print(\"Precision: \", metrics.precision_score(y_test, y_pred, average='weighted'))\n",
        "print(\"Recall: \", metrics.recall_score(y_test, y_pred, average='weighted'))"
      ],
      "execution_count": 62,
      "outputs": [
        {
          "output_type": "stream",
          "name": "stdout",
          "text": [
            "Accuracy:  0.3963963963963964\n",
            "F1-Score:  0.26215824912784486\n",
            "Precision:  0.2056829556829557\n",
            "Recall:  0.3963963963963964\n"
          ]
        },
        {
          "output_type": "stream",
          "name": "stderr",
          "text": [
            "/usr/local/lib/python3.7/dist-packages/sklearn/utils/validation.py:985: DataConversionWarning: A column-vector y was passed when a 1d array was expected. Please change the shape of y to (n_samples, ), for example using ravel().\n",
            "  y = column_or_1d(y, warn=True)\n",
            "/usr/local/lib/python3.7/dist-packages/sklearn/metrics/_classification.py:1308: UndefinedMetricWarning: Precision is ill-defined and being set to 0.0 in labels with no predicted samples. Use `zero_division` parameter to control this behavior.\n",
            "  _warn_prf(average, modifier, msg_start, len(result))\n"
          ]
        }
      ]
    },
    {
      "cell_type": "code",
      "metadata": {
        "id": "KtA2_gb6-e5L"
      },
      "source": [
        ""
      ],
      "execution_count": null,
      "outputs": []
    }
  ]
}